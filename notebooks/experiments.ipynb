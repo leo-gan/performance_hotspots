{
 "cells": [
  {
   "cell_type": "code",
   "execution_count": 3,
   "metadata": {
    "execution": {
     "iopub.execute_input": "2021-07-22T22:06:32.182323Z",
     "iopub.status.busy": "2021-07-22T22:06:32.182166Z",
     "iopub.status.idle": "2021-07-22T22:06:34.519650Z",
     "shell.execute_reply": "2021-07-22T22:06:34.519092Z",
     "shell.execute_reply.started": "2021-07-22T22:06:32.182307Z"
    }
   },
   "outputs": [
    {
     "name": "stderr",
     "output_type": "stream",
     "text": [
      "/home/leonid/miniconda3/lib/python3.8/site-packages/gluonts/json.py:45: UserWarning: Using `json`-module for json-handling. Consider installing one of `orjson`, `ujson` to speed up serialization and deserialization.\n",
      "  warnings.warn(\n"
     ]
    }
   ],
   "source": [
    "import json\n",
    "import uuid\n",
    "import os\n",
    "from operator import itemgetter\n",
    "\n",
    "from elasticsearch import Elasticsearch\n",
    "from ssl import create_default_context\n",
    "import pandas as pd\n",
    "from datetime import datetime\n",
    "from collections import namedtuple\n",
    "from pathlib import Path\n",
    "import glob\n",
    "\n",
    "import matplotlib.pyplot as plt\n",
    "import seaborn as sns\n",
    "\n",
    "from gluonts.mx import Trainer"
   ]
  },
  {
   "cell_type": "markdown",
   "metadata": {},
   "source": [
    "# Primary analysis of the combined log data\n",
    "The goal is to combine the existed log data in a single dataset and try to find patterns with autoencoder or forecasting."
   ]
  },
  {
   "cell_type": "markdown",
   "metadata": {},
   "source": [
    "## Data preparation"
   ]
  },
  {
   "cell_type": "code",
   "execution_count": 4,
   "metadata": {
    "execution": {
     "iopub.execute_input": "2021-07-22T22:06:35.481499Z",
     "iopub.status.busy": "2021-07-22T22:06:35.481233Z",
     "iopub.status.idle": "2021-07-22T22:06:35.938839Z",
     "shell.execute_reply": "2021-07-22T22:06:35.938429Z",
     "shell.execute_reply.started": "2021-07-22T22:06:35.481462Z"
    }
   },
   "outputs": [
    {
     "name": "stdout",
     "output_type": "stream",
     "text": [
      "['../data/20210722_172941.cluster.dns.115K.csv', '../data/20210722_172919.cluster.l7.10K.csv', '../data/20210722_172916.cluster.flows.40K.csv']\n",
      "[('dns', (115211, 9), Index(['start_time', 'end_time', 'client_name_aggr', 'client_namespace',\n",
      "       'qname', 'latency_count', 'latency_mean', 'latency_max', 'host'],\n",
      "      dtype='object')), ('l7', (10296, 22), Index(['start_time', 'end_time', 'duration_mean', 'duration_max', 'bytes_in',\n",
      "       'bytes_out', 'count', 'src_name_aggr', 'src_namespace', 'src_type',\n",
      "       'dest_service_name', 'dest_service_namespace', 'dest_service_port',\n",
      "       'dest_name_aggr', 'dest_namespace', 'dest_type', 'method', 'user_agent',\n",
      "       'url', 'response_code', 'type', 'host'],\n",
      "      dtype='object')), ('flows', (40773, 36), Index(['start_time', 'end_time', 'source_ip', 'source_name',\n",
      "       'source_name_aggr', 'source_namespace', 'source_port', 'source_type',\n",
      "       'source_labels', 'dest_ip', 'dest_name', 'dest_name_aggr',\n",
      "       'dest_namespace', 'dest_service_namespace', 'dest_service_name',\n",
      "       'dest_service_port', 'dest_port', 'dest_type', 'dest_labels', 'proto',\n",
      "       'bytes_in', 'bytes_out', 'num_flows', 'num_flows_started',\n",
      "       'num_flows_completed', 'packets_in', 'packets_out',\n",
      "       'http_requests_allowed_in', 'http_requests_denied_in', 'process_name',\n",
      "       'num_process_names', 'process_id', 'num_process_ids',\n",
      "       'original_source_ips', 'num_original_source_ips', 'host'],\n",
      "      dtype='object'))]\n"
     ]
    },
    {
     "name": "stderr",
     "output_type": "stream",
     "text": [
      "/home/leonid/miniconda3/lib/python3.8/site-packages/IPython/core/interactiveshell.py:3347: DtypeWarning: Columns (2,9) have mixed types.Specify dtype option on import or set low_memory=False.\n",
      "  if (await self.run_code(code, result,  async_=asy)):\n"
     ]
    }
   ],
   "source": [
    "file_pattern = '../data/2021*cluster*'\n",
    "filenames = glob.glob(file_pattern)\n",
    "print(filenames)\n",
    "[f.split('/')[-1].split('.')[1] for f in filenames]\n",
    "dfs = {f.split('/')[-1].split('.')[2]: pd.read_csv(f) for f in filenames}\n",
    "print([(k, df.shape, df.columns) for k, df in dfs.items()])"
   ]
  },
  {
   "cell_type": "markdown",
   "metadata": {},
   "source": [
    "To combine these logs we have to to thiese things:\n",
    "- The 'start_time' has different formats in logs. We have to convert all of them to a single format. UTC should be taken care of.\n",
    "- we group records by time buckets. All 'start_time' adjusted to 0 + i*5 times by increasing time. Say, 0 -> 0; 1,2,3,4 -> 5, ...\n",
    "- iside the time buckets we group records by address fields. The address fields should be selected. Cardinality of the address fields should be taken in account at last for this experiment."
   ]
  },
  {
   "cell_type": "code",
   "execution_count": 46,
   "metadata": {
    "execution": {
     "iopub.execute_input": "2021-05-28T22:25:40.490504Z",
     "iopub.status.busy": "2021-05-28T22:25:40.490313Z",
     "iopub.status.idle": "2021-05-28T22:25:40.494102Z",
     "shell.execute_reply": "2021-05-28T22:25:40.493530Z",
     "shell.execute_reply.started": "2021-05-28T22:25:40.490483Z"
    }
   },
   "outputs": [
    {
     "data": {
      "text/plain": [
       "23062"
      ]
     },
     "execution_count": 46,
     "metadata": {},
     "output_type": "execute_result"
    }
   ],
   "source": [
    "# from datetime import datetime\n",
    "# from time import time\n",
    "# # start_time in the end of logs\n",
    "# dns_start_time = '2021-04-01T23:55:51'\n",
    "# l7_start_time    = 1617321235\n",
    "# flows_start_time = 1617298173\n",
    "\n",
    "# l7_start_time - flows_start_time # 23062 - means L7 in UTC, flows in local. (???) Do we need to add 25200 to flow start_time?"
   ]
  },
  {
   "cell_type": "code",
   "execution_count": 56,
   "metadata": {
    "execution": {
     "iopub.execute_input": "2021-05-31T16:30:15.438942Z",
     "iopub.status.busy": "2021-05-31T16:30:15.438727Z",
     "iopub.status.idle": "2021-05-31T16:30:15.451908Z",
     "shell.execute_reply": "2021-05-31T16:30:15.451398Z",
     "shell.execute_reply.started": "2021-05-31T16:30:15.438884Z"
    }
   },
   "outputs": [
    {
     "data": {
      "text/plain": [
       "(1617231868, 1616455731, 1614876237, 776137, 1579494, 2355631)"
      ]
     },
     "execution_count": 56,
     "metadata": {},
     "output_type": "execute_result"
    }
   ],
   "source": [
    "# # start_time in the start of logs\n",
    "# dns_start_time_str = '2021-03-22T16:28:51.565759887Z'\n",
    "# dns_start_time = int(datetime.strptime(dns_start_time_str.split('.')[0], '%Y-%m-%dT%H:%M:%S').timestamp())\n",
    "# l7_start_time    = 1617231868\n",
    "# flows_start_time = 1614876237\n",
    "\n",
    "# l7_start_time, dns_start_time, flows_start_time,  l7_start_time-dns_start_time, dns_start_time-flows_start_time, l7_start_time-flows_start_time"
   ]
  },
  {
   "cell_type": "code",
   "execution_count": 99,
   "metadata": {
    "execution": {
     "iopub.execute_input": "2021-05-31T21:34:37.597924Z",
     "iopub.status.busy": "2021-05-31T21:34:37.597441Z",
     "iopub.status.idle": "2021-05-31T21:34:37.605655Z",
     "shell.execute_reply": "2021-05-31T21:34:37.604567Z",
     "shell.execute_reply.started": "2021-05-31T21:34:37.597861Z"
    }
   },
   "outputs": [
    {
     "data": {
      "text/plain": [
       "1616430531"
      ]
     },
     "execution_count": 99,
     "metadata": {},
     "output_type": "execute_result"
    }
   ],
   "source": [
    "# from dateutil.parser import parse\n",
    "\n",
    "# dns_start_time = int(parse(dns_start_time_str).timestamp())\n",
    "# dns_start_time\n",
    "# # parse(dns_start_time_str)"
   ]
  },
  {
   "cell_type": "code",
   "execution_count": 5,
   "metadata": {
    "execution": {
     "iopub.execute_input": "2021-07-22T22:06:45.832353Z",
     "iopub.status.busy": "2021-07-22T22:06:45.832182Z",
     "iopub.status.idle": "2021-07-22T22:06:52.938384Z",
     "shell.execute_reply": "2021-07-22T22:06:52.937984Z",
     "shell.execute_reply.started": "2021-07-22T22:06:45.832334Z"
    }
   },
   "outputs": [
    {
     "data": {
      "text/html": [
       "<div>\n",
       "<style scoped>\n",
       "    .dataframe tbody tr th:only-of-type {\n",
       "        vertical-align: middle;\n",
       "    }\n",
       "\n",
       "    .dataframe tbody tr th {\n",
       "        vertical-align: top;\n",
       "    }\n",
       "\n",
       "    .dataframe thead th {\n",
       "        text-align: right;\n",
       "    }\n",
       "</style>\n",
       "<table border=\"1\" class=\"dataframe\">\n",
       "  <thead>\n",
       "    <tr style=\"text-align: right;\">\n",
       "      <th></th>\n",
       "      <th>start_time</th>\n",
       "      <th>end_time</th>\n",
       "      <th>client_name_aggr</th>\n",
       "      <th>client_namespace</th>\n",
       "      <th>qname</th>\n",
       "      <th>latency_count</th>\n",
       "      <th>latency_mean</th>\n",
       "      <th>latency_max</th>\n",
       "      <th>host</th>\n",
       "    </tr>\n",
       "  </thead>\n",
       "  <tbody>\n",
       "    <tr>\n",
       "      <th>0</th>\n",
       "      <td>1618847084</td>\n",
       "      <td>2021-04-19T15:49:51.52347056Z</td>\n",
       "      <td>alertmanager-calico-node-alertmanager-*</td>\n",
       "      <td>tigera-prometheus</td>\n",
       "      <td>alertmanager-calico-node-alertmanager-0.alertm...</td>\n",
       "      <td>21</td>\n",
       "      <td>687709</td>\n",
       "      <td>3882000</td>\n",
       "      <td>leonid-bz-6grr-kadm-node-0</td>\n",
       "    </tr>\n",
       "    <tr>\n",
       "      <th>1</th>\n",
       "      <td>1618847084</td>\n",
       "      <td>2021-04-19T15:49:51.52347056Z</td>\n",
       "      <td>alertmanager-calico-node-alertmanager-*</td>\n",
       "      <td>tigera-prometheus</td>\n",
       "      <td>alertmanager-calico-node-alertmanager-1.alertm...</td>\n",
       "      <td>21</td>\n",
       "      <td>637899</td>\n",
       "      <td>3815000</td>\n",
       "      <td>leonid-bz-6grr-kadm-node-0</td>\n",
       "    </tr>\n",
       "  </tbody>\n",
       "</table>\n",
       "</div>"
      ],
      "text/plain": [
       "   start_time                       end_time  \\\n",
       "0  1618847084  2021-04-19T15:49:51.52347056Z   \n",
       "1  1618847084  2021-04-19T15:49:51.52347056Z   \n",
       "\n",
       "                          client_name_aggr   client_namespace  \\\n",
       "0  alertmanager-calico-node-alertmanager-*  tigera-prometheus   \n",
       "1  alertmanager-calico-node-alertmanager-*  tigera-prometheus   \n",
       "\n",
       "                                               qname  latency_count  \\\n",
       "0  alertmanager-calico-node-alertmanager-0.alertm...             21   \n",
       "1  alertmanager-calico-node-alertmanager-1.alertm...             21   \n",
       "\n",
       "   latency_mean  latency_max                        host  \n",
       "0        687709      3882000  leonid-bz-6grr-kadm-node-0  \n",
       "1        637899      3815000  leonid-bz-6grr-kadm-node-0  "
      ]
     },
     "execution_count": 5,
     "metadata": {},
     "output_type": "execute_result"
    }
   ],
   "source": [
    "from dateutil.parser import parse\n",
    "\n",
    "dfs['dns']['start_time'] = dfs['dns']['start_time'].apply(lambda x: int(parse(x).timestamp()))\n",
    "# dfs['dns']['end_time'] = dfs['dns']['end_time'].apply(lambda x: int(parse(dns_start_time_str).timestamp()))\n",
    "\n",
    "dfs['dns'].head(2)"
   ]
  },
  {
   "cell_type": "code",
   "execution_count": 6,
   "metadata": {
    "execution": {
     "iopub.execute_input": "2021-07-22T22:07:28.502438Z",
     "iopub.status.busy": "2021-07-22T22:07:28.502213Z",
     "iopub.status.idle": "2021-07-22T22:07:28.585525Z",
     "shell.execute_reply": "2021-07-22T22:07:28.584890Z",
     "shell.execute_reply.started": "2021-07-22T22:07:28.502397Z"
    }
   },
   "outputs": [
    {
     "name": "stdout",
     "output_type": "stream",
     "text": [
      "dns: (115211, 8), Index(['end_time', 'client_name_aggr', 'client_namespace', 'qname',\n",
      "       'latency_count', 'latency_mean', 'latency_max', 'host'],\n",
      "      dtype='object')\n",
      "l7: (10296, 21), Index(['end_time', 'duration_mean', 'duration_max', 'bytes_in', 'bytes_out',\n",
      "       'count', 'src_name_aggr', 'src_namespace', 'src_type',\n",
      "       'dest_service_name', 'dest_service_namespace', 'dest_service_port',\n",
      "       'dest_name_aggr', 'dest_namespace', 'dest_type', 'method', 'user_agent',\n",
      "       'url', 'response_code', 'type', 'host'],\n",
      "      dtype='object')\n",
      "flows: (40773, 35), Index(['end_time', 'source_ip', 'source_name', 'source_name_aggr',\n",
      "       'source_namespace', 'source_port', 'source_type', 'source_labels',\n",
      "       'dest_ip', 'dest_name', 'dest_name_aggr', 'dest_namespace',\n",
      "       'dest_service_namespace', 'dest_service_name', 'dest_service_port',\n",
      "       'dest_port', 'dest_type', 'dest_labels', 'proto', 'bytes_in',\n",
      "       'bytes_out', 'num_flows', 'num_flows_started', 'num_flows_completed',\n",
      "       'packets_in', 'packets_out', 'http_requests_allowed_in',\n",
      "       'http_requests_denied_in', 'process_name', 'num_process_names',\n",
      "       'process_id', 'num_process_ids', 'original_source_ips',\n",
      "       'num_original_source_ips', 'host'],\n",
      "      dtype='object')\n"
     ]
    },
    {
     "data": {
      "text/plain": [
       "[None, None, None]"
      ]
     },
     "execution_count": 6,
     "metadata": {},
     "output_type": "execute_result"
    }
   ],
   "source": [
    "def apply_adjust_by_n_minutes(val, minutes=5):\n",
    "    return val - val%(minutes*60)\n",
    "\n",
    "def adjust_by_n_minutes(key):\n",
    "    dfs[key]['start_time'] = dfs[key]['start_time'].apply(apply_adjust_by_n_minutes)\n",
    "    dfs[key].set_index('start_time', inplace=True)\n",
    "    print(f'{key}: {dfs[key].shape}, {dfs[key].columns}')\n",
    "    return\n",
    "\n",
    "[adjust_by_n_minutes(k) for k in dfs]"
   ]
  },
  {
   "cell_type": "code",
   "execution_count": 7,
   "metadata": {
    "execution": {
     "iopub.execute_input": "2021-07-22T22:07:55.665740Z",
     "iopub.status.busy": "2021-07-22T22:07:55.665482Z",
     "iopub.status.idle": "2021-07-22T22:07:55.684656Z",
     "shell.execute_reply": "2021-07-22T22:07:55.684167Z",
     "shell.execute_reply.started": "2021-07-22T22:07:55.665713Z"
    }
   },
   "outputs": [
    {
     "data": {
      "text/html": [
       "<div>\n",
       "<style scoped>\n",
       "    .dataframe tbody tr th:only-of-type {\n",
       "        vertical-align: middle;\n",
       "    }\n",
       "\n",
       "    .dataframe tbody tr th {\n",
       "        vertical-align: top;\n",
       "    }\n",
       "\n",
       "    .dataframe thead th {\n",
       "        text-align: right;\n",
       "    }\n",
       "</style>\n",
       "<table border=\"1\" class=\"dataframe\">\n",
       "  <thead>\n",
       "    <tr style=\"text-align: right;\">\n",
       "      <th></th>\n",
       "      <th>end_time</th>\n",
       "      <th>duration_mean</th>\n",
       "      <th>duration_max</th>\n",
       "      <th>bytes_in</th>\n",
       "      <th>bytes_out</th>\n",
       "      <th>count</th>\n",
       "      <th>src_name_aggr</th>\n",
       "      <th>src_namespace</th>\n",
       "      <th>src_type</th>\n",
       "      <th>dest_service_name</th>\n",
       "      <th>...</th>\n",
       "      <th>dest_service_port</th>\n",
       "      <th>dest_name_aggr</th>\n",
       "      <th>dest_namespace</th>\n",
       "      <th>dest_type</th>\n",
       "      <th>method</th>\n",
       "      <th>user_agent</th>\n",
       "      <th>url</th>\n",
       "      <th>response_code</th>\n",
       "      <th>type</th>\n",
       "      <th>host</th>\n",
       "    </tr>\n",
       "    <tr>\n",
       "      <th>start_time</th>\n",
       "      <th></th>\n",
       "      <th></th>\n",
       "      <th></th>\n",
       "      <th></th>\n",
       "      <th></th>\n",
       "      <th></th>\n",
       "      <th></th>\n",
       "      <th></th>\n",
       "      <th></th>\n",
       "      <th></th>\n",
       "      <th></th>\n",
       "      <th></th>\n",
       "      <th></th>\n",
       "      <th></th>\n",
       "      <th></th>\n",
       "      <th></th>\n",
       "      <th></th>\n",
       "      <th></th>\n",
       "      <th></th>\n",
       "      <th></th>\n",
       "      <th></th>\n",
       "    </tr>\n",
       "  </thead>\n",
       "  <tbody>\n",
       "    <tr>\n",
       "      <th>1618865400</th>\n",
       "      <td>1618865742</td>\n",
       "      <td>8530266666</td>\n",
       "      <td>15003000000</td>\n",
       "      <td>0</td>\n",
       "      <td>11376130</td>\n",
       "      <td>1410</td>\n",
       "      <td>loadgenerator-6cb7f7fb76-*</td>\n",
       "      <td>default</td>\n",
       "      <td>wep</td>\n",
       "      <td>frontend</td>\n",
       "      <td>...</td>\n",
       "      <td>80</td>\n",
       "      <td>frontend-6f4b9f97bd-*</td>\n",
       "      <td>default</td>\n",
       "      <td>wep</td>\n",
       "      <td>GET</td>\n",
       "      <td>-</td>\n",
       "      <td>frontend/product/66VCHSJNUP</td>\n",
       "      <td>200</td>\n",
       "      <td>-</td>\n",
       "      <td>leonid-bz-6grr-kadm-node-1</td>\n",
       "    </tr>\n",
       "    <tr>\n",
       "      <th>1618865400</th>\n",
       "      <td>1618865742</td>\n",
       "      <td>15000000000</td>\n",
       "      <td>15000000000</td>\n",
       "      <td>0</td>\n",
       "      <td>24</td>\n",
       "      <td>1</td>\n",
       "      <td>loadgenerator-6cb7f7fb76-*</td>\n",
       "      <td>default</td>\n",
       "      <td>wep</td>\n",
       "      <td>frontend</td>\n",
       "      <td>...</td>\n",
       "      <td>80</td>\n",
       "      <td>frontend-6f4b9f97bd-*</td>\n",
       "      <td>default</td>\n",
       "      <td>wep</td>\n",
       "      <td>GET</td>\n",
       "      <td>-</td>\n",
       "      <td>frontend/product/2ZYFJ3GM2N</td>\n",
       "      <td>504</td>\n",
       "      <td>-</td>\n",
       "      <td>leonid-bz-6grr-kadm-node-1</td>\n",
       "    </tr>\n",
       "  </tbody>\n",
       "</table>\n",
       "<p>2 rows × 21 columns</p>\n",
       "</div>"
      ],
      "text/plain": [
       "              end_time  duration_mean  duration_max  bytes_in  bytes_out  \\\n",
       "start_time                                                                 \n",
       "1618865400  1618865742     8530266666   15003000000         0   11376130   \n",
       "1618865400  1618865742    15000000000   15000000000         0         24   \n",
       "\n",
       "            count               src_name_aggr src_namespace src_type  \\\n",
       "start_time                                                             \n",
       "1618865400   1410  loadgenerator-6cb7f7fb76-*       default      wep   \n",
       "1618865400      1  loadgenerator-6cb7f7fb76-*       default      wep   \n",
       "\n",
       "           dest_service_name  ... dest_service_port         dest_name_aggr  \\\n",
       "start_time                    ...                                            \n",
       "1618865400          frontend  ...                80  frontend-6f4b9f97bd-*   \n",
       "1618865400          frontend  ...                80  frontend-6f4b9f97bd-*   \n",
       "\n",
       "           dest_namespace dest_type method user_agent  \\\n",
       "start_time                                              \n",
       "1618865400        default       wep    GET          -   \n",
       "1618865400        default       wep    GET          -   \n",
       "\n",
       "                                    url response_code  type  \\\n",
       "start_time                                                    \n",
       "1618865400  frontend/product/66VCHSJNUP           200     -   \n",
       "1618865400  frontend/product/2ZYFJ3GM2N           504     -   \n",
       "\n",
       "                                  host  \n",
       "start_time                              \n",
       "1618865400  leonid-bz-6grr-kadm-node-1  \n",
       "1618865400  leonid-bz-6grr-kadm-node-1  \n",
       "\n",
       "[2 rows x 21 columns]"
      ]
     },
     "execution_count": 7,
     "metadata": {},
     "output_type": "execute_result"
    }
   ],
   "source": [
    "dfs['l7'].head(2)"
   ]
  },
  {
   "cell_type": "code",
   "execution_count": 174,
   "metadata": {
    "collapsed": true,
    "execution": {
     "iopub.execute_input": "2021-05-31T23:57:28.790487Z",
     "iopub.status.busy": "2021-05-31T23:57:28.790115Z",
     "iopub.status.idle": "2021-05-31T23:57:50.257507Z",
     "shell.execute_reply": "2021-05-31T23:57:50.256839Z",
     "shell.execute_reply.started": "2021-05-31T23:57:28.790447Z"
    },
    "jupyter": {
     "outputs_hidden": true
    }
   },
   "outputs": [
    {
     "ename": "InvalidIndexError",
     "evalue": "Reindexing only valid with uniquely valued Index objects",
     "output_type": "error",
     "traceback": [
      "\u001b[0;31m---------------------------------------------------------------------------\u001b[0m",
      "\u001b[0;31mInvalidIndexError\u001b[0m                         Traceback (most recent call last)",
      "\u001b[0;32m<ipython-input-174-d6f08e7557b5>\u001b[0m in \u001b[0;36m<module>\u001b[0;34m\u001b[0m\n\u001b[0;32m----> 1\u001b[0;31m t = pd.concat(\n\u001b[0m\u001b[1;32m      2\u001b[0m     \u001b[0;34m[\u001b[0m\u001b[0mdfs\u001b[0m\u001b[0;34m[\u001b[0m\u001b[0;34m'flows'\u001b[0m\u001b[0;34m]\u001b[0m\u001b[0;34m,\u001b[0m \u001b[0mdfs\u001b[0m\u001b[0;34m[\u001b[0m\u001b[0;34m'l7'\u001b[0m\u001b[0;34m]\u001b[0m\u001b[0;34m,\u001b[0m \u001b[0mdfs\u001b[0m\u001b[0;34m[\u001b[0m\u001b[0;34m'dns'\u001b[0m\u001b[0;34m]\u001b[0m\u001b[0;34m]\u001b[0m\u001b[0;34m,\u001b[0m\u001b[0;34m\u001b[0m\u001b[0;34m\u001b[0m\u001b[0m\n\u001b[1;32m      3\u001b[0m     \u001b[0maxis\u001b[0m\u001b[0;34m=\u001b[0m\u001b[0;36m1\u001b[0m\u001b[0;34m,\u001b[0m\u001b[0;34m\u001b[0m\u001b[0;34m\u001b[0m\u001b[0m\n\u001b[1;32m      4\u001b[0m     \u001b[0mjoin\u001b[0m\u001b[0;34m=\u001b[0m\u001b[0;34m\"outer\"\u001b[0m\u001b[0;34m,\u001b[0m\u001b[0;34m\u001b[0m\u001b[0;34m\u001b[0m\u001b[0m\n\u001b[1;32m      5\u001b[0m     \u001b[0mignore_index\u001b[0m\u001b[0;34m=\u001b[0m\u001b[0;32mFalse\u001b[0m\u001b[0;34m,\u001b[0m\u001b[0;34m\u001b[0m\u001b[0;34m\u001b[0m\u001b[0m\n",
      "\u001b[0;32m~/miniconda3/lib/python3.8/site-packages/pandas/core/reshape/concat.py\u001b[0m in \u001b[0;36mconcat\u001b[0;34m(objs, axis, join, ignore_index, keys, levels, names, verify_integrity, sort, copy)\u001b[0m\n\u001b[1;32m    296\u001b[0m     )\n\u001b[1;32m    297\u001b[0m \u001b[0;34m\u001b[0m\u001b[0m\n\u001b[0;32m--> 298\u001b[0;31m     \u001b[0;32mreturn\u001b[0m \u001b[0mop\u001b[0m\u001b[0;34m.\u001b[0m\u001b[0mget_result\u001b[0m\u001b[0;34m(\u001b[0m\u001b[0;34m)\u001b[0m\u001b[0;34m\u001b[0m\u001b[0;34m\u001b[0m\u001b[0m\n\u001b[0m\u001b[1;32m    299\u001b[0m \u001b[0;34m\u001b[0m\u001b[0m\n\u001b[1;32m    300\u001b[0m \u001b[0;34m\u001b[0m\u001b[0m\n",
      "\u001b[0;32m~/miniconda3/lib/python3.8/site-packages/pandas/core/reshape/concat.py\u001b[0m in \u001b[0;36mget_result\u001b[0;34m(self)\u001b[0m\n\u001b[1;32m    514\u001b[0m                     \u001b[0mobj_labels\u001b[0m \u001b[0;34m=\u001b[0m \u001b[0mobj\u001b[0m\u001b[0;34m.\u001b[0m\u001b[0maxes\u001b[0m\u001b[0;34m[\u001b[0m\u001b[0;36m1\u001b[0m \u001b[0;34m-\u001b[0m \u001b[0max\u001b[0m\u001b[0;34m]\u001b[0m\u001b[0;34m\u001b[0m\u001b[0;34m\u001b[0m\u001b[0m\n\u001b[1;32m    515\u001b[0m                     \u001b[0;32mif\u001b[0m \u001b[0;32mnot\u001b[0m \u001b[0mnew_labels\u001b[0m\u001b[0;34m.\u001b[0m\u001b[0mequals\u001b[0m\u001b[0;34m(\u001b[0m\u001b[0mobj_labels\u001b[0m\u001b[0;34m)\u001b[0m\u001b[0;34m:\u001b[0m\u001b[0;34m\u001b[0m\u001b[0;34m\u001b[0m\u001b[0m\n\u001b[0;32m--> 516\u001b[0;31m                         \u001b[0mindexers\u001b[0m\u001b[0;34m[\u001b[0m\u001b[0max\u001b[0m\u001b[0;34m]\u001b[0m \u001b[0;34m=\u001b[0m \u001b[0mobj_labels\u001b[0m\u001b[0;34m.\u001b[0m\u001b[0mget_indexer\u001b[0m\u001b[0;34m(\u001b[0m\u001b[0mnew_labels\u001b[0m\u001b[0;34m)\u001b[0m\u001b[0;34m\u001b[0m\u001b[0;34m\u001b[0m\u001b[0m\n\u001b[0m\u001b[1;32m    517\u001b[0m \u001b[0;34m\u001b[0m\u001b[0m\n\u001b[1;32m    518\u001b[0m                 \u001b[0mmgrs_indexers\u001b[0m\u001b[0;34m.\u001b[0m\u001b[0mappend\u001b[0m\u001b[0;34m(\u001b[0m\u001b[0;34m(\u001b[0m\u001b[0mobj\u001b[0m\u001b[0;34m.\u001b[0m\u001b[0m_mgr\u001b[0m\u001b[0;34m,\u001b[0m \u001b[0mindexers\u001b[0m\u001b[0;34m)\u001b[0m\u001b[0;34m)\u001b[0m\u001b[0;34m\u001b[0m\u001b[0;34m\u001b[0m\u001b[0m\n",
      "\u001b[0;32m~/miniconda3/lib/python3.8/site-packages/pandas/core/indexes/base.py\u001b[0m in \u001b[0;36mget_indexer\u001b[0;34m(self, target, method, limit, tolerance)\u001b[0m\n\u001b[1;32m   3169\u001b[0m \u001b[0;34m\u001b[0m\u001b[0m\n\u001b[1;32m   3170\u001b[0m         \u001b[0;32mif\u001b[0m \u001b[0;32mnot\u001b[0m \u001b[0mself\u001b[0m\u001b[0;34m.\u001b[0m\u001b[0mis_unique\u001b[0m\u001b[0;34m:\u001b[0m\u001b[0;34m\u001b[0m\u001b[0;34m\u001b[0m\u001b[0m\n\u001b[0;32m-> 3171\u001b[0;31m             raise InvalidIndexError(\n\u001b[0m\u001b[1;32m   3172\u001b[0m                 \u001b[0;34m\"Reindexing only valid with uniquely valued Index objects\"\u001b[0m\u001b[0;34m\u001b[0m\u001b[0;34m\u001b[0m\u001b[0m\n\u001b[1;32m   3173\u001b[0m             )\n",
      "\u001b[0;31mInvalidIndexError\u001b[0m: Reindexing only valid with uniquely valued Index objects"
     ]
    }
   ],
   "source": [
    "## NOTE concat does not work because frames have duplicate index values (several rows with the same 'start_time')\n",
    "\n",
    "# t = pd.concat(\n",
    "#     [dfs['flows'], dfs['l7'], dfs['dns']],\n",
    "#     axis=1,\n",
    "#     join=\"outer\",\n",
    "#     ignore_index=False,\n",
    "#     keys=None, # ['start_time'],\n",
    "#     levels=None,\n",
    "#     names=None,\n",
    "#     verify_integrity=False,\n",
    "#     copy=False,\n",
    "# )\n",
    "# t.shape"
   ]
  },
  {
   "cell_type": "code",
   "execution_count": 8,
   "metadata": {
    "execution": {
     "iopub.execute_input": "2021-07-22T22:08:05.941548Z",
     "iopub.status.busy": "2021-07-22T22:08:05.941371Z",
     "iopub.status.idle": "2021-07-22T22:08:05.945261Z",
     "shell.execute_reply": "2021-07-22T22:08:05.944714Z",
     "shell.execute_reply.started": "2021-07-22T22:08:05.941529Z"
    }
   },
   "outputs": [
    {
     "data": {
      "text/plain": [
       "[('dns', (115211, 8)), ('l7', (10296, 21)), ('flows', (40773, 35))]"
      ]
     },
     "execution_count": 8,
     "metadata": {},
     "output_type": "execute_result"
    }
   ],
   "source": [
    "[(k, df.shape) for k, df in dfs.items()]"
   ]
  },
  {
   "cell_type": "code",
   "execution_count": 17,
   "metadata": {
    "execution": {
     "iopub.execute_input": "2021-07-22T22:20:36.150656Z",
     "iopub.status.busy": "2021-07-22T22:20:36.150474Z",
     "iopub.status.idle": "2021-07-22T22:20:36.153308Z",
     "shell.execute_reply": "2021-07-22T22:20:36.152634Z",
     "shell.execute_reply.started": "2021-07-22T22:20:36.150636Z"
    }
   },
   "outputs": [],
   "source": [
    "## should be done only after resampling df to 1 record by 5 min bucket! \n",
    "\n",
    "# how = 'inner'\n",
    "# # print(len(dfs['flows'].columns), len(dfs['l7'].columns))\n",
    "# # df12 = dfs['flows'].merge(dfs['l7'], on='start_time', how=how, suffixes=('_flows', '_l7')) #.to_csv('../data/flow_and_l7.csv', index=False)\n",
    "# # # (1465725, 56)\n",
    "# df12 = dfs['flows'].join(dfs['l7'], how=how, lsuffix='_flows', rsuffix='_l7') #.to_csv('../data/flow_and_l7.csv', index=False)\n",
    "# print(df12.shape, df12.columns)\n",
    "# # df = df12.merge(dfs['dns'], on='start_time', how=how, suffixes=('', '_dns')) #.to_csv('../data/flow_and_l7.csv', index=False)\n",
    "# # print(df.shape, df.columns)\n"
   ]
  },
  {
   "cell_type": "code",
   "execution_count": 16,
   "metadata": {
    "execution": {
     "iopub.execute_input": "2021-07-22T22:20:15.805533Z",
     "iopub.status.busy": "2021-07-22T22:20:15.804921Z",
     "iopub.status.idle": "2021-07-22T22:20:15.847076Z",
     "shell.execute_reply": "2021-07-22T22:20:15.846490Z",
     "shell.execute_reply.started": "2021-07-22T22:20:15.805478Z"
    }
   },
   "outputs": [
    {
     "name": "stdout",
     "output_type": "stream",
     "text": [
      "dns\n",
      "l7\n",
      "flows\n"
     ]
    },
    {
     "data": {
      "text/plain": [
       "Index(['source_ip', 'source_name', 'source_name_aggr', 'source_namespace',\n",
       "       'source_port', 'source_type', 'dest_ip', 'dest_name', 'dest_name_aggr',\n",
       "       'dest_namespace', 'dest_service_namespace', 'dest_service_name',\n",
       "       'dest_service_port', 'dest_port', 'dest_type', 'proto', 'bytes_in',\n",
       "       'bytes_out', 'num_flows', 'num_flows_started', 'num_flows_completed',\n",
       "       'packets_in', 'packets_out', 'http_requests_allowed_in',\n",
       "       'http_requests_denied_in', 'process_name', 'num_process_names',\n",
       "       'process_id', 'num_process_ids', 'original_source_ips',\n",
       "       'num_original_source_ips', 'host'],\n",
       "      dtype='object')"
      ]
     },
     "execution_count": 16,
     "metadata": {},
     "output_type": "execute_result"
    }
   ],
   "source": [
    "removed_cols = ['@timestamp', 'source_labels', 'dest_labels', 'client_labels', 'end_time']\n",
    "\n",
    "\n",
    "for log, df in dfs.items():    \n",
    "    print(log)\n",
    "    df.drop(columns=removed_cols, inplace=True, errors='ignore')\n",
    "    df.sort_values(by='start_time', inplace=True)\n",
    "    df.shape, df.columns\n",
    "\n",
    "dfs['flows'].columns\n",
    "## 'outer': ((729208, 77)\n",
    "## inner: ((0, 77)"
   ]
  },
  {
   "cell_type": "code",
   "execution_count": 114,
   "metadata": {
    "execution": {
     "iopub.execute_input": "2021-05-31T22:13:52.315119Z",
     "iopub.status.busy": "2021-05-31T22:13:52.314810Z",
     "iopub.status.idle": "2021-05-31T22:14:05.265726Z",
     "shell.execute_reply": "2021-05-31T22:14:05.265140Z",
     "shell.execute_reply.started": "2021-05-31T22:13:52.315085Z"
    }
   },
   "outputs": [],
   "source": [
    "df.set_index('start_time', inplace=True)\n",
    "df = df.reindex(sorted(df.columns), axis=1)\n",
    "df.to_csv('../data/flow_and_l7_and_dns.csv', index=False)"
   ]
  },
  {
   "cell_type": "code",
   "execution_count": 115,
   "metadata": {
    "execution": {
     "iopub.execute_input": "2021-05-31T22:19:41.090343Z",
     "iopub.status.busy": "2021-05-31T22:19:41.090059Z",
     "iopub.status.idle": "2021-05-31T22:19:41.094768Z",
     "shell.execute_reply": "2021-05-31T22:19:41.094121Z",
     "shell.execute_reply.started": "2021-05-31T22:19:41.090310Z"
    }
   },
   "outputs": [
    {
     "data": {
      "text/plain": [
       "(729208, 76)"
      ]
     },
     "execution_count": 115,
     "metadata": {},
     "output_type": "execute_result"
    }
   ],
   "source": [
    "df.shape"
   ]
  },
  {
   "cell_type": "code",
   "execution_count": 122,
   "metadata": {
    "collapsed": true,
    "execution": {
     "iopub.execute_input": "2021-05-31T22:32:40.512165Z",
     "iopub.status.busy": "2021-05-31T22:32:40.511980Z",
     "iopub.status.idle": "2021-05-31T22:32:43.940124Z",
     "shell.execute_reply": "2021-05-31T22:32:43.939656Z",
     "shell.execute_reply.started": "2021-05-31T22:32:40.512147Z"
    },
    "jupyter": {
     "outputs_hidden": true
    }
   },
   "outputs": [
    {
     "data": {
      "text/html": [
       "<div>\n",
       "<style scoped>\n",
       "    .dataframe tbody tr th:only-of-type {\n",
       "        vertical-align: middle;\n",
       "    }\n",
       "\n",
       "    .dataframe tbody tr th {\n",
       "        vertical-align: top;\n",
       "    }\n",
       "\n",
       "    .dataframe thead th {\n",
       "        text-align: right;\n",
       "    }\n",
       "</style>\n",
       "<table border=\"1\" class=\"dataframe\">\n",
       "  <thead>\n",
       "    <tr style=\"text-align: right;\">\n",
       "      <th></th>\n",
       "      <th>counts</th>\n",
       "      <th>uniques</th>\n",
       "      <th>missing</th>\n",
       "      <th>missing_perc</th>\n",
       "      <th>types</th>\n",
       "    </tr>\n",
       "  </thead>\n",
       "  <tbody>\n",
       "    <tr>\n",
       "      <th>method</th>\n",
       "      <td>27935</td>\n",
       "      <td>2</td>\n",
       "      <td>701273</td>\n",
       "      <td>96.17%</td>\n",
       "      <td>bool</td>\n",
       "    </tr>\n",
       "    <tr>\n",
       "      <th>action</th>\n",
       "      <td>519628</td>\n",
       "      <td>2</td>\n",
       "      <td>209580</td>\n",
       "      <td>28.74%</td>\n",
       "      <td>bool</td>\n",
       "    </tr>\n",
       "    <tr>\n",
       "      <th>src_type</th>\n",
       "      <td>27941</td>\n",
       "      <td>2</td>\n",
       "      <td>701267</td>\n",
       "      <td>96.17%</td>\n",
       "      <td>bool</td>\n",
       "    </tr>\n",
       "    <tr>\n",
       "      <th>src_namespace</th>\n",
       "      <td>27941</td>\n",
       "      <td>2</td>\n",
       "      <td>701267</td>\n",
       "      <td>96.17%</td>\n",
       "      <td>bool</td>\n",
       "    </tr>\n",
       "    <tr>\n",
       "      <th>reporter</th>\n",
       "      <td>519628</td>\n",
       "      <td>2</td>\n",
       "      <td>209580</td>\n",
       "      <td>28.74%</td>\n",
       "      <td>bool</td>\n",
       "    </tr>\n",
       "    <tr>\n",
       "      <th>source_type</th>\n",
       "      <td>519628</td>\n",
       "      <td>2</td>\n",
       "      <td>209580</td>\n",
       "      <td>28.74%</td>\n",
       "      <td>bool</td>\n",
       "    </tr>\n",
       "    <tr>\n",
       "      <th>proto</th>\n",
       "      <td>519628</td>\n",
       "      <td>2</td>\n",
       "      <td>209580</td>\n",
       "      <td>28.74%</td>\n",
       "      <td>bool</td>\n",
       "    </tr>\n",
       "    <tr>\n",
       "      <th>rcode</th>\n",
       "      <td>202997</td>\n",
       "      <td>2</td>\n",
       "      <td>526211</td>\n",
       "      <td>72.16%</td>\n",
       "      <td>bool</td>\n",
       "    </tr>\n",
       "    <tr>\n",
       "      <th>rrsets</th>\n",
       "      <td>202654</td>\n",
       "      <td>2272</td>\n",
       "      <td>526554</td>\n",
       "      <td>72.21%</td>\n",
       "      <td>categorical</td>\n",
       "    </tr>\n",
       "    <tr>\n",
       "      <th>dest_type_flows</th>\n",
       "      <td>519628</td>\n",
       "      <td>3</td>\n",
       "      <td>209580</td>\n",
       "      <td>28.74%</td>\n",
       "      <td>categorical</td>\n",
       "    </tr>\n",
       "    <tr>\n",
       "      <th>qtype</th>\n",
       "      <td>202997</td>\n",
       "      <td>3</td>\n",
       "      <td>526211</td>\n",
       "      <td>72.16%</td>\n",
       "      <td>categorical</td>\n",
       "    </tr>\n",
       "    <tr>\n",
       "      <th>end_time</th>\n",
       "      <td>202997</td>\n",
       "      <td>2810</td>\n",
       "      <td>526211</td>\n",
       "      <td>72.16%</td>\n",
       "      <td>categorical</td>\n",
       "    </tr>\n",
       "    <tr>\n",
       "      <th>host_flows</th>\n",
       "      <td>519628</td>\n",
       "      <td>5</td>\n",
       "      <td>209580</td>\n",
       "      <td>28.74%</td>\n",
       "      <td>categorical</td>\n",
       "    </tr>\n",
       "    <tr>\n",
       "      <th>host</th>\n",
       "      <td>202997</td>\n",
       "      <td>5</td>\n",
       "      <td>526211</td>\n",
       "      <td>72.16%</td>\n",
       "      <td>categorical</td>\n",
       "    </tr>\n",
       "    <tr>\n",
       "      <th>dest_service_port_flows</th>\n",
       "      <td>519628</td>\n",
       "      <td>8</td>\n",
       "      <td>209580</td>\n",
       "      <td>28.74%</td>\n",
       "      <td>categorical</td>\n",
       "    </tr>\n",
       "    <tr>\n",
       "      <th>host_l7</th>\n",
       "      <td>27941</td>\n",
       "      <td>4</td>\n",
       "      <td>701267</td>\n",
       "      <td>96.17%</td>\n",
       "      <td>categorical</td>\n",
       "    </tr>\n",
       "    <tr>\n",
       "      <th>process_name</th>\n",
       "      <td>519628</td>\n",
       "      <td>49</td>\n",
       "      <td>209580</td>\n",
       "      <td>28.74%</td>\n",
       "      <td>categorical</td>\n",
       "    </tr>\n",
       "    <tr>\n",
       "      <th>url</th>\n",
       "      <td>27935</td>\n",
       "      <td>29</td>\n",
       "      <td>701273</td>\n",
       "      <td>96.17%</td>\n",
       "      <td>categorical</td>\n",
       "    </tr>\n",
       "    <tr>\n",
       "      <th>process_id</th>\n",
       "      <td>519628</td>\n",
       "      <td>1494</td>\n",
       "      <td>209580</td>\n",
       "      <td>28.74%</td>\n",
       "      <td>categorical</td>\n",
       "    </tr>\n",
       "    <tr>\n",
       "      <th>qname</th>\n",
       "      <td>202997</td>\n",
       "      <td>274</td>\n",
       "      <td>526211</td>\n",
       "      <td>72.16%</td>\n",
       "      <td>categorical</td>\n",
       "    </tr>\n",
       "    <tr>\n",
       "      <th>servers</th>\n",
       "      <td>202997</td>\n",
       "      <td>21</td>\n",
       "      <td>526211</td>\n",
       "      <td>72.16%</td>\n",
       "      <td>categorical</td>\n",
       "    </tr>\n",
       "    <tr>\n",
       "      <th>latency</th>\n",
       "      <td>202997</td>\n",
       "      <td>144638</td>\n",
       "      <td>526211</td>\n",
       "      <td>72.16%</td>\n",
       "      <td>categorical</td>\n",
       "    </tr>\n",
       "    <tr>\n",
       "      <th>policies</th>\n",
       "      <td>519628</td>\n",
       "      <td>47</td>\n",
       "      <td>209580</td>\n",
       "      <td>28.74%</td>\n",
       "      <td>categorical</td>\n",
       "    </tr>\n",
       "    <tr>\n",
       "      <th>src_name_aggr</th>\n",
       "      <td>27941</td>\n",
       "      <td>6</td>\n",
       "      <td>701267</td>\n",
       "      <td>96.17%</td>\n",
       "      <td>categorical</td>\n",
       "    </tr>\n",
       "    <tr>\n",
       "      <th>client_name_aggr</th>\n",
       "      <td>202997</td>\n",
       "      <td>25</td>\n",
       "      <td>526211</td>\n",
       "      <td>72.16%</td>\n",
       "      <td>categorical</td>\n",
       "    </tr>\n",
       "    <tr>\n",
       "      <th>client_namespace</th>\n",
       "      <td>202997</td>\n",
       "      <td>11</td>\n",
       "      <td>526211</td>\n",
       "      <td>72.16%</td>\n",
       "      <td>categorical</td>\n",
       "    </tr>\n",
       "    <tr>\n",
       "      <th>source_namespace</th>\n",
       "      <td>519628</td>\n",
       "      <td>15</td>\n",
       "      <td>209580</td>\n",
       "      <td>28.74%</td>\n",
       "      <td>categorical</td>\n",
       "    </tr>\n",
       "    <tr>\n",
       "      <th>source_name_aggr</th>\n",
       "      <td>519628</td>\n",
       "      <td>110</td>\n",
       "      <td>209580</td>\n",
       "      <td>28.74%</td>\n",
       "      <td>categorical</td>\n",
       "    </tr>\n",
       "    <tr>\n",
       "      <th>dest_service_namespace_flows</th>\n",
       "      <td>519628</td>\n",
       "      <td>6</td>\n",
       "      <td>209580</td>\n",
       "      <td>28.74%</td>\n",
       "      <td>categorical</td>\n",
       "    </tr>\n",
       "    <tr>\n",
       "      <th>dest_ip</th>\n",
       "      <td>461</td>\n",
       "      <td>9</td>\n",
       "      <td>728747</td>\n",
       "      <td>99.94%</td>\n",
       "      <td>categorical</td>\n",
       "    </tr>\n",
       "    <tr>\n",
       "      <th>dest_service_name_l7</th>\n",
       "      <td>26780</td>\n",
       "      <td>10</td>\n",
       "      <td>702428</td>\n",
       "      <td>96.33%</td>\n",
       "      <td>categorical</td>\n",
       "    </tr>\n",
       "    <tr>\n",
       "      <th>dest_name_aggr_flows</th>\n",
       "      <td>519628</td>\n",
       "      <td>32</td>\n",
       "      <td>209580</td>\n",
       "      <td>28.74%</td>\n",
       "      <td>categorical</td>\n",
       "    </tr>\n",
       "    <tr>\n",
       "      <th>dest_name_aggr_l7</th>\n",
       "      <td>27941</td>\n",
       "      <td>11</td>\n",
       "      <td>701267</td>\n",
       "      <td>96.17%</td>\n",
       "      <td>categorical</td>\n",
       "    </tr>\n",
       "    <tr>\n",
       "      <th>dest_namespace_flows</th>\n",
       "      <td>519628</td>\n",
       "      <td>8</td>\n",
       "      <td>209580</td>\n",
       "      <td>28.74%</td>\n",
       "      <td>categorical</td>\n",
       "    </tr>\n",
       "    <tr>\n",
       "      <th>source_name</th>\n",
       "      <td>519628</td>\n",
       "      <td>39</td>\n",
       "      <td>209580</td>\n",
       "      <td>28.74%</td>\n",
       "      <td>categorical</td>\n",
       "    </tr>\n",
       "    <tr>\n",
       "      <th>source_ip</th>\n",
       "      <td>461</td>\n",
       "      <td>127</td>\n",
       "      <td>728747</td>\n",
       "      <td>99.94%</td>\n",
       "      <td>categorical</td>\n",
       "    </tr>\n",
       "    <tr>\n",
       "      <th>dest_service_name_flows</th>\n",
       "      <td>519628</td>\n",
       "      <td>17</td>\n",
       "      <td>209580</td>\n",
       "      <td>28.74%</td>\n",
       "      <td>categorical</td>\n",
       "    </tr>\n",
       "    <tr>\n",
       "      <th>dest_name</th>\n",
       "      <td>519628</td>\n",
       "      <td>3</td>\n",
       "      <td>209580</td>\n",
       "      <td>28.74%</td>\n",
       "      <td>categorical</td>\n",
       "    </tr>\n",
       "    <tr>\n",
       "      <th>type</th>\n",
       "      <td>27941</td>\n",
       "      <td>1</td>\n",
       "      <td>701267</td>\n",
       "      <td>96.17%</td>\n",
       "      <td>constant</td>\n",
       "    </tr>\n",
       "    <tr>\n",
       "      <th>type_dns</th>\n",
       "      <td>202997</td>\n",
       "      <td>1</td>\n",
       "      <td>526211</td>\n",
       "      <td>72.16%</td>\n",
       "      <td>constant</td>\n",
       "    </tr>\n",
       "    <tr>\n",
       "      <th>qclass</th>\n",
       "      <td>202997</td>\n",
       "      <td>1</td>\n",
       "      <td>526211</td>\n",
       "      <td>72.16%</td>\n",
       "      <td>constant</td>\n",
       "    </tr>\n",
       "    <tr>\n",
       "      <th>user_agent</th>\n",
       "      <td>27941</td>\n",
       "      <td>1</td>\n",
       "      <td>701267</td>\n",
       "      <td>96.17%</td>\n",
       "      <td>constant</td>\n",
       "    </tr>\n",
       "    <tr>\n",
       "      <th>dest_type_l7</th>\n",
       "      <td>27941</td>\n",
       "      <td>1</td>\n",
       "      <td>701267</td>\n",
       "      <td>96.17%</td>\n",
       "      <td>constant</td>\n",
       "    </tr>\n",
       "    <tr>\n",
       "      <th>dest_service_namespace_l7</th>\n",
       "      <td>26780</td>\n",
       "      <td>1</td>\n",
       "      <td>702428</td>\n",
       "      <td>96.33%</td>\n",
       "      <td>constant</td>\n",
       "    </tr>\n",
       "    <tr>\n",
       "      <th>http_requests_allowed_in</th>\n",
       "      <td>519628</td>\n",
       "      <td>1</td>\n",
       "      <td>209580</td>\n",
       "      <td>28.74%</td>\n",
       "      <td>constant</td>\n",
       "    </tr>\n",
       "    <tr>\n",
       "      <th>http_requests_denied_in</th>\n",
       "      <td>519628</td>\n",
       "      <td>1</td>\n",
       "      <td>209580</td>\n",
       "      <td>28.74%</td>\n",
       "      <td>constant</td>\n",
       "    </tr>\n",
       "    <tr>\n",
       "      <th>client_name</th>\n",
       "      <td>202997</td>\n",
       "      <td>1</td>\n",
       "      <td>526211</td>\n",
       "      <td>72.16%</td>\n",
       "      <td>constant</td>\n",
       "    </tr>\n",
       "    <tr>\n",
       "      <th>dest_namespace_l7</th>\n",
       "      <td>27941</td>\n",
       "      <td>1</td>\n",
       "      <td>701267</td>\n",
       "      <td>96.17%</td>\n",
       "      <td>constant</td>\n",
       "    </tr>\n",
       "    <tr>\n",
       "      <th>dest_service_port_l7</th>\n",
       "      <td>27941</td>\n",
       "      <td>10</td>\n",
       "      <td>701267</td>\n",
       "      <td>96.17%</td>\n",
       "      <td>numeric</td>\n",
       "    </tr>\n",
       "    <tr>\n",
       "      <th>dest_port</th>\n",
       "      <td>519628</td>\n",
       "      <td>21</td>\n",
       "      <td>209580</td>\n",
       "      <td>28.74%</td>\n",
       "      <td>numeric</td>\n",
       "    </tr>\n",
       "    <tr>\n",
       "      <th>count_dns</th>\n",
       "      <td>202997</td>\n",
       "      <td>1954</td>\n",
       "      <td>526211</td>\n",
       "      <td>72.16%</td>\n",
       "      <td>numeric</td>\n",
       "    </tr>\n",
       "    <tr>\n",
       "      <th>num_flows</th>\n",
       "      <td>519628</td>\n",
       "      <td>5945</td>\n",
       "      <td>209580</td>\n",
       "      <td>28.74%</td>\n",
       "      <td>numeric</td>\n",
       "    </tr>\n",
       "    <tr>\n",
       "      <th>source_port</th>\n",
       "      <td>0</td>\n",
       "      <td>0</td>\n",
       "      <td>729208</td>\n",
       "      <td>100%</td>\n",
       "      <td>numeric</td>\n",
       "    </tr>\n",
       "    <tr>\n",
       "      <th>client_ip</th>\n",
       "      <td>0</td>\n",
       "      <td>0</td>\n",
       "      <td>729208</td>\n",
       "      <td>100%</td>\n",
       "      <td>numeric</td>\n",
       "    </tr>\n",
       "    <tr>\n",
       "      <th>bytes_out_l7</th>\n",
       "      <td>27941</td>\n",
       "      <td>5222</td>\n",
       "      <td>701267</td>\n",
       "      <td>96.17%</td>\n",
       "      <td>numeric</td>\n",
       "    </tr>\n",
       "    <tr>\n",
       "      <th>bytes_out_flows</th>\n",
       "      <td>519628</td>\n",
       "      <td>192300</td>\n",
       "      <td>209580</td>\n",
       "      <td>28.74%</td>\n",
       "      <td>numeric</td>\n",
       "    </tr>\n",
       "    <tr>\n",
       "      <th>bytes_in_l7</th>\n",
       "      <td>27941</td>\n",
       "      <td>3424</td>\n",
       "      <td>701267</td>\n",
       "      <td>96.17%</td>\n",
       "      <td>numeric</td>\n",
       "    </tr>\n",
       "    <tr>\n",
       "      <th>bytes_in_flows</th>\n",
       "      <td>519628</td>\n",
       "      <td>173743</td>\n",
       "      <td>209580</td>\n",
       "      <td>28.74%</td>\n",
       "      <td>numeric</td>\n",
       "    </tr>\n",
       "    <tr>\n",
       "      <th>response_code</th>\n",
       "      <td>27941</td>\n",
       "      <td>6</td>\n",
       "      <td>701267</td>\n",
       "      <td>96.17%</td>\n",
       "      <td>numeric</td>\n",
       "    </tr>\n",
       "    <tr>\n",
       "      <th>count</th>\n",
       "      <td>27941</td>\n",
       "      <td>3097</td>\n",
       "      <td>701267</td>\n",
       "      <td>96.17%</td>\n",
       "      <td>numeric</td>\n",
       "    </tr>\n",
       "    <tr>\n",
       "      <th>duration_max</th>\n",
       "      <td>27941</td>\n",
       "      <td>3527</td>\n",
       "      <td>701267</td>\n",
       "      <td>96.17%</td>\n",
       "      <td>numeric</td>\n",
       "    </tr>\n",
       "    <tr>\n",
       "      <th>duration_mean</th>\n",
       "      <td>27941</td>\n",
       "      <td>7305</td>\n",
       "      <td>701267</td>\n",
       "      <td>96.17%</td>\n",
       "      <td>numeric</td>\n",
       "    </tr>\n",
       "    <tr>\n",
       "      <th>end_time_flows</th>\n",
       "      <td>519628</td>\n",
       "      <td>20301</td>\n",
       "      <td>209580</td>\n",
       "      <td>28.74%</td>\n",
       "      <td>numeric</td>\n",
       "    </tr>\n",
       "    <tr>\n",
       "      <th>end_time_l7</th>\n",
       "      <td>27941</td>\n",
       "      <td>474</td>\n",
       "      <td>701267</td>\n",
       "      <td>96.17%</td>\n",
       "      <td>numeric</td>\n",
       "    </tr>\n",
       "    <tr>\n",
       "      <th>latency_count</th>\n",
       "      <td>202997</td>\n",
       "      <td>1979</td>\n",
       "      <td>526211</td>\n",
       "      <td>72.16%</td>\n",
       "      <td>numeric</td>\n",
       "    </tr>\n",
       "    <tr>\n",
       "      <th>latency_max</th>\n",
       "      <td>202997</td>\n",
       "      <td>16547</td>\n",
       "      <td>526211</td>\n",
       "      <td>72.16%</td>\n",
       "      <td>numeric</td>\n",
       "    </tr>\n",
       "    <tr>\n",
       "      <th>packets_out</th>\n",
       "      <td>519628</td>\n",
       "      <td>21205</td>\n",
       "      <td>209580</td>\n",
       "      <td>28.74%</td>\n",
       "      <td>numeric</td>\n",
       "    </tr>\n",
       "    <tr>\n",
       "      <th>packets_in</th>\n",
       "      <td>519628</td>\n",
       "      <td>21592</td>\n",
       "      <td>209580</td>\n",
       "      <td>28.74%</td>\n",
       "      <td>numeric</td>\n",
       "    </tr>\n",
       "    <tr>\n",
       "      <th>original_source_ips</th>\n",
       "      <td>0</td>\n",
       "      <td>0</td>\n",
       "      <td>729208</td>\n",
       "      <td>100%</td>\n",
       "      <td>numeric</td>\n",
       "    </tr>\n",
       "    <tr>\n",
       "      <th>num_process_names</th>\n",
       "      <td>519628</td>\n",
       "      <td>4</td>\n",
       "      <td>209580</td>\n",
       "      <td>28.74%</td>\n",
       "      <td>numeric</td>\n",
       "    </tr>\n",
       "    <tr>\n",
       "      <th>num_process_ids</th>\n",
       "      <td>519628</td>\n",
       "      <td>5</td>\n",
       "      <td>209580</td>\n",
       "      <td>28.74%</td>\n",
       "      <td>numeric</td>\n",
       "    </tr>\n",
       "    <tr>\n",
       "      <th>num_original_source_ips</th>\n",
       "      <td>519628</td>\n",
       "      <td>11336</td>\n",
       "      <td>209580</td>\n",
       "      <td>28.74%</td>\n",
       "      <td>numeric</td>\n",
       "    </tr>\n",
       "    <tr>\n",
       "      <th>num_flows_started</th>\n",
       "      <td>519628</td>\n",
       "      <td>5506</td>\n",
       "      <td>209580</td>\n",
       "      <td>28.74%</td>\n",
       "      <td>numeric</td>\n",
       "    </tr>\n",
       "    <tr>\n",
       "      <th>num_flows_completed</th>\n",
       "      <td>519628</td>\n",
       "      <td>5689</td>\n",
       "      <td>209580</td>\n",
       "      <td>28.74%</td>\n",
       "      <td>numeric</td>\n",
       "    </tr>\n",
       "    <tr>\n",
       "      <th>latency_mean</th>\n",
       "      <td>202997</td>\n",
       "      <td>92512</td>\n",
       "      <td>526211</td>\n",
       "      <td>72.16%</td>\n",
       "      <td>numeric</td>\n",
       "    </tr>\n",
       "    <tr>\n",
       "      <th>@timestamp</th>\n",
       "      <td>519628</td>\n",
       "      <td>20301</td>\n",
       "      <td>209580</td>\n",
       "      <td>28.74%</td>\n",
       "      <td>numeric</td>\n",
       "    </tr>\n",
       "  </tbody>\n",
       "</table>\n",
       "</div>"
      ],
      "text/plain": [
       "                              counts uniques missing missing_perc        types\n",
       "method                         27935       2  701273       96.17%         bool\n",
       "action                        519628       2  209580       28.74%         bool\n",
       "src_type                       27941       2  701267       96.17%         bool\n",
       "src_namespace                  27941       2  701267       96.17%         bool\n",
       "reporter                      519628       2  209580       28.74%         bool\n",
       "source_type                   519628       2  209580       28.74%         bool\n",
       "proto                         519628       2  209580       28.74%         bool\n",
       "rcode                         202997       2  526211       72.16%         bool\n",
       "rrsets                        202654    2272  526554       72.21%  categorical\n",
       "dest_type_flows               519628       3  209580       28.74%  categorical\n",
       "qtype                         202997       3  526211       72.16%  categorical\n",
       "end_time                      202997    2810  526211       72.16%  categorical\n",
       "host_flows                    519628       5  209580       28.74%  categorical\n",
       "host                          202997       5  526211       72.16%  categorical\n",
       "dest_service_port_flows       519628       8  209580       28.74%  categorical\n",
       "host_l7                        27941       4  701267       96.17%  categorical\n",
       "process_name                  519628      49  209580       28.74%  categorical\n",
       "url                            27935      29  701273       96.17%  categorical\n",
       "process_id                    519628    1494  209580       28.74%  categorical\n",
       "qname                         202997     274  526211       72.16%  categorical\n",
       "servers                       202997      21  526211       72.16%  categorical\n",
       "latency                       202997  144638  526211       72.16%  categorical\n",
       "policies                      519628      47  209580       28.74%  categorical\n",
       "src_name_aggr                  27941       6  701267       96.17%  categorical\n",
       "client_name_aggr              202997      25  526211       72.16%  categorical\n",
       "client_namespace              202997      11  526211       72.16%  categorical\n",
       "source_namespace              519628      15  209580       28.74%  categorical\n",
       "source_name_aggr              519628     110  209580       28.74%  categorical\n",
       "dest_service_namespace_flows  519628       6  209580       28.74%  categorical\n",
       "dest_ip                          461       9  728747       99.94%  categorical\n",
       "dest_service_name_l7           26780      10  702428       96.33%  categorical\n",
       "dest_name_aggr_flows          519628      32  209580       28.74%  categorical\n",
       "dest_name_aggr_l7              27941      11  701267       96.17%  categorical\n",
       "dest_namespace_flows          519628       8  209580       28.74%  categorical\n",
       "source_name                   519628      39  209580       28.74%  categorical\n",
       "source_ip                        461     127  728747       99.94%  categorical\n",
       "dest_service_name_flows       519628      17  209580       28.74%  categorical\n",
       "dest_name                     519628       3  209580       28.74%  categorical\n",
       "type                           27941       1  701267       96.17%     constant\n",
       "type_dns                      202997       1  526211       72.16%     constant\n",
       "qclass                        202997       1  526211       72.16%     constant\n",
       "user_agent                     27941       1  701267       96.17%     constant\n",
       "dest_type_l7                   27941       1  701267       96.17%     constant\n",
       "dest_service_namespace_l7      26780       1  702428       96.33%     constant\n",
       "http_requests_allowed_in      519628       1  209580       28.74%     constant\n",
       "http_requests_denied_in       519628       1  209580       28.74%     constant\n",
       "client_name                   202997       1  526211       72.16%     constant\n",
       "dest_namespace_l7              27941       1  701267       96.17%     constant\n",
       "dest_service_port_l7           27941      10  701267       96.17%      numeric\n",
       "dest_port                     519628      21  209580       28.74%      numeric\n",
       "count_dns                     202997    1954  526211       72.16%      numeric\n",
       "num_flows                     519628    5945  209580       28.74%      numeric\n",
       "source_port                        0       0  729208         100%      numeric\n",
       "client_ip                          0       0  729208         100%      numeric\n",
       "bytes_out_l7                   27941    5222  701267       96.17%      numeric\n",
       "bytes_out_flows               519628  192300  209580       28.74%      numeric\n",
       "bytes_in_l7                    27941    3424  701267       96.17%      numeric\n",
       "bytes_in_flows                519628  173743  209580       28.74%      numeric\n",
       "response_code                  27941       6  701267       96.17%      numeric\n",
       "count                          27941    3097  701267       96.17%      numeric\n",
       "duration_max                   27941    3527  701267       96.17%      numeric\n",
       "duration_mean                  27941    7305  701267       96.17%      numeric\n",
       "end_time_flows                519628   20301  209580       28.74%      numeric\n",
       "end_time_l7                    27941     474  701267       96.17%      numeric\n",
       "latency_count                 202997    1979  526211       72.16%      numeric\n",
       "latency_max                   202997   16547  526211       72.16%      numeric\n",
       "packets_out                   519628   21205  209580       28.74%      numeric\n",
       "packets_in                    519628   21592  209580       28.74%      numeric\n",
       "original_source_ips                0       0  729208         100%      numeric\n",
       "num_process_names             519628       4  209580       28.74%      numeric\n",
       "num_process_ids               519628       5  209580       28.74%      numeric\n",
       "num_original_source_ips       519628   11336  209580       28.74%      numeric\n",
       "num_flows_started             519628    5506  209580       28.74%      numeric\n",
       "num_flows_completed           519628    5689  209580       28.74%      numeric\n",
       "latency_mean                  202997   92512  526211       72.16%      numeric\n",
       "@timestamp                    519628   20301  209580       28.74%      numeric"
      ]
     },
     "execution_count": 122,
     "metadata": {},
     "output_type": "execute_result"
    }
   ],
   "source": [
    "pd.set_option('display.max_rows', 500)\n",
    "\n",
    "from pandas_summary import DataFrameSummary\n",
    "\n",
    "dfs = DataFrameSummary(df)\n",
    "dfs.columns_stats.T.sort_values(by='types').head(80).sort_index()"
   ]
  },
  {
   "cell_type": "code",
   "execution_count": null,
   "metadata": {},
   "outputs": [],
   "source": [
    "counts_zero_cols = ['source_port', 'client_ip', 'original_source_ips']\n",
    "convert_to_numeric_cols = ['latency']\n"
   ]
  },
  {
   "cell_type": "markdown",
   "metadata": {
    "heading_collapsed": "true"
   },
   "source": [
    "## Conclusions and Design draft"
   ]
  },
  {
   "cell_type": "markdown",
   "metadata": {
    "heading_collapsed": "true"
   },
   "source": [
    "Our 3 logs mostly do not correlate. If we merge all logs we got samples where 3 group of fields correlate only by start_time. Each log has M_to_1 rows_in_time_bucket relations. That means the merging result table gets number of rows as the product ot the numbers of rows each merging table. Say, dns - 10K rows, l7 - 10K rows, flows - 100K rows. The result table - 10K * 10K * 100K rows. Each row has only meaningfull fields from single table.\n",
    "\n",
    "So, the table merging does not provide us with anything but an inflated dataset.\n",
    "\n",
    "If each time interval is provided with a single row, merge makes sense. But not for now when each time interval has >10 rows in each table.\n",
    "\n",
    "So, the problem is, the logs cannot be easily combined into the required format with a single row per a time bucket. Each log can have several rows per each bucket and these rows are not correlated between logs.\n",
    "\n",
    "What we can do now? Thera are two options, a 'per address' and 'global'. \n",
    "1. In the **per address** option we split all rows of a log into several groups by addresses. Each group should have only one row per time bucket. Each group has this format:\n",
    "   Log_X_Address_XX: `[time_interval, vector]`\n",
    "   With 10*x source and dest addresses and 10*y addr1_to_addr2 connections (as address groups) we have got not too much dimentions for this concatenated vector.\n",
    "   We select only the most-frequent addresses. All non-frequestn addresses go to the 'other' addresses with combined vector.\n",
    "   Each Log_X_Address_XX dataset gets a model which is the sequencial-autoencoder or the time-series forecaster. \n",
    "   This option is like the bytes_in model.\n",
    "\n",
    "2. In the **global** option we do not include addresses in data and use only the aggregated vectors: \n",
    "   Log_X: `[time_interval, vector]`. \n",
    "   We train a NN for each log as the sequencial-autoencoder or the time-series forecaster. \n",
    "   When a model detects the anomaly, we unwind log back to find the records for the anomaly time and select the records with anomalous vectors. \n",
    "   \n",
    "Where `time_interval` can be [start_time, end_time] or just 'start_time' if we have predefined size of the time interval.\n",
    "\n",
    "Where `address` is one of this format:\n",
    "   - `point address` for the rows with the actor data. For example: service_namespace+service_name\n",
    "   - `source_to_dest address` for the rows with the connection data. It is effectively a concatenation of two point addresses. For example: source_namespace+source_name_aggr + dest_namespace+dest_name_aggr\n",
    "\n",
    "Where `vector` is a multidimentional vector with metrics. For example, [bytes_in, bytes_out, latency_mean, latency_max, packages_in, packages_out, number_of_process_restarts, number_of_connections]\n",
    "\n"
   ]
  },
  {
   "cell_type": "code",
   "execution_count": 1,
   "metadata": {
    "execution": {
     "iopub.execute_input": "2021-06-07T23:06:02.108029Z",
     "iopub.status.busy": "2021-06-07T23:06:02.107787Z",
     "iopub.status.idle": "2021-06-07T23:06:03.133990Z",
     "shell.execute_reply": "2021-06-07T23:06:03.131989Z",
     "shell.execute_reply.started": "2021-06-07T23:06:02.107974Z"
    }
   },
   "outputs": [
    {
     "data": {
      "text/plain": [
       "1"
      ]
     },
     "execution_count": 1,
     "metadata": {},
     "output_type": "execute_result"
    }
   ],
   "source": [
    "from datetime import datetime, timedelta\n",
    "import time\n",
    "\n",
    "t = datetime.utcnow()\n",
    "time.sleep(1)\n",
    "(datetime.utcnow() - t).seconds"
   ]
  },
  {
   "cell_type": "code",
   "execution_count": 17,
   "metadata": {
    "execution": {
     "iopub.execute_input": "2021-06-03T17:34:47.967240Z",
     "iopub.status.busy": "2021-06-03T17:34:47.967087Z",
     "iopub.status.idle": "2021-06-03T17:34:47.971449Z",
     "shell.execute_reply": "2021-06-03T17:34:47.970955Z",
     "shell.execute_reply.started": "2021-06-03T17:34:47.967223Z"
    }
   },
   "outputs": [
    {
     "data": {
      "text/plain": [
       "[[2, 3], [2, 3], [2, 3], [2, 3], [2, 3], [2, 3], [0, 5], [2, 3], [2, 3]]"
      ]
     },
     "execution_count": 17,
     "metadata": {},
     "output_type": "execute_result"
    }
   ],
   "source": [
    "# \n",
    "# # Given an array of integers `input` and another  integer `sum`.\n",
    "# # Return the pairs from input that sums to sum\n",
    "# # input = [5,3,4,2,1,0,7], sum = 5\n",
    "# # return = [[2,3],[4,1],[5,0]]\n",
    "\n",
    "from itertools import combinations\n",
    "\n",
    "input = [2,2,2,5,3,3,2,7,8,0] #[5,3,4,2,1,0,7]\n",
    "sum_target = 5\n",
    "\n",
    "([sorted(c) for c in combinations(input, 2) if sum(c) == sum_target])"
   ]
  },
  {
   "cell_type": "code",
   "execution_count": 13,
   "metadata": {
    "execution": {
     "iopub.execute_input": "2021-06-07T23:49:39.303455Z",
     "iopub.status.busy": "2021-06-07T23:49:39.303290Z",
     "iopub.status.idle": "2021-06-07T23:49:39.307183Z",
     "shell.execute_reply": "2021-06-07T23:49:39.306608Z",
     "shell.execute_reply.started": "2021-06-07T23:49:39.303438Z"
    }
   },
   "outputs": [
    {
     "data": {
      "text/plain": [
       "('2021-06-07T16:49:39.304120',\n",
       " datetime.datetime(2021, 6, 7, 16, 49, 39, 304124),\n",
       " datetime.datetime(2021, 6, 7, 16, 49, 4, 471477))"
      ]
     },
     "execution_count": 13,
     "metadata": {},
     "output_type": "execute_result"
    }
   ],
   "source": [
    "# 2021-03-20T16:51:23.644+01:00\n",
    "datetime.now().isoformat(), datetime.fromisoformat(datetime.now().isoformat()), datetime.fromisoformat('2021-06-07 16:49:04.471477Z')"
   ]
  },
  {
   "cell_type": "code",
   "execution_count": 9,
   "metadata": {
    "execution": {
     "iopub.execute_input": "2021-06-07T23:47:50.642488Z",
     "iopub.status.busy": "2021-06-07T23:47:50.642317Z",
     "iopub.status.idle": "2021-06-07T23:47:50.645705Z",
     "shell.execute_reply": "2021-06-07T23:47:50.645156Z",
     "shell.execute_reply.started": "2021-06-07T23:47:50.642466Z"
    }
   },
   "outputs": [
    {
     "data": {
      "text/plain": [
       "datetime.datetime(2021, 6, 7, 23, 47, 50, 643046)"
      ]
     },
     "execution_count": 9,
     "metadata": {},
     "output_type": "execute_result"
    }
   ],
   "source": [
    "datetime.now()"
   ]
  },
  {
   "cell_type": "code",
   "execution_count": 14,
   "metadata": {
    "execution": {
     "iopub.execute_input": "2021-06-07T23:50:42.291161Z",
     "iopub.status.busy": "2021-06-07T23:50:42.290993Z",
     "iopub.status.idle": "2021-06-07T23:50:42.294891Z",
     "shell.execute_reply": "2021-06-07T23:50:42.294244Z",
     "shell.execute_reply.started": "2021-06-07T23:50:42.291144Z"
    }
   },
   "outputs": [
    {
     "data": {
      "text/plain": [
       "True"
      ]
     },
     "execution_count": 14,
     "metadata": {},
     "output_type": "execute_result"
    }
   ],
   "source": [
    "'2021-06-07 16:49:04.471477Z'.endswith('Z')"
   ]
  },
  {
   "cell_type": "code",
   "execution_count": 16,
   "metadata": {
    "execution": {
     "iopub.execute_input": "2021-06-08T15:45:27.446401Z",
     "iopub.status.busy": "2021-06-08T15:45:27.446215Z",
     "iopub.status.idle": "2021-06-08T15:45:27.449513Z",
     "shell.execute_reply": "2021-06-08T15:45:27.449159Z",
     "shell.execute_reply.started": "2021-06-08T15:45:27.446385Z"
    }
   },
   "outputs": [
    {
     "data": {
      "text/plain": [
       "datetime.datetime(2021, 6, 8, 15, 39, 53, 191356)"
      ]
     },
     "execution_count": 16,
     "metadata": {},
     "output_type": "execute_result"
    }
   ],
   "source": [
    "s = \"2021-06-08T15:39:53.191356\"\n",
    "datetime.fromisoformat(s)"
   ]
  },
  {
   "cell_type": "code",
   "execution_count": 18,
   "metadata": {
    "execution": {
     "iopub.execute_input": "2021-06-08T16:47:31.679775Z",
     "iopub.status.busy": "2021-06-08T16:47:31.679594Z",
     "iopub.status.idle": "2021-06-08T16:47:32.690619Z",
     "shell.execute_reply": "2021-06-08T16:47:32.688425Z",
     "shell.execute_reply.started": "2021-06-08T16:47:31.679750Z"
    }
   },
   "outputs": [
    {
     "data": {
      "text/plain": [
       "1"
      ]
     },
     "execution_count": 18,
     "metadata": {},
     "output_type": "execute_result"
    }
   ],
   "source": [
    "ts = datetime.utcnow()\n",
    "time.sleep(1)\n",
    "ts_svc = datetime.utcnow()\n",
    "(ts_svc - ts).seconds"
   ]
  },
  {
   "cell_type": "code",
   "execution_count": 19,
   "metadata": {
    "execution": {
     "iopub.execute_input": "2021-06-08T16:48:35.173770Z",
     "iopub.status.busy": "2021-06-08T16:48:35.173323Z",
     "iopub.status.idle": "2021-06-08T16:48:35.188863Z",
     "shell.execute_reply": "2021-06-08T16:48:35.188049Z",
     "shell.execute_reply.started": "2021-06-08T16:48:35.173734Z"
    }
   },
   "outputs": [
    {
     "data": {
      "text/plain": [
       "23.99972222222222"
      ]
     },
     "execution_count": 19,
     "metadata": {},
     "output_type": "execute_result"
    }
   ],
   "source": [
    "86399 / 60 / 60"
   ]
  },
  {
   "cell_type": "code",
   "execution_count": 21,
   "metadata": {
    "execution": {
     "iopub.execute_input": "2021-06-08T16:58:53.201794Z",
     "iopub.status.busy": "2021-06-08T16:58:53.201591Z",
     "iopub.status.idle": "2021-06-08T16:58:53.209291Z",
     "shell.execute_reply": "2021-06-08T16:58:53.208517Z",
     "shell.execute_reply.started": "2021-06-08T16:58:53.201772Z"
    }
   },
   "outputs": [
    {
     "name": "stdout",
     "output_type": "stream",
     "text": [
      "{'service': 'anomaly_detection_service', 'utcnow': '2021-06-08T16:53:47.467571'} <class 'datetime.datetime'>\n",
      "2021-06-08 16:53:47.467571 <class 'datetime.datetime'>\n"
     ]
    },
    {
     "ename": "AttributeError",
     "evalue": "'datetime.datetime' object has no attribute 'seconds'",
     "output_type": "error",
     "traceback": [
      "\u001b[0;31m---------------------------------------------------------------------------\u001b[0m",
      "\u001b[0;31mAttributeError\u001b[0m                            Traceback (most recent call last)",
      "\u001b[0;32m<ipython-input-21-21219ec42d2f>\u001b[0m in \u001b[0;36m<module>\u001b[0;34m\u001b[0m\n\u001b[1;32m      5\u001b[0m \u001b[0mts_svc\u001b[0m \u001b[0;34m=\u001b[0m \u001b[0mdatetime\u001b[0m\u001b[0;34m.\u001b[0m\u001b[0mfromisoformat\u001b[0m\u001b[0;34m(\u001b[0m\u001b[0mrs\u001b[0m\u001b[0;34m[\u001b[0m\u001b[0;34m'utcnow'\u001b[0m\u001b[0;34m]\u001b[0m\u001b[0;34m)\u001b[0m\u001b[0;34m\u001b[0m\u001b[0;34m\u001b[0m\u001b[0m\n\u001b[1;32m      6\u001b[0m \u001b[0mprint\u001b[0m\u001b[0;34m(\u001b[0m\u001b[0mts_svc\u001b[0m\u001b[0;34m,\u001b[0m \u001b[0mtype\u001b[0m\u001b[0;34m(\u001b[0m\u001b[0mts_svc\u001b[0m\u001b[0;34m)\u001b[0m\u001b[0;34m)\u001b[0m\u001b[0;34m\u001b[0m\u001b[0;34m\u001b[0m\u001b[0m\n\u001b[0;32m----> 7\u001b[0;31m \u001b[0;32massert\u001b[0m \u001b[0mabs\u001b[0m\u001b[0;34m(\u001b[0m\u001b[0mts\u001b[0m\u001b[0;34m.\u001b[0m\u001b[0mseconds\u001b[0m \u001b[0;34m-\u001b[0m \u001b[0mts_svc\u001b[0m\u001b[0;34m.\u001b[0m\u001b[0mseconds\u001b[0m\u001b[0;34m)\u001b[0m \u001b[0;34m<\u001b[0m \u001b[0;36m2\u001b[0m\u001b[0;34m\u001b[0m\u001b[0;34m\u001b[0m\u001b[0m\n\u001b[0m",
      "\u001b[0;31mAttributeError\u001b[0m: 'datetime.datetime' object has no attribute 'seconds'"
     ]
    }
   ],
   "source": [
    "ts = datetime.utcnow()\n",
    "rs = {'service': 'anomaly_detection_service', 'utcnow': '2021-06-08T16:53:47.467571'}\n",
    "print(rs, type(ts))\n",
    "assert rs['service'] == \"anomaly_detection_service\"\n",
    "ts_svc = datetime.fromisoformat(rs['utcnow'])\n",
    "print(ts_svc, type(ts_svc))\n",
    "assert abs(ts.seconds - ts_svc.seconds) < 2\n"
   ]
  },
  {
   "cell_type": "code",
   "execution_count": 23,
   "metadata": {
    "execution": {
     "iopub.execute_input": "2021-06-08T16:59:24.091337Z",
     "iopub.status.busy": "2021-06-08T16:59:24.091102Z",
     "iopub.status.idle": "2021-06-08T16:59:24.097722Z",
     "shell.execute_reply": "2021-06-08T16:59:24.096146Z",
     "shell.execute_reply.started": "2021-06-08T16:59:24.091312Z"
    }
   },
   "outputs": [
    {
     "data": {
      "text/plain": [
       "24"
      ]
     },
     "execution_count": 23,
     "metadata": {},
     "output_type": "execute_result"
    }
   ],
   "source": [
    "ts = datetime.utcnow()\n",
    "ts.second"
   ]
  },
  {
   "cell_type": "code",
   "execution_count": 24,
   "metadata": {
    "execution": {
     "iopub.execute_input": "2021-06-08T17:00:17.504122Z",
     "iopub.status.busy": "2021-06-08T17:00:17.503838Z",
     "iopub.status.idle": "2021-06-08T17:00:17.510088Z",
     "shell.execute_reply": "2021-06-08T17:00:17.509374Z",
     "shell.execute_reply.started": "2021-06-08T17:00:17.504095Z"
    }
   },
   "outputs": [
    {
     "name": "stdout",
     "output_type": "stream",
     "text": [
      "{'service': 'anomaly_detection_service', 'utcnow': '2021-06-08T16:53:47.467571'} <class 'datetime.datetime'>\n"
     ]
    },
    {
     "data": {
      "text/plain": [
       "datetime.datetime(2021, 6, 8, 16, 53, 47, 467571)"
      ]
     },
     "execution_count": 24,
     "metadata": {},
     "output_type": "execute_result"
    }
   ],
   "source": [
    "rs = {'service': 'anomaly_detection_service', 'utcnow': '2021-06-08T16:53:47.467571'}\n",
    "print(rs, type(ts))\n",
    "assert rs['service'] == \"anomaly_detection_service\"\n",
    "ts_svc = datetime.fromisoformat(rs['utcnow'])\n",
    "ts_svc"
   ]
  },
  {
   "cell_type": "code",
   "execution_count": 25,
   "metadata": {
    "execution": {
     "iopub.execute_input": "2021-06-08T17:00:46.295448Z",
     "iopub.status.busy": "2021-06-08T17:00:46.295043Z",
     "iopub.status.idle": "2021-06-08T17:00:46.301557Z",
     "shell.execute_reply": "2021-06-08T17:00:46.300525Z",
     "shell.execute_reply.started": "2021-06-08T17:00:46.295394Z"
    }
   },
   "outputs": [
    {
     "data": {
      "text/plain": [
       "47"
      ]
     },
     "execution_count": 25,
     "metadata": {},
     "output_type": "execute_result"
    }
   ],
   "source": [
    "ts_svc.second"
   ]
  },
  {
   "cell_type": "code",
   "execution_count": 30,
   "metadata": {
    "execution": {
     "iopub.execute_input": "2021-06-08T20:55:26.695252Z",
     "iopub.status.busy": "2021-06-08T20:55:26.694989Z",
     "iopub.status.idle": "2021-06-08T20:55:26.699655Z",
     "shell.execute_reply": "2021-06-08T20:55:26.699064Z",
     "shell.execute_reply.started": "2021-06-08T20:55:26.695226Z"
    }
   },
   "outputs": [
    {
     "data": {
      "text/plain": [
       "{'asdf'}"
      ]
     },
     "execution_count": 30,
     "metadata": {},
     "output_type": "execute_result"
    }
   ],
   "source": [
    "samples = [{'asdf'}]\n",
    "sample = samples[0] if samples else {}\n",
    "sample"
   ]
  },
  {
   "cell_type": "code",
   "execution_count": 38,
   "metadata": {
    "execution": {
     "iopub.execute_input": "2021-06-10T16:05:54.373990Z",
     "iopub.status.busy": "2021-06-10T16:05:54.373683Z",
     "iopub.status.idle": "2021-06-10T16:05:54.379278Z",
     "shell.execute_reply": "2021-06-10T16:05:54.378613Z",
     "shell.execute_reply.started": "2021-06-10T16:05:54.373954Z"
    }
   },
   "outputs": [
    {
     "data": {
      "text/plain": [
       "'2021-06-08T16:05:54.375453'"
      ]
     },
     "execution_count": 38,
     "metadata": {},
     "output_type": "execute_result"
    }
   ],
   "source": [
    "from datetime import timedelta\n",
    "(datetime.utcnow() - timedelta(days=2)).isoformat()"
   ]
  },
  {
   "cell_type": "code",
   "execution_count": 42,
   "metadata": {
    "execution": {
     "iopub.execute_input": "2021-06-10T18:08:05.039528Z",
     "iopub.status.busy": "2021-06-10T18:08:05.039366Z",
     "iopub.status.idle": "2021-06-10T18:08:05.043100Z",
     "shell.execute_reply": "2021-06-10T18:08:05.042596Z",
     "shell.execute_reply.started": "2021-06-10T18:08:05.039511Z"
    }
   },
   "outputs": [
    {
     "name": "stdout",
     "output_type": "stream",
     "text": [
      "    Model sdfsdf saved into ../data/temp.model\n"
     ]
    }
   ],
   "source": [
    "import pickle\n",
    "\n",
    "file_name = '../data/temp.model'\n",
    "with open(file_name, 'wb') as f:\n",
    "    out = {'model': None, 'aggregators': None}\n",
    "    pickle.dump(out, f, pickle.HIGHEST_PROTOCOL)\n",
    "    print(f'    Model sdfsdf saved into {file_name}')"
   ]
  },
  {
   "cell_type": "code",
   "execution_count": 43,
   "metadata": {
    "execution": {
     "iopub.execute_input": "2021-06-10T18:10:38.964118Z",
     "iopub.status.busy": "2021-06-10T18:10:38.963942Z",
     "iopub.status.idle": "2021-06-10T18:10:38.977790Z",
     "shell.execute_reply": "2021-06-10T18:10:38.977102Z",
     "shell.execute_reply.started": "2021-06-10T18:10:38.964091Z"
    }
   },
   "outputs": [
    {
     "name": "stdout",
     "output_type": "stream",
     "text": [
      "    Model asdfa loaded from ../data/temp.model\n"
     ]
    },
    {
     "data": {
      "text/plain": [
       "{'model': None, 'aggregators': None}"
      ]
     },
     "execution_count": 43,
     "metadata": {},
     "output_type": "execute_result"
    }
   ],
   "source": [
    "with open(file_name, 'rb') as f:\n",
    "    out = pickle.load(f)\n",
    "    print(f'    Model asdfa loaded from {file_name}')\n",
    "#     return out\n",
    "out\n"
   ]
  },
  {
   "cell_type": "code",
   "execution_count": 46,
   "metadata": {
    "execution": {
     "iopub.execute_input": "2021-06-10T18:28:24.847449Z",
     "iopub.status.busy": "2021-06-10T18:28:24.847273Z",
     "iopub.status.idle": "2021-06-10T18:28:26.333189Z",
     "shell.execute_reply": "2021-06-10T18:28:26.332710Z",
     "shell.execute_reply.started": "2021-06-10T18:28:24.847431Z"
    }
   },
   "outputs": [
    {
     "name": "stderr",
     "output_type": "stream",
     "text": [
      "/home/leonid/miniconda3/lib/python3.8/site-packages/IPython/core/interactiveshell.py:3155: DtypeWarning: Columns (1,8) have mixed types.Specify dtype option on import or set low_memory=False.\n",
      "  has_raised = await self.run_ast_nodes(code_ast.body, cell_name,\n"
     ]
    }
   ],
   "source": [
    "fields = 'start_time source_name_aggr source_namespace dest_ip dest_port bytes_out dest_namespace dest_service_name bytes_in'.split()\n",
    "\n",
    "import pandas as pd\n",
    "\n",
    "file_in  = '../../anomaly_detection_jobs/data/flows.all_fields.manoj.248K.csv'\n",
    "file_out = '../../anomaly_detection_jobs/data/flows.test_dataset.csv'\n",
    "df = pd.read_csv (file_in)\n",
    "df[fields].to_csv(file_out, index=False)"
   ]
  },
  {
   "cell_type": "code",
   "execution_count": 47,
   "metadata": {
    "execution": {
     "iopub.execute_input": "2021-06-10T22:04:03.346870Z",
     "iopub.status.busy": "2021-06-10T22:04:03.346434Z",
     "iopub.status.idle": "2021-06-10T22:04:03.350670Z",
     "shell.execute_reply": "2021-06-10T22:04:03.350168Z",
     "shell.execute_reply.started": "2021-06-10T22:04:03.346845Z"
    }
   },
   "outputs": [
    {
     "data": {
      "text/plain": [
       "'2021-06-10T22:04:03.347606Z'"
      ]
     },
     "execution_count": 47,
     "metadata": {},
     "output_type": "execute_result"
    }
   ],
   "source": [
    "datetime.utcnow().isoformat() + 'Z'"
   ]
  },
  {
   "cell_type": "code",
   "execution_count": 92,
   "metadata": {
    "execution": {
     "iopub.execute_input": "2021-06-15T17:01:07.714725Z",
     "iopub.status.busy": "2021-06-15T17:01:07.714437Z",
     "iopub.status.idle": "2021-06-15T17:01:07.726027Z",
     "shell.execute_reply": "2021-06-15T17:01:07.724020Z",
     "shell.execute_reply.started": "2021-06-15T17:01:07.714693Z"
    }
   },
   "outputs": [
    {
     "data": {
      "text/plain": [
       "datetime.datetime(2021, 6, 15, 17, 1, 7, 716484)"
      ]
     },
     "execution_count": 92,
     "metadata": {},
     "output_type": "execute_result"
    }
   ],
   "source": [
    "datetime.utcnow()"
   ]
  },
  {
   "cell_type": "code",
   "execution_count": 58,
   "metadata": {
    "execution": {
     "iopub.execute_input": "2021-06-11T23:46:14.463111Z",
     "iopub.status.busy": "2021-06-11T23:46:14.462936Z",
     "iopub.status.idle": "2021-06-11T23:46:14.467154Z",
     "shell.execute_reply": "2021-06-11T23:46:14.466721Z",
     "shell.execute_reply.started": "2021-06-11T23:46:14.463095Z"
    }
   },
   "outputs": [
    {
     "data": {
      "text/plain": [
       "'adasdfs'"
      ]
     },
     "execution_count": 58,
     "metadata": {},
     "output_type": "execute_result"
    }
   ],
   "source": [
    "url = 'adasdfs.sdf'\n",
    "''.join([d for d in url.split('.')[:-1]])"
   ]
  },
  {
   "cell_type": "code",
   "execution_count": 75,
   "metadata": {
    "execution": {
     "iopub.execute_input": "2021-06-12T01:04:16.028770Z",
     "iopub.status.busy": "2021-06-12T01:04:16.028579Z",
     "iopub.status.idle": "2021-06-12T01:04:16.048248Z",
     "shell.execute_reply": "2021-06-12T01:04:16.047841Z",
     "shell.execute_reply.started": "2021-06-12T01:04:16.028750Z"
    }
   },
   "outputs": [
    {
     "name": "stdout",
     "output_type": "stream",
     "text": [
      "{\"start_time\": \"2021-03-22T16:28:51.565759887Z\", \"end_time\": \"2021-03-22T16:34:16.228614279Z\", \"type\": \"log\", \"count\": 324, \"client_name\": \"-\", \"client_name_aggr\": \"loadgenerator-5d4c9686fd-*\", \"client_namespace\": \"default\", \"client_ip\": NaN, \"servers\": \"[{'name': 'coredns-f9fd979d6-npsf7', 'name_aggr': 'coredns-f9fd979d6-*', 'namespace': 'kube-system', 'ip': '192.168.93.36'}, {'name': 'coredns-f9fd979d6-znjgn', 'name_aggr': 'coredns-f9fd979d6-*', 'namespace': 'kube-system', 'ip': '192.168.15.178'}]\", \"qname\": \"hiliudmivob.com\", \"qclass\": \"IN\", \"qtype\": \"A\", \"rcode\": \"NXDomain\", \"rrsets\": \"[{'name': 'frontend.default.svc.cluster.local', 'class': 'IN', 'type': 'A', 'rdata': ['10.106.193.125']}]\", \"latency_count\": 323, \"latency_mean\": 751987, \"latency_max\": 4905000, \"host\": \"leonid-bz-rezf-kadm-node-1\", \"anomaly\": 1}\n"
     ]
    }
   ],
   "source": [
    "import pandas as pd\n",
    "from collections import defaultdict\n",
    "import json\n",
    "\n",
    "def _prepare_url2samples(samples):\n",
    "    \"\"\"\n",
    "    It extracts urls from samples and saves correspondent samples\n",
    "    as {'url': [sample, ...]}.\n",
    "    NOTE: the same url can be presented in several samples.\n",
    "    \"\"\"\n",
    "\n",
    "    def filter_qname(s):\n",
    "        return (\n",
    "                s.endswith('.local')\n",
    "                or s.endswith('.internal')\n",
    "                or s.endswith('.svc')\n",
    "                or '.' not in s\n",
    "        )\n",
    "\n",
    "    def filter_sample(r):\n",
    "        \"\"\"\n",
    "        It returns qname or an empty string if the record filtered out.\n",
    "        \"\"\"\n",
    "        return r['qname'] if (\n",
    "                r['qtype'] == 'A'\n",
    "                and r['rcode'] == 'NXDomain'\n",
    "                and not filter_qname(r['qname'])\n",
    "        ) else \"\"\n",
    "\n",
    "    url2samples = defaultdict(list)\n",
    "    for s in samples:\n",
    "        url = filter_sample(s)\n",
    "        if url:\n",
    "            url2samples[url].append(s)\n",
    "    return url2samples\n",
    "\n",
    "file_in  = '../../anomaly_detection_jobs/data/dga.test_dataset.csv'\n",
    "samples = pd.read_csv (file_in).to_dict('records')\n",
    "url2samples = _prepare_url2samples(samples)\n",
    "len(samples), len(url2samples), list(url2samples.items())[0]\n",
    "json.dumps(samples[0])\n",
    "print(json.dumps(samples[0]))"
   ]
  },
  {
   "cell_type": "code",
   "execution_count": 76,
   "metadata": {
    "execution": {
     "iopub.execute_input": "2021-06-12T01:12:02.410028Z",
     "iopub.status.busy": "2021-06-12T01:12:02.409555Z",
     "iopub.status.idle": "2021-06-12T01:12:02.417539Z",
     "shell.execute_reply": "2021-06-12T01:12:02.416514Z",
     "shell.execute_reply.started": "2021-06-12T01:12:02.409983Z"
    }
   },
   "outputs": [
    {
     "data": {
      "text/plain": [
       "{'start_time': '2021-03-22T16:28:51.565759887Z',\n",
       " 'end_time': '2021-03-22T16:34:16.228614279Z',\n",
       " 'type': 'log',\n",
       " 'count': 324,\n",
       " 'client_name': '-',\n",
       " 'client_name_aggr': 'loadgenerator-5d4c9686fd-*',\n",
       " 'client_namespace': 'default',\n",
       " 'client_ip': nan,\n",
       " 'servers': \"[{'name': 'coredns-f9fd979d6-npsf7', 'name_aggr': 'coredns-f9fd979d6-*', 'namespace': 'kube-system', 'ip': '192.168.93.36'}, {'name': 'coredns-f9fd979d6-znjgn', 'name_aggr': 'coredns-f9fd979d6-*', 'namespace': 'kube-system', 'ip': '192.168.15.178'}]\",\n",
       " 'qname': 'hiliudmivob.com',\n",
       " 'qclass': 'IN',\n",
       " 'qtype': 'A',\n",
       " 'rcode': 'NXDomain',\n",
       " 'rrsets': \"[{'name': 'frontend.default.svc.cluster.local', 'class': 'IN', 'type': 'A', 'rdata': ['10.106.193.125']}]\",\n",
       " 'latency_count': 323,\n",
       " 'latency_mean': 751987,\n",
       " 'latency_max': 4905000,\n",
       " 'host': 'leonid-bz-rezf-kadm-node-1',\n",
       " 'anomaly': 1}"
      ]
     },
     "execution_count": 76,
     "metadata": {},
     "output_type": "execute_result"
    }
   ],
   "source": [
    "samples[0]"
   ]
  },
  {
   "cell_type": "code",
   "execution_count": 84,
   "metadata": {
    "execution": {
     "iopub.execute_input": "2021-06-12T01:18:57.976989Z",
     "iopub.status.busy": "2021-06-12T01:18:57.976687Z",
     "iopub.status.idle": "2021-06-12T01:18:57.990438Z",
     "shell.execute_reply": "2021-06-12T01:18:57.989989Z",
     "shell.execute_reply.started": "2021-06-12T01:18:57.976955Z"
    }
   },
   "outputs": [
    {
     "data": {
      "text/plain": [
       "{'start_time': '2021-03-22T16:28:51.565759887Z',\n",
       " 'end_time': '2021-03-22T16:34:16.228614279Z',\n",
       " 'type': 'log',\n",
       " 'count': 324,\n",
       " 'client_name': '-',\n",
       " 'client_name_aggr': 'loadgenerator-5d4c9686fd-*',\n",
       " 'client_namespace': 'default',\n",
       " 'client_ip': 0,\n",
       " 'servers': \"[{'name': 'coredns-f9fd979d6-npsf7', 'name_aggr': 'coredns-f9fd979d6-*', 'namespace': 'kube-system', 'ip': '192.168.93.36'}, {'name': 'coredns-f9fd979d6-znjgn', 'name_aggr': 'coredns-f9fd979d6-*', 'namespace': 'kube-system', 'ip': '192.168.15.178'}]\",\n",
       " 'qname': 'hiliudmivob.com',\n",
       " 'qclass': 'IN',\n",
       " 'qtype': 'A',\n",
       " 'rcode': 'NXDomain',\n",
       " 'rrsets': \"[{'name': 'frontend.default.svc.cluster.local', 'class': 'IN', 'type': 'A', 'rdata': ['10.106.193.125']}]\",\n",
       " 'latency_count': 323,\n",
       " 'latency_mean': 751987,\n",
       " 'latency_max': 4905000,\n",
       " 'host': 'leonid-bz-rezf-kadm-node-1',\n",
       " 'anomaly': 1}"
      ]
     },
     "execution_count": 84,
     "metadata": {},
     "output_type": "execute_result"
    }
   ],
   "source": [
    "import numpy as np\n",
    "import math\n",
    "\n",
    "s = {}\n",
    "for k, v in samples[0].items():\n",
    "    s[k] = 0 if v != v else v\n",
    "s\n"
   ]
  },
  {
   "cell_type": "code",
   "execution_count": 66,
   "metadata": {
    "execution": {
     "iopub.execute_input": "2021-06-12T00:18:10.125512Z",
     "iopub.status.busy": "2021-06-12T00:18:10.125164Z",
     "iopub.status.idle": "2021-06-12T00:18:10.139778Z",
     "shell.execute_reply": "2021-06-12T00:18:10.139089Z",
     "shell.execute_reply.started": "2021-06-12T00:18:10.125473Z"
    }
   },
   "outputs": [],
   "source": [
    "def _baseline_detection(urls):\n",
    "    \"\"\"\n",
    "    returns:: anomalies: a list of URLs that detected as anomalies with an anomaly score.\n",
    "    An example: [{'url': 'k3hh881t1t1t1.co', 'score': 0.945}, ...]\n",
    "    It can be an empty list if no URL marked as anomalies.\n",
    "    \"\"\"\n",
    "    if not urls: return []\n",
    "    anomalies, suspicious_domains = [], []\n",
    "    for url in urls:\n",
    "        try:\n",
    "            url = str(url)\n",
    "            domain = ''.join([d for d in url.split('.')[:-1]])\n",
    "            if len(domain) > 6:\n",
    "                suspicious_domains.append({'url': url, 'domain': domain})\n",
    "        except:\n",
    "            print('*****', url)\n",
    "    anomalies = [\n",
    "        {\n",
    "            'url': s_d['url'],\n",
    "            'score': 0.6, #self._baseline_model.predict_proba(list(self._extract_features(s_d['domain']).values()))[0]\n",
    "        }\n",
    "        for s_d in suspicious_domains\n",
    "    ]\n",
    "    anomalies = [a for a in anomalies if a['score'] >= 0.5]\n",
    "    return anomalies\n",
    "\n",
    "anomalies = _baseline_detection(list(url2samples.keys()))"
   ]
  },
  {
   "cell_type": "code",
   "execution_count": 68,
   "metadata": {
    "collapsed": true,
    "execution": {
     "iopub.execute_input": "2021-06-12T00:18:46.993939Z",
     "iopub.status.busy": "2021-06-12T00:18:46.993673Z",
     "iopub.status.idle": "2021-06-12T00:18:47.019068Z",
     "shell.execute_reply": "2021-06-12T00:18:47.018549Z",
     "shell.execute_reply.started": "2021-06-12T00:18:46.993911Z"
    },
    "jupyter": {
     "outputs_hidden": true
    }
   },
   "outputs": [
    {
     "data": {
      "text/plain": [
       "(311,\n",
       " [{'url': 'hiliudmivob.com', 'score': 0.6},\n",
       "  {'url': 'canqupkokq.kz', 'score': 0.6},\n",
       "  {'url': 'gtwkyqffqf.com', 'score': 0.6},\n",
       "  {'url': 'tsvynvcjmvim.net', 'score': 0.6},\n",
       "  {'url': 'tetuoaxaz.com', 'score': 0.6},\n",
       "  {'url': 'storeanimal.net', 'score': 0.6},\n",
       "  {'url': 'qeeuyafay.mobi', 'score': 0.6},\n",
       "  {'url': 'wrsumcletaoljrfdibqp.com', 'score': 0.6},\n",
       "  {'url': 'vauxsauax.name', 'score': 0.6},\n",
       "  {'url': 'ydktitgvkx.com', 'score': 0.6},\n",
       "  {'url': 'qfuimmxxpocc.ru', 'score': 0.6},\n",
       "  {'url': 'eiggwjfbr.dynserv.com', 'score': 0.6},\n",
       "  {'url': 'qairoapad.biz', 'score': 0.6},\n",
       "  {'url': 'fangugrirdud.kz', 'score': 0.6},\n",
       "  {'url': 'lhchjvfrakhnwefifefy.com', 'score': 0.6},\n",
       "  {'url': 'srbodroid.com', 'score': 0.6},\n",
       "  {'url': 'qoqsuxhagirm.kz', 'score': 0.6},\n",
       "  {'url': 'vuvedyjm.com', 'score': 0.6},\n",
       "  {'url': 'ojhowgnuowcyrwylqsjs.com', 'score': 0.6},\n",
       "  {'url': 'epahqbyx.com', 'score': 0.6},\n",
       "  {'url': 'awuzhaeaj.org', 'score': 0.6},\n",
       "  {'url': 'tmpjnpbqviyt.info', 'score': 0.6},\n",
       "  {'url': 'dilfoweiga.kz', 'score': 0.6},\n",
       "  {'url': 'egwrvzwy.eu', 'score': 0.6},\n",
       "  {'url': 'devinformarti.blogspot.it', 'score': 0.6},\n",
       "  {'url': 'qnqgwlgpy.biz', 'score': 0.6},\n",
       "  {'url': 'nafcowanceof.kz', 'score': 0.6},\n",
       "  {'url': 'icnfestnessbiophysicalohax.com', 'score': 0.6},\n",
       "  {'url': 'pujyjil.com', 'score': 0.6},\n",
       "  {'url': 'jidlijhbpsglrblvy.tw', 'score': 0.6},\n",
       "  {'url': 'xirtulasseov.kz', 'score': 0.6},\n",
       "  {'url': 'ckfrzitlm.dynserv.com', 'score': 0.6},\n",
       "  {'url': 'rqmmhmnswh.org', 'score': 0.6},\n",
       "  {'url': 'vowydekataqeg.com', 'score': 0.6},\n",
       "  {'url': 'm4klcok53w2z.com', 'score': 0.6},\n",
       "  {'url': 'eqipnardbgryojhlldfg.com', 'score': 0.6},\n",
       "  {'url': 'nokhilpeifea.kz', 'score': 0.6},\n",
       "  {'url': 'camersenat.info', 'score': 0.6},\n",
       "  {'url': 'risagiocbudoic.com', 'score': 0.6},\n",
       "  {'url': 'ratjeimotu.kz', 'score': 0.6},\n",
       "  {'url': 'xkleduzchu.com', 'score': 0.6},\n",
       "  {'url': 'penitvesecundumsecurus.com', 'score': 0.6},\n",
       "  {'url': 'mariiapat.net', 'score': 0.6},\n",
       "  {'url': 'hebalaaad.info', 'score': 0.6},\n",
       "  {'url': 'ec7590bd3d908.hosting', 'score': 0.6},\n",
       "  {'url': 'efcjcnyoyelfnsqidvgi.com', 'score': 0.6},\n",
       "  {'url': 'iyjgaqjf.co', 'score': 0.6},\n",
       "  {'url': 'lxykstaqsviqeckosojk.com', 'score': 0.6},\n",
       "  {'url': 'akaqemuwekag.com', 'score': 0.6},\n",
       "  {'url': 'd10etnvpxm39fsc39asd40o51pymvk27d60ezbt.ru', 'score': 0.6},\n",
       "  {'url': 'ubnxsbcspmsl.org', 'score': 0.6},\n",
       "  {'url': 'dyrjxxux.com', 'score': 0.6},\n",
       "  {'url': 'rouhbaiab.biz', 'score': 0.6},\n",
       "  {'url': 'oxqnqlobc.org', 'score': 0.6},\n",
       "  {'url': 'vacancies-pushed.me', 'score': 0.6},\n",
       "  {'url': 'eqo11pvj36h14p12p22itjsnzg13bqjtn30k67cw.org', 'score': 0.6},\n",
       "  {'url': 'obiwuxipqa.com', 'score': 0.6},\n",
       "  {'url': 'liducafse.kz', 'score': 0.6},\n",
       "  {'url': 'mygrupointernet.com', 'score': 0.6},\n",
       "  {'url': '45ca046e3d8f6.hosting', 'score': 0.6},\n",
       "  {'url': 'n10hwf12lqgyjyg53k67dqktpsezm59j56aua47.org', 'score': 0.6},\n",
       "  {'url': 'fszunkxwxmn.com', 'score': 0.6},\n",
       "  {'url': 'ijzoeafay.us', 'score': 0.6},\n",
       "  {'url': 'goroklatm.kz', 'score': 0.6},\n",
       "  {'url': 'hlyzharvzjbgofffyoy.org', 'score': 0.6},\n",
       "  {'url': 'canafralava.kz', 'score': 0.6},\n",
       "  {'url': 'qajuxqeot.kz', 'score': 0.6},\n",
       "  {'url': 'mlcjyfgjc.com', 'score': 0.6},\n",
       "  {'url': 'suddenbeyond.net', 'score': 0.6},\n",
       "  {'url': 'domacica.com.hr', 'score': 0.6},\n",
       "  {'url': 'jzhun20pvotbwirfvh34o41ptbviqd30jtf52.biz', 'score': 0.6},\n",
       "  {'url': 'hearthandvine.com', 'score': 0.6},\n",
       "  {'url': 'adsuiapak.info', 'score': 0.6},\n",
       "  {'url': 'gzcsd20n50orpzp22hsgtitpyathqi35ivd50.com', 'score': 0.6},\n",
       "  {'url': 'cafebody.com', 'score': 0.6},\n",
       "  {'url': 'gahyvohefa.com', 'score': 0.6},\n",
       "  {'url': 'mdexmde5otka.info', 'score': 0.6},\n",
       "  {'url': 'lgyaxjekxju.mn', 'score': 0.6},\n",
       "  {'url': 'markfischbach.co.vu', 'score': 0.6},\n",
       "  {'url': 'pjfhzmjxjenzmgcedtbhqdf.org', 'score': 0.6},\n",
       "  {'url': 'vcgzijcvr.eu', 'score': 0.6},\n",
       "  {'url': 'ihuzcrofejm.com', 'score': 0.6},\n",
       "  {'url': 'vyserzlsuccojqwevyvqkdv.biz', 'score': 0.6},\n",
       "  {'url': 'xawoxirxica.kz', 'score': 0.6},\n",
       "  {'url': 'egchttjuqsmho.info', 'score': 0.6},\n",
       "  {'url': 'txnqdhkgwu.info', 'score': 0.6},\n",
       "  {'url': 'gwisejwyjj.com', 'score': 0.6},\n",
       "  {'url': 'ceimupfox.kz', 'score': 0.6},\n",
       "  {'url': 'ifasdufubehoi.com', 'score': 0.6},\n",
       "  {'url': 'closesettle.net', 'score': 0.6},\n",
       "  {'url': 'lqi35brd40mqeto61m69eyexh34nydzazizhs.org', 'score': 0.6},\n",
       "  {'url': 'mdcxmde5otga.org', 'score': 0.6},\n",
       "  {'url': 'yrwutaubsntyovddoeda.com', 'score': 0.6},\n",
       "  {'url': 'tapapslcv.com', 'score': 0.6},\n",
       "  {'url': 'ecfinosiiffaatm.com', 'score': 0.6},\n",
       "  {'url': 'hhvdurw.co', 'score': 0.6},\n",
       "  {'url': 'udusmaqiwtrgdyemq.org', 'score': 0.6},\n",
       "  {'url': 'nnjodyyjbrnp.net', 'score': 0.6},\n",
       "  {'url': 'kak-nay4utc9.ru', 'score': 0.6},\n",
       "  {'url': 'xwswkgpyvg.net', 'score': 0.6},\n",
       "  {'url': 'popclck.net', 'score': 0.6},\n",
       "  {'url': 'voirlemonde.com', 'score': 0.6},\n",
       "  {'url': 'myeoiggoweig.org', 'score': 0.6},\n",
       "  {'url': 'prmqppapwh.in', 'score': 0.6},\n",
       "  {'url': 'nurirufebw.info', 'score': 0.6},\n",
       "  {'url': 'cuore-shop.jp', 'score': 0.6},\n",
       "  {'url': 'gudolawanmo.kz', 'score': 0.6},\n",
       "  {'url': 'lfycoftm.se', 'score': 0.6},\n",
       "  {'url': 'unpebehihuahf.com', 'score': 0.6},\n",
       "  {'url': 'yqfgsyvfsy.biz', 'score': 0.6},\n",
       "  {'url': 'poqkjkvpxigszuo.com', 'score': 0.6},\n",
       "  {'url': 'phimbitkczr.info', 'score': 0.6},\n",
       "  {'url': 'catalogcars.net', 'score': 0.6},\n",
       "  {'url': 'p52axoyc49n50ivm39jzgzhzaxi15f62eri35g63.biz', 'score': 0.6},\n",
       "  {'url': 'mwm0mse4ikmg.org', 'score': 0.6},\n",
       "  {'url': 'pupypavamo.com', 'score': 0.6},\n",
       "  {'url': 'pqbyrap.com', 'score': 0.6},\n",
       "  {'url': 'glsxmpyxot.org', 'score': 0.6},\n",
       "  {'url': 'piqeoneonov.kz', 'score': 0.6},\n",
       "  {'url': 'uwfoaaqat.info', 'score': 0.6},\n",
       "  {'url': 'auyknfbjbodh.biz', 'score': 0.6},\n",
       "  {'url': 'eb4e4d2e0dd70.feedback', 'score': 0.6},\n",
       "  {'url': 'qaejbaeac.me', 'score': 0.6},\n",
       "  {'url': 'cecaaafam.info', 'score': 0.6},\n",
       "  {'url': 'qqaphzl.org', 'score': 0.6},\n",
       "  {'url': 'nrwyuudbmtabpmfpugjh.com', 'score': 0.6},\n",
       "  {'url': 'infosysworld.com', 'score': 0.6},\n",
       "  {'url': 'ny27vyxare6kvshw.com', 'score': 0.6},\n",
       "  {'url': 'f32kuhvosoqoqorgxf52axc19mvl28exgqeq.biz', 'score': 0.6},\n",
       "  {'url': 'usehelp.org', 'score': 0.6},\n",
       "  {'url': '48bb5bd69b926.feedback', 'score': 0.6},\n",
       "  {'url': 'anrunsm.tmall.com', 'score': 0.6},\n",
       "  {'url': 'qekynyle.com', 'score': 0.6},\n",
       "  {'url': 'rogoonib.com', 'score': 0.6},\n",
       "  {'url': 'vroeudolmlkc.ru', 'score': 0.6},\n",
       "  {'url': 'vzjyhiomb.org', 'score': 0.6},\n",
       "  {'url': 'e61a5fcc6a605.blackfriday', 'score': 0.6},\n",
       "  {'url': 'wnruunscscck.pw', 'score': 0.6},\n",
       "  {'url': 'grosnor.com', 'score': 0.6},\n",
       "  {'url': 'f52i55jwhrh64bql28a27owi35d30ftj46n30i55pw.com', 'score': 0.6},\n",
       "  {'url': 'ejmaxauaw.name', 'score': 0.6},\n",
       "  {'url': 'mjiwmte5otya.com', 'score': 0.6},\n",
       "  {'url': 'guoweazal.mobi', 'score': 0.6},\n",
       "  {'url': 'aiehvuxibzqksnlbji.info', 'score': 0.6},\n",
       "  {'url': 'gpkjapmhcfe.com', 'score': 0.6},\n",
       "  {'url': 'fpjdgcgqucx.info', 'score': 0.6},\n",
       "  {'url': 'e41n10c69ksd30l68c69gqn30h64lqc49lxetl18ju.biz', 'score': 0.6},\n",
       "  {'url': 'oapwuhlrmsgemquqlptp.com', 'score': 0.6},\n",
       "  {'url': 'c175283a97737.blackfriday', 'score': 0.6},\n",
       "  {'url': 'gmsqgcaqakok.org', 'score': 0.6},\n",
       "  {'url': 'veadatmafga.kz', 'score': 0.6},\n",
       "  {'url': 'gacynob.com', 'score': 0.6},\n",
       "  {'url': 'knigarekordovrossii.ru', 'score': 0.6},\n",
       "  {'url': 'ifkuveavof.com', 'score': 0.6},\n",
       "  {'url': 'keisicqea.kz', 'score': 0.6},\n",
       "  {'url': 'mzewntiwmtca.net', 'score': 0.6},\n",
       "  {'url': '4c63fd6ab380c.feedback', 'score': 0.6},\n",
       "  {'url': 'jnkltvlkimgy.com', 'score': 0.6},\n",
       "  {'url': 'pendercountync.gov', 'score': 0.6},\n",
       "  {'url': 'mqprn10gvc69bre41l28f62btmzeyi45guiyfv.info', 'score': 0.6},\n",
       "  {'url': 'coxuheico.kz', 'score': 0.6},\n",
       "  {'url': 'qebyqiqika.com', 'score': 0.6},\n",
       "  {'url': 'namoiaxab.mobi', 'score': 0.6},\n",
       "  {'url': 'ecfodaeav.name', 'score': 0.6},\n",
       "  {'url': 'doalfazjrqfrpcejdzfajd.net', 'score': 0.6},\n",
       "  {'url': 'c39e51ivi45ltmrjrdsh34oxltmxa27j36g43jz.org', 'score': 0.6},\n",
       "  {'url': '8ZqRxW4OtF.com', 'score': 0.6},\n",
       "  {'url': 'iagsqllw.org', 'score': 0.6},\n",
       "  {'url': 'thetravelmedley.com', 'score': 0.6},\n",
       "  {'url': 'dvg43h44l18j46iubyorhso41kydzhvfzgzit.net', 'score': 0.6},\n",
       "  {'url': 'qxobqjqze.com', 'score': 0.6},\n",
       "  {'url': 'veanoatak.mobi', 'score': 0.6},\n",
       "  {'url': 'd30osgqk57kqeweykunymzaqi55o51l28kzas.net', 'score': 0.6},\n",
       "  {'url': 'fodikuvuc.kz', 'score': 0.6},\n",
       "  {'url': 'loxizmzulo.com', 'score': 0.6},\n",
       "  {'url': 'jalopilqoqf.kz', 'score': 0.6},\n",
       "  {'url': 'inhuuavam.info', 'score': 0.6},\n",
       "  {'url': 'zcfqyouupmewphrub.net', 'score': 0.6},\n",
       "  {'url': 'f12euc39isl18l28l58k27p62gzf62h34jtf32i55m29.info', 'score': 0.6},\n",
       "  {'url': 'd39aa9cb63c2c.blackfriday', 'score': 0.6},\n",
       "  {'url': 'yxdqmqnmwavs.cc', 'score': 0.6},\n",
       "  {'url': '52MMuFZr0D.com', 'score': 0.6},\n",
       "  {'url': 'e2u0qda8wty83vw.com', 'score': 0.6},\n",
       "  {'url': 'alavbihe.com', 'score': 0.6},\n",
       "  {'url': 'nozafkzcxmz.com', 'score': 0.6},\n",
       "  {'url': 'b0cd73448c3e7.org', 'score': 0.6},\n",
       "  {'url': 'fcredwb.com', 'score': 0.6},\n",
       "  {'url': 'd10b28dzbravgvh44l38j56h64c59aseukzp12d20.info', 'score': 0.6},\n",
       "  {'url': 'jeineideaxug.kz', 'score': 0.6},\n",
       "  {'url': '62f7f45ace1dc.feedback', 'score': 0.6},\n",
       "  {'url': 'dcbedcdafdlaocfb.online', 'score': 0.6},\n",
       "  {'url': 'pqg53awp62fvcwjul48o61kua47ktd40ewktks.info', 'score': 0.6},\n",
       "  {'url': 'fnnejftudirbxmzcjhitbrg.biz', 'score': 0.6},\n",
       "  {'url': 'wgrdhjyepf.info', 'score': 0.6},\n",
       "  {'url': 'j36pwd10crbzb28k57jzmrczlsl18j16i25h44ns.com', 'score': 0.6},\n",
       "  {'url': 'sojeacuptaf.kz', 'score': 0.6},\n",
       "  {'url': 'dynejofipe.com', 'score': 0.6},\n",
       "  {'url': 'c68a8ucuk6ka.top', 'score': 0.6},\n",
       "  {'url': 'hcycenpnrdcsexvn.com', 'score': 0.6},\n",
       "  {'url': 'xoroweahu.kz', 'score': 0.6},\n",
       "  {'url': '6oVFAwgaGo.com', 'score': 0.6},\n",
       "  {'url': 'sd3fsbefcl5fa6i.com', 'score': 0.6},\n",
       "  {'url': 'eeoxiivyysdu.biz', 'score': 0.6},\n",
       "  {'url': 'dsecudbjajntxuj.org', 'score': 0.6},\n",
       "  {'url': 'tqmftpdyfuov.ru', 'score': 0.6},\n",
       "  {'url': 'tirmjuvg.com', 'score': 0.6},\n",
       "  {'url': 'minatjanster.nu', 'score': 0.6},\n",
       "  {'url': 'irudpaebtaedi.com', 'score': 0.6},\n",
       "  {'url': 'wufilpeim.kz', 'score': 0.6},\n",
       "  {'url': 'hqe11d30otivaxjwo11eroyardwmup32g43dq.com', 'score': 0.6},\n",
       "  {'url': 'qeqynul.com', 'score': 0.6},\n",
       "  {'url': 'funefmzcjsl.com', 'score': 0.6},\n",
       "  {'url': '2dbf610a3393e.tickets', 'score': 0.6},\n",
       "  {'url': 'mulvaoby.name', 'score': 0.6},\n",
       "  {'url': 'magtudin.org', 'score': 0.6},\n",
       "  {'url': 'nzngvrtoxeezvfwecqt.com', 'score': 0.6},\n",
       "  {'url': 'ilsoveguobke.com', 'score': 0.6},\n",
       "  {'url': 'heawotoro.kz', 'score': 0.6},\n",
       "  {'url': 'iyjlpytldikkckyytmnjw.org', 'score': 0.6},\n",
       "  {'url': 'iffodauac.org', 'score': 0.6},\n",
       "  {'url': 'besidenearly.net', 'score': 0.6},\n",
       "  {'url': 'actualmx.com', 'score': 0.6},\n",
       "  {'url': 'kua37m39a37k37p22bsb48nunyb18f12i65ercvmt.net', 'score': 0.6},\n",
       "  {'url': 'vddfofscmliqvyhbt.com', 'score': 0.6},\n",
       "  {'url': 'peuipapaj.us', 'score': 0.6},\n",
       "  {'url': 'efolgtqtw.org', 'score': 0.6},\n",
       "  {'url': 'xtuqdfijiqii.net', 'score': 0.6},\n",
       "  {'url': 'lexrofhs.net', 'score': 0.6},\n",
       "  {'url': 'lyyhbmowzrrdmkimpiktk.com', 'score': 0.6},\n",
       "  {'url': 'evursxc.com', 'score': 0.6},\n",
       "  {'url': 'd5a906bb01b48.hosting', 'score': 0.6},\n",
       "  {'url': 'unegoguwdohikud.com', 'score': 0.6},\n",
       "  {'url': 'dspfiknde.com', 'score': 0.6},\n",
       "  {'url': 'btttfalczq.com', 'score': 0.6},\n",
       "  {'url': 'jaiisapap.net', 'score': 0.6},\n",
       "  {'url': 'qydnsfzd.co', 'score': 0.6},\n",
       "  {'url': 'nwxsckvhhzseilw.biz', 'score': 0.6},\n",
       "  {'url': 'frfucqluowbrg23bxa67g43p22cxjycvg43bx.com', 'score': 0.6},\n",
       "  {'url': 'fresh-sex-boys.com', 'score': 0.6},\n",
       "  {'url': 'eqriuapal.info', 'score': 0.6},\n",
       "  {'url': 'ciabrauat.name', 'score': 0.6},\n",
       "  {'url': 'k67b48msdsb38fvb48ivjwi15d40crh24hqd40aw.com', 'score': 0.6},\n",
       "  {'url': 'vcekmytcvqlnpvlyim.org', 'score': 0.6},\n",
       "  {'url': 'iqh64hug23kxpqkwbsfxaye51awe21p52gxh34.com', 'score': 0.6},\n",
       "  {'url': 'owexatf22kwixgtm19oqgvirjumvg63hqdw.com', 'score': 0.6},\n",
       "  {'url': 'daidbigo.com', 'score': 0.6},\n",
       "  {'url': 'leaneadug.kz', 'score': 0.6},\n",
       "  {'url': 'rgsgngsskjix.org', 'score': 0.6},\n",
       "  {'url': 'kiaavazas.org', 'score': 0.6},\n",
       "  {'url': 'b059720ee61f2.hosting', 'score': 0.6},\n",
       "  {'url': 'bmzcpfsghybubiqrk.com', 'score': 0.6},\n",
       "  {'url': 'ugeiomh3obax1.net', 'score': 0.6},\n",
       "  {'url': '9f4a2fa365e3c.blackfriday', 'score': 0.6},\n",
       "  {'url': 'imqicaefotir.com', 'score': 0.6},\n",
       "  {'url': 'boihost.com', 'score': 0.6},\n",
       "  {'url': 'wfrtippq.com', 'score': 0.6},\n",
       "  {'url': 'j36osjvp52hve51l48etg33fvgxp42o21frlqau.info', 'score': 0.6},\n",
       "  {'url': 'uhevbuiqedov.com', 'score': 0.6},\n",
       "  {'url': 'mhogklo.org', 'score': 0.6},\n",
       "  {'url': 'dillijifei.kz', 'score': 0.6},\n",
       "  {'url': '830ad9782650b.feedback', 'score': 0.6},\n",
       "  {'url': 'france-pharmacies.fr', 'score': 0.6},\n",
       "  {'url': '0p7ef101nb0`310hdv82x0phwlbu.com', 'score': 0.6},\n",
       "  {'url': 'drbfkcgihmdo.club', 'score': 0.6},\n",
       "  {'url': 'jsn40pqdwdzergtixowjymuhvm19e51n10e51.ru', 'score': 0.6},\n",
       "  {'url': 'beautybyzara.com', 'score': 0.6},\n",
       "  {'url': 'cbgfmlsrwgwt.com', 'score': 0.6},\n",
       "  {'url': 'psgim.ac.in', 'score': 0.6},\n",
       "  {'url': 'qaadbauac.mobi', 'score': 0.6},\n",
       "  {'url': 'ihroaahaz.info', 'score': 0.6},\n",
       "  {'url': 'qgyygggsymiy.org', 'score': 0.6},\n",
       "  {'url': 'siruqagiep.com', 'score': 0.6},\n",
       "  {'url': 'ggnjtowkumwd.in', 'score': 0.6},\n",
       "  {'url': 'cbkwxvvrhhksndjkmqiv.com', 'score': 0.6},\n",
       "  {'url': 'noayiajaw.me', 'score': 0.6},\n",
       "  {'url': 'ntkiuwgawpnnsgios.su', 'score': 0.6},\n",
       "  {'url': 'xoejxaaax.net', 'score': 0.6},\n",
       "  {'url': 'bdtehiobcbeegolbw.in', 'score': 0.6},\n",
       "  {'url': 'agicxiojgmtqaopijrzcxelv.org', 'score': 0.6},\n",
       "  {'url': 'hexelaiaw.us', 'score': 0.6},\n",
       "  {'url': 'mtewmtiwmtka.com', 'score': 0.6},\n",
       "  {'url': 'gqsysaoqwug6.net', 'score': 0.6},\n",
       "  {'url': 'kzmuoxmudsgwnuevo51f52j66hzd60pqlunz.ru', 'score': 0.6},\n",
       "  {'url': 'reosuxfupc.kz', 'score': 0.6},\n",
       "  {'url': 'keomisavuk.kz', 'score': 0.6},\n",
       "  {'url': 'lhlwjid.net', 'score': 0.6},\n",
       "  {'url': 'ooohsonmtgjn.ru', 'score': 0.6},\n",
       "  {'url': 'kAQ4GB5XB6.com', 'score': 0.6},\n",
       "  {'url': 'sdgdyzod.com', 'score': 0.6},\n",
       "  {'url': 'hokwupnean.kz', 'score': 0.6},\n",
       "  {'url': 'xjqnpmglsze.mooo.com', 'score': 0.6},\n",
       "  {'url': 'legibuspepetrus.com', 'score': 0.6},\n",
       "  {'url': 'cqbwrpqrhfctoxreaujb.com', 'score': 0.6},\n",
       "  {'url': 'xoqwodathivo.kz', 'score': 0.6},\n",
       "  {'url': 'volybymuto.com', 'score': 0.6},\n",
       "  {'url': 'dftcmhovdapnkxjmxekj.com', 'score': 0.6},\n",
       "  {'url': 'sedameybod.ir', 'score': 0.6},\n",
       "  {'url': 'nvp32grmqmxh54brnwjyjsgxf22krlrdwar.com', 'score': 0.6},\n",
       "  {'url': 'grpbrrojfa.com', 'score': 0.6},\n",
       "  {'url': 'bfljestnessbiophysicalohax.com', 'score': 0.6},\n",
       "  {'url': 'dergachev.ru', 'score': 0.6},\n",
       "  {'url': 'romanticmechanical.net', 'score': 0.6},\n",
       "  {'url': '240c76a2ec004.hosting', 'score': 0.6},\n",
       "  {'url': 'qmrxbdaxbbpevqri.biz', 'score': 0.6},\n",
       "  {'url': 'ebcgptulcllk.com', 'score': 0.6},\n",
       "  {'url': 'charliechaplinx.se', 'score': 0.6},\n",
       "  {'url': 'nebraskahistory.org', 'score': 0.6},\n",
       "  {'url': 'tradeborrow.net', 'score': 0.6},\n",
       "  {'url': 'qxfxflq.eu', 'score': 0.6},\n",
       "  {'url': 'uhlekhjnfpzvqvprjecnczjzr.org', 'score': 0.6},\n",
       "  {'url': 'b9a1307c85cff.blackfriday', 'score': 0.6}])"
      ]
     },
     "execution_count": 68,
     "metadata": {},
     "output_type": "execute_result"
    }
   ],
   "source": [
    "len(anomalies), anomalies"
   ]
  },
  {
   "cell_type": "code",
   "execution_count": 89,
   "metadata": {
    "execution": {
     "iopub.execute_input": "2021-06-14T21:11:40.418207Z",
     "iopub.status.busy": "2021-06-14T21:11:40.418024Z",
     "iopub.status.idle": "2021-06-14T21:11:40.421615Z",
     "shell.execute_reply": "2021-06-14T21:11:40.421169Z",
     "shell.execute_reply.started": "2021-06-14T21:11:40.418189Z"
    }
   },
   "outputs": [
    {
     "data": {
      "text/plain": [
       "('tst', (None,))"
      ]
     },
     "execution_count": 89,
     "metadata": {},
     "output_type": "execute_result"
    }
   ],
   "source": [
    "import os\n",
    "\n",
    "v = 'tst'\n",
    "val = os.getenv(v, None),\n",
    "v, val"
   ]
  },
  {
   "cell_type": "code",
   "execution_count": 91,
   "metadata": {
    "execution": {
     "iopub.execute_input": "2021-06-14T21:13:30.733675Z",
     "iopub.status.busy": "2021-06-14T21:13:30.733341Z",
     "iopub.status.idle": "2021-06-14T21:13:30.739983Z",
     "shell.execute_reply": "2021-06-14T21:13:30.738984Z",
     "shell.execute_reply.started": "2021-06-14T21:13:30.733635Z"
    }
   },
   "outputs": [
    {
     "data": {
      "text/plain": [
       "'1'"
      ]
     },
     "execution_count": 91,
     "metadata": {},
     "output_type": "execute_result"
    }
   ],
   "source": [
    "os.environ[v] = \"1\"\n",
    "os.getenv(v, None)"
   ]
  },
  {
   "cell_type": "markdown",
   "metadata": {},
   "source": [
    "# Packages"
   ]
  },
  {
   "cell_type": "markdown",
   "metadata": {},
   "source": [
    "## scikit-learn"
   ]
  },
  {
   "cell_type": "markdown",
   "metadata": {
    "heading_collapsed": "true"
   },
   "source": [
    "### pipelines"
   ]
  },
  {
   "cell_type": "code",
   "execution_count": 32,
   "metadata": {
    "execution": {
     "iopub.execute_input": "2021-06-25T21:36:44.429324Z",
     "iopub.status.busy": "2021-06-25T21:36:44.428914Z",
     "iopub.status.idle": "2021-06-25T21:36:46.707321Z",
     "shell.execute_reply": "2021-06-25T21:36:46.704717Z",
     "shell.execute_reply.started": "2021-06-25T21:36:44.429278Z"
    }
   },
   "outputs": [
    {
     "name": "stdout",
     "output_type": "stream",
     "text": [
      "Requirement already satisfied: sklearn in /home/leonid/miniconda3/lib/python3.8/site-packages (0.0)\n",
      "Requirement already satisfied: scikit-learn in /home/leonid/miniconda3/lib/python3.8/site-packages (from sklearn) (0.24.1)\n",
      "Requirement already satisfied: scipy>=0.19.1 in /home/leonid/miniconda3/lib/python3.8/site-packages (from scikit-learn->sklearn) (1.6.1)\n",
      "Requirement already satisfied: threadpoolctl>=2.0.0 in /home/leonid/miniconda3/lib/python3.8/site-packages (from scikit-learn->sklearn) (2.1.0)\n",
      "Requirement already satisfied: numpy>=1.13.3 in /home/leonid/miniconda3/lib/python3.8/site-packages (from scikit-learn->sklearn) (1.19.5)\n",
      "Requirement already satisfied: joblib>=0.11 in /home/leonid/miniconda3/lib/python3.8/site-packages (from scikit-learn->sklearn) (1.0.1)\n",
      "\u001b[33mWARNING: You are using pip version 21.1.1; however, version 21.1.2 is available.\n",
      "You should consider upgrading via the '/home/leonid/miniconda3/bin/python -m pip install --upgrade pip' command.\u001b[0m\n"
     ]
    }
   ],
   "source": [
    "!pip install --upgrade sklearn"
   ]
  },
  {
   "cell_type": "code",
   "execution_count": 34,
   "metadata": {
    "execution": {
     "iopub.execute_input": "2021-06-25T21:37:37.424357Z",
     "iopub.status.busy": "2021-06-25T21:37:37.424006Z",
     "iopub.status.idle": "2021-06-25T21:37:37.430201Z",
     "shell.execute_reply": "2021-06-25T21:37:37.429278Z",
     "shell.execute_reply.started": "2021-06-25T21:37:37.424315Z"
    }
   },
   "outputs": [
    {
     "data": {
      "text/plain": [
       "'0.24.1'"
      ]
     },
     "execution_count": 34,
     "metadata": {},
     "output_type": "execute_result"
    }
   ],
   "source": [
    "import sklearn\n",
    "\n",
    "sklearn.__version__"
   ]
  },
  {
   "cell_type": "code",
   "execution_count": 42,
   "metadata": {
    "execution": {
     "iopub.execute_input": "2021-06-25T21:42:07.817463Z",
     "iopub.status.busy": "2021-06-25T21:42:07.817289Z",
     "iopub.status.idle": "2021-06-25T21:42:07.822095Z",
     "shell.execute_reply": "2021-06-25T21:42:07.821630Z",
     "shell.execute_reply.started": "2021-06-25T21:42:07.817445Z"
    }
   },
   "outputs": [
    {
     "data": {
      "text/plain": [
       "Pipeline(steps=[('dim_reduction', PCA()), ('SVC', SVC())])"
      ]
     },
     "execution_count": 42,
     "metadata": {},
     "output_type": "execute_result"
    }
   ],
   "source": [
    "from sklearn.pipeline import Pipeline\n",
    "from sklearn.svm import SVC\n",
    "from sklearn.decomposition import PCA\n",
    "\n",
    "estimators = [('dim_reduction', PCA()), ('SVC', SVC())]\n",
    "pipeline = Pipeline(estimators)\n",
    "pipeline"
   ]
  },
  {
   "cell_type": "code",
   "execution_count": 43,
   "metadata": {
    "execution": {
     "iopub.execute_input": "2021-06-25T21:42:13.157110Z",
     "iopub.status.busy": "2021-06-25T21:42:13.156720Z",
     "iopub.status.idle": "2021-06-25T21:42:13.163914Z",
     "shell.execute_reply": "2021-06-25T21:42:13.163006Z",
     "shell.execute_reply.started": "2021-06-25T21:42:13.157067Z"
    }
   },
   "outputs": [
    {
     "data": {
      "text/plain": [
       "Pipeline(steps=[('binarizer', Binarizer()), ('multinomialnb', MultinomialNB())])"
      ]
     },
     "execution_count": 43,
     "metadata": {},
     "output_type": "execute_result"
    }
   ],
   "source": [
    "from sklearn.pipeline import make_pipeline\n",
    "from sklearn.naive_bayes import MultinomialNB\n",
    "from sklearn.preprocessing import Binarizer\n",
    "pipe = make_pipeline(Binarizer(), MultinomialNB())\n",
    "pipe"
   ]
  },
  {
   "cell_type": "code",
   "execution_count": 9,
   "metadata": {
    "execution": {
     "iopub.execute_input": "2021-06-25T21:26:59.121386Z",
     "iopub.status.busy": "2021-06-25T21:26:59.121216Z",
     "iopub.status.idle": "2021-06-25T21:26:59.124636Z",
     "shell.execute_reply": "2021-06-25T21:26:59.124130Z",
     "shell.execute_reply.started": "2021-06-25T21:26:59.121367Z"
    }
   },
   "outputs": [
    {
     "data": {
      "text/plain": [
       "sklearn.preprocessing._data.Binarizer"
      ]
     },
     "execution_count": 9,
     "metadata": {},
     "output_type": "execute_result"
    }
   ],
   "source": [
    "pipe[0]"
   ]
  },
  {
   "cell_type": "code",
   "execution_count": 11,
   "metadata": {
    "execution": {
     "iopub.execute_input": "2021-06-25T21:27:31.933541Z",
     "iopub.status.busy": "2021-06-25T21:27:31.932854Z",
     "iopub.status.idle": "2021-06-25T21:27:31.943709Z",
     "shell.execute_reply": "2021-06-25T21:27:31.942346Z",
     "shell.execute_reply.started": "2021-06-25T21:27:31.933458Z"
    }
   },
   "outputs": [
    {
     "data": {
      "text/plain": [
       "sklearn.naive_bayes.MultinomialNB"
      ]
     },
     "execution_count": 11,
     "metadata": {},
     "output_type": "execute_result"
    }
   ],
   "source": [
    "pipe['abcmeta']"
   ]
  },
  {
   "cell_type": "code",
   "execution_count": 17,
   "metadata": {
    "execution": {
     "iopub.execute_input": "2021-06-25T21:31:09.584186Z",
     "iopub.status.busy": "2021-06-25T21:31:09.583643Z",
     "iopub.status.idle": "2021-06-25T21:31:09.591223Z",
     "shell.execute_reply": "2021-06-25T21:31:09.590135Z",
     "shell.execute_reply.started": "2021-06-25T21:31:09.584130Z"
    }
   },
   "outputs": [
    {
     "data": {
      "text/plain": [
       "True"
      ]
     },
     "execution_count": 17,
     "metadata": {},
     "output_type": "execute_result"
    }
   ],
   "source": [
    "pipe.named_steps.abcmeta is pipe['abcmeta']"
   ]
  },
  {
   "cell_type": "code",
   "execution_count": 21,
   "metadata": {
    "execution": {
     "iopub.execute_input": "2021-06-25T21:32:00.430131Z",
     "iopub.status.busy": "2021-06-25T21:32:00.429831Z",
     "iopub.status.idle": "2021-06-25T21:32:00.435307Z",
     "shell.execute_reply": "2021-06-25T21:32:00.434378Z",
     "shell.execute_reply.started": "2021-06-25T21:32:00.430099Z"
    }
   },
   "outputs": [
    {
     "data": {
      "text/plain": [
       "Pipeline(steps=[('abcmeta', <class 'sklearn.naive_bayes.MultinomialNB'>)])"
      ]
     },
     "execution_count": 21,
     "metadata": {},
     "output_type": "execute_result"
    }
   ],
   "source": [
    "pipe[-1:]"
   ]
  },
  {
   "cell_type": "code",
   "execution_count": 28,
   "metadata": {
    "execution": {
     "iopub.execute_input": "2021-06-25T21:35:15.668947Z",
     "iopub.status.busy": "2021-06-25T21:35:15.668579Z",
     "iopub.status.idle": "2021-06-25T21:35:15.675061Z",
     "shell.execute_reply": "2021-06-25T21:35:15.672985Z",
     "shell.execute_reply.started": "2021-06-25T21:35:15.668912Z"
    }
   },
   "outputs": [
    {
     "data": {
      "text/plain": [
       "Pipeline(steps=[('dim_reduction', <class 'sklearn.decomposition._pca.PCA'>),\n",
       "                ('SVC', <class 'sklearn.svm._classes.SVC'>)])"
      ]
     },
     "execution_count": 28,
     "metadata": {},
     "output_type": "execute_result"
    }
   ],
   "source": [
    "pipeline"
   ]
  },
  {
   "cell_type": "code",
   "execution_count": 37,
   "metadata": {
    "execution": {
     "iopub.execute_input": "2021-06-25T21:39:48.638472Z",
     "iopub.status.busy": "2021-06-25T21:39:48.638297Z",
     "iopub.status.idle": "2021-06-25T21:39:48.642367Z",
     "shell.execute_reply": "2021-06-25T21:39:48.641690Z",
     "shell.execute_reply.started": "2021-06-25T21:39:48.638453Z"
    }
   },
   "outputs": [
    {
     "data": {
      "text/plain": [
       "Pipeline(steps=[('type', <class 'sklearn.preprocessing._data.Binarizer'>),\n",
       "                ('abcmeta', <class 'sklearn.naive_bayes.MultinomialNB'>)])"
      ]
     },
     "execution_count": 37,
     "metadata": {},
     "output_type": "execute_result"
    }
   ],
   "source": [
    "pipe"
   ]
  },
  {
   "cell_type": "code",
   "execution_count": 46,
   "metadata": {
    "execution": {
     "iopub.execute_input": "2021-06-25T21:42:52.766580Z",
     "iopub.status.busy": "2021-06-25T21:42:52.766037Z",
     "iopub.status.idle": "2021-06-25T21:42:52.775986Z",
     "shell.execute_reply": "2021-06-25T21:42:52.775010Z",
     "shell.execute_reply.started": "2021-06-25T21:42:52.766518Z"
    }
   },
   "outputs": [
    {
     "data": {
      "text/plain": [
       "{'memory': None,\n",
       " 'steps': [('dim_reduction', PCA()), ('SVC', SVC())],\n",
       " 'verbose': False,\n",
       " 'dim_reduction': PCA(),\n",
       " 'SVC': SVC(),\n",
       " 'dim_reduction__copy': True,\n",
       " 'dim_reduction__iterated_power': 'auto',\n",
       " 'dim_reduction__n_components': None,\n",
       " 'dim_reduction__random_state': None,\n",
       " 'dim_reduction__svd_solver': 'auto',\n",
       " 'dim_reduction__tol': 0.0,\n",
       " 'dim_reduction__whiten': False,\n",
       " 'SVC__C': 1.0,\n",
       " 'SVC__break_ties': False,\n",
       " 'SVC__cache_size': 200,\n",
       " 'SVC__class_weight': None,\n",
       " 'SVC__coef0': 0.0,\n",
       " 'SVC__decision_function_shape': 'ovr',\n",
       " 'SVC__degree': 3,\n",
       " 'SVC__gamma': 'scale',\n",
       " 'SVC__kernel': 'rbf',\n",
       " 'SVC__max_iter': -1,\n",
       " 'SVC__probability': False,\n",
       " 'SVC__random_state': None,\n",
       " 'SVC__shrinking': True,\n",
       " 'SVC__tol': 0.001,\n",
       " 'SVC__verbose': False}"
      ]
     },
     "execution_count": 46,
     "metadata": {},
     "output_type": "execute_result"
    }
   ],
   "source": [
    "pipeline.get_params()"
   ]
  },
  {
   "cell_type": "code",
   "execution_count": 47,
   "metadata": {
    "execution": {
     "iopub.execute_input": "2021-06-25T22:27:34.076342Z",
     "iopub.status.busy": "2021-06-25T22:27:34.076179Z",
     "iopub.status.idle": "2021-06-25T22:27:34.082746Z",
     "shell.execute_reply": "2021-06-25T22:27:34.082162Z",
     "shell.execute_reply.started": "2021-06-25T22:27:34.076325Z"
    }
   },
   "outputs": [
    {
     "data": {
      "text/plain": [
       "GridSearchCV(estimator=Pipeline(steps=[('dim_reduction', PCA()),\n",
       "                                       ('SVC', SVC())]),\n",
       "             param_grid={'SVC__C': [0.1, 1, 10, 100],\n",
       "                         'dim_reduction__n_components': [2, 3, 10]})"
      ]
     },
     "execution_count": 47,
     "metadata": {},
     "output_type": "execute_result"
    }
   ],
   "source": [
    "from sklearn.model_selection import GridSearchCV\n",
    "\n",
    "param_grid = dict(dim_reduction__n_components=[2,3,10], SVC__C=[0.1,1,10,100])\n",
    "grid_search = GridSearchCV(pipeline, param_grid)\n",
    "grid_search"
   ]
  },
  {
   "cell_type": "code",
   "execution_count": 52,
   "metadata": {
    "execution": {
     "iopub.execute_input": "2021-06-25T22:34:47.920235Z",
     "iopub.status.busy": "2021-06-25T22:34:47.920055Z",
     "iopub.status.idle": "2021-06-25T22:34:47.925789Z",
     "shell.execute_reply": "2021-06-25T22:34:47.925285Z",
     "shell.execute_reply.started": "2021-06-25T22:34:47.920217Z"
    }
   },
   "outputs": [
    {
     "name": "stdout",
     "output_type": "stream",
     "text": [
      "cachedir ='/tmp/tmp20bm0yix'\n",
      "Pipeline(memory='/tmp/tmp20bm0yix',\n",
      "         steps=[('reduce_dim', PCA()), ('clf', SVC())])\n",
      "Pipeline(memory='/tmp/tmp20bm0yix',\n",
      "         steps=[('reduce_dim', PCA()), ('clf', SVC())])\n"
     ]
    }
   ],
   "source": [
    "from tempfile import mkdtemp\n",
    "from shutil import rmtree\n",
    "from sklearn.decomposition import PCA\n",
    "from sklearn.svm import SVC\n",
    "from sklearn.pipeline import Pipeline\n",
    "\n",
    "estimators = [('reduce_dim', PCA()), ('clf', SVC())]\n",
    "cachedir = mkdtemp()\n",
    "print(f'{cachedir =}')\n",
    "pipe = Pipeline(estimators, memory=cachedir)\n",
    "print(pipe)\n",
    "rmtree(cachedir)\n",
    "print(pipe)"
   ]
  },
  {
   "cell_type": "code",
   "execution_count": 68,
   "metadata": {
    "execution": {
     "iopub.execute_input": "2021-06-25T22:45:27.894900Z",
     "iopub.status.busy": "2021-06-25T22:45:27.894242Z",
     "iopub.status.idle": "2021-06-25T22:45:28.017309Z",
     "shell.execute_reply": "2021-06-25T22:45:28.016505Z",
     "shell.execute_reply.started": "2021-06-25T22:45:27.894823Z"
    }
   },
   "outputs": [
    {
     "data": {
      "text/plain": [
       "[('data', pandas.core.frame.DataFrame),\n",
       " ('target', pandas.core.series.Series),\n",
       " ('frame', pandas.core.frame.DataFrame),\n",
       " ('feature_names', list),\n",
       " ('target_names', numpy.ndarray),\n",
       " ('images', numpy.ndarray),\n",
       " ('DESCR', str)]"
      ]
     },
     "execution_count": 68,
     "metadata": {},
     "output_type": "execute_result"
    }
   ],
   "source": [
    "from sklearn.datasets import load_digits\n",
    "\n",
    "[(k, type(v)) for k, v in load_digits().items()]\n",
    "data = load_digits(as_frame=True)\n",
    "[(k, type(v)) for k, v in data.items()]"
   ]
  },
  {
   "cell_type": "code",
   "execution_count": 70,
   "metadata": {
    "execution": {
     "iopub.execute_input": "2021-06-25T23:13:30.999534Z",
     "iopub.status.busy": "2021-06-25T23:13:30.999294Z",
     "iopub.status.idle": "2021-06-25T23:13:31.002728Z",
     "shell.execute_reply": "2021-06-25T23:13:31.002081Z",
     "shell.execute_reply.started": "2021-06-25T23:13:30.999511Z"
    }
   },
   "outputs": [],
   "source": [
    "from sklearn import datasets\n",
    "\n",
    "# datasets.fetch_20newsgroups()"
   ]
  },
  {
   "cell_type": "code",
   "execution_count": 74,
   "metadata": {
    "execution": {
     "iopub.execute_input": "2021-06-29T22:21:45.438196Z",
     "iopub.status.busy": "2021-06-29T22:21:45.437904Z",
     "iopub.status.idle": "2021-06-29T22:21:45.445052Z",
     "shell.execute_reply": "2021-06-29T22:21:45.444266Z",
     "shell.execute_reply.started": "2021-06-29T22:21:45.438164Z"
    }
   },
   "outputs": [
    {
     "data": {
      "text/plain": [
       "([(-23, True), (-1, True), (0, True), (1, True), (1, True), (11, True)],\n",
       " [(-23, True), (-1, True), (0, True), (1, True), (1, True), (11, True)])"
      ]
     },
     "execution_count": 74,
     "metadata": {},
     "output_type": "execute_result"
    }
   ],
   "source": [
    "ids = [-23, -1, 0, 1, +1, 11]\n",
    "[(id, str(id).lstrip('-+').isnumeric()) for id in ids], [(id, str(id).lstrip('-+').isdigit()) for id in ids]"
   ]
  },
  {
   "cell_type": "markdown",
   "metadata": {},
   "source": [
    "## sktime"
   ]
  },
  {
   "cell_type": "markdown",
   "metadata": {},
   "source": [
    "### designes"
   ]
  },
  {
   "cell_type": "markdown",
   "metadata": {},
   "source": [
    "#### design options and sktime modules\n",
    "\n",
    "##### forecasting\n",
    "\n",
    "1. Preprocess data: to the multivariate format (the nested pandas DataFrame). See [loading_data notebook](https://github.com/alan-turing-institute/sktime/blob/main/examples/loading_data.ipynb). Do the `per_address` OR `all_together` datasets: [sample * vars *_timeserie] The goal is to get a single sample per a time bucket.\n",
    "   - [optional] do [interpolation](https://github.com/alan-turing-institute/sktime/blob/main/examples/interpolation.ipynb).\n",
    "   - [optional] do feature engineering: as per feature_extraction_with_tsfresh.ipynb or minirocket.ipynb\n",
    "1. Forecasting: 1 (2+ ?) 5-min interval(s)\n",
    "1. [Benchmarking](https://github.com/alan-turing-institute/sktime/blob/main/examples/04_benchmarking.ipynb) - find the best models\n",
    "1. Anomaly detection.\n",
    "1. If `all_together` dataset, backtrack the address by the source data. Add the address info to the anomalies.\n",
    "\n",
    "\n",
    "##### clustering -> classification TBD\n",
    "Label data by clustering. Train on the classification problem. This approach does not work well now, because the existed sktime clustering algos do not automatically\n",
    "calculage the number of clusters, which is important in our case.\n",
    "1. Convert data: see **forecasting**\n",
    "1. Clustering. "
   ]
  },
  {
   "cell_type": "markdown",
   "metadata": {},
   "source": [
    "### sktime forecasting"
   ]
  },
  {
   "cell_type": "markdown",
   "metadata": {},
   "source": [
    "### preprocess data\n",
    "\n",
    "We do `all_together` data preprocessing.\n",
    "1. Convert to 'start_time', 'var_1', 'var_2', ... format\n",
    "\n",
    "We don't have the 'samples' in the data. All data is from the same cluster means the same 'sample'. \n",
    "Another data problem is, the cluster works only at the day time and data measurements do not presented at the night time.\n",
    "\n",
    "We can try several options:\n",
    "- process data 'as is': one sample. "
   ]
  },
  {
   "cell_type": "code",
   "execution_count": 12,
   "metadata": {
    "execution": {
     "iopub.execute_input": "2021-07-05T17:04:40.566253Z",
     "iopub.status.busy": "2021-07-05T17:04:40.565864Z",
     "iopub.status.idle": "2021-07-05T17:04:40.573048Z",
     "shell.execute_reply": "2021-07-05T17:04:40.572333Z",
     "shell.execute_reply.started": "2021-07-05T17:04:40.566211Z"
    }
   },
   "outputs": [
    {
     "data": {
      "text/plain": [
       "1617346551"
      ]
     },
     "execution_count": 12,
     "metadata": {},
     "output_type": "execute_result"
    }
   ],
   "source": [
    "from datetime import datetime\n",
    "\n",
    "def datetime_str_to_timestamp(s):\n",
    "    return int(datetime.strptime(s.split('.')[0], '%Y-%m-%dT%H:%M:%S').timestamp())\n",
    "     \n",
    "\n",
    "s = '2021-04-01T23:55:51.884795645Z' # '2021-03-22T16:28:51.565759887Z'\n",
    "datetime_str_to_timestamp(s)"
   ]
  },
  {
   "cell_type": "code",
   "execution_count": 30,
   "metadata": {
    "execution": {
     "iopub.execute_input": "2021-07-05T19:04:12.962116Z",
     "iopub.status.busy": "2021-07-05T19:04:12.961883Z",
     "iopub.status.idle": "2021-07-05T19:04:12.967997Z",
     "shell.execute_reply": "2021-07-05T19:04:12.967463Z",
     "shell.execute_reply.started": "2021-07-05T19:04:12.962092Z"
    }
   },
   "outputs": [
    {
     "data": {
      "text/plain": [
       "(datetime.datetime(2021, 4, 1, 23, 55, 51),\n",
       " datetime.datetime(2021, 4, 2, 0, 0))"
      ]
     },
     "execution_count": 30,
     "metadata": {},
     "output_type": "execute_result"
    }
   ],
   "source": [
    "def set_bucket_timestamp(bucket_size_seconds, ts, forward=True):\n",
    "    return (ts+bucket_size_seconds if forward else ts) - ts % bucket_size_seconds\n",
    "        \n",
    "dt = 1617346551\n",
    "bucket_size_seconds = 300\n",
    "dt2 = set_bucket_timestamp(300, dt, forward=True)\n",
    "datetime.fromtimestamp(dt), datetime.fromtimestamp(dt2)"
   ]
  },
  {
   "cell_type": "code",
   "execution_count": 72,
   "metadata": {
    "execution": {
     "iopub.execute_input": "2021-07-05T22:40:20.819259Z",
     "iopub.status.busy": "2021-07-05T22:40:20.819073Z",
     "iopub.status.idle": "2021-07-05T22:40:20.824142Z",
     "shell.execute_reply": "2021-07-05T22:40:20.823711Z",
     "shell.execute_reply.started": "2021-07-05T22:40:20.819241Z"
    }
   },
   "outputs": [
    {
     "data": {
      "text/plain": [
       "DatetimeIndex(['2021-03-31 16:00:00', '2021-03-31 16:05:00',\n",
       "               '2021-03-31 16:10:00', '2021-03-31 16:15:00',\n",
       "               '2021-03-31 16:20:00', '2021-03-31 16:25:00',\n",
       "               '2021-03-31 16:30:00', '2021-03-31 16:35:00',\n",
       "               '2021-03-31 16:40:00', '2021-03-31 16:45:00',\n",
       "               ...\n",
       "               '2021-04-01 09:45:00', '2021-04-01 09:50:00',\n",
       "               '2021-04-01 09:55:00', '2021-04-01 10:00:00',\n",
       "               '2021-04-01 10:05:00', '2021-04-01 10:10:00',\n",
       "               '2021-04-01 10:15:00', '2021-04-01 10:20:00',\n",
       "               '2021-04-01 10:25:00', '2021-04-01 10:30:00'],\n",
       "              dtype='datetime64[ns]', name='start_time', length=223, freq='300S')"
      ]
     },
     "execution_count": 72,
     "metadata": {},
     "output_type": "execute_result"
    }
   ],
   "source": [
    "bucket_size_seconds=300\n",
    "dt_start =1617231600\n",
    "dt_end =1617298200\n",
    "pd.date_range(start=datetime.fromtimestamp(dt_start), end=datetime.fromtimestamp(dt_end), freq=f'{bucket_size_seconds}S', name='start_time')"
   ]
  },
  {
   "cell_type": "code",
   "execution_count": 105,
   "metadata": {
    "execution": {
     "iopub.execute_input": "2021-07-06T15:55:55.912269Z",
     "iopub.status.busy": "2021-07-06T15:55:55.912101Z",
     "iopub.status.idle": "2021-07-06T15:56:05.784176Z",
     "shell.execute_reply": "2021-07-06T15:56:05.783721Z",
     "shell.execute_reply.started": "2021-07-06T15:55:55.912247Z"
    }
   },
   "outputs": [
    {
     "name": "stdout",
     "output_type": "stream",
     "text": [
      "Loaded (202997, 20) \"../data/cluster.dns.202K.20210402.csv\"\n",
      "Loaded (500000, 40) \"../data/cluster.flows.500K.20210402.csv\"\n",
      "Loaded (7597, 22) \"../data/cluster.l7.7K.20210402.csv\"\n",
      "dt_limits ={'dns': [1616455731.0, 1617346551.0], 'flows': [1614876237, 1617298173], 'l7': [1617231868, 1617321235]} dt_start =1614876237 dt_end =1617346551.0\n",
      "Buckets: dt_start =1614876000 dt_end =1617346800.0\n",
      "Buckets: datetime.fromtimestamp(dt_start) =datetime.datetime(2021, 3, 4, 8, 40) datetime.fromtimestamp(dt_end) =datetime.datetime(2021, 4, 2, 0, 0)\n",
      "Empty DataFrame\n",
      "Columns: []\n",
      "Index: [2021-03-04 08:40:00, 2021-03-04 08:45:00]\n",
      "Empty DataFrame\n",
      "Columns: []\n",
      "Index: [2021-04-01 23:55:00, 2021-04-02 00:00:00]\n",
      "\n",
      "Loaded (202997, 20) \"../data/cluster.dns.202K.20210402.csv\"\n",
      "(202997, 20) 0   2021-03-22 16:25:00\n",
      "1   2021-03-22 16:25:00\n",
      "2   2021-03-22 16:25:00\n",
      "3   2021-03-22 16:25:00\n",
      "4   2021-03-22 16:25:00\n",
      "Name: start_time, dtype: datetime64[ns]\n",
      "field = 'count' aggrs = ['count', 'sum', 'mean', 'std', 'max'] 593\n",
      "(8249, 5)\n",
      "field = 'latency_count' aggrs = ['count', 'sum', 'mean', 'std', 'max'] 593\n",
      "(8249, 10)\n",
      "field = 'latency_mean' aggrs = ['count', 'sum', 'mean', 'std', 'max'] 593\n",
      "(8249, 15)\n",
      "field = 'latency_max' aggrs = ['count', 'sum', 'mean', 'std', 'max'] 593\n",
      "(8249, 20)\n"
     ]
    },
    {
     "name": "stderr",
     "output_type": "stream",
     "text": [
      "/home/leonid/miniconda3/lib/python3.8/site-packages/IPython/core/interactiveshell.py:3347: DtypeWarning: Columns (2,9) have mixed types.Specify dtype option on import or set low_memory=False.\n",
      "  if (await self.run_code(code, result,  async_=asy)):\n"
     ]
    },
    {
     "name": "stdout",
     "output_type": "stream",
     "text": [
      "\n",
      "Loaded (500000, 40) \"../data/cluster.flows.500K.20210402.csv\"\n",
      "(500000, 40) 0   2021-03-04 08:40:00\n",
      "1   2021-03-04 08:40:00\n",
      "2   2021-03-04 08:40:00\n",
      "3   2021-03-04 08:40:00\n",
      "4   2021-03-04 08:40:00\n",
      "Name: start_time, dtype: datetime64[ns]\n",
      "field = 'bytes_in' aggrs = ['count', 'sum', 'mean', 'std', 'max'] 1,662\n",
      "(8249, 25)\n",
      "field = 'bytes_out' aggrs = ['count', 'sum', 'mean', 'std', 'max'] 1,662\n",
      "(8249, 30)\n",
      "field = 'num_flows' aggrs = ['count', 'sum', 'mean', 'std', 'max'] 1,662\n",
      "(8249, 35)\n",
      "field = 'num_flows_started' aggrs = ['count', 'sum', 'mean', 'std', 'max'] 1,662\n",
      "(8249, 40)\n",
      "field = 'num_flows_completed' aggrs = ['count', 'sum', 'mean', 'std', 'max'] 1,662\n",
      "(8249, 45)\n",
      "field = 'packets_in' aggrs = ['count', 'sum', 'mean', 'std', 'max'] 1,662\n",
      "(8249, 50)\n",
      "field = 'packets_out' aggrs = ['count', 'sum', 'mean', 'std', 'max'] 1,662\n",
      "(8249, 55)\n",
      "field = 'http_requests_allowed_in' aggrs = ['count'] 1,662\n",
      "(8249, 56)\n",
      "field = 'http_requests_denied_in' aggrs = ['count'] 1,662\n",
      "(8249, 57)\n",
      "field = 'num_process_names' aggrs = ['count'] 1,662\n",
      "(8249, 58)\n",
      "field = 'num_process_ids' aggrs = ['count'] 1,662\n",
      "(8249, 59)\n",
      "field = 'num_original_source_ips' aggrs = ['count'] 1,662\n",
      "(8249, 60)\n",
      "\n",
      "Loaded (7597, 22) \"../data/cluster.l7.7K.20210402.csv\"\n",
      "(7597, 22) 0   2021-03-31 16:00:00\n",
      "1   2021-03-31 16:00:00\n",
      "2   2021-03-31 16:00:00\n",
      "3   2021-03-31 16:00:00\n",
      "4   2021-03-31 16:00:00\n",
      "Name: start_time, dtype: datetime64[ns]\n",
      "field = 'count' aggrs = ['count', 'sum', 'mean', 'std', 'max'] 160\n",
      "(8249, 65)\n",
      "field = 'duration_mean' aggrs = ['count', 'sum', 'mean', 'std', 'max'] 160\n",
      "(8249, 70)\n",
      "field = 'duration_max' aggrs = ['count', 'sum', 'mean', 'std', 'max'] 160\n",
      "(8249, 75)\n",
      "field = 'bytes_in' aggrs = ['count', 'sum', 'mean', 'std', 'max'] 160\n",
      "(8249, 80)\n",
      "field = 'bytes_out' aggrs = ['count', 'sum', 'mean', 'std', 'max'] 160\n",
      "(8249, 85)\n",
      "Saved (8249, 85) to \"../data/consolidated.csv\"\n"
     ]
    }
   ],
   "source": [
    "import pandas as pd\n",
    "from datetime import datetime\n",
    "\n",
    "def datetime_str_to_timestamp(s):\n",
    "    return datetime.strptime(s.split('.')[0], '%Y-%m-%dT%H:%M:%S').timestamp()\n",
    "\n",
    "def set_bucket_timestamp(ts, bucket_size_seconds=300, forward=True):\n",
    "    return (ts+bucket_size_seconds if forward else ts) - ts % bucket_size_seconds\n",
    "\n",
    "def get_start_end_timestamps(logs, data_dir, files):\n",
    "    # we need data in the same time durations. So we need to start and stop at the same time.\n",
    "    # Find start and stop time for all logs.\n",
    "    dt_limits = {}\n",
    "    for log, file in zip(logs, files):\n",
    "        file_name = f'{data_dir}/{file}'\n",
    "        df = pd.read_csv(file_name)\n",
    "        print(f'Loaded {df.shape} \"{file_name}\"') # {df.columns}')\n",
    "        if log == 'dns':\n",
    "            dt_limits[log] = [datetime_str_to_timestamp(df['start_time'].iloc[0]), datetime_str_to_timestamp(df['start_time'].iloc[-1])]\n",
    "        else:\n",
    "            dt_limits[log] = [(df['start_time'].iloc[0]), (df['start_time'].iloc[-1])]\n",
    "#     dt_start = max([limits[0] for limits in dt_limits.values()])\n",
    "#     dt_end =   min([limits[1] for limits in dt_limits.values()])\n",
    "    dt_start = min([limits[0] for limits in dt_limits.values()])\n",
    "    dt_end =   max([limits[1] for limits in dt_limits.values()])\n",
    "    print(f'{dt_limits =} {dt_start =} {dt_end =}')\n",
    "    return dt_start, dt_end, dt_limits\n",
    "\n",
    "def preprocess_data(logs, data_dir, files, measurements, bucket_size_seconds):\n",
    "    dt_start, dt_end, dt_limits = get_start_end_timestamps(logs, data_dir, files)\n",
    "    dt_start  = set_bucket_timestamp(dt_start, bucket_size_seconds=bucket_size_seconds, forward=False)\n",
    "    dt_end =    set_bucket_timestamp(dt_end, bucket_size_seconds=bucket_size_seconds, forward=True)\n",
    "    print(f'Buckets: {dt_start =} {dt_end =}')\n",
    "    print(f'Buckets: {datetime.fromtimestamp(dt_start) =} {datetime.fromtimestamp(dt_end) =}')\n",
    "    # Read data inside [dt_start,dt_end] limits:\n",
    "    # Read only the measurements columns\n",
    "    # All columns have the rules: \n",
    "    # - Use zero if a mesurement is not presented in this time bucket. # TBD \n",
    "    # - use the 'aggregation' func-s if more then 1 measurements presented in this time bucket. \n",
    "    #   The 'aggregation' func-s are mentioned in the `measurement` tupble.\n",
    "    df_consolidated = pd.DataFrame(index=pd.date_range(\n",
    "        start=datetime.fromtimestamp(dt_start), end=datetime.fromtimestamp(dt_end), freq=f'{bucket_size_seconds}S', name='start_time'))\n",
    "    print(df_consolidated.head(2))\n",
    "    print(df_consolidated.tail(2))\n",
    "    for log, file in zip(logs, files):\n",
    "        file_name = f'{data_dir}/{file}'\n",
    "        df = pd.read_csv(file_name)\n",
    "        print(f'\\nLoaded {df.shape} \"{file_name}\"') # {df.columns}')\n",
    "        if log == 'dns':\n",
    "            df['start_time'] = df['start_time'].apply(datetime_str_to_timestamp)\n",
    "#         print(df['start_time'].head())\n",
    "        # adjust start_time to the bucket_size_seconds\n",
    "        df['start_time'] = df['start_time'].apply(lambda r: set_bucket_timestamp(r, bucket_size_seconds=bucket_size_seconds, forward=False))\n",
    "        df['start_time'] = df['start_time'].apply(datetime.fromtimestamp)\n",
    "#         df = df[(df['start_time'] >= datetime.fromtimestamp(dt_start)) & (df['start_time'] <= datetime.fromtimestamp(dt_end))]\n",
    "        print(df.shape, df['start_time'].head())\n",
    "        for field, aggrs in measurements[log]:            \n",
    "            aggrs = aggrs if aggrs else ['count', 'sum', 'mean', 'std', 'max']\n",
    "#             df_tmp = df[:1000].set_index(pd.DatetimeIndex(df[:1000]['start_time']))  # TODO remove [:1000] after debugging\n",
    "#             df_tmp = df_tmp.resample(\"5Min\").aggregate(aggrs)\n",
    "            df_tmp = df[['start_time', field]].groupby('start_time').aggregate(aggrs) # TODO remove [:1000] after debugging\n",
    "            df_tmp.columns = [f'{log}__{field}__{aggr}' for aggr in aggrs]\n",
    "            print(f'{field = } {aggrs = } {df_tmp.shape[0]:,}')\n",
    "#             print(df_tmp.head())\n",
    "#             df_consolidated.merge(df_tmp)\n",
    "            df_consolidated = pd.merge(df_consolidated, df_tmp, on='start_time', how='left')\n",
    "            print(df_consolidated.shape)\n",
    "    return df_consolidated\n",
    "        \n",
    "        \n",
    "\n",
    "data_dir = '../data'\n",
    "logs = ['dns', 'flows', 'l7']\n",
    "files = [\n",
    "    'cluster.dns.202K.20210402.csv',   # start_time: 1616455731, 1617346551 <-\t'2021-03-22T16:28:51.565759887Z' - \t'2021-04-01T23:55:51.884795645Z\n",
    "    'cluster.flows.500K.20210402.csv', # start_time: 1614876237, 1617298173\n",
    "    'cluster.l7.7K.20210402.csv'       # start_time: 1617231868, 1617321235\n",
    "]\n",
    "\n",
    "# address_cols are not in use yet\n",
    "address_cols = {\n",
    "    'dns':\n",
    "    [\n",
    "        ['client_name_aggr', 'client_namespace'], \n",
    "        ['host']\n",
    "    ],\n",
    "    'flows':\n",
    "    [\n",
    "        ['source_name_aggr', 'source_namespace',], \n",
    "        ['dest_name_aggr', 'dest_namespace'], \n",
    "        ['process_name']\n",
    "    ],\n",
    "    'l7':\n",
    "    [\n",
    "        ['src_name_aggr', 'src_namespace'], \n",
    "        ['dest_name_aggr', 'dest_namespace'], \n",
    "        ['dest_service_name', 'dest_service_namespace'], \n",
    "        ['host']\n",
    "    ],\n",
    "}\n",
    "\n",
    "measurements = {\n",
    "    'dns':\n",
    "    [\n",
    "        ('count', None), ('latency_count', None), ('latency_mean', None),\n",
    "        ('latency_max', None), \n",
    "    ],\n",
    "    'flows':\n",
    "    [\n",
    "        ('bytes_in', None), ('bytes_out', None), \n",
    "        ('num_flows', None), ('num_flows_started', None),  ('num_flows_completed', None), \n",
    "        ('packets_in', None), ('packets_out', None), \n",
    "        ('http_requests_allowed_in', ['count']), ('http_requests_denied_in', ['count']), \n",
    "        ('num_process_names', ['count']), ('num_process_ids', ['count']), ('num_original_source_ips', ['count']), \n",
    "    ],\n",
    "    'l7':\n",
    "    [\n",
    "        ('count', None), ('duration_mean', None), ('duration_max', None), \n",
    "        ('bytes_in', None), ('bytes_out', None), \n",
    "    \n",
    "    ],\n",
    "}\n",
    "df = preprocess_data(logs, data_dir, files, measurements, bucket_size_seconds)\n",
    "\n",
    "file_out = '../data/consolidated.all_logs.csv'\n",
    "df.to_csv(file_out)\n",
    "print(f'Saved {df.shape} to \"{file_out}\"')\n",
    "\n",
    "## for: df_tmp = df[['start_time', field]][:1000].groupby('start_time').aggregate(aggrs)\n",
    "# field = 'count' aggrs = ['count', 'sum', 'mean', 'std', 'max'] 5\n",
    "#            count                                    \n",
    "#            count    sum       mean         std   max\n",
    "# start_time                                          \n",
    "# 1616455500   267  17586  65.865169  290.814291  2293\n",
    "# 1616455800   216  14642  67.787037  242.347609  2048\n",
    "# 1616456100   232  15664  67.517241  283.333511  2176\n",
    "# 1616456400   252  14245  56.527778  198.815264  1985\n",
    "# 1616456700    33    155   4.696970    4.996779    20\n"
   ]
  },
  {
   "cell_type": "code",
   "execution_count": 86,
   "metadata": {
    "execution": {
     "iopub.execute_input": "2021-07-05T23:37:56.291002Z",
     "iopub.status.busy": "2021-07-05T23:37:56.290593Z",
     "iopub.status.idle": "2021-07-05T23:37:56.521825Z",
     "shell.execute_reply": "2021-07-05T23:37:56.521348Z",
     "shell.execute_reply.started": "2021-07-05T23:37:56.290952Z"
    }
   },
   "outputs": [],
   "source": [
    "from pandas_summary import DataFrameSummary\n",
    "\n",
    "df_sum = DataFrameSummary(df).summary()"
   ]
  },
  {
   "cell_type": "code",
   "execution_count": 94,
   "metadata": {
    "execution": {
     "iopub.execute_input": "2021-07-05T23:41:30.005446Z",
     "iopub.status.busy": "2021-07-05T23:41:30.005263Z",
     "iopub.status.idle": "2021-07-05T23:41:30.014734Z",
     "shell.execute_reply": "2021-07-05T23:41:30.014242Z",
     "shell.execute_reply.started": "2021-07-05T23:41:30.005415Z"
    }
   },
   "outputs": [
    {
     "data": {
      "text/html": [
       "<div>\n",
       "<style scoped>\n",
       "    .dataframe tbody tr th:only-of-type {\n",
       "        vertical-align: middle;\n",
       "    }\n",
       "\n",
       "    .dataframe tbody tr th {\n",
       "        vertical-align: top;\n",
       "    }\n",
       "\n",
       "    .dataframe thead th {\n",
       "        text-align: right;\n",
       "    }\n",
       "</style>\n",
       "<table border=\"1\" class=\"dataframe\">\n",
       "  <thead>\n",
       "    <tr style=\"text-align: right;\">\n",
       "      <th></th>\n",
       "      <th>uniques</th>\n",
       "      <th>missing</th>\n",
       "    </tr>\n",
       "  </thead>\n",
       "  <tbody>\n",
       "    <tr>\n",
       "      <th>dns__count__count</th>\n",
       "      <td>116</td>\n",
       "      <td>81</td>\n",
       "    </tr>\n",
       "    <tr>\n",
       "      <th>dns__count__sum</th>\n",
       "      <td>139</td>\n",
       "      <td>81</td>\n",
       "    </tr>\n",
       "    <tr>\n",
       "      <th>dns__count__mean</th>\n",
       "      <td>142</td>\n",
       "      <td>81</td>\n",
       "    </tr>\n",
       "    <tr>\n",
       "      <th>dns__count__std</th>\n",
       "      <td>142</td>\n",
       "      <td>81</td>\n",
       "    </tr>\n",
       "    <tr>\n",
       "      <th>dns__count__max</th>\n",
       "      <td>121</td>\n",
       "      <td>81</td>\n",
       "    </tr>\n",
       "    <tr>\n",
       "      <th>...</th>\n",
       "      <td>...</td>\n",
       "      <td>...</td>\n",
       "    </tr>\n",
       "    <tr>\n",
       "      <th>l7__duration_max__count_y</th>\n",
       "      <td>37</td>\n",
       "      <td>139</td>\n",
       "    </tr>\n",
       "    <tr>\n",
       "      <th>l7__duration_max__sum_y</th>\n",
       "      <td>84</td>\n",
       "      <td>139</td>\n",
       "    </tr>\n",
       "    <tr>\n",
       "      <th>l7__duration_max__mean_y</th>\n",
       "      <td>84</td>\n",
       "      <td>139</td>\n",
       "    </tr>\n",
       "    <tr>\n",
       "      <th>l7__duration_max__std_y</th>\n",
       "      <td>84</td>\n",
       "      <td>139</td>\n",
       "    </tr>\n",
       "    <tr>\n",
       "      <th>l7__duration_max__max_y</th>\n",
       "      <td>44</td>\n",
       "      <td>139</td>\n",
       "    </tr>\n",
       "  </tbody>\n",
       "</table>\n",
       "<p>100 rows × 2 columns</p>\n",
       "</div>"
      ],
      "text/plain": [
       "                          uniques missing\n",
       "dns__count__count             116      81\n",
       "dns__count__sum               139      81\n",
       "dns__count__mean              142      81\n",
       "dns__count__std               142      81\n",
       "dns__count__max               121      81\n",
       "...                           ...     ...\n",
       "l7__duration_max__count_y      37     139\n",
       "l7__duration_max__sum_y        84     139\n",
       "l7__duration_max__mean_y       84     139\n",
       "l7__duration_max__std_y        84     139\n",
       "l7__duration_max__max_y        44     139\n",
       "\n",
       "[100 rows x 2 columns]"
      ]
     },
     "execution_count": 94,
     "metadata": {},
     "output_type": "execute_result"
    }
   ],
   "source": [
    "df_sum.T[['uniques', 'missing']]"
   ]
  },
  {
   "cell_type": "code",
   "execution_count": 104,
   "metadata": {
    "collapsed": true,
    "execution": {
     "iopub.execute_input": "2021-07-06T15:53:49.702731Z",
     "iopub.status.busy": "2021-07-06T15:53:49.702546Z",
     "iopub.status.idle": "2021-07-06T15:53:58.708133Z",
     "shell.execute_reply": "2021-07-06T15:53:58.707624Z",
     "shell.execute_reply.started": "2021-07-06T15:53:49.702713Z"
    },
    "jupyter": {
     "outputs_hidden": true
    }
   },
   "outputs": [
    {
     "name": "stdout",
     "output_type": "stream",
     "text": [
      "Loaded (202997, 20) \"../data/cluster.dns.202K.20210402.csv\"\n",
      "Loaded (500000, 40) \"../data/cluster.flows.500K.20210402.csv\"\n",
      "Loaded (7597, 22) \"../data/cluster.l7.7K.20210402.csv\"\n",
      "dt_limits ={'dns': [1616455731.0, 1617346551.0], 'flows': [1614876237, 1617298173], 'l7': [1617231868, 1617321235]}\n",
      "log ='dns' Buckets: dt_start =1616455500.0 dt_end =1617346800.0\n",
      "    Buckets: datetime.fromtimestamp(dt_start) =datetime.datetime(2021, 3, 22, 16, 25) datetime.fromtimestamp(dt_end) =datetime.datetime(2021, 4, 2, 0, 0)\n",
      "\n",
      "Loaded (202997, 20) \"../data/cluster.dns.202K.20210402.csv\"\n",
      "(202997, 20) 0   2021-03-22 16:25:00\n",
      "1   2021-03-22 16:25:00\n",
      "2   2021-03-22 16:25:00\n",
      "3   2021-03-22 16:25:00\n",
      "4   2021-03-22 16:25:00\n",
      "Name: start_time, dtype: datetime64[ns]\n",
      "field = 'count' aggrs = ['count', 'sum', 'mean', 'std', 'max'] 593\n",
      "(2972, 5)\n",
      "field = 'latency_count' aggrs = ['count', 'sum', 'mean', 'std', 'max'] 593\n",
      "(2972, 10)\n",
      "field = 'latency_mean' aggrs = ['count', 'sum', 'mean', 'std', 'max'] 593\n",
      "(2972, 15)\n",
      "field = 'latency_max' aggrs = ['count', 'sum', 'mean', 'std', 'max'] 593\n",
      "(2972, 20)\n",
      "log ='flows' Buckets: dt_start =1614876000 dt_end =1617298200\n",
      "    Buckets: datetime.fromtimestamp(dt_start) =datetime.datetime(2021, 3, 4, 8, 40) datetime.fromtimestamp(dt_end) =datetime.datetime(2021, 4, 1, 10, 30)\n",
      "\n",
      "Loaded (500000, 40) \"../data/cluster.flows.500K.20210402.csv\"\n",
      "(500000, 40) 0   2021-03-04 08:40:00\n",
      "1   2021-03-04 08:40:00\n",
      "2   2021-03-04 08:40:00\n",
      "3   2021-03-04 08:40:00\n",
      "4   2021-03-04 08:40:00\n",
      "Name: start_time, dtype: datetime64[ns]\n",
      "field = 'bytes_in' aggrs = ['count', 'sum', 'mean', 'std', 'max'] 1,662\n",
      "(8087, 5)\n",
      "field = 'bytes_out' aggrs = ['count', 'sum', 'mean', 'std', 'max'] 1,662\n",
      "(8087, 10)\n",
      "field = 'num_flows' aggrs = ['count', 'sum', 'mean', 'std', 'max'] 1,662\n",
      "(8087, 15)\n",
      "field = 'num_flows_started' aggrs = ['count', 'sum', 'mean', 'std', 'max'] 1,662\n",
      "(8087, 20)\n",
      "field = 'num_flows_completed' aggrs = ['count', 'sum', 'mean', 'std', 'max'] 1,662\n",
      "(8087, 25)\n",
      "field = 'packets_in' aggrs = ['count', 'sum', 'mean', 'std', 'max'] 1,662\n",
      "(8087, 30)\n",
      "field = 'packets_out' aggrs = ['count', 'sum', 'mean', 'std', 'max'] 1,662\n",
      "(8087, 35)\n",
      "field = 'http_requests_allowed_in' aggrs = ['count'] 1,662\n",
      "(8087, 36)\n",
      "field = 'http_requests_denied_in' aggrs = ['count'] 1,662\n",
      "(8087, 37)\n",
      "field = 'num_process_names' aggrs = ['count'] 1,662\n",
      "(8087, 38)\n",
      "field = 'num_process_ids' aggrs = ['count'] 1,662\n",
      "(8087, 39)\n",
      "field = 'num_original_source_ips' aggrs = ['count'] 1,662\n",
      "(8087, 40)\n",
      "log ='l7' Buckets: dt_start =1617231600 dt_end =1617321300\n",
      "    Buckets: datetime.fromtimestamp(dt_start) =datetime.datetime(2021, 3, 31, 16, 0) datetime.fromtimestamp(dt_end) =datetime.datetime(2021, 4, 1, 16, 55)\n",
      "\n",
      "Loaded (7597, 22) \"../data/cluster.l7.7K.20210402.csv\"\n",
      "(7597, 22) 0   2021-03-31 16:00:00\n",
      "1   2021-03-31 16:00:00\n",
      "2   2021-03-31 16:00:00\n",
      "3   2021-03-31 16:00:00\n",
      "4   2021-03-31 16:00:00\n",
      "Name: start_time, dtype: datetime64[ns]\n",
      "field = 'count' aggrs = ['count', 'sum', 'mean', 'std', 'max'] 160\n",
      "(300, 5)\n",
      "field = 'duration_mean' aggrs = ['count', 'sum', 'mean', 'std', 'max'] 160\n",
      "(300, 10)\n",
      "field = 'duration_max' aggrs = ['count', 'sum', 'mean', 'std', 'max'] 160\n",
      "(300, 15)\n",
      "field = 'bytes_in' aggrs = ['count', 'sum', 'mean', 'std', 'max'] 160\n",
      "(300, 20)\n",
      "field = 'bytes_out' aggrs = ['count', 'sum', 'mean', 'std', 'max'] 160\n",
      "(300, 25)\n",
      "Saved (2972, 20) to \"../data/consolidated.dns.csv\" Index(['dns__count__count', 'dns__count__sum', 'dns__count__mean',\n",
      "       'dns__count__std', 'dns__count__max', 'dns__latency_count__count',\n",
      "       'dns__latency_count__sum', 'dns__latency_count__mean',\n",
      "       'dns__latency_count__std', 'dns__latency_count__max',\n",
      "       'dns__latency_mean__count', 'dns__latency_mean__sum',\n",
      "       'dns__latency_mean__mean', 'dns__latency_mean__std',\n",
      "       'dns__latency_mean__max', 'dns__latency_max__count',\n",
      "       'dns__latency_max__sum', 'dns__latency_max__mean',\n",
      "       'dns__latency_max__std', 'dns__latency_max__max'],\n",
      "      dtype='object')\n",
      "Saved (8087, 40) to \"../data/consolidated.flows.csv\" Index(['flows__bytes_in__count', 'flows__bytes_in__sum',\n",
      "       'flows__bytes_in__mean', 'flows__bytes_in__std', 'flows__bytes_in__max',\n",
      "       'flows__bytes_out__count', 'flows__bytes_out__sum',\n",
      "       'flows__bytes_out__mean', 'flows__bytes_out__std',\n",
      "       'flows__bytes_out__max', 'flows__num_flows__count',\n",
      "       'flows__num_flows__sum', 'flows__num_flows__mean',\n",
      "       'flows__num_flows__std', 'flows__num_flows__max',\n",
      "       'flows__num_flows_started__count', 'flows__num_flows_started__sum',\n",
      "       'flows__num_flows_started__mean', 'flows__num_flows_started__std',\n",
      "       'flows__num_flows_started__max', 'flows__num_flows_completed__count',\n",
      "       'flows__num_flows_completed__sum', 'flows__num_flows_completed__mean',\n",
      "       'flows__num_flows_completed__std', 'flows__num_flows_completed__max',\n",
      "       'flows__packets_in__count', 'flows__packets_in__sum',\n",
      "       'flows__packets_in__mean', 'flows__packets_in__std',\n",
      "       'flows__packets_in__max', 'flows__packets_out__count',\n",
      "       'flows__packets_out__sum', 'flows__packets_out__mean',\n",
      "       'flows__packets_out__std', 'flows__packets_out__max',\n",
      "       'flows__http_requests_allowed_in__count',\n",
      "       'flows__http_requests_denied_in__count',\n",
      "       'flows__num_process_names__count', 'flows__num_process_ids__count',\n",
      "       'flows__num_original_source_ips__count'],\n",
      "      dtype='object')\n",
      "Saved (300, 25) to \"../data/consolidated.l7.csv\" Index(['l7__count__count', 'l7__count__sum', 'l7__count__mean',\n",
      "       'l7__count__std', 'l7__count__max', 'l7__duration_mean__count',\n",
      "       'l7__duration_mean__sum', 'l7__duration_mean__mean',\n",
      "       'l7__duration_mean__std', 'l7__duration_mean__max',\n",
      "       'l7__duration_max__count', 'l7__duration_max__sum',\n",
      "       'l7__duration_max__mean', 'l7__duration_max__std',\n",
      "       'l7__duration_max__max', 'l7__bytes_in__count', 'l7__bytes_in__sum',\n",
      "       'l7__bytes_in__mean', 'l7__bytes_in__std', 'l7__bytes_in__max',\n",
      "       'l7__bytes_out__count', 'l7__bytes_out__sum', 'l7__bytes_out__mean',\n",
      "       'l7__bytes_out__std', 'l7__bytes_out__max'],\n",
      "      dtype='object')\n"
     ]
    }
   ],
   "source": [
    "def get_start_end_timestamps(logs, data_dir, files):\n",
    "    # we need data in the same time intervals. So we need to start and stop at the same time.\n",
    "    # Find start and stop time for all logs.\n",
    "    dt_limits = {}\n",
    "    for log, file in zip(logs, files):\n",
    "        file_name = f'{data_dir}/{file}'\n",
    "        df = pd.read_csv(file_name)\n",
    "        print(f'Loaded {df.shape} \"{file_name}\"') # {df.columns}')\n",
    "        if log == 'dns':\n",
    "            dt_limits[log] = [datetime_str_to_timestamp(df['start_time'].iloc[0]), datetime_str_to_timestamp(df['start_time'].iloc[-1])]\n",
    "        else:\n",
    "            dt_limits[log] = [(df['start_time'].iloc[0]), (df['start_time'].iloc[-1])]\n",
    "#     dt_start = max([limits[0] for limits in dt_limits.values()])\n",
    "#     dt_end =   min([limits[1] for limits in dt_limits.values()])\n",
    "#     dt_start = min([limits[0] for limits in dt_limits.values()])\n",
    "#     dt_end =   max([limits[1] for limits in dt_limits.values()])\n",
    "    print(f'{dt_limits =}')\n",
    "    return dt_limits\n",
    "\n",
    "def preprocess_data_by_log(logs, data_dir, files, measurements, bucket_size_seconds):\n",
    "    dt_limits = get_start_end_timestamps(logs, data_dir, files)\n",
    "    log_dfs = {}\n",
    "    for log, file in zip(logs, files):\n",
    "        dt_start  = set_bucket_timestamp(dt_limits[log][0], bucket_size_seconds=bucket_size_seconds, forward=False)\n",
    "        dt_end =    set_bucket_timestamp(dt_limits[log][1], bucket_size_seconds=bucket_size_seconds, forward=True)\n",
    "        print(f'{log =} Buckets: {dt_start =} {dt_end =}')\n",
    "        print(f'    Buckets: {datetime.fromtimestamp(dt_start) =} {datetime.fromtimestamp(dt_end) =}')\n",
    "        # Read data inside [dt_start,dt_end] limits:\n",
    "        # Read only the measurements columns\n",
    "        # All columns have the rules: \n",
    "        # - Use zero if a mesurement is not presented in this time bucket. # TBD \n",
    "        # - use the 'aggregation' func-s if more then 1 measurements presented in this time bucket. \n",
    "        #   The 'aggregation' func-s are mentioned in the `measurement` tupble.\n",
    "        df_consolidated = pd.DataFrame(index=pd.date_range(\n",
    "            start=datetime.fromtimestamp(dt_start), end=datetime.fromtimestamp(dt_end), freq=f'{bucket_size_seconds}S', name='start_time'))\n",
    "#     print(df_consolidated.head(2))\n",
    "#     print(df_consolidated.tail(2))\n",
    "        file_name = f'{data_dir}/{file}'\n",
    "        df = pd.read_csv(file_name)\n",
    "        print(f'\\nLoaded {df.shape} \"{file_name}\"') # {df.columns}')\n",
    "        if log == 'dns':\n",
    "            df['start_time'] = df['start_time'].apply(datetime_str_to_timestamp)\n",
    "#         print(df['start_time'].head())\n",
    "        # adjust start_time to the bucket_size_seconds\n",
    "        df['start_time'] = df['start_time'].apply(lambda r: set_bucket_timestamp(r, bucket_size_seconds=bucket_size_seconds, forward=False))\n",
    "        df['start_time'] = df['start_time'].apply(datetime.fromtimestamp)\n",
    "#         df = df[(df['start_time'] >= datetime.fromtimestamp(dt_start)) & (df['start_time'] <= datetime.fromtimestamp(dt_end))]\n",
    "        print(df.shape, df['start_time'].head())\n",
    "        for field, aggrs in measurements[log]:            \n",
    "            aggrs = aggrs if aggrs else ['count', 'sum', 'mean', 'std', 'max']\n",
    "#             df_tmp = df[:1000].set_index(pd.DatetimeIndex(df[:1000]['start_time']))  # TODO remove [:1000] after debugging\n",
    "#             df_tmp = df_tmp.resample(\"5Min\").aggregate(aggrs)\n",
    "            df_tmp = df[['start_time', field]].groupby('start_time').aggregate(aggrs) # TODO remove [:1000] after debugging\n",
    "            df_tmp.columns = [f'{log}__{field}__{aggr}' for aggr in aggrs]\n",
    "            print(f'{field = } {aggrs = } {df_tmp.shape[0]:,}')\n",
    "#             print(df_tmp.head())\n",
    "#             df_consolidated.merge(df_tmp)\n",
    "            df_consolidated = pd.merge(df_consolidated, df_tmp, on='start_time', how='left')\n",
    "            print(df_consolidated.shape)\n",
    "        log_dfs[log] = df_consolidated\n",
    "    return log_dfs\n",
    "              \n",
    "measurements = {\n",
    "    'dns':\n",
    "    [\n",
    "        ('count', None), ('latency_count', None), ('latency_mean', None),\n",
    "        ('latency_max', None), \n",
    "    ],\n",
    "    'flows':\n",
    "    [\n",
    "        ('bytes_in', None), ('bytes_out', None), \n",
    "        ('num_flows', None), ('num_flows_started', None),  ('num_flows_completed', None), \n",
    "        ('packets_in', None), ('packets_out', None), \n",
    "        ('http_requests_allowed_in', ['count']), ('http_requests_denied_in', ['count']), \n",
    "        ('num_process_names', ['count']), ('num_process_ids', ['count']), ('num_original_source_ips', ['count']), \n",
    "    ],\n",
    "    'l7':\n",
    "    [\n",
    "        ('count', None), ('duration_mean', None), ('duration_max', None), \n",
    "        ('bytes_in', None), ('bytes_out', None), \n",
    "#         ('count', None), ('duration_mean', None), ('duration_max', None), \n",
    "    \n",
    "    ],\n",
    "}  \n",
    "\n",
    "log_dfs = preprocess_data_by_log(logs, data_dir, files, measurements, bucket_size_seconds)\n",
    "\n",
    "for log, df in log_dfs.items():\n",
    "    file_out = f'../data/consolidated.{log}.csv'\n",
    "    df.to_csv(file_out)\n",
    "    print(f'Saved {df.shape} to \"{file_out}\" {df.columns}')\n"
   ]
  },
  {
   "cell_type": "code",
   "execution_count": 101,
   "metadata": {
    "execution": {
     "iopub.execute_input": "2021-07-06T01:19:38.357960Z",
     "iopub.status.busy": "2021-07-06T01:19:38.357791Z",
     "iopub.status.idle": "2021-07-06T01:19:38.361667Z",
     "shell.execute_reply": "2021-07-06T01:19:38.361173Z",
     "shell.execute_reply.started": "2021-07-06T01:19:38.357933Z"
    }
   },
   "outputs": [
    {
     "data": {
      "text/plain": [
       "(dict_keys(['dns', 'flows', 'l7']), [(2972, 20), (8087, 40), (300, 40)])"
      ]
     },
     "execution_count": 101,
     "metadata": {},
     "output_type": "execute_result"
    }
   ],
   "source": [
    "log_dfs.keys(), [df.shape for df in log_dfs.values()]"
   ]
  },
  {
   "cell_type": "markdown",
   "metadata": {},
   "source": [
    "#### forecasting"
   ]
  },
  {
   "cell_type": "code",
   "execution_count": 106,
   "metadata": {
    "execution": {
     "iopub.execute_input": "2021-07-06T16:27:18.655825Z",
     "iopub.status.busy": "2021-07-06T16:27:18.655598Z",
     "iopub.status.idle": "2021-07-06T16:27:18.658775Z",
     "shell.execute_reply": "2021-07-06T16:27:18.658200Z",
     "shell.execute_reply.started": "2021-07-06T16:27:18.655796Z"
    }
   },
   "outputs": [],
   "source": [
    "data_dir = '../data'\n",
    "logs = ['dns', 'flows', 'l7']"
   ]
  },
  {
   "cell_type": "code",
   "execution_count": 108,
   "metadata": {
    "collapsed": true,
    "execution": {
     "iopub.execute_input": "2021-07-06T16:29:31.153273Z",
     "iopub.status.busy": "2021-07-06T16:29:31.153058Z",
     "iopub.status.idle": "2021-07-06T16:29:31.183319Z",
     "shell.execute_reply": "2021-07-06T16:29:31.182908Z",
     "shell.execute_reply.started": "2021-07-06T16:29:31.153249Z"
    },
    "jupyter": {
     "outputs_hidden": true
    }
   },
   "outputs": [
    {
     "name": "stdout",
     "output_type": "stream",
     "text": [
      "Loaded (2972, 21) from \"../data/consolidated.dns.csv\" Index(['start_time', 'dns__count__count', 'dns__count__sum',\n",
      "       'dns__count__mean', 'dns__count__std', 'dns__count__max',\n",
      "       'dns__latency_count__count', 'dns__latency_count__sum',\n",
      "       'dns__latency_count__mean', 'dns__latency_count__std',\n",
      "       'dns__latency_count__max', 'dns__latency_mean__count',\n",
      "       'dns__latency_mean__sum', 'dns__latency_mean__mean',\n",
      "       'dns__latency_mean__std', 'dns__latency_mean__max',\n",
      "       'dns__latency_max__count', 'dns__latency_max__sum',\n",
      "       'dns__latency_max__mean', 'dns__latency_max__std',\n",
      "       'dns__latency_max__max'],\n",
      "      dtype='object')\n",
      "Loaded (8087, 41) from \"../data/consolidated.flows.csv\" Index(['start_time', 'flows__bytes_in__count', 'flows__bytes_in__sum',\n",
      "       'flows__bytes_in__mean', 'flows__bytes_in__std', 'flows__bytes_in__max',\n",
      "       'flows__bytes_out__count', 'flows__bytes_out__sum',\n",
      "       'flows__bytes_out__mean', 'flows__bytes_out__std',\n",
      "       'flows__bytes_out__max', 'flows__num_flows__count',\n",
      "       'flows__num_flows__sum', 'flows__num_flows__mean',\n",
      "       'flows__num_flows__std', 'flows__num_flows__max',\n",
      "       'flows__num_flows_started__count', 'flows__num_flows_started__sum',\n",
      "       'flows__num_flows_started__mean', 'flows__num_flows_started__std',\n",
      "       'flows__num_flows_started__max', 'flows__num_flows_completed__count',\n",
      "       'flows__num_flows_completed__sum', 'flows__num_flows_completed__mean',\n",
      "       'flows__num_flows_completed__std', 'flows__num_flows_completed__max',\n",
      "       'flows__packets_in__count', 'flows__packets_in__sum',\n",
      "       'flows__packets_in__mean', 'flows__packets_in__std',\n",
      "       'flows__packets_in__max', 'flows__packets_out__count',\n",
      "       'flows__packets_out__sum', 'flows__packets_out__mean',\n",
      "       'flows__packets_out__std', 'flows__packets_out__max',\n",
      "       'flows__http_requests_allowed_in__count',\n",
      "       'flows__http_requests_denied_in__count',\n",
      "       'flows__num_process_names__count', 'flows__num_process_ids__count',\n",
      "       'flows__num_original_source_ips__count'],\n",
      "      dtype='object')\n",
      "Loaded (300, 26) from \"../data/consolidated.l7.csv\" Index(['start_time', 'l7__count__count', 'l7__count__sum', 'l7__count__mean',\n",
      "       'l7__count__std', 'l7__count__max', 'l7__duration_mean__count',\n",
      "       'l7__duration_mean__sum', 'l7__duration_mean__mean',\n",
      "       'l7__duration_mean__std', 'l7__duration_mean__max',\n",
      "       'l7__duration_max__count', 'l7__duration_max__sum',\n",
      "       'l7__duration_max__mean', 'l7__duration_max__std',\n",
      "       'l7__duration_max__max', 'l7__bytes_in__count', 'l7__bytes_in__sum',\n",
      "       'l7__bytes_in__mean', 'l7__bytes_in__std', 'l7__bytes_in__max',\n",
      "       'l7__bytes_out__count', 'l7__bytes_out__sum', 'l7__bytes_out__mean',\n",
      "       'l7__bytes_out__std', 'l7__bytes_out__max'],\n",
      "      dtype='object')\n"
     ]
    }
   ],
   "source": [
    "dfs = {}\n",
    "for log in logs:\n",
    "    file_name = f'{data_dir}/consolidated.{log}.csv'\n",
    "    dfs[log] = pd.read_csv(file_name)\n",
    "    print(f'Loaded {dfs[log].shape} from \"{file_name}\" {dfs[log].columns}')"
   ]
  },
  {
   "cell_type": "markdown",
   "metadata": {
    "heading_collapsed": "true"
   },
   "source": [
    "## Gluon-TS"
   ]
  },
  {
   "cell_type": "markdown",
   "metadata": {
    "heading_collapsed": "true"
   },
   "source": [
    "### single variable data preprocessing"
   ]
  },
  {
   "cell_type": "code",
   "execution_count": 3,
   "metadata": {
    "execution": {
     "iopub.execute_input": "2021-07-19T05:01:24.871068Z",
     "iopub.status.busy": "2021-07-19T05:01:24.870807Z",
     "iopub.status.idle": "2021-07-19T05:01:24.915985Z",
     "shell.execute_reply": "2021-07-19T05:01:24.915433Z",
     "shell.execute_reply.started": "2021-07-19T05:01:24.871041Z"
    }
   },
   "outputs": [
    {
     "name": "stdout",
     "output_type": "stream",
     "text": [
      "Loaded (2972, 21) from \"../data/consolidated.dns.csv\" Index(['start_time', 'dns__count__count', 'dns__count__sum',\n",
      "       'dns__count__mean', 'dns__count__std', 'dns__count__max',\n",
      "       'dns__latency_count__count', 'dns__latency_count__sum',\n",
      "       'dns__latency_count__mean', 'dns__latency_count__std',\n",
      "       'dns__latency_count__max', 'dns__latency_mean__count',\n",
      "       'dns__latency_mean__sum', 'dns__latency_mean__mean',\n",
      "       'dns__latency_mean__std', 'dns__latency_mean__max',\n",
      "       'dns__latency_max__count', 'dns__latency_max__sum',\n",
      "       'dns__latency_max__mean', 'dns__latency_max__std',\n",
      "       'dns__latency_max__max'],\n",
      "      dtype='object')\n",
      "Loaded (8087, 41) from \"../data/consolidated.flows.csv\" Index(['start_time', 'flows__bytes_in__count', 'flows__bytes_in__sum',\n",
      "       'flows__bytes_in__mean', 'flows__bytes_in__std', 'flows__bytes_in__max',\n",
      "       'flows__bytes_out__count', 'flows__bytes_out__sum',\n",
      "       'flows__bytes_out__mean', 'flows__bytes_out__std',\n",
      "       'flows__bytes_out__max', 'flows__num_flows__count',\n",
      "       'flows__num_flows__sum', 'flows__num_flows__mean',\n",
      "       'flows__num_flows__std', 'flows__num_flows__max',\n",
      "       'flows__num_flows_started__count', 'flows__num_flows_started__sum',\n",
      "       'flows__num_flows_started__mean', 'flows__num_flows_started__std',\n",
      "       'flows__num_flows_started__max', 'flows__num_flows_completed__count',\n",
      "       'flows__num_flows_completed__sum', 'flows__num_flows_completed__mean',\n",
      "       'flows__num_flows_completed__std', 'flows__num_flows_completed__max',\n",
      "       'flows__packets_in__count', 'flows__packets_in__sum',\n",
      "       'flows__packets_in__mean', 'flows__packets_in__std',\n",
      "       'flows__packets_in__max', 'flows__packets_out__count',\n",
      "       'flows__packets_out__sum', 'flows__packets_out__mean',\n",
      "       'flows__packets_out__std', 'flows__packets_out__max',\n",
      "       'flows__http_requests_allowed_in__count',\n",
      "       'flows__http_requests_denied_in__count',\n",
      "       'flows__num_process_names__count', 'flows__num_process_ids__count',\n",
      "       'flows__num_original_source_ips__count'],\n",
      "      dtype='object')\n",
      "Loaded (300, 26) from \"../data/consolidated.l7.csv\" Index(['start_time', 'l7__count__count', 'l7__count__sum', 'l7__count__mean',\n",
      "       'l7__count__std', 'l7__count__max', 'l7__duration_mean__count',\n",
      "       'l7__duration_mean__sum', 'l7__duration_mean__mean',\n",
      "       'l7__duration_mean__std', 'l7__duration_mean__max',\n",
      "       'l7__duration_max__count', 'l7__duration_max__sum',\n",
      "       'l7__duration_max__mean', 'l7__duration_max__std',\n",
      "       'l7__duration_max__max', 'l7__bytes_in__count', 'l7__bytes_in__sum',\n",
      "       'l7__bytes_in__mean', 'l7__bytes_in__std', 'l7__bytes_in__max',\n",
      "       'l7__bytes_out__count', 'l7__bytes_out__sum', 'l7__bytes_out__mean',\n",
      "       'l7__bytes_out__std', 'l7__bytes_out__max'],\n",
      "      dtype='object')\n"
     ]
    }
   ],
   "source": [
    "import pandas as pd\n",
    "\n",
    "data_dir = '../data'\n",
    "logs = ['dns', 'flows', 'l7']\n",
    "dfs = {}\n",
    "for log in logs:\n",
    "    file_name = f'{data_dir}/consolidated.{log}.csv'\n",
    "    dfs[log] = pd.read_csv(file_name)\n",
    "    print(f'Loaded {dfs[log].shape} from \"{file_name}\" {dfs[log].columns}')"
   ]
  },
  {
   "cell_type": "code",
   "execution_count": 4,
   "metadata": {
    "execution": {
     "iopub.execute_input": "2021-07-19T05:01:28.783122Z",
     "iopub.status.busy": "2021-07-19T05:01:28.782956Z",
     "iopub.status.idle": "2021-07-19T05:01:29.108080Z",
     "shell.execute_reply": "2021-07-19T05:01:29.107506Z",
     "shell.execute_reply.started": "2021-07-19T05:01:28.783105Z"
    }
   },
   "outputs": [
    {
     "name": "stdout",
     "output_type": "stream",
     "text": [
      "\n",
      " (2972, 21)\n",
      "[(0, 139), (716, 148), (2094, 62), (2239, 8), (2240, 134), (2378, 102)]\n",
      "len(samples) = 4 len(samples[0]) = 100\n",
      "\n",
      " (8087, 41)\n",
      "[(0, 136), (171, 3), (172, 113), (901, 134), (1053, 136), (1209, 133), (3102, 135), (3238, 152), (3374, 152), (4097, 141), (4813, 148), (6191, 62), (6336, 144), (6473, 24)]\n",
      "len(samples) = 11 len(samples[0]) = 100\n",
      "\n",
      " (300, 26)\n",
      "[(0, 59), (139, 101)]\n",
      "len(samples) = 1 len(samples[0]) = 100\n"
     ]
    }
   ],
   "source": [
    "# seems we can use the time_interval_size = 100 (by 5 minutes)\n",
    "# select continuous spans with size = cut_size (time_interval_size). Remove spans without values and all with size < cut_size.\n",
    "from collections import defaultdict\n",
    "import numpy as np\n",
    "\n",
    "def select_even_sized_spans(df, check_col, cut_size):\n",
    "    dict_of_lists = defaultdict(list)\n",
    "    i = 0\n",
    "    print('\\n', df.shape)\n",
    "    for r in df.to_dict(orient='records'):\n",
    "        if np.isnan(r[check_col] or len(dict_of_lists[i]) >= cut_size):\n",
    "            i += 1\n",
    "            if np.isnan(r[check_col]): # do not append()\n",
    "                continue \n",
    "        dict_of_lists[i].append(r)\n",
    "    print([(k, len(v)) for k ,v in dict_of_lists.items()])\n",
    "#     max_len = max([len(v) for k ,v in dict_of_lists.items()])\n",
    "    samples = [list(v[:cut_size]) for v in dict_of_lists.values() if len(v) >= cut_size]\n",
    "    print(f'{len(samples) = } {len(samples[0]) = }')\n",
    "    return samples\n",
    "\n",
    "cfg = [['dns', 'dns__count__count'], ['flows', 'flows__bytes_in__sum'], ['l7', 'l7__count__sum']]\n",
    "df_spans = {k: select_even_sized_spans(dfs[k], f, 100) for k, f in cfg}"
   ]
  },
  {
   "cell_type": "code",
   "execution_count": 5,
   "metadata": {
    "execution": {
     "iopub.execute_input": "2021-07-19T05:01:31.865459Z",
     "iopub.status.busy": "2021-07-19T05:01:31.865246Z",
     "iopub.status.idle": "2021-07-19T05:01:31.870096Z",
     "shell.execute_reply": "2021-07-19T05:01:31.869606Z",
     "shell.execute_reply.started": "2021-07-19T05:01:31.865443Z"
    }
   },
   "outputs": [
    {
     "data": {
      "text/plain": [
       "dict_keys(['dns', 'flows', 'l7'])"
      ]
     },
     "execution_count": 5,
     "metadata": {},
     "output_type": "execute_result"
    }
   ],
   "source": [
    "df_spans.keys()"
   ]
  },
  {
   "cell_type": "code",
   "execution_count": 6,
   "metadata": {
    "execution": {
     "iopub.execute_input": "2021-07-19T05:01:33.033063Z",
     "iopub.status.busy": "2021-07-19T05:01:33.032804Z",
     "iopub.status.idle": "2021-07-19T05:01:33.038162Z",
     "shell.execute_reply": "2021-07-19T05:01:33.037671Z",
     "shell.execute_reply.started": "2021-07-19T05:01:33.033037Z"
    }
   },
   "outputs": [
    {
     "data": {
      "text/plain": [
       "(nan, numpy.float64, True)"
      ]
     },
     "execution_count": 6,
     "metadata": {},
     "output_type": "execute_result"
    }
   ],
   "source": [
    "el = dfs['l7'].loc[62, 'l7__count__sum']\n",
    "el, type(el), np.isnan(el)"
   ]
  },
  {
   "cell_type": "code",
   "execution_count": 7,
   "metadata": {
    "execution": {
     "iopub.execute_input": "2021-07-19T05:01:34.296408Z",
     "iopub.status.busy": "2021-07-19T05:01:34.296141Z",
     "iopub.status.idle": "2021-07-19T05:01:34.299623Z",
     "shell.execute_reply": "2021-07-19T05:01:34.298863Z",
     "shell.execute_reply.started": "2021-07-19T05:01:34.296382Z"
    }
   },
   "outputs": [],
   "source": [
    "samples = df_spans['flows']\n",
    "# samples * readings * dict_vars"
   ]
  },
  {
   "cell_type": "code",
   "execution_count": 8,
   "metadata": {
    "execution": {
     "iopub.execute_input": "2021-07-19T05:01:35.233727Z",
     "iopub.status.busy": "2021-07-19T05:01:35.233456Z",
     "iopub.status.idle": "2021-07-19T05:01:35.241148Z",
     "shell.execute_reply": "2021-07-19T05:01:35.240482Z",
     "shell.execute_reply.started": "2021-07-19T05:01:35.233700Z"
    }
   },
   "outputs": [
    {
     "data": {
      "text/plain": [
       "(11,\n",
       " 100,\n",
       " 41,\n",
       " {'start_time': '2021-03-04 08:40:00',\n",
       "  'flows__bytes_in__count': 145.0,\n",
       "  'flows__bytes_in__sum': 22604135.0,\n",
       "  'flows__bytes_in__mean': 155890.58620689655,\n",
       "  'flows__bytes_in__std': 1195564.177500049,\n",
       "  'flows__bytes_in__max': 14264797.0,\n",
       "  'flows__bytes_out__count': 145.0,\n",
       "  'flows__bytes_out__sum': 23896941.0,\n",
       "  'flows__bytes_out__mean': 164806.48965517242,\n",
       "  'flows__bytes_out__std': 1192228.544943757,\n",
       "  'flows__bytes_out__max': 14038087.0,\n",
       "  'flows__num_flows__count': 145.0,\n",
       "  'flows__num_flows__sum': 6439.0,\n",
       "  'flows__num_flows__mean': 44.40689655172414,\n",
       "  'flows__num_flows__std': 91.34561174703803,\n",
       "  'flows__num_flows__max': 588.0,\n",
       "  'flows__num_flows_started__count': 145.0,\n",
       "  'flows__num_flows_started__sum': 6439.0,\n",
       "  'flows__num_flows_started__mean': 44.40689655172414,\n",
       "  'flows__num_flows_started__std': 91.34561174703803,\n",
       "  'flows__num_flows_started__max': 588.0,\n",
       "  'flows__num_flows_completed__count': 145.0,\n",
       "  'flows__num_flows_completed__sum': 6043.0,\n",
       "  'flows__num_flows_completed__mean': 41.67586206896552,\n",
       "  'flows__num_flows_completed__std': 83.36773312980908,\n",
       "  'flows__num_flows_completed__max': 505.0,\n",
       "  'flows__packets_in__count': 145.0,\n",
       "  'flows__packets_in__sum': 22043.0,\n",
       "  'flows__packets_in__mean': 152.02068965517242,\n",
       "  'flows__packets_in__std': 358.4205798624926,\n",
       "  'flows__packets_in__max': 2555.0,\n",
       "  'flows__packets_out__count': 145.0,\n",
       "  'flows__packets_out__sum': 23455.0,\n",
       "  'flows__packets_out__mean': 161.75862068965515,\n",
       "  'flows__packets_out__std': 365.483665007033,\n",
       "  'flows__packets_out__max': 2926.0,\n",
       "  'flows__http_requests_allowed_in__count': 145.0,\n",
       "  'flows__http_requests_denied_in__count': 145.0,\n",
       "  'flows__num_process_names__count': 145.0,\n",
       "  'flows__num_process_ids__count': 145.0,\n",
       "  'flows__num_original_source_ips__count': 145.0})"
      ]
     },
     "execution_count": 8,
     "metadata": {},
     "output_type": "execute_result"
    }
   ],
   "source": [
    "len(samples), len(samples[0]), len(samples[0][0]), samples[0][0] # ['flows__bytes_in__count'] # list(samples[0][0].keys()), # len(samples[0][0]['']), "
   ]
  },
  {
   "cell_type": "code",
   "execution_count": 64,
   "metadata": {
    "execution": {
     "iopub.execute_input": "2021-07-08T23:04:35.099456Z",
     "iopub.status.busy": "2021-07-08T23:04:35.099285Z",
     "iopub.status.idle": "2021-07-08T23:04:35.101673Z",
     "shell.execute_reply": "2021-07-08T23:04:35.101187Z",
     "shell.execute_reply.started": "2021-07-08T23:04:35.099439Z"
    }
   },
   "outputs": [],
   "source": [
    "# input format: [sample_id, [{'start_time': start_time_0, dim_1: dim_1_0, ..., dim_n: dim_n_0}]] : samples * times * variables\n",
    "## NOTE: rows should be sorted by start_time! So, we can get start_time_0, and place values by time\n",
    "# convert to format: [sample_id, start_time_0, [dim_1_0, ..., dim_1_cut_size]] : samples * vaiables * times\n",
    "# where sample_id - # of the time_interval,\n",
    "# start_time - pd.DateTime() -start of the time_interval\n",
    "# dim_n_serie - a list of normalized [0, 1] values of the n-th vaiable with time_interval_size (100)"
   ]
  },
  {
   "cell_type": "code",
   "execution_count": 9,
   "metadata": {
    "execution": {
     "iopub.execute_input": "2021-07-19T05:01:39.669427Z",
     "iopub.status.busy": "2021-07-19T05:01:39.669160Z",
     "iopub.status.idle": "2021-07-19T05:01:39.702668Z",
     "shell.execute_reply": "2021-07-19T05:01:39.702022Z",
     "shell.execute_reply.started": "2021-07-19T05:01:39.669401Z"
    }
   },
   "outputs": [
    {
     "name": "stdout",
     "output_type": "stream",
     "text": [
      "start_times[-1] = '2021-03-04 08:40:00'\n",
      "start_times[-1] = '2021-03-05 10:35:00'\n",
      "start_times[-1] = '2021-03-08 08:45:00'\n",
      "start_times[-1] = '2021-03-09 08:35:00'\n",
      "start_times[-1] = '2021-03-10 08:55:00'\n",
      "start_times[-1] = '2021-03-17 09:45:00'\n",
      "start_times[-1] = '2021-03-18 08:20:00'\n",
      "start_times[-1] = '2021-03-19 08:20:00'\n",
      "start_times[-1] = '2021-03-22 09:15:00'\n",
      "start_times[-1] = '2021-03-25 08:40:00'\n",
      "start_times[-1] = '2021-03-31 09:05:00'\n",
      "start_times = ['2021-03-04 08:40:00', '2021-03-05 10:35:00', '2021-03-08 08:45:00', '2021-03-09 08:35:00', '2021-03-10 08:55:00', '2021-03-17 09:45:00', '2021-03-18 08:20:00', '2021-03-19 08:20:00', '2021-03-22 09:15:00', '2021-03-25 08:40:00', '2021-03-31 09:05:00'], var_names = dict_keys(['flows__bytes_in__count', 'flows__bytes_in__sum', 'flows__bytes_in__mean', 'flows__bytes_in__std', 'flows__bytes_in__max', 'flows__bytes_out__count', 'flows__bytes_out__sum', 'flows__bytes_out__mean', 'flows__bytes_out__std', 'flows__bytes_out__max', 'flows__num_flows__count', 'flows__num_flows__sum', 'flows__num_flows__mean', 'flows__num_flows__std', 'flows__num_flows__max', 'flows__num_flows_started__count', 'flows__num_flows_started__sum', 'flows__num_flows_started__mean', 'flows__num_flows_started__std', 'flows__num_flows_started__max', 'flows__num_flows_completed__count', 'flows__num_flows_completed__sum', 'flows__num_flows_completed__mean', 'flows__num_flows_completed__std', 'flows__num_flows_completed__max', 'flows__packets_in__count', 'flows__packets_in__sum', 'flows__packets_in__mean', 'flows__packets_in__std', 'flows__packets_in__max', 'flows__packets_out__count', 'flows__packets_out__sum', 'flows__packets_out__mean', 'flows__packets_out__std', 'flows__packets_out__max', 'flows__http_requests_allowed_in__count', 'flows__http_requests_denied_in__count', 'flows__num_process_names__count', 'flows__num_process_ids__count', 'flows__num_original_source_ips__count'])\n",
      "len(sample_lists) =11 len(sample_lists[0]) = 40 len(sample_lists[0][0]) = 100 sample_lists[0][0] =[0.8206896551724138, 0.296551724137931, 0.2482758620689655, 0.2482758620689655, 0.25517241379310346, 0.09655172413793103, 0.21379310344827587, 0.2482758620689655, 0.08275862068965517, 0.2482758620689655, 0.2482758620689655, 0.2482758620689655, 0.2689655172413793, 0.2482758620689655, 0.2482758620689655, 0.2827586206896552, 0.2482758620689655, 0.2482758620689655, 0.2482758620689655, 0.2482758620689655, 0.2482758620689655, 0.2482758620689655, 0.16551724137931034, 0.2482758620689655, 0.19310344827586207, 0.2620689655172414, 0.1724137931034483, 0.09655172413793103, 0.2620689655172414, 0.2482758620689655, 0.21379310344827587, 0.2482758620689655, 0.2482758620689655, 0.2482758620689655, 0.2482758620689655, 0.2482758620689655, 0.2689655172413793, 0.2482758620689655, 0.2482758620689655, 0.2896551724137931, 0.2482758620689655, 0.2482758620689655, 0.16551724137931034, 0.2482758620689655, 0.08275862068965517, 0.2482758620689655, 0.1793103448275862, 0.2482758620689655, 0.1793103448275862, 0.25517241379310346, 0.2482758620689655, 0.2827586206896552, 0.21379310344827587, 0.2482758620689655, 0.2482758620689655, 0.2482758620689655, 0.2482758620689655, 0.2482758620689655, 0.2482758620689655, 0.23448275862068965, 0.2689655172413793, 0.23448275862068965, 0.08275862068965517, 0.2896551724137931, 0.25517241379310346, 0.2482758620689655, 0.15862068965517243, 0.23448275862068965, 0.23448275862068965, 0.16551724137931034, 0.15862068965517243, 0.2, 0.25517241379310346, 0.2413793103448276, 0.22758620689655173, 0.2827586206896552, 0.23448275862068965, 0.23448275862068965, 0.2896551724137931, 0.2896551724137931, 0.2896551724137931, 0.23448275862068965, 0.23448275862068965, 0.23448275862068965, 0.25517241379310346, 0.16551724137931034, 0.0, 0.30344827586206896, 0.2413793103448276, 0.2827586206896552, 0.2482758620689655, 0.2620689655172414, 0.2827586206896552, 0.2413793103448276, 0.296551724137931, 0.3103448275862069, 0.3448275862068966, 0.3586206896551724, 0.3586206896551724, 1.0]\n"
     ]
    }
   ],
   "source": [
    "from collections import defaultdict\n",
    "\n",
    "def reformat(samples, is_sorted_by_dt=False, normalize=True):\n",
    "    \"\"\" \n",
    "    Convert: samples * readings * dict_vars -> samples * vars * readings\n",
    "    Readings are clean: all are numbers; no NaN, infinit, -infinit, missed.\n",
    "    If not is_sorted_by_dt, sort by readings.\n",
    "    Return: start_times, samples\n",
    "    where start_times: List[dt] - sorted list of the first sort_time (first reading) of each sample\n",
    "    samples = sample * vars * reading - [sample, ...], sample: [var, ...], var: [reading, ..]\n",
    "    Each sample has the same # of vars. Each var has the same # of reading.\n",
    "    \"\"\"\n",
    "    if not samples:\n",
    "        return None, None, None\n",
    "    \n",
    "    res_samples, start_times, var_names = [], [], []\n",
    "    dt_col = 'start_time'\n",
    "    for ss in samples:\n",
    "        if not ss:\n",
    "            continue\n",
    "        if not is_sorted_by_dt:\n",
    "            dt2ss = {s[dt_col]: s for s in ss}\n",
    "            ss = [s for _, s in sorted(dt2ss.items(), key=lambda x: x[0])]\n",
    "#             print(f'{ss[0] = }')\n",
    "        start_times.append(sorted([s[dt_col] for s in ss])[0])\n",
    "        print(f'{start_times[-1] = }')\n",
    "        \n",
    "        var2values = defaultdict(list)\n",
    "        for s in ss:\n",
    "            for k, v in s.items():\n",
    "                if k != dt_col:\n",
    "                    var2values[k].append(v)\n",
    "        \n",
    "        var_names = var2values.keys()\n",
    "        \n",
    "        res_samples.append([v for v in var2values.values()])\n",
    "        \n",
    "    if normalize:\n",
    "        out = []\n",
    "        for vars in res_samples:\n",
    "            out_sample = []\n",
    "            for var in vars:  \n",
    "                out_vars = []\n",
    "                min_val = min(var)\n",
    "                max_var = max(var)\n",
    "                out_sample.append([(vv - min_val)/(max_var - min_val) for vv in var])\n",
    "            out.append(out_sample)\n",
    "        res_samples = out\n",
    "    return res_samples, start_times, var_names\n",
    "        \n",
    "        \n",
    "        \n",
    "sample_lists, start_times, var_names = reformat(samples, normalize=True)\n",
    "print(f'{start_times = }, {var_names = }')\n",
    "print(f'{len(sample_lists) =} {len(sample_lists[0]) = } {len(sample_lists[0][0]) = } {sample_lists[0][0] =}')"
   ]
  },
  {
   "cell_type": "markdown",
   "metadata": {
    "heading_collapsed": "true"
   },
   "source": [
    "### ListDatasets"
   ]
  },
  {
   "cell_type": "code",
   "execution_count": 10,
   "metadata": {
    "execution": {
     "iopub.execute_input": "2021-07-19T05:01:43.133740Z",
     "iopub.status.busy": "2021-07-19T05:01:43.133535Z",
     "iopub.status.idle": "2021-07-19T05:01:43.226072Z",
     "shell.execute_reply": "2021-07-19T05:01:43.225572Z",
     "shell.execute_reply.started": "2021-07-19T05:01:43.133723Z"
    }
   },
   "outputs": [],
   "source": [
    "import mxnet as mx\n",
    "from mxnet import gluon\n",
    "import numpy as np\n",
    "import pandas as pd\n",
    "import matplotlib.pyplot as plt\n",
    "import json\n",
    "import os\n",
    "from itertools import islice\n",
    "from pathlib import Path\n",
    "\n",
    "from gluonts.dataset.field_names import FieldName\n",
    "# from gluonts.dataset.artificial import ComplexSeasonalTimeSeries\n",
    "from gluonts.dataset.common import ListDataset\n",
    "from gluonts.dataset.repository.datasets import get_dataset, dataset_recipes\n",
    "from gluonts.dataset.util import to_pandas\n",
    "from gluonts.evaluation import make_evaluation_predictions\n"
   ]
  },
  {
   "cell_type": "code",
   "execution_count": 11,
   "metadata": {
    "execution": {
     "iopub.execute_input": "2021-07-19T05:01:45.569892Z",
     "iopub.status.busy": "2021-07-19T05:01:45.569734Z",
     "iopub.status.idle": "2021-07-19T05:01:45.573689Z",
     "shell.execute_reply": "2021-07-19T05:01:45.573288Z",
     "shell.execute_reply.started": "2021-07-19T05:01:45.569876Z"
    }
   },
   "outputs": [
    {
     "data": {
      "text/plain": [
       "{'num_series': 11,\n",
       " 'num_steps': 100,\n",
       " 'prediction_length': 10,\n",
       " 'freq': '5min',\n",
       " 'start': ['2021-03-04 08:40:00',\n",
       "  '2021-03-05 10:35:00',\n",
       "  '2021-03-08 08:45:00',\n",
       "  '2021-03-09 08:35:00',\n",
       "  '2021-03-10 08:55:00',\n",
       "  '2021-03-17 09:45:00',\n",
       "  '2021-03-18 08:20:00',\n",
       "  '2021-03-19 08:20:00',\n",
       "  '2021-03-22 09:15:00',\n",
       "  '2021-03-25 08:40:00',\n",
       "  '2021-03-31 09:05:00']}"
      ]
     },
     "execution_count": 11,
     "metadata": {},
     "output_type": "execute_result"
    }
   ],
   "source": [
    "custom_ds_metadata = {\n",
    "    'num_series': len(sample_lists),\n",
    "    'num_steps': len(sample_lists[0][0]),\n",
    "    'prediction_length': 10,\n",
    "    'freq': '5min',\n",
    "    'start': start_times\n",
    "}\n",
    "custom_ds_metadata"
   ]
  },
  {
   "cell_type": "code",
   "execution_count": 12,
   "metadata": {
    "execution": {
     "iopub.execute_input": "2021-07-19T05:01:50.524550Z",
     "iopub.status.busy": "2021-07-19T05:01:50.523715Z",
     "iopub.status.idle": "2021-07-19T05:01:50.538428Z",
     "shell.execute_reply": "2021-07-19T05:01:50.537765Z",
     "shell.execute_reply.started": "2021-07-19T05:01:50.524499Z"
    }
   },
   "outputs": [],
   "source": [
    "prediction_length = 5\n",
    "\n",
    "feature_num_max = len(sample_lists[0]) # the first element is the start_time.\n",
    "feature_num = 1\n",
    "sample_num = len(sample_lists)\n",
    "var_num = len(sample_lists[0])\n",
    "\n",
    "train_ds = ListDataset(\n",
    "    [\n",
    "        {\n",
    "            FieldName.TARGET: sample[feature_num][:-custom_ds_metadata['prediction_length']],\n",
    "            FieldName.START: start_time,\n",
    "            FieldName.FEAT_DYNAMIC_REAL: [s[:-custom_ds_metadata['prediction_length']] for s in sample], #[fdr],\n",
    "#             FieldName.FEAT_STATIC_CAT: [fsc],\n",
    "        }\n",
    "        for start_time, sample in zip(start_times, sample_lists)\n",
    "#         for (target, start, fdr, fsc) in zip(\n",
    "#             target[:, :-custom_ds_metadata['prediction_length']],\n",
    "#             custom_ds_metadata['start'],\n",
    "#             feat_dynamic_real[:, :-custom_ds_metadata['prediction_length']],\n",
    "#             feat_static_cat\n",
    "#         )\n",
    "    ],\n",
    "    freq=custom_ds_metadata['freq']\n",
    ")\n",
    "\n",
    "test_ds = ListDataset(\n",
    "    [\n",
    "        {\n",
    "            FieldName.TARGET: sample[feature_num],\n",
    "            FieldName.START: start_time,\n",
    "            FieldName.FEAT_DYNAMIC_REAL: sample, #[fdr],\n",
    "#             FieldName.FEAT_STATIC_CAT: [fsc],\n",
    "        }\n",
    "        for start_time, sample in zip(start_times, sample_lists)\n",
    "#         for (target, start, fdr, fsc) in zip(\n",
    "#             target[:, :-custom_ds_metadata['prediction_length']],\n",
    "#             custom_ds_metadata['start'],\n",
    "#             feat_dynamic_real[:, :-custom_ds_metadata['prediction_length']],\n",
    "#             feat_static_cat\n",
    "#         )\n",
    "    ],\n",
    "    freq=custom_ds_metadata['freq']\n",
    ")"
   ]
  },
  {
   "cell_type": "code",
   "execution_count": 13,
   "metadata": {
    "execution": {
     "iopub.execute_input": "2021-07-19T05:01:51.098788Z",
     "iopub.status.busy": "2021-07-19T05:01:51.098513Z",
     "iopub.status.idle": "2021-07-19T05:01:51.108269Z",
     "shell.execute_reply": "2021-07-19T05:01:51.107517Z",
     "shell.execute_reply.started": "2021-07-19T05:01:51.098752Z"
    }
   },
   "outputs": [
    {
     "data": {
      "text/plain": [
       "dict_keys(['target', 'start', 'feat_dynamic_real', 'source'])"
      ]
     },
     "execution_count": 13,
     "metadata": {},
     "output_type": "execute_result"
    }
   ],
   "source": [
    "train_entry = next(iter(train_ds))\n",
    "train_entry.keys()"
   ]
  },
  {
   "cell_type": "code",
   "execution_count": 14,
   "metadata": {
    "execution": {
     "iopub.execute_input": "2021-07-19T05:01:51.825282Z",
     "iopub.status.busy": "2021-07-19T05:01:51.825073Z",
     "iopub.status.idle": "2021-07-19T05:01:51.828916Z",
     "shell.execute_reply": "2021-07-19T05:01:51.828494Z",
     "shell.execute_reply.started": "2021-07-19T05:01:51.825266Z"
    }
   },
   "outputs": [
    {
     "data": {
      "text/plain": [
       "dict_keys(['target', 'start', 'feat_dynamic_real', 'source'])"
      ]
     },
     "execution_count": 14,
     "metadata": {},
     "output_type": "execute_result"
    }
   ],
   "source": [
    "test_entry = next(iter(test_ds))\n",
    "test_entry.keys()"
   ]
  },
  {
   "cell_type": "code",
   "execution_count": 15,
   "metadata": {
    "execution": {
     "iopub.execute_input": "2021-07-19T05:01:54.832230Z",
     "iopub.status.busy": "2021-07-19T05:01:54.832018Z",
     "iopub.status.idle": "2021-07-19T05:01:55.133683Z",
     "shell.execute_reply": "2021-07-19T05:01:55.133083Z",
     "shell.execute_reply.started": "2021-07-19T05:01:54.832214Z"
    }
   },
   "outputs": [
    {
     "data": {
      "image/png": "[encoded data removed]",
      "text/plain": [
       "<Figure size 720x504 with 2 Axes>"
      ]
     },
     "metadata": {
      "needs_background": "light"
     },
     "output_type": "display_data"
    }
   ],
   "source": [
    "test_series = to_pandas(test_entry)\n",
    "train_series = to_pandas(train_entry)\n",
    "\n",
    "fig, ax = plt.subplots(2, 1, sharex=True, sharey=True, figsize=(10, 7))\n",
    "\n",
    "train_series.plot(ax=ax[0])\n",
    "ax[0].grid(which=\"both\")\n",
    "ax[0].legend([\"train series\"], loc=\"upper left\")\n",
    "\n",
    "test_series.plot(ax=ax[1])\n",
    "ax[1].axvline(train_series.index[-1], color='r') # end of train dataset\n",
    "ax[1].grid(which=\"both\")\n",
    "ax[1].legend([\"test series\", \"end of train series\"], loc=\"upper left\")\n",
    "\n",
    "plt.show()"
   ]
  },
  {
   "cell_type": "markdown",
   "metadata": {
    "heading_collapsed": "true"
   },
   "source": [
    "### SimpleFeedForwardEstimator"
   ]
  },
  {
   "cell_type": "code",
   "execution_count": 17,
   "metadata": {
    "execution": {
     "iopub.execute_input": "2021-07-19T05:02:23.489023Z",
     "iopub.status.busy": "2021-07-19T05:02:23.488669Z",
     "iopub.status.idle": "2021-07-19T05:02:23.502349Z",
     "shell.execute_reply": "2021-07-19T05:02:23.501626Z",
     "shell.execute_reply.started": "2021-07-19T05:02:23.488983Z"
    }
   },
   "outputs": [],
   "source": [
    "from gluonts.model.simple_feedforward import SimpleFeedForwardEstimator\n",
    "from gluonts.mx import Trainer"
   ]
  },
  {
   "cell_type": "code",
   "execution_count": 584,
   "metadata": {
    "execution": {
     "iopub.execute_input": "2021-07-12T23:52:18.600026Z",
     "iopub.status.busy": "2021-07-12T23:52:18.599868Z",
     "iopub.status.idle": "2021-07-12T23:52:18.608852Z",
     "shell.execute_reply": "2021-07-12T23:52:18.608346Z",
     "shell.execute_reply.started": "2021-07-12T23:52:18.600010Z"
    }
   },
   "outputs": [
    {
     "data": {
      "text/plain": [
       "gluonts.model.simple_feedforward._estimator.SimpleFeedForwardEstimator(batch_normalization=False, batch_size=32, context_length=20, distr_output=gluonts.mx.distribution.student_t.StudentTOutput(), freq=\"5min\", imputation_method=None, mean_scaling=True, num_hidden_dimensions=[10], num_parallel_samples=100, prediction_length=10, sampling=True, train_sampler=None, trainer=gluonts.mx.trainer._base.Trainer(add_default_callbacks=True, batch_size=None, callbacks=None, clip_gradient=10.0, ctx=mxnet.context.Context(\"cpu\", 0), epochs=10, hybridize=False, init=\"xavier\", learning_rate=0.001, learning_rate_decay_factor=0.5, minimum_learning_rate=5e-05, num_batches_per_epoch=100, patience=3, weight_decay=1e-08), validation_sampler=None)"
      ]
     },
     "execution_count": 584,
     "metadata": {},
     "output_type": "execute_result"
    }
   ],
   "source": [
    "estimator = SimpleFeedForwardEstimator(\n",
    "    num_hidden_dimensions=[10],\n",
    "    prediction_length=custom_ds_metadata['prediction_length'],\n",
    "    context_length=2*custom_ds_metadata['prediction_length'],\n",
    "    freq=custom_ds_metadata['freq'],\n",
    "    trainer=Trainer(\n",
    "        ctx=\"cpu\", \n",
    "        epochs=10, \n",
    "        learning_rate=1e-3, \n",
    "        hybridize=False, \n",
    "        num_batches_per_epoch=100,\n",
    "        patience=3\n",
    "    )\n",
    ")\n",
    "estimator"
   ]
  },
  {
   "cell_type": "code",
   "execution_count": 585,
   "metadata": {
    "execution": {
     "iopub.execute_input": "2021-07-12T23:52:19.948619Z",
     "iopub.status.busy": "2021-07-12T23:52:19.948103Z",
     "iopub.status.idle": "2021-07-12T23:52:32.591721Z",
     "shell.execute_reply": "2021-07-12T23:52:32.591302Z",
     "shell.execute_reply.started": "2021-07-12T23:52:19.948550Z"
    }
   },
   "outputs": [
    {
     "name": "stderr",
     "output_type": "stream",
     "text": [
      "100%|██████████| 100/100 [00:01<00:00, 75.56it/s, epoch=1/10, avg_epoch_loss=0.63]\n",
      "100%|██████████| 100/100 [00:01<00:00, 72.56it/s, epoch=2/10, avg_epoch_loss=0.0214]\n",
      "100%|██████████| 100/100 [00:01<00:00, 82.62it/s, epoch=3/10, avg_epoch_loss=-.0694]\n",
      "100%|██████████| 100/100 [00:01<00:00, 86.49it/s, epoch=4/10, avg_epoch_loss=-.138]\n",
      "100%|██████████| 100/100 [00:01<00:00, 85.82it/s, epoch=5/10, avg_epoch_loss=-.154]\n",
      "100%|██████████| 100/100 [00:01<00:00, 85.30it/s, epoch=6/10, avg_epoch_loss=-.191]\n",
      "100%|██████████| 100/100 [00:01<00:00, 82.44it/s, epoch=7/10, avg_epoch_loss=-.201]\n",
      "100%|██████████| 100/100 [00:01<00:00, 79.01it/s, epoch=8/10, avg_epoch_loss=-.216]\n",
      "100%|██████████| 100/100 [00:01<00:00, 73.29it/s, epoch=9/10, avg_epoch_loss=-.176]\n",
      "100%|██████████| 100/100 [00:01<00:00, 75.32it/s, epoch=10/10, avg_epoch_loss=-.205]\n"
     ]
    }
   ],
   "source": [
    "predictor = estimator.train(train_ds)"
   ]
  },
  {
   "cell_type": "markdown",
   "metadata": {
    "heading_collapsed": "true"
   },
   "source": [
    "### custom network"
   ]
  },
  {
   "cell_type": "code",
   "execution_count": 564,
   "metadata": {
    "execution": {
     "iopub.execute_input": "2021-07-12T23:45:01.571489Z",
     "iopub.status.busy": "2021-07-12T23:45:01.571291Z",
     "iopub.status.idle": "2021-07-12T23:45:01.575250Z",
     "shell.execute_reply": "2021-07-12T23:45:01.574589Z",
     "shell.execute_reply.started": "2021-07-12T23:45:01.571469Z"
    }
   },
   "outputs": [],
   "source": [
    "from functools import partial\n",
    "from mxnet.gluon import HybridBlock\n",
    "from gluonts.core.component import validated\n",
    "from gluonts.dataset.loader import TrainDataLoader\n",
    "from gluonts.model.predictor import Predictor\n",
    "from gluonts.mx import (\n",
    "    as_in_context, \n",
    "    batchify,\n",
    "    copy_parameters, \n",
    "    get_hybrid_forward_input_names,\n",
    "    GluonEstimator,\n",
    "    RepresentableBlockPredictor,\n",
    "    Trainer,\n",
    ")\n",
    "from gluonts.transform import (\n",
    "    ExpectedNumInstanceSampler,\n",
    "    Transformation,\n",
    "    InstanceSplitter,\n",
    "    TestSplitSampler,\n",
    "    SelectFields,\n",
    "    Chain\n",
    ")"
   ]
  },
  {
   "cell_type": "code",
   "execution_count": 565,
   "metadata": {
    "execution": {
     "iopub.execute_input": "2021-07-12T23:45:21.392263Z",
     "iopub.status.busy": "2021-07-12T23:45:21.391924Z",
     "iopub.status.idle": "2021-07-12T23:45:21.410444Z",
     "shell.execute_reply": "2021-07-12T23:45:21.409858Z",
     "shell.execute_reply.started": "2021-07-12T23:45:21.392230Z"
    }
   },
   "outputs": [],
   "source": [
    "class MyNetwork(gluon.HybridBlock):\n",
    "    def __init__(self, prediction_length, num_cells, **kwargs):\n",
    "        super().__init__(**kwargs)\n",
    "        self.prediction_length = prediction_length\n",
    "        self.num_cells = num_cells\n",
    "    \n",
    "        with self.name_scope():\n",
    "            # Set up a 3 layer neural network that directly predicts the target values\n",
    "            self.nn = mx.gluon.nn.HybridSequential()\n",
    "            self.nn.add(mx.gluon.nn.Dense(units=self.num_cells, activation='relu'))\n",
    "            self.nn.add(mx.gluon.nn.Dense(units=self.num_cells, activation='relu'))\n",
    "            self.nn.add(mx.gluon.nn.Dense(units=self.prediction_length, activation='softrelu'))\n",
    "\n",
    "\n",
    "class MyTrainNetwork(MyNetwork):    \n",
    "    def hybrid_forward(self, F, past_target, future_target):\n",
    "        prediction = self.nn(past_target)\n",
    "        # calculate L1 loss with the future_target to learn the median\n",
    "        return (prediction - future_target).abs().mean(axis=-1)\n",
    "\n",
    "\n",
    "class MyPredNetwork(MyTrainNetwork):\n",
    "    # The prediction network only receives past_target and returns predictions\n",
    "    def hybrid_forward(self, F, past_target):\n",
    "        prediction = self.nn(past_target)\n",
    "        return prediction.expand_dims(axis=1)\n",
    "    \n",
    "class MyEstimator(GluonEstimator):\n",
    "    @validated()\n",
    "    def __init__(\n",
    "        self,\n",
    "        prediction_length: int,\n",
    "        context_length: int,\n",
    "        freq: str,\n",
    "        num_cells: int,\n",
    "        batch_size: int = 32,\n",
    "        trainer: Trainer = Trainer()\n",
    "    ) -> None:\n",
    "        super().__init__(trainer=trainer, batch_size=batch_size)\n",
    "        self.prediction_length = prediction_length\n",
    "        self.context_length = context_length\n",
    "        self.freq = freq\n",
    "        self.num_cells = num_cells\n",
    "            \n",
    "    def create_transformation(self):\n",
    "        return Chain([])\n",
    "    \n",
    "    def create_training_data_loader(self, dataset, **kwargs):\n",
    "        instance_splitter = InstanceSplitter(\n",
    "            target_field=FieldName.TARGET,\n",
    "            is_pad_field=FieldName.IS_PAD,\n",
    "            start_field=FieldName.START,\n",
    "            forecast_start_field=FieldName.FORECAST_START,\n",
    "            instance_sampler=ExpectedNumInstanceSampler(\n",
    "                num_instances=1,\n",
    "                min_future=self.prediction_length\n",
    "            ),\n",
    "            past_length=self.context_length,\n",
    "            future_length=self.prediction_length,\n",
    "        )\n",
    "        input_names = get_hybrid_forward_input_names(MyTrainNetwork)\n",
    "        return TrainDataLoader(\n",
    "            dataset=dataset,\n",
    "            transform=instance_splitter + SelectFields(input_names),\n",
    "            batch_size=self.batch_size,\n",
    "            stack_fn=partial(batchify, ctx=self.trainer.ctx, dtype=self.dtype),\n",
    "            decode_fn=partial(as_in_context, ctx=self.trainer.ctx),\n",
    "            **kwargs,\n",
    "        )\n",
    "    \n",
    "    def create_training_network(self) -> MyTrainNetwork:\n",
    "        return MyTrainNetwork(\n",
    "            prediction_length=self.prediction_length,\n",
    "            num_cells = self.num_cells\n",
    "        )\n",
    "\n",
    "    def create_predictor(\n",
    "        self, transformation: Transformation, trained_network: HybridBlock\n",
    "    ) -> Predictor:\n",
    "        prediction_splitter = InstanceSplitter(\n",
    "            target_field=FieldName.TARGET,\n",
    "            is_pad_field=FieldName.IS_PAD,\n",
    "            start_field=FieldName.START,\n",
    "            forecast_start_field=FieldName.FORECAST_START,\n",
    "            instance_sampler=TestSplitSampler(),\n",
    "            past_length=self.context_length,\n",
    "            future_length=self.prediction_length,\n",
    "        )\n",
    "\n",
    "        prediction_network = MyPredNetwork(\n",
    "            prediction_length=self.prediction_length,\n",
    "            num_cells=self.num_cells\n",
    "        )\n",
    "\n",
    "        copy_parameters(trained_network, prediction_network)\n",
    "\n",
    "        return RepresentableBlockPredictor(\n",
    "            input_transform=transformation + prediction_splitter,\n",
    "            prediction_net=prediction_network,\n",
    "            batch_size=self.trainer.batch_size,\n",
    "            freq=self.freq,\n",
    "            prediction_length=self.prediction_length,\n",
    "            ctx=self.trainer.ctx,\n",
    "        )"
   ]
  },
  {
   "cell_type": "code",
   "execution_count": 566,
   "metadata": {
    "execution": {
     "iopub.execute_input": "2021-07-12T23:45:22.074967Z",
     "iopub.status.busy": "2021-07-12T23:45:22.074745Z",
     "iopub.status.idle": "2021-07-12T23:45:34.465177Z",
     "shell.execute_reply": "2021-07-12T23:45:34.464730Z",
     "shell.execute_reply.started": "2021-07-12T23:45:22.074944Z"
    }
   },
   "outputs": [
    {
     "name": "stderr",
     "output_type": "stream",
     "text": [
      "100%|██████████| 100/100 [00:01<00:00, 82.23it/s, epoch=1/10, avg_epoch_loss=0.665]\n",
      "100%|██████████| 100/100 [00:01<00:00, 85.07it/s, epoch=2/10, avg_epoch_loss=0.00686]\n",
      "100%|██████████| 100/100 [00:01<00:00, 86.76it/s, epoch=3/10, avg_epoch_loss=-.0879]\n",
      "100%|██████████| 100/100 [00:01<00:00, 84.59it/s, epoch=4/10, avg_epoch_loss=-.137]\n",
      "100%|██████████| 100/100 [00:01<00:00, 85.75it/s, epoch=5/10, avg_epoch_loss=-.185]\n",
      "100%|██████████| 100/100 [00:01<00:00, 69.75it/s, epoch=6/10, avg_epoch_loss=-.131]\n",
      "100%|██████████| 100/100 [00:01<00:00, 85.18it/s, epoch=7/10, avg_epoch_loss=-.122]\n",
      "100%|██████████| 100/100 [00:01<00:00, 85.87it/s, epoch=8/10, avg_epoch_loss=-.171]\n",
      "100%|██████████| 100/100 [00:01<00:00, 70.89it/s, epoch=9/10, avg_epoch_loss=-.118]\n",
      "100%|██████████| 100/100 [00:01<00:00, 80.72it/s, epoch=10/10, avg_epoch_loss=-.14]\n"
     ]
    }
   ],
   "source": [
    "predictor = estimator.train(train_ds)"
   ]
  },
  {
   "cell_type": "markdown",
   "metadata": {
    "heading_collapsed": "true"
   },
   "source": [
    "### NBEATSEnsembleEstimator"
   ]
  },
  {
   "cell_type": "code",
   "execution_count": 567,
   "metadata": {
    "execution": {
     "iopub.execute_input": "2021-07-12T23:46:31.850909Z",
     "iopub.status.busy": "2021-07-12T23:46:31.850553Z",
     "iopub.status.idle": "2021-07-12T23:46:31.898843Z",
     "shell.execute_reply": "2021-07-12T23:46:31.898406Z",
     "shell.execute_reply.started": "2021-07-12T23:46:31.850877Z"
    }
   },
   "outputs": [
    {
     "name": "stdout",
     "output_type": "stream",
     "text": [
      "TRAINER:gluonts.mx.trainer._base.Trainer(add_default_callbacks=True, batch_size=None, callbacks=None, clip_gradient=10.0, ctx=mxnet.context.Context(\"cpu\", 0), epochs=10, hybridize=False, init=\"xavier\", learning_rate=0.001, learning_rate_decay_factor=0.5, minimum_learning_rate=5e-05, num_batches_per_epoch=50, patience=3, weight_decay=1e-08)\n"
     ]
    },
    {
     "data": {
      "text/plain": [
       "gluonts.model.n_beats._ensemble.NBEATSEnsembleEstimator(expansion_coefficient_lengths=None, freq=\"5min\", meta_bagging_size=10, meta_context_length=None, meta_loss_function=None, num_block_layers=None, num_blocks=None, num_stacks=2, prediction_length=10, sharing=None, stack_types=None, trainer=gluonts.mx.trainer._base.Trainer(add_default_callbacks=True, batch_size=None, callbacks=None, clip_gradient=10.0, ctx=mxnet.context.Context(\"cpu\", 0), epochs=10, hybridize=False, init=\"xavier\", learning_rate=0.001, learning_rate_decay_factor=0.5, minimum_learning_rate=5e-05, num_batches_per_epoch=50, patience=3, weight_decay=1e-08), widths=None)"
      ]
     },
     "execution_count": 567,
     "metadata": {},
     "output_type": "execute_result"
    }
   ],
   "source": [
    "from gluonts.model.n_beats import NBEATSEnsembleEstimator\n",
    "\n",
    "estimator = NBEATSEnsembleEstimator(\n",
    "#     num_hidden_dimensions=[10],\n",
    "    prediction_length=custom_ds_metadata['prediction_length'],\n",
    "#     context_length=2*custom_ds_metadata['prediction_length'],\n",
    "    num_stacks=2,\n",
    "    freq=custom_ds_metadata['freq'],\n",
    "    trainer=Trainer(\n",
    "        ctx=\"cpu\", \n",
    "        epochs=10, \n",
    "        learning_rate=1e-3, \n",
    "        hybridize=False, \n",
    "#         num_batches_per_epoch=100,\n",
    "        patience=3,\n",
    "    )\n",
    ")\n",
    "estimator"
   ]
  },
  {
   "cell_type": "code",
   "execution_count": null,
   "metadata": {
    "execution": {
     "iopub.status.busy": "2021-07-12T23:48:21.896238Z",
     "iopub.status.idle": "2021-07-12T23:48:21.896624Z",
     "shell.execute_reply": "2021-07-12T23:48:21.896518Z"
    }
   },
   "outputs": [],
   "source": [
    "predictor = estimator.train(train_ds)"
   ]
  },
  {
   "cell_type": "markdown",
   "metadata": {
    "heading_collapsed": "true"
   },
   "source": [
    "### NBEATSEstimator"
   ]
  },
  {
   "cell_type": "code",
   "execution_count": 569,
   "metadata": {
    "execution": {
     "iopub.execute_input": "2021-07-12T23:48:30.693867Z",
     "iopub.status.busy": "2021-07-12T23:48:30.693546Z",
     "iopub.status.idle": "2021-07-12T23:48:30.702659Z",
     "shell.execute_reply": "2021-07-12T23:48:30.701913Z",
     "shell.execute_reply.started": "2021-07-12T23:48:30.693823Z"
    }
   },
   "outputs": [
    {
     "data": {
      "text/plain": [
       "gluonts.model.n_beats._estimator.NBEATSEstimator(batch_size=32, context_length=None, expansion_coefficient_lengths=None, freq=\"5min\", loss_function=\"MAPE\", num_block_layers=None, num_blocks=None, num_stacks=30, prediction_length=10, scale=False, sharing=None, stack_types=None, train_sampler=None, trainer=gluonts.mx.trainer._base.Trainer(add_default_callbacks=True, batch_size=None, callbacks=None, clip_gradient=10.0, ctx=mxnet.context.Context(\"cpu\", 0), epochs=8, hybridize=False, init=\"xavier\", learning_rate=0.001, learning_rate_decay_factor=0.5, minimum_learning_rate=5e-05, num_batches_per_epoch=50, patience=3, weight_decay=1e-08), validation_sampler=None, widths=None)"
      ]
     },
     "execution_count": 569,
     "metadata": {},
     "output_type": "execute_result"
    }
   ],
   "source": [
    "from gluonts.model.n_beats import NBEATSEstimator\n",
    "\n",
    "estimator = NBEATSEstimator(\n",
    "#     num_hidden_dimensions=[10],\n",
    "    prediction_length=custom_ds_metadata['prediction_length'],\n",
    "#     context_length=2*custom_ds_metadata['prediction_length'],\n",
    "#     num_stacks=2,\n",
    "    freq=custom_ds_metadata['freq'],\n",
    "    trainer=Trainer(\n",
    "        ctx=\"cpu\", \n",
    "        epochs=8, \n",
    "        learning_rate=1e-3, \n",
    "        hybridize=False, \n",
    "#         num_batches_per_epoch=100,\n",
    "        patience=3,\n",
    "    )\n",
    ")\n",
    "estimator"
   ]
  },
  {
   "cell_type": "code",
   "execution_count": 570,
   "metadata": {
    "execution": {
     "iopub.execute_input": "2021-07-12T23:48:31.933929Z",
     "iopub.status.busy": "2021-07-12T23:48:31.933567Z",
     "iopub.status.idle": "2021-07-12T23:49:52.456024Z",
     "shell.execute_reply": "2021-07-12T23:49:52.454605Z",
     "shell.execute_reply.started": "2021-07-12T23:48:31.933889Z"
    }
   },
   "outputs": [
    {
     "name": "stderr",
     "output_type": "stream",
     "text": [
      "100%|██████████| 50/50 [00:11<00:00,  4.18it/s, epoch=1/8, avg_epoch_loss=41.1]\n",
      "100%|██████████| 50/50 [00:08<00:00,  5.94it/s, epoch=2/8, avg_epoch_loss=18.9]\n",
      "100%|██████████| 50/50 [00:08<00:00,  5.94it/s, epoch=3/8, avg_epoch_loss=16.5]\n",
      "100%|██████████| 50/50 [00:08<00:00,  6.04it/s, epoch=4/8, avg_epoch_loss=13.7]\n",
      "100%|██████████| 50/50 [00:09<00:00,  5.32it/s, epoch=5/8, avg_epoch_loss=13.3]\n",
      "100%|██████████| 50/50 [00:11<00:00,  4.47it/s, epoch=6/8, avg_epoch_loss=11.2]\n",
      "100%|██████████| 50/50 [00:08<00:00,  5.98it/s, epoch=7/8, avg_epoch_loss=12.7]\n",
      "100%|██████████| 50/50 [00:10<00:00,  4.62it/s, epoch=8/8, avg_epoch_loss=11.5]\n"
     ]
    }
   ],
   "source": [
    "predictor = estimator.train(train_ds)"
   ]
  },
  {
   "cell_type": "markdown",
   "metadata": {
    "heading_collapsed": "true"
   },
   "source": [
    "### DeepStateEstimator TODO\n",
    "The training is very slow! GPU is recommended."
   ]
  },
  {
   "cell_type": "code",
   "execution_count": 622,
   "metadata": {
    "execution": {
     "iopub.execute_input": "2021-07-13T00:23:09.781742Z",
     "iopub.status.busy": "2021-07-13T00:23:09.781522Z",
     "iopub.status.idle": "2021-07-13T00:23:09.789939Z",
     "shell.execute_reply": "2021-07-13T00:23:09.789317Z",
     "shell.execute_reply.started": "2021-07-13T00:23:09.781723Z"
    }
   },
   "outputs": [
    {
     "data": {
      "text/plain": [
       "gluonts.model.deepstate._estimator.DeepStateEstimator(add_trend=False, batch_size=32, cardinality=[], cell_type=\"lstm\", dropout_rate=0.1, embedding_dimension=None, freq=\"5min\", innovation_bounds=gluonts.mx.distribution.lds.ParameterBounds(lower=1e-06, upper=0.01), issm=None, noise_std_bounds=gluonts.mx.distribution.lds.ParameterBounds(lower=1e-06, upper=1.0), num_cells=40, num_layers=2, num_parallel_samples=100, num_periods_to_train=4, past_length=None, prediction_length=10, prior_cov_bounds=gluonts.mx.distribution.lds.ParameterBounds(lower=1e-06, upper=1.0), scaling=True, time_features=None, trainer=gluonts.mx.trainer._base.Trainer(add_default_callbacks=True, batch_size=None, callbacks=None, clip_gradient=10.0, ctx=mxnet.context.Context(\"cpu\", 0), epochs=8, hybridize=False, init=\"xavier\", learning_rate=0.001, learning_rate_decay_factor=0.5, minimum_learning_rate=5e-05, num_batches_per_epoch=50, patience=3, weight_decay=1e-08), use_feat_dynamic_real=False, use_feat_static_cat=False)"
      ]
     },
     "execution_count": 622,
     "metadata": {},
     "output_type": "execute_result"
    }
   ],
   "source": [
    "from gluonts.model.deepstate import DeepStateEstimator\n",
    "\n",
    "estimator = DeepStateEstimator(\n",
    "#     num_hidden_dimensions=[10],\n",
    "    prediction_length=custom_ds_metadata['prediction_length'],\n",
    "#     context_length=2*custom_ds_metadata['prediction_length'],\n",
    "#     num_stacks=2,\n",
    "    freq=custom_ds_metadata['freq'],\n",
    "    use_feat_static_cat=False,\n",
    "    cardinality=[],\n",
    "    trainer=Trainer(\n",
    "        ctx=\"cpu\", \n",
    "        epochs=8, \n",
    "        learning_rate=1e-3, \n",
    "        hybridize=False, \n",
    "#         num_batches_per_epoch=100,\n",
    "        patience=3,\n",
    "    )\n",
    ")\n",
    "estimator"
   ]
  },
  {
   "cell_type": "code",
   "execution_count": null,
   "metadata": {
    "execution": {
     "iopub.status.busy": "2021-07-13T00:23:42.174420Z",
     "iopub.status.idle": "2021-07-13T00:23:42.175312Z",
     "shell.execute_reply": "2021-07-13T00:23:42.174980Z"
    }
   },
   "outputs": [],
   "source": [
    "predictor = estimator.train(train_ds)"
   ]
  },
  {
   "cell_type": "markdown",
   "metadata": {
    "execution": {
     "iopub.execute_input": "2021-07-13T00:25:38.848721Z",
     "iopub.status.busy": "2021-07-13T00:25:38.845866Z",
     "iopub.status.idle": "2021-07-13T00:25:38.904217Z",
     "shell.execute_reply": "2021-07-13T00:25:38.900164Z",
     "shell.execute_reply.started": "2021-07-13T00:25:38.848246Z"
    },
    "heading_collapsed": "true"
   },
   "source": [
    "### DeepFactorEstimator"
   ]
  },
  {
   "cell_type": "code",
   "execution_count": 628,
   "metadata": {
    "execution": {
     "iopub.execute_input": "2021-07-13T00:26:20.381687Z",
     "iopub.status.busy": "2021-07-13T00:26:20.381146Z",
     "iopub.status.idle": "2021-07-13T00:26:20.397503Z",
     "shell.execute_reply": "2021-07-13T00:26:20.396641Z",
     "shell.execute_reply.started": "2021-07-13T00:26:20.381627Z"
    }
   },
   "outputs": [
    {
     "data": {
      "text/plain": [
       "gluonts.model.deep_factor._estimator.DeepFactorEstimator(batch_size=32, cardinality=[1], cell_type=\"lstm\", context_length=None, distr_output=gluonts.mx.distribution.student_t.StudentTOutput(), embedding_dimension=10, freq=\"5min\", num_factors=10, num_hidden_global=50, num_hidden_local=5, num_layers_global=1, num_layers_local=1, num_parallel_samples=100, prediction_length=10, trainer=gluonts.mx.trainer._base.Trainer(add_default_callbacks=True, batch_size=None, callbacks=None, clip_gradient=10.0, ctx=mxnet.context.Context(\"cpu\", 0), epochs=8, hybridize=False, init=\"xavier\", learning_rate=0.001, learning_rate_decay_factor=0.5, minimum_learning_rate=5e-05, num_batches_per_epoch=50, patience=3, weight_decay=1e-08))"
      ]
     },
     "execution_count": 628,
     "metadata": {},
     "output_type": "execute_result"
    }
   ],
   "source": [
    "from gluonts.model.deep_factor import DeepFactorEstimator\n",
    "\n",
    "estimator = DeepFactorEstimator(\n",
    "#     num_hidden_dimensions=[10],\n",
    "    prediction_length=custom_ds_metadata['prediction_length'],\n",
    "#     context_length=2*custom_ds_metadata['prediction_length'],\n",
    "#     num_stacks=2,\n",
    "    freq=custom_ds_metadata['freq'],\n",
    "#     use_feat_static_cat=False,\n",
    "#     cardinality=[],\n",
    "    trainer=Trainer(\n",
    "        ctx=\"cpu\", \n",
    "        epochs=8, \n",
    "        learning_rate=1e-3, \n",
    "        hybridize=False, \n",
    "#         num_batches_per_epoch=100,\n",
    "        patience=3,\n",
    "    )\n",
    ")\n",
    "estimator"
   ]
  },
  {
   "cell_type": "code",
   "execution_count": 629,
   "metadata": {
    "execution": {
     "iopub.execute_input": "2021-07-13T00:26:22.417961Z",
     "iopub.status.busy": "2021-07-13T00:26:22.417584Z",
     "iopub.status.idle": "2021-07-13T00:26:29.106780Z",
     "shell.execute_reply": "2021-07-13T00:26:29.106327Z",
     "shell.execute_reply.started": "2021-07-13T00:26:22.417920Z"
    }
   },
   "outputs": [
    {
     "name": "stderr",
     "output_type": "stream",
     "text": [
      "100%|██████████| 50/50 [00:01<00:00, 38.02it/s, epoch=1/8, avg_epoch_loss=0.575]\n",
      "100%|██████████| 50/50 [00:00<00:00, 60.44it/s, epoch=2/8, avg_epoch_loss=0.235]\n",
      "100%|██████████| 50/50 [00:00<00:00, 68.38it/s, epoch=3/8, avg_epoch_loss=-.00804]\n",
      "100%|██████████| 50/50 [00:00<00:00, 71.25it/s, epoch=4/8, avg_epoch_loss=-.13]\n",
      "100%|██████████| 50/50 [00:00<00:00, 67.46it/s, epoch=5/8, avg_epoch_loss=-.199]\n",
      "100%|██████████| 50/50 [00:00<00:00, 66.62it/s, epoch=6/8, avg_epoch_loss=-.276]\n",
      "100%|██████████| 50/50 [00:00<00:00, 69.50it/s, epoch=7/8, avg_epoch_loss=-.312]\n",
      "100%|██████████| 50/50 [00:00<00:00, 75.26it/s, epoch=8/8, avg_epoch_loss=-.374]\n"
     ]
    }
   ],
   "source": [
    "predictor = estimator.train(train_ds)"
   ]
  },
  {
   "cell_type": "markdown",
   "metadata": {
    "heading_collapsed": "true"
   },
   "source": [
    "### DeepAREstimator"
   ]
  },
  {
   "cell_type": "code",
   "execution_count": 642,
   "metadata": {
    "execution": {
     "iopub.execute_input": "2021-07-13T00:30:42.703045Z",
     "iopub.status.busy": "2021-07-13T00:30:42.702793Z",
     "iopub.status.idle": "2021-07-13T00:30:42.774934Z",
     "shell.execute_reply": "2021-07-13T00:30:42.773247Z",
     "shell.execute_reply.started": "2021-07-13T00:30:42.703021Z"
    }
   },
   "outputs": [
    {
     "data": {
      "text/plain": [
       "gluonts.model.deepar._estimator.DeepAREstimator(alpha=0.0, batch_size=32, beta=0.0, cardinality=None, cell_type=\"lstm\", context_length=None, default_scale=None, distr_output=gluonts.mx.distribution.student_t.StudentTOutput(), dropout_rate=0.1, dropoutcell_type=\"ZoneoutCell\", embedding_dimension=None, freq=\"5min\", imputation_method=None, impute_missing_values=False, lags_seq=None, minimum_scale=1e-10, num_cells=40, num_imputation_samples=1, num_layers=2, num_parallel_samples=100, prediction_length=10, scaling=True, time_features=None, train_sampler=None, trainer=gluonts.mx.trainer._base.Trainer(add_default_callbacks=True, batch_size=None, callbacks=None, clip_gradient=10.0, ctx=mxnet.context.Context(\"cpu\", 0), epochs=8, hybridize=False, init=\"xavier\", learning_rate=0.001, learning_rate_decay_factor=0.5, minimum_learning_rate=5e-05, num_batches_per_epoch=50, patience=3, weight_decay=1e-08), use_feat_dynamic_real=False, use_feat_static_cat=False, use_feat_static_real=False, validation_sampler=None)"
      ]
     },
     "execution_count": 642,
     "metadata": {},
     "output_type": "execute_result"
    }
   ],
   "source": [
    "from gluonts.model.deepar import DeepAREstimator\n",
    "\n",
    "estimator = DeepAREstimator(\n",
    "#     num_hidden_dimensions=[10],\n",
    "    prediction_length=custom_ds_metadata['prediction_length'],\n",
    "#     context_length=2*custom_ds_metadata['prediction_length'],\n",
    "#     num_stacks=2,\n",
    "    freq=custom_ds_metadata['freq'],\n",
    "#     use_feat_static_cat=False,\n",
    "#     cardinality=[],\n",
    "    trainer=Trainer(\n",
    "        ctx=\"cpu\", \n",
    "        epochs=8, \n",
    "        learning_rate=1e-3, \n",
    "        hybridize=False, \n",
    "#         num_batches_per_epoch=100,\n",
    "        patience=3,\n",
    "    )\n",
    ")\n",
    "estimator"
   ]
  },
  {
   "cell_type": "code",
   "execution_count": 643,
   "metadata": {
    "execution": {
     "iopub.execute_input": "2021-07-13T00:31:00.621757Z",
     "iopub.status.busy": "2021-07-13T00:31:00.621543Z",
     "iopub.status.idle": "2021-07-13T00:31:37.452569Z",
     "shell.execute_reply": "2021-07-13T00:31:37.451853Z",
     "shell.execute_reply.started": "2021-07-13T00:31:00.621738Z"
    }
   },
   "outputs": [
    {
     "name": "stderr",
     "output_type": "stream",
     "text": [
      "100%|██████████| 50/50 [00:04<00:00, 10.63it/s, epoch=1/8, avg_epoch_loss=0.152]\n",
      "100%|██████████| 50/50 [00:04<00:00, 10.68it/s, epoch=2/8, avg_epoch_loss=-.154]\n",
      "100%|██████████| 50/50 [00:04<00:00, 10.79it/s, epoch=3/8, avg_epoch_loss=-.367]\n",
      "100%|██████████| 50/50 [00:04<00:00, 11.12it/s, epoch=4/8, avg_epoch_loss=-.422]\n",
      "100%|██████████| 50/50 [00:04<00:00, 11.29it/s, epoch=5/8, avg_epoch_loss=-.464]\n",
      "100%|██████████| 50/50 [00:04<00:00, 10.29it/s, epoch=6/8, avg_epoch_loss=-.519]\n",
      "100%|██████████| 50/50 [00:04<00:00, 11.40it/s, epoch=7/8, avg_epoch_loss=-.521]\n",
      "100%|██████████| 50/50 [00:04<00:00, 11.22it/s, epoch=8/8, avg_epoch_loss=-.568]\n"
     ]
    }
   ],
   "source": [
    "predictor = estimator.train(train_ds)"
   ]
  },
  {
   "cell_type": "markdown",
   "metadata": {
    "heading_collapsed": "true"
   },
   "source": [
    "### GaussianProcessEstimator"
   ]
  },
  {
   "cell_type": "code",
   "execution_count": 659,
   "metadata": {
    "execution": {
     "iopub.execute_input": "2021-07-13T00:41:02.042594Z",
     "iopub.status.busy": "2021-07-13T00:41:02.042319Z",
     "iopub.status.idle": "2021-07-13T00:41:02.064901Z",
     "shell.execute_reply": "2021-07-13T00:41:02.064372Z",
     "shell.execute_reply.started": "2021-07-13T00:41:02.042570Z"
    }
   },
   "outputs": [
    {
     "data": {
      "text/plain": [
       "gluonts.model.gp_forecaster._estimator.GaussianProcessEstimator(batch_size=32, cardinality=11, context_length=None, freq=\"5min\", jitter_method=\"iter\", kernel_output=gluonts.mx.kernels._rbf_kernel.RBFKernelOutput(), max_iter_jitter=10, num_parallel_samples=100, params_scaling=True, prediction_length=10, sample_noise=True, time_features=None, trainer=gluonts.mx.trainer._base.Trainer(add_default_callbacks=True, batch_size=None, callbacks=None, clip_gradient=10.0, ctx=mxnet.context.Context(\"cpu\", 0), epochs=8, hybridize=False, init=\"xavier\", learning_rate=0.001, learning_rate_decay_factor=0.5, minimum_learning_rate=5e-05, num_batches_per_epoch=50, patience=3, weight_decay=1e-08))"
      ]
     },
     "execution_count": 659,
     "metadata": {},
     "output_type": "execute_result"
    }
   ],
   "source": [
    "from gluonts.model.gp_forecaster import GaussianProcessEstimator\n",
    "\n",
    "estimator = GaussianProcessEstimator(\n",
    "#     num_hidden_dimensions=[10],\n",
    "    prediction_length=custom_ds_metadata['prediction_length'],\n",
    "#     context_length=2*custom_ds_metadata['prediction_length'],\n",
    "#     num_stacks=2,\n",
    "    freq=custom_ds_metadata['freq'],\n",
    "#     use_feat_static_cat=False,\n",
    "    cardinality=sample_num,\n",
    "    trainer=Trainer(\n",
    "        ctx=\"cpu\", \n",
    "        epochs=8, \n",
    "        learning_rate=1e-3, \n",
    "        hybridize=False, \n",
    "#         num_batches_per_epoch=100,\n",
    "        patience=3,\n",
    "    )\n",
    ")\n",
    "estimator"
   ]
  },
  {
   "cell_type": "code",
   "execution_count": 660,
   "metadata": {
    "execution": {
     "iopub.execute_input": "2021-07-13T00:41:20.328387Z",
     "iopub.status.busy": "2021-07-13T00:41:20.327797Z",
     "iopub.status.idle": "2021-07-13T00:41:26.542997Z",
     "shell.execute_reply": "2021-07-13T00:41:26.542491Z",
     "shell.execute_reply.started": "2021-07-13T00:41:20.328323Z"
    }
   },
   "outputs": [
    {
     "name": "stderr",
     "output_type": "stream",
     "text": [
      "100%|██████████| 50/50 [00:00<00:00, 62.39it/s, epoch=1/8, avg_epoch_loss=2.45e+3]\n",
      "100%|██████████| 50/50 [00:00<00:00, 73.72it/s, epoch=2/8, avg_epoch_loss=2.14e+3]\n",
      "100%|██████████| 50/50 [00:00<00:00, 74.11it/s, epoch=3/8, avg_epoch_loss=1.84e+3]\n",
      "100%|██████████| 50/50 [00:00<00:00, 60.83it/s, epoch=4/8, avg_epoch_loss=1.6e+3]\n",
      "100%|██████████| 50/50 [00:00<00:00, 75.55it/s, epoch=5/8, avg_epoch_loss=1.38e+3]\n",
      "100%|██████████| 50/50 [00:00<00:00, 65.00it/s, epoch=6/8, avg_epoch_loss=1.21e+3]\n",
      "100%|██████████| 50/50 [00:00<00:00, 57.88it/s, epoch=7/8, avg_epoch_loss=1.06e+3]\n",
      "100%|██████████| 50/50 [00:00<00:00, 61.46it/s, epoch=8/8, avg_epoch_loss=927]\n"
     ]
    }
   ],
   "source": [
    "predictor = estimator.train(train_ds)"
   ]
  },
  {
   "cell_type": "markdown",
   "metadata": {
    "heading_collapsed": "true"
   },
   "source": [
    "### GPVAREstimator TODO"
   ]
  },
  {
   "cell_type": "code",
   "execution_count": 685,
   "metadata": {
    "execution": {
     "iopub.execute_input": "2021-07-13T00:51:24.208830Z",
     "iopub.status.busy": "2021-07-13T00:51:24.208648Z",
     "iopub.status.idle": "2021-07-13T00:51:24.214953Z",
     "shell.execute_reply": "2021-07-13T00:51:24.214439Z",
     "shell.execute_reply.started": "2021-07-13T00:51:24.208812Z"
    }
   },
   "outputs": [
    {
     "data": {
      "text/plain": [
       "gluonts.model.gpvar._estimator.GPVAREstimator(batch_size=32, cell_type=\"lstm\", conditioning_length=100, context_length=None, distr_output=None, dropout_rate=0.1, freq=\"5min\", lags_seq=None, num_cells=40, num_layers=2, num_parallel_samples=100, pick_incomplete=False, prediction_length=10, rank=2, scaling=True, shuffle_target_dim=True, target_dim=1, target_dim_sample=None, time_features=None, train_sampler=None, trainer=gluonts.mx.trainer._base.Trainer(add_default_callbacks=True, batch_size=None, callbacks=None, clip_gradient=10.0, ctx=mxnet.context.Context(\"cpu\", 0), epochs=8, hybridize=False, init=\"xavier\", learning_rate=0.001, learning_rate_decay_factor=0.5, minimum_learning_rate=5e-05, num_batches_per_epoch=50, patience=3, weight_decay=1e-08), use_marginal_transformation=False, validation_sampler=None)"
      ]
     },
     "execution_count": 685,
     "metadata": {},
     "output_type": "execute_result"
    }
   ],
   "source": [
    "from gluonts.model.gpvar import GPVAREstimator\n",
    "\n",
    "estimator = GPVAREstimator(\n",
    "    target_dim=1,\n",
    "#     num_hidden_dimensions=[10],\n",
    "    prediction_length=custom_ds_metadata['prediction_length'],\n",
    "#     context_length=2*custom_ds_metadata['prediction_length'],\n",
    "#     num_stacks=2,\n",
    "    freq=custom_ds_metadata['freq'],\n",
    "#     use_feat_static_cat=False,\n",
    "#     cardinality=sample_num,\n",
    "    trainer=Trainer(\n",
    "        ctx=\"cpu\", \n",
    "        epochs=8, \n",
    "        learning_rate=1e-3, \n",
    "        hybridize=False, \n",
    "#         num_batches_per_epoch=100,\n",
    "        patience=3,\n",
    "    )\n",
    ")\n",
    "estimator"
   ]
  },
  {
   "cell_type": "code",
   "execution_count": 686,
   "metadata": {
    "collapsed": true,
    "execution": {
     "iopub.execute_input": "2021-07-13T00:51:25.784241Z",
     "iopub.status.busy": "2021-07-13T00:51:25.783938Z",
     "iopub.status.idle": "2021-07-13T00:51:25.809564Z",
     "shell.execute_reply": "2021-07-13T00:51:25.808634Z",
     "shell.execute_reply.started": "2021-07-13T00:51:25.784209Z"
    },
    "jupyter": {
     "outputs_hidden": true
    }
   },
   "outputs": [
    {
     "ename": "GluonTSDataError",
     "evalue": "Input for field \"target\" does not have the requireddimension (field: target, ndim observed: 1, expected ndim: 2)",
     "output_type": "error",
     "traceback": [
      "\u001b[0;31m---------------------------------------------------------------------------\u001b[0m",
      "\u001b[0;31mGluonTSDataError\u001b[0m                          Traceback (most recent call last)",
      "\u001b[0;32m<ipython-input-686-44c508c2f597>\u001b[0m in \u001b[0;36m<module>\u001b[0;34m\u001b[0m\n\u001b[0;32m----> 1\u001b[0;31m \u001b[0mpredictor\u001b[0m \u001b[0;34m=\u001b[0m \u001b[0mestimator\u001b[0m\u001b[0;34m.\u001b[0m\u001b[0mtrain\u001b[0m\u001b[0;34m(\u001b[0m\u001b[0mtrain_ds\u001b[0m\u001b[0;34m)\u001b[0m\u001b[0;34m\u001b[0m\u001b[0;34m\u001b[0m\u001b[0m\n\u001b[0m",
      "\u001b[0;32m~/miniconda3/lib/python3.8/site-packages/gluonts/mx/model/estimator.py\u001b[0m in \u001b[0;36mtrain\u001b[0;34m(self, training_data, validation_data, num_workers, num_prefetch, shuffle_buffer_length, cache_data, **kwargs)\u001b[0m\n\u001b[1;32m    193\u001b[0m         \u001b[0;34m**\u001b[0m\u001b[0mkwargs\u001b[0m\u001b[0;34m,\u001b[0m\u001b[0;34m\u001b[0m\u001b[0;34m\u001b[0m\u001b[0m\n\u001b[1;32m    194\u001b[0m     ) -> Predictor:\n\u001b[0;32m--> 195\u001b[0;31m         return self.train_model(\n\u001b[0m\u001b[1;32m    196\u001b[0m             \u001b[0mtraining_data\u001b[0m\u001b[0;34m=\u001b[0m\u001b[0mtraining_data\u001b[0m\u001b[0;34m,\u001b[0m\u001b[0;34m\u001b[0m\u001b[0;34m\u001b[0m\u001b[0m\n\u001b[1;32m    197\u001b[0m             \u001b[0mvalidation_data\u001b[0m\u001b[0;34m=\u001b[0m\u001b[0mvalidation_data\u001b[0m\u001b[0;34m,\u001b[0m\u001b[0;34m\u001b[0m\u001b[0;34m\u001b[0m\u001b[0m\n",
      "\u001b[0;32m~/miniconda3/lib/python3.8/site-packages/gluonts/mx/model/estimator.py\u001b[0m in \u001b[0;36mtrain_model\u001b[0;34m(self, training_data, validation_data, num_workers, num_prefetch, shuffle_buffer_length, cache_data)\u001b[0m\n\u001b[1;32m    146\u001b[0m         \u001b[0mtransformed_training_data\u001b[0m \u001b[0;34m=\u001b[0m \u001b[0mtransformation\u001b[0m\u001b[0;34m.\u001b[0m\u001b[0mapply\u001b[0m\u001b[0;34m(\u001b[0m\u001b[0mtraining_data\u001b[0m\u001b[0;34m)\u001b[0m\u001b[0;34m\u001b[0m\u001b[0;34m\u001b[0m\u001b[0m\n\u001b[1;32m    147\u001b[0m \u001b[0;34m\u001b[0m\u001b[0m\n\u001b[0;32m--> 148\u001b[0;31m         training_data_loader = self.create_training_data_loader(\n\u001b[0m\u001b[1;32m    149\u001b[0m             \u001b[0mtransformed_training_data\u001b[0m\u001b[0;34m\u001b[0m\u001b[0;34m\u001b[0m\u001b[0m\n\u001b[1;32m    150\u001b[0m             \u001b[0;32mif\u001b[0m \u001b[0;32mnot\u001b[0m \u001b[0mcache_data\u001b[0m\u001b[0;34m\u001b[0m\u001b[0;34m\u001b[0m\u001b[0m\n",
      "\u001b[0;32m~/miniconda3/lib/python3.8/site-packages/gluonts/model/gpvar/_estimator.py\u001b[0m in \u001b[0;36mcreate_training_data_loader\u001b[0;34m(self, data, **kwargs)\u001b[0m\n\u001b[1;32m    340\u001b[0m     ) -> DataLoader:\n\u001b[1;32m    341\u001b[0m         \u001b[0minput_names\u001b[0m \u001b[0;34m=\u001b[0m \u001b[0mget_hybrid_forward_input_names\u001b[0m\u001b[0;34m(\u001b[0m\u001b[0mGPVARTrainingNetwork\u001b[0m\u001b[0;34m)\u001b[0m\u001b[0;34m\u001b[0m\u001b[0;34m\u001b[0m\u001b[0m\n\u001b[0;32m--> 342\u001b[0;31m         \u001b[0;32mwith\u001b[0m \u001b[0menv\u001b[0m\u001b[0;34m.\u001b[0m\u001b[0m_let\u001b[0m\u001b[0;34m(\u001b[0m\u001b[0mmax_idle_transforms\u001b[0m\u001b[0;34m=\u001b[0m\u001b[0mmaybe_len\u001b[0m\u001b[0;34m(\u001b[0m\u001b[0mdata\u001b[0m\u001b[0;34m)\u001b[0m \u001b[0;32mor\u001b[0m \u001b[0;36m0\u001b[0m\u001b[0;34m)\u001b[0m\u001b[0;34m:\u001b[0m\u001b[0;34m\u001b[0m\u001b[0;34m\u001b[0m\u001b[0m\n\u001b[0m\u001b[1;32m    343\u001b[0m             \u001b[0minstance_splitter\u001b[0m \u001b[0;34m=\u001b[0m \u001b[0mself\u001b[0m\u001b[0;34m.\u001b[0m\u001b[0m_create_instance_splitter\u001b[0m\u001b[0;34m(\u001b[0m\u001b[0;34m\"training\"\u001b[0m\u001b[0;34m)\u001b[0m\u001b[0;34m\u001b[0m\u001b[0;34m\u001b[0m\u001b[0m\n\u001b[1;32m    344\u001b[0m         return TrainDataLoader(\n",
      "\u001b[0;32m~/miniconda3/lib/python3.8/site-packages/gluonts/support/util.py\u001b[0m in \u001b[0;36mmaybe_len\u001b[0;34m(obj)\u001b[0m\n\u001b[1;32m     77\u001b[0m \u001b[0;32mdef\u001b[0m \u001b[0mmaybe_len\u001b[0m\u001b[0;34m(\u001b[0m\u001b[0mobj\u001b[0m\u001b[0;34m)\u001b[0m \u001b[0;34m->\u001b[0m \u001b[0mOptional\u001b[0m\u001b[0;34m[\u001b[0m\u001b[0mint\u001b[0m\u001b[0;34m]\u001b[0m\u001b[0;34m:\u001b[0m\u001b[0;34m\u001b[0m\u001b[0;34m\u001b[0m\u001b[0m\n\u001b[1;32m     78\u001b[0m     \u001b[0;32mtry\u001b[0m\u001b[0;34m:\u001b[0m\u001b[0;34m\u001b[0m\u001b[0;34m\u001b[0m\u001b[0m\n\u001b[0;32m---> 79\u001b[0;31m         \u001b[0;32mreturn\u001b[0m \u001b[0mlen\u001b[0m\u001b[0;34m(\u001b[0m\u001b[0mobj\u001b[0m\u001b[0;34m)\u001b[0m\u001b[0;34m\u001b[0m\u001b[0;34m\u001b[0m\u001b[0m\n\u001b[0m\u001b[1;32m     80\u001b[0m     \u001b[0;32mexcept\u001b[0m \u001b[0;34m(\u001b[0m\u001b[0mNotImplementedError\u001b[0m\u001b[0;34m,\u001b[0m \u001b[0mAttributeError\u001b[0m\u001b[0;34m)\u001b[0m\u001b[0;34m:\u001b[0m\u001b[0;34m\u001b[0m\u001b[0;34m\u001b[0m\u001b[0m\n\u001b[1;32m     81\u001b[0m         \u001b[0;32mreturn\u001b[0m \u001b[0;32mNone\u001b[0m\u001b[0;34m\u001b[0m\u001b[0;34m\u001b[0m\u001b[0m\n",
      "\u001b[0;32m~/miniconda3/lib/python3.8/site-packages/gluonts/transform/_base.py\u001b[0m in \u001b[0;36m__len__\u001b[0;34m(self)\u001b[0m\n\u001b[1;32m     98\u001b[0m         \u001b[0;31m# NOTE this is unsafe when transformations are run with is_train = True\u001b[0m\u001b[0;34m\u001b[0m\u001b[0;34m\u001b[0m\u001b[0;34m\u001b[0m\u001b[0m\n\u001b[1;32m     99\u001b[0m         \u001b[0;31m# since some transformations may not be deterministic (instance splitter)\u001b[0m\u001b[0;34m\u001b[0m\u001b[0;34m\u001b[0m\u001b[0;34m\u001b[0m\u001b[0m\n\u001b[0;32m--> 100\u001b[0;31m         \u001b[0;32mreturn\u001b[0m \u001b[0msum\u001b[0m\u001b[0;34m(\u001b[0m\u001b[0;36m1\u001b[0m \u001b[0;32mfor\u001b[0m \u001b[0m_\u001b[0m \u001b[0;32min\u001b[0m \u001b[0mself\u001b[0m\u001b[0;34m)\u001b[0m\u001b[0;34m\u001b[0m\u001b[0;34m\u001b[0m\u001b[0m\n\u001b[0m\u001b[1;32m    101\u001b[0m \u001b[0;34m\u001b[0m\u001b[0m\n\u001b[1;32m    102\u001b[0m     \u001b[0;32mdef\u001b[0m \u001b[0m__iter__\u001b[0m\u001b[0;34m(\u001b[0m\u001b[0mself\u001b[0m\u001b[0;34m)\u001b[0m \u001b[0;34m->\u001b[0m \u001b[0mIterator\u001b[0m\u001b[0;34m[\u001b[0m\u001b[0mDataEntry\u001b[0m\u001b[0;34m]\u001b[0m\u001b[0;34m:\u001b[0m\u001b[0;34m\u001b[0m\u001b[0;34m\u001b[0m\u001b[0m\n",
      "\u001b[0;32m~/miniconda3/lib/python3.8/site-packages/gluonts/transform/_base.py\u001b[0m in \u001b[0;36m<genexpr>\u001b[0;34m(.0)\u001b[0m\n\u001b[1;32m     98\u001b[0m         \u001b[0;31m# NOTE this is unsafe when transformations are run with is_train = True\u001b[0m\u001b[0;34m\u001b[0m\u001b[0;34m\u001b[0m\u001b[0;34m\u001b[0m\u001b[0m\n\u001b[1;32m     99\u001b[0m         \u001b[0;31m# since some transformations may not be deterministic (instance splitter)\u001b[0m\u001b[0;34m\u001b[0m\u001b[0;34m\u001b[0m\u001b[0;34m\u001b[0m\u001b[0m\n\u001b[0;32m--> 100\u001b[0;31m         \u001b[0;32mreturn\u001b[0m \u001b[0msum\u001b[0m\u001b[0;34m(\u001b[0m\u001b[0;36m1\u001b[0m \u001b[0;32mfor\u001b[0m \u001b[0m_\u001b[0m \u001b[0;32min\u001b[0m \u001b[0mself\u001b[0m\u001b[0;34m)\u001b[0m\u001b[0;34m\u001b[0m\u001b[0;34m\u001b[0m\u001b[0m\n\u001b[0m\u001b[1;32m    101\u001b[0m \u001b[0;34m\u001b[0m\u001b[0m\n\u001b[1;32m    102\u001b[0m     \u001b[0;32mdef\u001b[0m \u001b[0m__iter__\u001b[0m\u001b[0;34m(\u001b[0m\u001b[0mself\u001b[0m\u001b[0;34m)\u001b[0m \u001b[0;34m->\u001b[0m \u001b[0mIterator\u001b[0m\u001b[0;34m[\u001b[0m\u001b[0mDataEntry\u001b[0m\u001b[0;34m]\u001b[0m\u001b[0;34m:\u001b[0m\u001b[0;34m\u001b[0m\u001b[0;34m\u001b[0m\u001b[0m\n",
      "\u001b[0;32m~/miniconda3/lib/python3.8/site-packages/gluonts/transform/_base.py\u001b[0m in \u001b[0;36m__iter__\u001b[0;34m(self)\u001b[0m\n\u001b[1;32m    101\u001b[0m \u001b[0;34m\u001b[0m\u001b[0m\n\u001b[1;32m    102\u001b[0m     \u001b[0;32mdef\u001b[0m \u001b[0m__iter__\u001b[0m\u001b[0;34m(\u001b[0m\u001b[0mself\u001b[0m\u001b[0;34m)\u001b[0m \u001b[0;34m->\u001b[0m \u001b[0mIterator\u001b[0m\u001b[0;34m[\u001b[0m\u001b[0mDataEntry\u001b[0m\u001b[0;34m]\u001b[0m\u001b[0;34m:\u001b[0m\u001b[0;34m\u001b[0m\u001b[0;34m\u001b[0m\u001b[0m\n\u001b[0;32m--> 103\u001b[0;31m         yield from self.transformation(\n\u001b[0m\u001b[1;32m    104\u001b[0m             \u001b[0mself\u001b[0m\u001b[0;34m.\u001b[0m\u001b[0mbase_dataset\u001b[0m\u001b[0;34m,\u001b[0m \u001b[0mis_train\u001b[0m\u001b[0;34m=\u001b[0m\u001b[0mself\u001b[0m\u001b[0;34m.\u001b[0m\u001b[0mis_train\u001b[0m\u001b[0;34m\u001b[0m\u001b[0;34m\u001b[0m\u001b[0m\n\u001b[1;32m    105\u001b[0m         )\n",
      "\u001b[0;32m~/miniconda3/lib/python3.8/site-packages/gluonts/transform/_base.py\u001b[0m in \u001b[0;36m__call__\u001b[0;34m(self, data_it, is_train)\u001b[0m\n\u001b[1;32m    121\u001b[0m         \u001b[0mself\u001b[0m\u001b[0;34m,\u001b[0m \u001b[0mdata_it\u001b[0m\u001b[0;34m:\u001b[0m \u001b[0mIterable\u001b[0m\u001b[0;34m[\u001b[0m\u001b[0mDataEntry\u001b[0m\u001b[0;34m]\u001b[0m\u001b[0;34m,\u001b[0m \u001b[0mis_train\u001b[0m\u001b[0;34m:\u001b[0m \u001b[0mbool\u001b[0m\u001b[0;34m\u001b[0m\u001b[0;34m\u001b[0m\u001b[0m\n\u001b[1;32m    122\u001b[0m     ) -> Iterator:\n\u001b[0;32m--> 123\u001b[0;31m         \u001b[0;32mfor\u001b[0m \u001b[0mdata_entry\u001b[0m \u001b[0;32min\u001b[0m \u001b[0mdata_it\u001b[0m\u001b[0;34m:\u001b[0m\u001b[0;34m\u001b[0m\u001b[0;34m\u001b[0m\u001b[0m\n\u001b[0m\u001b[1;32m    124\u001b[0m             \u001b[0;32mtry\u001b[0m\u001b[0;34m:\u001b[0m\u001b[0;34m\u001b[0m\u001b[0;34m\u001b[0m\u001b[0m\n\u001b[1;32m    125\u001b[0m                 \u001b[0;32myield\u001b[0m \u001b[0mself\u001b[0m\u001b[0;34m.\u001b[0m\u001b[0mmap_transform\u001b[0m\u001b[0;34m(\u001b[0m\u001b[0mdata_entry\u001b[0m\u001b[0;34m.\u001b[0m\u001b[0mcopy\u001b[0m\u001b[0;34m(\u001b[0m\u001b[0;34m)\u001b[0m\u001b[0;34m,\u001b[0m \u001b[0mis_train\u001b[0m\u001b[0;34m)\u001b[0m\u001b[0;34m\u001b[0m\u001b[0;34m\u001b[0m\u001b[0m\n",
      "\u001b[0;32m~/miniconda3/lib/python3.8/site-packages/gluonts/transform/_base.py\u001b[0m in \u001b[0;36m__call__\u001b[0;34m(self, data_it, is_train)\u001b[0m\n\u001b[1;32m    121\u001b[0m         \u001b[0mself\u001b[0m\u001b[0;34m,\u001b[0m \u001b[0mdata_it\u001b[0m\u001b[0;34m:\u001b[0m \u001b[0mIterable\u001b[0m\u001b[0;34m[\u001b[0m\u001b[0mDataEntry\u001b[0m\u001b[0;34m]\u001b[0m\u001b[0;34m,\u001b[0m \u001b[0mis_train\u001b[0m\u001b[0;34m:\u001b[0m \u001b[0mbool\u001b[0m\u001b[0;34m\u001b[0m\u001b[0;34m\u001b[0m\u001b[0m\n\u001b[1;32m    122\u001b[0m     ) -> Iterator:\n\u001b[0;32m--> 123\u001b[0;31m         \u001b[0;32mfor\u001b[0m \u001b[0mdata_entry\u001b[0m \u001b[0;32min\u001b[0m \u001b[0mdata_it\u001b[0m\u001b[0;34m:\u001b[0m\u001b[0;34m\u001b[0m\u001b[0;34m\u001b[0m\u001b[0m\n\u001b[0m\u001b[1;32m    124\u001b[0m             \u001b[0;32mtry\u001b[0m\u001b[0;34m:\u001b[0m\u001b[0;34m\u001b[0m\u001b[0;34m\u001b[0m\u001b[0m\n\u001b[1;32m    125\u001b[0m                 \u001b[0;32myield\u001b[0m \u001b[0mself\u001b[0m\u001b[0;34m.\u001b[0m\u001b[0mmap_transform\u001b[0m\u001b[0;34m(\u001b[0m\u001b[0mdata_entry\u001b[0m\u001b[0;34m.\u001b[0m\u001b[0mcopy\u001b[0m\u001b[0;34m(\u001b[0m\u001b[0;34m)\u001b[0m\u001b[0;34m,\u001b[0m \u001b[0mis_train\u001b[0m\u001b[0;34m)\u001b[0m\u001b[0;34m\u001b[0m\u001b[0;34m\u001b[0m\u001b[0m\n",
      "\u001b[0;32m~/miniconda3/lib/python3.8/site-packages/gluonts/transform/_base.py\u001b[0m in \u001b[0;36m__call__\u001b[0;34m(self, data_it, is_train)\u001b[0m\n\u001b[1;32m    121\u001b[0m         \u001b[0mself\u001b[0m\u001b[0;34m,\u001b[0m \u001b[0mdata_it\u001b[0m\u001b[0;34m:\u001b[0m \u001b[0mIterable\u001b[0m\u001b[0;34m[\u001b[0m\u001b[0mDataEntry\u001b[0m\u001b[0;34m]\u001b[0m\u001b[0;34m,\u001b[0m \u001b[0mis_train\u001b[0m\u001b[0;34m:\u001b[0m \u001b[0mbool\u001b[0m\u001b[0;34m\u001b[0m\u001b[0;34m\u001b[0m\u001b[0m\n\u001b[1;32m    122\u001b[0m     ) -> Iterator:\n\u001b[0;32m--> 123\u001b[0;31m         \u001b[0;32mfor\u001b[0m \u001b[0mdata_entry\u001b[0m \u001b[0;32min\u001b[0m \u001b[0mdata_it\u001b[0m\u001b[0;34m:\u001b[0m\u001b[0;34m\u001b[0m\u001b[0;34m\u001b[0m\u001b[0m\n\u001b[0m\u001b[1;32m    124\u001b[0m             \u001b[0;32mtry\u001b[0m\u001b[0;34m:\u001b[0m\u001b[0;34m\u001b[0m\u001b[0;34m\u001b[0m\u001b[0m\n\u001b[1;32m    125\u001b[0m                 \u001b[0;32myield\u001b[0m \u001b[0mself\u001b[0m\u001b[0;34m.\u001b[0m\u001b[0mmap_transform\u001b[0m\u001b[0;34m(\u001b[0m\u001b[0mdata_entry\u001b[0m\u001b[0;34m.\u001b[0m\u001b[0mcopy\u001b[0m\u001b[0;34m(\u001b[0m\u001b[0;34m)\u001b[0m\u001b[0;34m,\u001b[0m \u001b[0mis_train\u001b[0m\u001b[0;34m)\u001b[0m\u001b[0;34m\u001b[0m\u001b[0;34m\u001b[0m\u001b[0m\n",
      "\u001b[0;32m~/miniconda3/lib/python3.8/site-packages/gluonts/transform/_base.py\u001b[0m in \u001b[0;36m__call__\u001b[0;34m(self, data_it, is_train)\u001b[0m\n\u001b[1;32m    121\u001b[0m         \u001b[0mself\u001b[0m\u001b[0;34m,\u001b[0m \u001b[0mdata_it\u001b[0m\u001b[0;34m:\u001b[0m \u001b[0mIterable\u001b[0m\u001b[0;34m[\u001b[0m\u001b[0mDataEntry\u001b[0m\u001b[0;34m]\u001b[0m\u001b[0;34m,\u001b[0m \u001b[0mis_train\u001b[0m\u001b[0;34m:\u001b[0m \u001b[0mbool\u001b[0m\u001b[0;34m\u001b[0m\u001b[0;34m\u001b[0m\u001b[0m\n\u001b[1;32m    122\u001b[0m     ) -> Iterator:\n\u001b[0;32m--> 123\u001b[0;31m         \u001b[0;32mfor\u001b[0m \u001b[0mdata_entry\u001b[0m \u001b[0;32min\u001b[0m \u001b[0mdata_it\u001b[0m\u001b[0;34m:\u001b[0m\u001b[0;34m\u001b[0m\u001b[0;34m\u001b[0m\u001b[0m\n\u001b[0m\u001b[1;32m    124\u001b[0m             \u001b[0;32mtry\u001b[0m\u001b[0;34m:\u001b[0m\u001b[0;34m\u001b[0m\u001b[0;34m\u001b[0m\u001b[0m\n\u001b[1;32m    125\u001b[0m                 \u001b[0;32myield\u001b[0m \u001b[0mself\u001b[0m\u001b[0;34m.\u001b[0m\u001b[0mmap_transform\u001b[0m\u001b[0;34m(\u001b[0m\u001b[0mdata_entry\u001b[0m\u001b[0;34m.\u001b[0m\u001b[0mcopy\u001b[0m\u001b[0;34m(\u001b[0m\u001b[0;34m)\u001b[0m\u001b[0;34m,\u001b[0m \u001b[0mis_train\u001b[0m\u001b[0;34m)\u001b[0m\u001b[0;34m\u001b[0m\u001b[0;34m\u001b[0m\u001b[0m\n",
      "\u001b[0;32m~/miniconda3/lib/python3.8/site-packages/gluonts/transform/_base.py\u001b[0m in \u001b[0;36m__call__\u001b[0;34m(self, data_it, is_train)\u001b[0m\n\u001b[1;32m    121\u001b[0m         \u001b[0mself\u001b[0m\u001b[0;34m,\u001b[0m \u001b[0mdata_it\u001b[0m\u001b[0;34m:\u001b[0m \u001b[0mIterable\u001b[0m\u001b[0;34m[\u001b[0m\u001b[0mDataEntry\u001b[0m\u001b[0;34m]\u001b[0m\u001b[0;34m,\u001b[0m \u001b[0mis_train\u001b[0m\u001b[0;34m:\u001b[0m \u001b[0mbool\u001b[0m\u001b[0;34m\u001b[0m\u001b[0;34m\u001b[0m\u001b[0m\n\u001b[1;32m    122\u001b[0m     ) -> Iterator:\n\u001b[0;32m--> 123\u001b[0;31m         \u001b[0;32mfor\u001b[0m \u001b[0mdata_entry\u001b[0m \u001b[0;32min\u001b[0m \u001b[0mdata_it\u001b[0m\u001b[0;34m:\u001b[0m\u001b[0;34m\u001b[0m\u001b[0;34m\u001b[0m\u001b[0m\n\u001b[0m\u001b[1;32m    124\u001b[0m             \u001b[0;32mtry\u001b[0m\u001b[0;34m:\u001b[0m\u001b[0;34m\u001b[0m\u001b[0;34m\u001b[0m\u001b[0m\n\u001b[1;32m    125\u001b[0m                 \u001b[0;32myield\u001b[0m \u001b[0mself\u001b[0m\u001b[0;34m.\u001b[0m\u001b[0mmap_transform\u001b[0m\u001b[0;34m(\u001b[0m\u001b[0mdata_entry\u001b[0m\u001b[0;34m.\u001b[0m\u001b[0mcopy\u001b[0m\u001b[0;34m(\u001b[0m\u001b[0;34m)\u001b[0m\u001b[0;34m,\u001b[0m \u001b[0mis_train\u001b[0m\u001b[0;34m)\u001b[0m\u001b[0;34m\u001b[0m\u001b[0;34m\u001b[0m\u001b[0m\n",
      "\u001b[0;32m~/miniconda3/lib/python3.8/site-packages/gluonts/transform/_base.py\u001b[0m in \u001b[0;36m__call__\u001b[0;34m(self, data_it, is_train)\u001b[0m\n\u001b[1;32m    121\u001b[0m         \u001b[0mself\u001b[0m\u001b[0;34m,\u001b[0m \u001b[0mdata_it\u001b[0m\u001b[0;34m:\u001b[0m \u001b[0mIterable\u001b[0m\u001b[0;34m[\u001b[0m\u001b[0mDataEntry\u001b[0m\u001b[0;34m]\u001b[0m\u001b[0;34m,\u001b[0m \u001b[0mis_train\u001b[0m\u001b[0;34m:\u001b[0m \u001b[0mbool\u001b[0m\u001b[0;34m\u001b[0m\u001b[0;34m\u001b[0m\u001b[0m\n\u001b[1;32m    122\u001b[0m     ) -> Iterator:\n\u001b[0;32m--> 123\u001b[0;31m         \u001b[0;32mfor\u001b[0m \u001b[0mdata_entry\u001b[0m \u001b[0;32min\u001b[0m \u001b[0mdata_it\u001b[0m\u001b[0;34m:\u001b[0m\u001b[0;34m\u001b[0m\u001b[0;34m\u001b[0m\u001b[0m\n\u001b[0m\u001b[1;32m    124\u001b[0m             \u001b[0;32mtry\u001b[0m\u001b[0;34m:\u001b[0m\u001b[0;34m\u001b[0m\u001b[0;34m\u001b[0m\u001b[0m\n\u001b[1;32m    125\u001b[0m                 \u001b[0;32myield\u001b[0m \u001b[0mself\u001b[0m\u001b[0;34m.\u001b[0m\u001b[0mmap_transform\u001b[0m\u001b[0;34m(\u001b[0m\u001b[0mdata_entry\u001b[0m\u001b[0;34m.\u001b[0m\u001b[0mcopy\u001b[0m\u001b[0;34m(\u001b[0m\u001b[0;34m)\u001b[0m\u001b[0;34m,\u001b[0m \u001b[0mis_train\u001b[0m\u001b[0;34m)\u001b[0m\u001b[0;34m\u001b[0m\u001b[0;34m\u001b[0m\u001b[0m\n",
      "\u001b[0;32m~/miniconda3/lib/python3.8/site-packages/gluonts/transform/_base.py\u001b[0m in \u001b[0;36m__call__\u001b[0;34m(self, data_it, is_train)\u001b[0m\n\u001b[1;32m    121\u001b[0m         \u001b[0mself\u001b[0m\u001b[0;34m,\u001b[0m \u001b[0mdata_it\u001b[0m\u001b[0;34m:\u001b[0m \u001b[0mIterable\u001b[0m\u001b[0;34m[\u001b[0m\u001b[0mDataEntry\u001b[0m\u001b[0;34m]\u001b[0m\u001b[0;34m,\u001b[0m \u001b[0mis_train\u001b[0m\u001b[0;34m:\u001b[0m \u001b[0mbool\u001b[0m\u001b[0;34m\u001b[0m\u001b[0;34m\u001b[0m\u001b[0m\n\u001b[1;32m    122\u001b[0m     ) -> Iterator:\n\u001b[0;32m--> 123\u001b[0;31m         \u001b[0;32mfor\u001b[0m \u001b[0mdata_entry\u001b[0m \u001b[0;32min\u001b[0m \u001b[0mdata_it\u001b[0m\u001b[0;34m:\u001b[0m\u001b[0;34m\u001b[0m\u001b[0;34m\u001b[0m\u001b[0m\n\u001b[0m\u001b[1;32m    124\u001b[0m             \u001b[0;32mtry\u001b[0m\u001b[0;34m:\u001b[0m\u001b[0;34m\u001b[0m\u001b[0;34m\u001b[0m\u001b[0m\n\u001b[1;32m    125\u001b[0m                 \u001b[0;32myield\u001b[0m \u001b[0mself\u001b[0m\u001b[0;34m.\u001b[0m\u001b[0mmap_transform\u001b[0m\u001b[0;34m(\u001b[0m\u001b[0mdata_entry\u001b[0m\u001b[0;34m.\u001b[0m\u001b[0mcopy\u001b[0m\u001b[0;34m(\u001b[0m\u001b[0;34m)\u001b[0m\u001b[0;34m,\u001b[0m \u001b[0mis_train\u001b[0m\u001b[0;34m)\u001b[0m\u001b[0;34m\u001b[0m\u001b[0;34m\u001b[0m\u001b[0m\n",
      "\u001b[0;32m~/miniconda3/lib/python3.8/site-packages/gluonts/transform/_base.py\u001b[0m in \u001b[0;36m__call__\u001b[0;34m(self, data_it, is_train)\u001b[0m\n\u001b[1;32m    125\u001b[0m                 \u001b[0;32myield\u001b[0m \u001b[0mself\u001b[0m\u001b[0;34m.\u001b[0m\u001b[0mmap_transform\u001b[0m\u001b[0;34m(\u001b[0m\u001b[0mdata_entry\u001b[0m\u001b[0;34m.\u001b[0m\u001b[0mcopy\u001b[0m\u001b[0;34m(\u001b[0m\u001b[0;34m)\u001b[0m\u001b[0;34m,\u001b[0m \u001b[0mis_train\u001b[0m\u001b[0;34m)\u001b[0m\u001b[0;34m\u001b[0m\u001b[0;34m\u001b[0m\u001b[0m\n\u001b[1;32m    126\u001b[0m             \u001b[0;32mexcept\u001b[0m \u001b[0mException\u001b[0m \u001b[0;32mas\u001b[0m \u001b[0me\u001b[0m\u001b[0;34m:\u001b[0m\u001b[0;34m\u001b[0m\u001b[0;34m\u001b[0m\u001b[0m\n\u001b[0;32m--> 127\u001b[0;31m                 \u001b[0;32mraise\u001b[0m \u001b[0me\u001b[0m\u001b[0;34m\u001b[0m\u001b[0;34m\u001b[0m\u001b[0m\n\u001b[0m\u001b[1;32m    128\u001b[0m \u001b[0;34m\u001b[0m\u001b[0m\n\u001b[1;32m    129\u001b[0m     \u001b[0;34m@\u001b[0m\u001b[0mabc\u001b[0m\u001b[0;34m.\u001b[0m\u001b[0mabstractmethod\u001b[0m\u001b[0;34m\u001b[0m\u001b[0;34m\u001b[0m\u001b[0m\n",
      "\u001b[0;32m~/miniconda3/lib/python3.8/site-packages/gluonts/transform/_base.py\u001b[0m in \u001b[0;36m__call__\u001b[0;34m(self, data_it, is_train)\u001b[0m\n\u001b[1;32m    123\u001b[0m         \u001b[0;32mfor\u001b[0m \u001b[0mdata_entry\u001b[0m \u001b[0;32min\u001b[0m \u001b[0mdata_it\u001b[0m\u001b[0;34m:\u001b[0m\u001b[0;34m\u001b[0m\u001b[0;34m\u001b[0m\u001b[0m\n\u001b[1;32m    124\u001b[0m             \u001b[0;32mtry\u001b[0m\u001b[0;34m:\u001b[0m\u001b[0;34m\u001b[0m\u001b[0;34m\u001b[0m\u001b[0m\n\u001b[0;32m--> 125\u001b[0;31m                 \u001b[0;32myield\u001b[0m \u001b[0mself\u001b[0m\u001b[0;34m.\u001b[0m\u001b[0mmap_transform\u001b[0m\u001b[0;34m(\u001b[0m\u001b[0mdata_entry\u001b[0m\u001b[0;34m.\u001b[0m\u001b[0mcopy\u001b[0m\u001b[0;34m(\u001b[0m\u001b[0;34m)\u001b[0m\u001b[0;34m,\u001b[0m \u001b[0mis_train\u001b[0m\u001b[0;34m)\u001b[0m\u001b[0;34m\u001b[0m\u001b[0;34m\u001b[0m\u001b[0m\n\u001b[0m\u001b[1;32m    126\u001b[0m             \u001b[0;32mexcept\u001b[0m \u001b[0mException\u001b[0m \u001b[0;32mas\u001b[0m \u001b[0me\u001b[0m\u001b[0;34m:\u001b[0m\u001b[0;34m\u001b[0m\u001b[0;34m\u001b[0m\u001b[0m\n\u001b[1;32m    127\u001b[0m                 \u001b[0;32mraise\u001b[0m \u001b[0me\u001b[0m\u001b[0;34m\u001b[0m\u001b[0;34m\u001b[0m\u001b[0m\n",
      "\u001b[0;32m~/miniconda3/lib/python3.8/site-packages/gluonts/transform/_base.py\u001b[0m in \u001b[0;36mmap_transform\u001b[0;34m(self, data, is_train)\u001b[0m\n\u001b[1;32m    138\u001b[0m \u001b[0;34m\u001b[0m\u001b[0m\n\u001b[1;32m    139\u001b[0m     \u001b[0;32mdef\u001b[0m \u001b[0mmap_transform\u001b[0m\u001b[0;34m(\u001b[0m\u001b[0mself\u001b[0m\u001b[0;34m,\u001b[0m \u001b[0mdata\u001b[0m\u001b[0;34m:\u001b[0m \u001b[0mDataEntry\u001b[0m\u001b[0;34m,\u001b[0m \u001b[0mis_train\u001b[0m\u001b[0;34m:\u001b[0m \u001b[0mbool\u001b[0m\u001b[0;34m)\u001b[0m \u001b[0;34m->\u001b[0m \u001b[0mDataEntry\u001b[0m\u001b[0;34m:\u001b[0m\u001b[0;34m\u001b[0m\u001b[0;34m\u001b[0m\u001b[0m\n\u001b[0;32m--> 140\u001b[0;31m         \u001b[0;32mreturn\u001b[0m \u001b[0mself\u001b[0m\u001b[0;34m.\u001b[0m\u001b[0mtransform\u001b[0m\u001b[0;34m(\u001b[0m\u001b[0mdata\u001b[0m\u001b[0;34m)\u001b[0m\u001b[0;34m\u001b[0m\u001b[0;34m\u001b[0m\u001b[0m\n\u001b[0m\u001b[1;32m    141\u001b[0m \u001b[0;34m\u001b[0m\u001b[0m\n\u001b[1;32m    142\u001b[0m     \u001b[0;34m@\u001b[0m\u001b[0mabc\u001b[0m\u001b[0;34m.\u001b[0m\u001b[0mabstractmethod\u001b[0m\u001b[0;34m\u001b[0m\u001b[0;34m\u001b[0m\u001b[0m\n",
      "\u001b[0;32m~/miniconda3/lib/python3.8/site-packages/gluonts/transform/convert.py\u001b[0m in \u001b[0;36mtransform\u001b[0;34m(self, data)\u001b[0m\n\u001b[1;32m     52\u001b[0m         \u001b[0mvalue\u001b[0m \u001b[0;34m=\u001b[0m \u001b[0mnp\u001b[0m\u001b[0;34m.\u001b[0m\u001b[0masarray\u001b[0m\u001b[0;34m(\u001b[0m\u001b[0mdata\u001b[0m\u001b[0;34m[\u001b[0m\u001b[0mself\u001b[0m\u001b[0;34m.\u001b[0m\u001b[0mfield\u001b[0m\u001b[0;34m]\u001b[0m\u001b[0;34m,\u001b[0m \u001b[0mdtype\u001b[0m\u001b[0;34m=\u001b[0m\u001b[0mself\u001b[0m\u001b[0;34m.\u001b[0m\u001b[0mdtype\u001b[0m\u001b[0;34m)\u001b[0m\u001b[0;34m\u001b[0m\u001b[0;34m\u001b[0m\u001b[0m\n\u001b[1;32m     53\u001b[0m \u001b[0;34m\u001b[0m\u001b[0m\n\u001b[0;32m---> 54\u001b[0;31m         assert_data_error(\n\u001b[0m\u001b[1;32m     55\u001b[0m             \u001b[0mvalue\u001b[0m\u001b[0;34m.\u001b[0m\u001b[0mndim\u001b[0m \u001b[0;34m==\u001b[0m \u001b[0mself\u001b[0m\u001b[0;34m.\u001b[0m\u001b[0mexpected_ndim\u001b[0m\u001b[0;34m,\u001b[0m\u001b[0;34m\u001b[0m\u001b[0;34m\u001b[0m\u001b[0m\n\u001b[1;32m     56\u001b[0m             \u001b[0;34m'Input for field \"{self.field}\" does not have the required'\u001b[0m\u001b[0;34m\u001b[0m\u001b[0;34m\u001b[0m\u001b[0m\n",
      "\u001b[0;32m~/miniconda3/lib/python3.8/site-packages/gluonts/core/exception.py\u001b[0m in \u001b[0;36massert_data_error\u001b[0;34m(condition, message, *args, **kwargs)\u001b[0m\n\u001b[1;32m    159\u001b[0m         \u001b[0mexception\u001b[0m \u001b[0mmessage\u001b[0m\u001b[0;34m.\u001b[0m\u001b[0;34m\u001b[0m\u001b[0;34m\u001b[0m\u001b[0m\n\u001b[1;32m    160\u001b[0m     \"\"\"\n\u001b[0;32m--> 161\u001b[0;31m     \u001b[0massert_gluonts\u001b[0m\u001b[0;34m(\u001b[0m\u001b[0mGluonTSDataError\u001b[0m\u001b[0;34m,\u001b[0m \u001b[0mcondition\u001b[0m\u001b[0;34m,\u001b[0m \u001b[0mmessage\u001b[0m\u001b[0;34m,\u001b[0m \u001b[0;34m*\u001b[0m\u001b[0margs\u001b[0m\u001b[0;34m,\u001b[0m \u001b[0;34m**\u001b[0m\u001b[0mkwargs\u001b[0m\u001b[0;34m)\u001b[0m\u001b[0;34m\u001b[0m\u001b[0;34m\u001b[0m\u001b[0m\n\u001b[0m\u001b[1;32m    162\u001b[0m \u001b[0;34m\u001b[0m\u001b[0m\n\u001b[1;32m    163\u001b[0m \u001b[0;34m\u001b[0m\u001b[0m\n",
      "\u001b[0;32m~/miniconda3/lib/python3.8/site-packages/gluonts/core/exception.py\u001b[0m in \u001b[0;36massert_gluonts\u001b[0;34m(exception_class, condition, message, *args, **kwargs)\u001b[0m\n\u001b[1;32m    138\u001b[0m     \"\"\"\n\u001b[1;32m    139\u001b[0m     \u001b[0;32mif\u001b[0m \u001b[0;32mnot\u001b[0m \u001b[0mcondition\u001b[0m\u001b[0;34m:\u001b[0m\u001b[0;34m\u001b[0m\u001b[0;34m\u001b[0m\u001b[0m\n\u001b[0;32m--> 140\u001b[0;31m         \u001b[0;32mraise\u001b[0m \u001b[0mexception_class\u001b[0m\u001b[0;34m(\u001b[0m\u001b[0mmessage\u001b[0m\u001b[0;34m.\u001b[0m\u001b[0mformat\u001b[0m\u001b[0;34m(\u001b[0m\u001b[0;34m*\u001b[0m\u001b[0margs\u001b[0m\u001b[0;34m,\u001b[0m \u001b[0;34m**\u001b[0m\u001b[0mkwargs\u001b[0m\u001b[0;34m)\u001b[0m\u001b[0;34m)\u001b[0m\u001b[0;34m\u001b[0m\u001b[0;34m\u001b[0m\u001b[0m\n\u001b[0m\u001b[1;32m    141\u001b[0m \u001b[0;34m\u001b[0m\u001b[0m\n\u001b[1;32m    142\u001b[0m \u001b[0;34m\u001b[0m\u001b[0m\n",
      "\u001b[0;31mGluonTSDataError\u001b[0m: Input for field \"target\" does not have the requireddimension (field: target, ndim observed: 1, expected ndim: 2)"
     ]
    }
   ],
   "source": [
    "predictor = estimator.train(train_ds)"
   ]
  },
  {
   "cell_type": "markdown",
   "metadata": {
    "heading_collapsed": "true"
   },
   "source": [
    "### MQCNNEstimator"
   ]
  },
  {
   "cell_type": "code",
   "execution_count": 696,
   "metadata": {
    "execution": {
     "iopub.execute_input": "2021-07-13T01:00:11.713506Z",
     "iopub.status.busy": "2021-07-13T01:00:11.713340Z",
     "iopub.status.idle": "2021-07-13T01:00:11.721242Z",
     "shell.execute_reply": "2021-07-13T01:00:11.720720Z",
     "shell.execute_reply.started": "2021-07-13T01:00:11.713489Z"
    }
   },
   "outputs": [
    {
     "data": {
      "text/plain": [
       "gluonts.model.seq2seq._mq_dnn_estimator.MQCNNEstimator(add_age_feature=False, add_time_feature=True, cardinality=None, channels_seq=None, context_length=None, decoder_mlp_dim_seq=None, dilation_seq=None, distr_output=None, embedding_dimension=None, enable_decoder_dynamic_feature=True, enable_encoder_dynamic_feature=True, freq=\"5min\", kernel_size_seq=None, max_ts_len=None, num_forking=None, prediction_length=10, quantiles=None, scaling=None, scaling_decoder_dynamic_feature=False, seed=None, trainer=gluonts.mx.trainer._base.Trainer(add_default_callbacks=True, batch_size=None, callbacks=None, clip_gradient=10.0, ctx=mxnet.context.Context(\"cpu\", 0), epochs=15, hybridize=False, init=\"xavier\", learning_rate=0.001, learning_rate_decay_factor=0.5, minimum_learning_rate=5e-05, num_batches_per_epoch=50, patience=3, weight_decay=1e-08), use_feat_dynamic_real=False, use_feat_static_cat=False, use_past_feat_dynamic_real=False, use_residual=True)"
      ]
     },
     "execution_count": 696,
     "metadata": {},
     "output_type": "execute_result"
    }
   ],
   "source": [
    "from gluonts.model.seq2seq import MQCNNEstimator\n",
    "\n",
    "estimator = MQCNNEstimator(\n",
    "#     target_dim=1,\n",
    "#     num_hidden_dimensions=[10],\n",
    "    prediction_length=custom_ds_metadata['prediction_length'],\n",
    "#     context_length=2*custom_ds_metadata['prediction_length'],\n",
    "#     num_stacks=2,\n",
    "    freq=custom_ds_metadata['freq'],\n",
    "#     use_feat_static_cat=False,\n",
    "#     cardinality=sample_num,\n",
    "    trainer=Trainer(\n",
    "        ctx=\"cpu\", \n",
    "        epochs=15, \n",
    "        learning_rate=1e-3, \n",
    "        hybridize=False, \n",
    "#         num_batches_per_epoch=100,\n",
    "        patience=3,\n",
    "    )\n",
    ")\n",
    "estimator"
   ]
  },
  {
   "cell_type": "code",
   "execution_count": 697,
   "metadata": {
    "execution": {
     "iopub.execute_input": "2021-07-13T01:00:12.615705Z",
     "iopub.status.busy": "2021-07-13T01:00:12.615428Z",
     "iopub.status.idle": "2021-07-13T01:00:34.049370Z",
     "shell.execute_reply": "2021-07-13T01:00:34.048975Z",
     "shell.execute_reply.started": "2021-07-13T01:00:12.615683Z"
    }
   },
   "outputs": [
    {
     "name": "stderr",
     "output_type": "stream",
     "text": [
      "100%|██████████| 50/50 [00:01<00:00, 36.37it/s, epoch=1/15, avg_epoch_loss=0.0462]\n",
      "100%|██████████| 50/50 [00:01<00:00, 36.15it/s, epoch=2/15, avg_epoch_loss=0.0166]\n",
      "100%|██████████| 50/50 [00:01<00:00, 35.30it/s, epoch=3/15, avg_epoch_loss=0.0149]\n",
      "100%|██████████| 50/50 [00:01<00:00, 33.21it/s, epoch=4/15, avg_epoch_loss=0.0123]\n",
      "100%|██████████| 50/50 [00:01<00:00, 36.47it/s, epoch=5/15, avg_epoch_loss=0.011]\n",
      "100%|██████████| 50/50 [00:01<00:00, 35.12it/s, epoch=6/15, avg_epoch_loss=0.0104]\n",
      "100%|██████████| 50/50 [00:01<00:00, 33.83it/s, epoch=7/15, avg_epoch_loss=0.01]\n",
      "100%|██████████| 50/50 [00:01<00:00, 36.30it/s, epoch=8/15, avg_epoch_loss=0.00979]\n",
      "100%|██████████| 50/50 [00:01<00:00, 36.93it/s, epoch=9/15, avg_epoch_loss=0.00956]\n",
      "100%|██████████| 50/50 [00:01<00:00, 35.51it/s, epoch=10/15, avg_epoch_loss=0.0094]\n",
      "100%|██████████| 50/50 [00:01<00:00, 34.27it/s, epoch=11/15, avg_epoch_loss=0.00923]\n",
      "100%|██████████| 50/50 [00:01<00:00, 34.74it/s, epoch=12/15, avg_epoch_loss=0.00907]\n",
      "100%|██████████| 50/50 [00:01<00:00, 35.20it/s, epoch=13/15, avg_epoch_loss=0.00891]\n",
      "100%|██████████| 50/50 [00:01<00:00, 34.83it/s, epoch=14/15, avg_epoch_loss=0.00877]\n",
      "100%|██████████| 50/50 [00:01<00:00, 34.84it/s, epoch=15/15, avg_epoch_loss=0.00864]\n"
     ]
    }
   ],
   "source": [
    "predictor = estimator.train(train_ds)"
   ]
  },
  {
   "cell_type": "markdown",
   "metadata": {
    "execution": {
     "iopub.execute_input": "2021-07-13T01:03:01.357062Z",
     "iopub.status.busy": "2021-07-13T01:03:01.356888Z",
     "iopub.status.idle": "2021-07-13T01:03:01.359592Z",
     "shell.execute_reply": "2021-07-13T01:03:01.358778Z",
     "shell.execute_reply.started": "2021-07-13T01:03:01.357045Z"
    },
    "heading_collapsed": "true"
   },
   "source": [
    "### TemporalFusionTransformerEstimator"
   ]
  },
  {
   "cell_type": "code",
   "execution_count": 19,
   "metadata": {
    "execution": {
     "iopub.execute_input": "2021-07-19T05:02:48.804677Z",
     "iopub.status.busy": "2021-07-19T05:02:48.804506Z",
     "iopub.status.idle": "2021-07-19T05:02:48.811298Z",
     "shell.execute_reply": "2021-07-19T05:02:48.810930Z",
     "shell.execute_reply.started": "2021-07-19T05:02:48.804661Z"
    }
   },
   "outputs": [
    {
     "data": {
      "text/plain": [
       "gluonts.model.tft._estimator.TemporalFusionTransformerEstimator(batch_size=32, context_length=None, dropout_rate=0.1, dynamic_cardinalities={}, dynamic_feature_dims={}, freq=\"5min\", hidden_dim=32, num_heads=4, num_instance_per_series=100, num_outputs=3, past_dynamic_features=[], prediction_length=10, static_cardinalities={}, static_feature_dims={}, time_features=[], train_sampler=None, trainer=gluonts.mx.trainer._base.Trainer(add_default_callbacks=True, batch_size=None, callbacks=None, clip_gradient=10.0, ctx=mxnet.context.Context(\"cpu\", 0), epochs=15, hybridize=False, init=\"xavier\", learning_rate=0.001, learning_rate_decay_factor=0.5, minimum_learning_rate=5e-05, num_batches_per_epoch=50, patience=3, weight_decay=1e-08), validation_sampler=None, variable_dim=None)"
      ]
     },
     "execution_count": 19,
     "metadata": {},
     "output_type": "execute_result"
    }
   ],
   "source": [
    "from gluonts.model.tft import TemporalFusionTransformerEstimator\n",
    "\n",
    "estimator = TemporalFusionTransformerEstimator(\n",
    "#     target_dim=1,\n",
    "#     num_hidden_dimensions=[10],\n",
    "    prediction_length=custom_ds_metadata['prediction_length'],\n",
    "#     context_length=2*custom_ds_metadata['prediction_length'],\n",
    "#     num_stacks=2,\n",
    "    freq=custom_ds_metadata['freq'],\n",
    "#     use_feat_static_cat=False,\n",
    "#     cardinality=sample_num,\n",
    "    trainer=Trainer(\n",
    "        ctx=\"cpu\", \n",
    "        epochs=15, \n",
    "        learning_rate=1e-3, \n",
    "        hybridize=False, \n",
    "#         num_batches_per_epoch=100,\n",
    "        patience=3,\n",
    "    )\n",
    ")\n",
    "estimator"
   ]
  },
  {
   "cell_type": "code",
   "execution_count": 802,
   "metadata": {
    "execution": {
     "iopub.execute_input": "2021-07-15T05:07:13.347539Z",
     "iopub.status.busy": "2021-07-15T05:07:13.347362Z",
     "iopub.status.idle": "2021-07-15T05:08:42.912162Z",
     "shell.execute_reply": "2021-07-15T05:08:42.910946Z",
     "shell.execute_reply.started": "2021-07-15T05:07:13.347522Z"
    }
   },
   "outputs": [
    {
     "name": "stderr",
     "output_type": "stream",
     "text": [
      "100%|██████████| 50/50 [00:05<00:00,  9.56it/s, epoch=1/15, avg_epoch_loss=0.0382]\n",
      "100%|██████████| 50/50 [00:05<00:00,  9.80it/s, epoch=2/15, avg_epoch_loss=0.0376]\n",
      "100%|██████████| 50/50 [00:09<00:00,  5.50it/s, epoch=3/15, avg_epoch_loss=0.0376]\n",
      "100%|██████████| 50/50 [00:05<00:00,  9.80it/s, epoch=4/15, avg_epoch_loss=0.0341]\n",
      "100%|██████████| 50/50 [00:05<00:00,  9.96it/s, epoch=5/15, avg_epoch_loss=0.0336]\n",
      "100%|██████████| 50/50 [00:07<00:00,  6.27it/s, epoch=6/15, avg_epoch_loss=0.0333]\n",
      "100%|██████████| 50/50 [00:05<00:00,  9.83it/s, epoch=7/15, avg_epoch_loss=0.0329]\n",
      "100%|██████████| 50/50 [00:06<00:00,  7.77it/s, epoch=8/15, avg_epoch_loss=0.033]\n",
      "100%|██████████| 50/50 [00:06<00:00,  7.99it/s, epoch=9/15, avg_epoch_loss=0.0319]\n",
      "100%|██████████| 50/50 [00:05<00:00,  9.29it/s, epoch=10/15, avg_epoch_loss=0.0305]\n",
      "100%|██████████| 50/50 [00:05<00:00,  9.43it/s, epoch=11/15, avg_epoch_loss=0.0315]\n",
      "100%|██████████| 50/50 [00:06<00:00,  7.91it/s, epoch=12/15, avg_epoch_loss=0.0317]\n",
      "100%|██████████| 50/50 [00:05<00:00,  9.25it/s, epoch=13/15, avg_epoch_loss=0.0307]\n",
      "100%|██████████| 50/50 [00:05<00:00,  9.25it/s, epoch=14/15, avg_epoch_loss=0.031]\n",
      "100%|██████████| 50/50 [00:05<00:00,  8.78it/s, epoch=15/15, avg_epoch_loss=0.0311]\n"
     ]
    }
   ],
   "source": [
    "predictor = estimator.train(train_ds)"
   ]
  },
  {
   "cell_type": "markdown",
   "metadata": {
    "heading_collapsed": "true"
   },
   "source": [
    "### TransformerEstimator"
   ]
  },
  {
   "cell_type": "code",
   "execution_count": 725,
   "metadata": {
    "execution": {
     "iopub.execute_input": "2021-07-13T01:07:31.880496Z",
     "iopub.status.busy": "2021-07-13T01:07:31.879965Z",
     "iopub.status.idle": "2021-07-13T01:07:31.923025Z",
     "shell.execute_reply": "2021-07-13T01:07:31.922453Z",
     "shell.execute_reply.started": "2021-07-13T01:07:31.880430Z"
    }
   },
   "outputs": [
    {
     "data": {
      "text/plain": [
       "gluonts.model.transformer._estimator.TransformerEstimator(act_type=\"softrelu\", batch_size=32, cardinality=None, context_length=None, distr_output=gluonts.mx.distribution.student_t.StudentTOutput(), dropout_rate=0.1, embedding_dimension=20, freq=\"5min\", inner_ff_dim_scale=4, lags_seq=None, model_dim=32, num_heads=8, num_parallel_samples=100, post_seq=\"drn\", pre_seq=\"dn\", prediction_length=10, scaling=True, time_features=None, train_sampler=None, trainer=gluonts.mx.trainer._base.Trainer(add_default_callbacks=True, batch_size=None, callbacks=None, clip_gradient=10.0, ctx=mxnet.context.Context(\"cpu\", 0), epochs=15, hybridize=False, init=\"xavier\", learning_rate=0.001, learning_rate_decay_factor=0.5, minimum_learning_rate=5e-05, num_batches_per_epoch=50, patience=3, weight_decay=1e-08), use_feat_dynamic_real=False, use_feat_static_cat=False, validation_sampler=None)"
      ]
     },
     "execution_count": 725,
     "metadata": {},
     "output_type": "execute_result"
    }
   ],
   "source": [
    "from gluonts.model.transformer import TransformerEstimator\n",
    "\n",
    "estimator = TransformerEstimator(\n",
    "#     target_dim=1,\n",
    "#     num_hidden_dimensions=[10],\n",
    "    prediction_length=custom_ds_metadata['prediction_length'],\n",
    "#     context_length=2*custom_ds_metadata['prediction_length'],\n",
    "#     num_stacks=2,\n",
    "    freq=custom_ds_metadata['freq'],\n",
    "#     use_feat_static_cat=False,\n",
    "#     cardinality=sample_num,\n",
    "    trainer=Trainer(\n",
    "        ctx=\"cpu\", \n",
    "        epochs=15, \n",
    "        learning_rate=1e-3, \n",
    "        hybridize=False, \n",
    "#         num_batches_per_epoch=100,\n",
    "        patience=3,\n",
    "    )\n",
    ")\n",
    "estimator"
   ]
  },
  {
   "cell_type": "code",
   "execution_count": 726,
   "metadata": {
    "execution": {
     "iopub.execute_input": "2021-07-13T01:07:33.676749Z",
     "iopub.status.busy": "2021-07-13T01:07:33.676070Z",
     "iopub.status.idle": "2021-07-13T01:08:02.785678Z",
     "shell.execute_reply": "2021-07-13T01:08:02.784926Z",
     "shell.execute_reply.started": "2021-07-13T01:07:33.676669Z"
    }
   },
   "outputs": [
    {
     "name": "stderr",
     "output_type": "stream",
     "text": [
      "100%|██████████| 50/50 [00:02<00:00, 21.48it/s, epoch=1/15, avg_epoch_loss=0.493]\n",
      "100%|██████████| 50/50 [00:01<00:00, 27.40it/s, epoch=2/15, avg_epoch_loss=0.123]\n",
      "100%|██████████| 50/50 [00:01<00:00, 26.44it/s, epoch=3/15, avg_epoch_loss=-.128]\n",
      "100%|██████████| 50/50 [00:01<00:00, 26.48it/s, epoch=4/15, avg_epoch_loss=-.179]\n",
      "100%|██████████| 50/50 [00:01<00:00, 26.00it/s, epoch=5/15, avg_epoch_loss=-.276]\n",
      "100%|██████████| 50/50 [00:01<00:00, 25.61it/s, epoch=6/15, avg_epoch_loss=-.326]\n",
      "100%|██████████| 50/50 [00:01<00:00, 26.20it/s, epoch=7/15, avg_epoch_loss=-.399]\n",
      "100%|██████████| 50/50 [00:01<00:00, 26.90it/s, epoch=8/15, avg_epoch_loss=-.412]\n",
      "100%|██████████| 50/50 [00:01<00:00, 26.90it/s, epoch=9/15, avg_epoch_loss=-.443]\n",
      "100%|██████████| 50/50 [00:01<00:00, 26.14it/s, epoch=10/15, avg_epoch_loss=-.498]\n",
      "100%|██████████| 50/50 [00:01<00:00, 26.14it/s, epoch=11/15, avg_epoch_loss=-.506]\n",
      "100%|██████████| 50/50 [00:02<00:00, 23.78it/s, epoch=12/15, avg_epoch_loss=-.585]\n",
      "100%|██████████| 50/50 [00:01<00:00, 28.30it/s, epoch=13/15, avg_epoch_loss=-.554]\n",
      "100%|██████████| 50/50 [00:01<00:00, 26.66it/s, epoch=14/15, avg_epoch_loss=-.59]\n",
      "100%|██████████| 50/50 [00:01<00:00, 26.51it/s, epoch=15/15, avg_epoch_loss=-.624]\n"
     ]
    }
   ],
   "source": [
    "predictor = estimator.train(train_ds)"
   ]
  },
  {
   "cell_type": "markdown",
   "metadata": {
    "heading_collapsed": "true"
   },
   "source": [
    "### WaveNet"
   ]
  },
  {
   "cell_type": "code",
   "execution_count": 740,
   "metadata": {
    "execution": {
     "iopub.execute_input": "2021-07-13T01:13:39.997742Z",
     "iopub.status.busy": "2021-07-13T01:13:39.997424Z",
     "iopub.status.idle": "2021-07-13T01:13:40.016412Z",
     "shell.execute_reply": "2021-07-13T01:13:40.015825Z",
     "shell.execute_reply.started": "2021-07-13T01:13:39.997706Z"
    }
   },
   "outputs": [
    {
     "name": "stderr",
     "output_type": "stream",
     "text": [
      "WARNING:gluonts.time_feature.seasonality:Multiple 5 does not divide base seasonality 1. Falling back to seasonality 1.\n"
     ]
    },
    {
     "data": {
      "text/plain": [
       "gluonts.model.wavenet._estimator.WaveNetEstimator(act_type=\"elu\", batch_size=32, cardinality=[1], dilation_depth=None, embedding_dimension=5, freq=\"5min\", hybridize_prediction_net=False, n_residue=24, n_skip=32, n_stacks=1, negative_data=False, num_bins=1024, num_parallel_samples=200, prediction_length=10, seasonality=None, temperature=1.0, train_sampler=None, train_window_length=None, trainer=gluonts.mx.trainer._base.Trainer(add_default_callbacks=True, batch_size=None, callbacks=None, clip_gradient=10.0, ctx=mxnet.context.Context(\"cpu\", 0), epochs=15, hybridize=False, init=\"xavier\", learning_rate=0.001, learning_rate_decay_factor=0.5, minimum_learning_rate=5e-05, num_batches_per_epoch=50, patience=3, weight_decay=1e-08), validation_sampler=None)"
      ]
     },
     "execution_count": 740,
     "metadata": {},
     "output_type": "execute_result"
    }
   ],
   "source": [
    "from gluonts.model.wavenet import WaveNetEstimator\n",
    "\n",
    "estimator = WaveNetEstimator(\n",
    "#     target_dim=1,\n",
    "#     num_hidden_dimensions=[10],\n",
    "    prediction_length=custom_ds_metadata['prediction_length'],\n",
    "#     context_length=2*custom_ds_metadata['prediction_length'],\n",
    "#     num_stacks=2,\n",
    "    freq=custom_ds_metadata['freq'],\n",
    "#     use_feat_static_cat=False,\n",
    "#     cardinality=sample_num,\n",
    "    trainer=Trainer(\n",
    "        ctx=\"cpu\", \n",
    "        epochs=15, \n",
    "        learning_rate=1e-3, \n",
    "        hybridize=False, \n",
    "#         num_batches_per_epoch=100,\n",
    "        patience=3,\n",
    "    )\n",
    ")\n",
    "estimator"
   ]
  },
  {
   "cell_type": "code",
   "execution_count": 741,
   "metadata": {
    "execution": {
     "iopub.execute_input": "2021-07-13T01:14:01.335687Z",
     "iopub.status.busy": "2021-07-13T01:14:01.335371Z",
     "iopub.status.idle": "2021-07-13T01:14:31.818578Z",
     "shell.execute_reply": "2021-07-13T01:14:31.818022Z",
     "shell.execute_reply.started": "2021-07-13T01:14:01.335658Z"
    }
   },
   "outputs": [
    {
     "name": "stderr",
     "output_type": "stream",
     "text": [
      "100%|██████████| 50/50 [00:04<00:00, 10.89it/s, epoch=1/15, avg_epoch_loss=6.29]\n",
      "100%|██████████| 50/50 [00:01<00:00, 27.54it/s, epoch=2/15, avg_epoch_loss=5.19]\n",
      "100%|██████████| 50/50 [00:01<00:00, 28.32it/s, epoch=3/15, avg_epoch_loss=4.93]\n",
      "100%|██████████| 50/50 [00:01<00:00, 27.63it/s, epoch=4/15, avg_epoch_loss=4.77]\n",
      "100%|██████████| 50/50 [00:01<00:00, 26.43it/s, epoch=5/15, avg_epoch_loss=4.6]\n",
      "100%|██████████| 50/50 [00:01<00:00, 27.74it/s, epoch=6/15, avg_epoch_loss=4.58]\n",
      "100%|██████████| 50/50 [00:01<00:00, 27.33it/s, epoch=7/15, avg_epoch_loss=4.53]\n",
      "100%|██████████| 50/50 [00:01<00:00, 27.62it/s, epoch=8/15, avg_epoch_loss=4.4]\n",
      "100%|██████████| 50/50 [00:01<00:00, 27.12it/s, epoch=9/15, avg_epoch_loss=4.41]\n",
      "100%|██████████| 50/50 [00:01<00:00, 25.53it/s, epoch=10/15, avg_epoch_loss=4.3]\n",
      "100%|██████████| 50/50 [00:01<00:00, 27.58it/s, epoch=11/15, avg_epoch_loss=4.21]\n",
      "100%|██████████| 50/50 [00:01<00:00, 26.98it/s, epoch=12/15, avg_epoch_loss=4.2]\n",
      "100%|██████████| 50/50 [00:01<00:00, 27.52it/s, epoch=13/15, avg_epoch_loss=4.15]\n",
      "100%|██████████| 50/50 [00:01<00:00, 27.34it/s, epoch=14/15, avg_epoch_loss=4.11]\n",
      "100%|██████████| 50/50 [00:01<00:00, 27.90it/s, epoch=15/15, avg_epoch_loss=4.05]\n"
     ]
    }
   ],
   "source": [
    "predictor = estimator.train(train_ds)"
   ]
  },
  {
   "cell_type": "markdown",
   "metadata": {
    "heading_collapsed": "true"
   },
   "source": [
    "### multivariate model data preprocessing"
   ]
  },
  {
   "cell_type": "code",
   "execution_count": 608,
   "metadata": {
    "execution": {
     "iopub.execute_input": "2021-07-13T00:03:41.419527Z",
     "iopub.status.busy": "2021-07-13T00:03:41.419308Z",
     "iopub.status.idle": "2021-07-13T00:03:41.431736Z",
     "shell.execute_reply": "2021-07-13T00:03:41.431204Z",
     "shell.execute_reply.started": "2021-07-13T00:03:41.419507Z"
    }
   },
   "outputs": [],
   "source": [
    "prediction_length = 5\n",
    "\n",
    "feature_num_max = len(sample_lists[0]) # the first element is the start_time.\n",
    "feature_num = 1\n",
    "\n",
    "train_ds = ListDataset(\n",
    "    [\n",
    "        {\n",
    "            FieldName.TARGET: [s[:-custom_ds_metadata['prediction_length']] for s in sample],\n",
    "            FieldName.START: start_time,\n",
    "            FieldName.FEAT_DYNAMIC_REAL: [s[:-custom_ds_metadata['prediction_length']] for s in sample], #[fdr],\n",
    "#             FieldName.FEAT_STATIC_CAT: [fsc],\n",
    "        }\n",
    "        for start_time, sample in zip(start_times, sample_lists)\n",
    "#         for (target, start, fdr, fsc) in zip(\n",
    "#             target[:, :-custom_ds_metadata['prediction_length']],\n",
    "#             custom_ds_metadata['start'],\n",
    "#             feat_dynamic_real[:, :-custom_ds_metadata['prediction_length']],\n",
    "#             feat_static_cat\n",
    "#         )\n",
    "    ],\n",
    "    freq=custom_ds_metadata['freq']\n",
    ")\n",
    "\n",
    "test_ds = ListDataset(\n",
    "    [\n",
    "        {\n",
    "            FieldName.TARGET: sample,\n",
    "            FieldName.START: start_time,\n",
    "            FieldName.FEAT_DYNAMIC_REAL: sample, #[fdr],\n",
    "#             FieldName.FEAT_STATIC_CAT: [fsc],\n",
    "        }\n",
    "        for start_time, sample in zip(start_times, sample_lists)\n",
    "#         for (target, start, fdr, fsc) in zip(\n",
    "#             target[:, :-custom_ds_metadata['prediction_length']],\n",
    "#             custom_ds_metadata['start'],\n",
    "#             feat_dynamic_real[:, :-custom_ds_metadata['prediction_length']],\n",
    "#             feat_static_cat\n",
    "#         )\n",
    "    ],\n",
    "    freq=custom_ds_metadata['freq']\n",
    ")"
   ]
  },
  {
   "cell_type": "code",
   "execution_count": 609,
   "metadata": {
    "execution": {
     "iopub.execute_input": "2021-07-13T00:03:42.484734Z",
     "iopub.status.busy": "2021-07-13T00:03:42.484438Z",
     "iopub.status.idle": "2021-07-13T00:03:42.490829Z",
     "shell.execute_reply": "2021-07-13T00:03:42.489970Z",
     "shell.execute_reply.started": "2021-07-13T00:03:42.484702Z"
    }
   },
   "outputs": [
    {
     "data": {
      "text/plain": [
       "(10, [40, 40, 40, 40, 40, 40, 40, 40, 40, 40], 100)"
      ]
     },
     "execution_count": 609,
     "metadata": {},
     "output_type": "execute_result"
    }
   ],
   "source": [
    "ss = sample_lists[1:]\n",
    "len(ss), [len(s) for s in ss], len(ss[0][1])\n"
   ]
  },
  {
   "cell_type": "code",
   "execution_count": 511,
   "metadata": {
    "execution": {
     "iopub.execute_input": "2021-07-12T21:08:04.874046Z",
     "iopub.status.busy": "2021-07-12T21:08:04.873881Z",
     "iopub.status.idle": "2021-07-12T21:08:07.059065Z",
     "shell.execute_reply": "2021-07-12T21:08:07.058516Z",
     "shell.execute_reply.started": "2021-07-12T21:08:04.874029Z"
    }
   },
   "outputs": [
    {
     "data": {
      "text/plain": [
       "array([[ 0.24926796,  0.07956791,  1.27267834, ...,  0.25300533,\n",
       "        -0.42542594,  1.45721259],\n",
       "       [ 1.45131571, -0.17237089,  2.65355383, ..., -0.50802066,\n",
       "        -0.64057716,  2.02216827],\n",
       "       [ 0.41520698,  0.12413502,  1.15947489, ..., -0.55046754,\n",
       "        -0.52958985,  0.53631667],\n",
       "       [ 0.09873335,  0.18220053,  0.8275661 , ..., -0.27735968,\n",
       "        -0.46518917,  0.49161831],\n",
       "       [-0.22388685,  0.24186622,  0.48740202, ..., -0.0031057 ,\n",
       "        -0.39998105,  0.44010465]])"
      ]
     },
     "execution_count": 511,
     "metadata": {},
     "output_type": "execute_result"
    }
   ],
   "source": [
    "# artificial data (from https://github.com/mbohlkeschneider/gluon-ts/blob/mv_release/src/gluonts/multivariate/datasets/sinus_covariance.py#L20)\n",
    "\n",
    "max_target_dim = 5\n",
    "rank: int = 2\n",
    "    \n",
    "freq = \"1H\"\n",
    "start = pd.Timestamp(\"1800-01-01\", freq)\n",
    "prediction_length: int = 24\n",
    "num_freq = 1000\n",
    "num_obs_per_freq = prediction_length\n",
    "num_observations = num_freq * num_obs_per_freq\n",
    "tt = np.arange(0, num_observations) * (2 * np.pi) / num_obs_per_freq\n",
    "pho_t = np.sin(tt)\n",
    "\n",
    "U = np.random.uniform(size=(max_target_dim, rank)) - 0.5\n",
    "\n",
    "sigma_0 = 0.1\n",
    "\n",
    "def get_Sigma(pho):\n",
    "    if rank == 2:\n",
    "        S = np.array(\n",
    "            [\n",
    "                [sigma_0 ** 2, sigma_0 ** 2 * pho],\n",
    "                [sigma_0 ** 2 * pho, sigma_0 ** 2],\n",
    "            ]\n",
    "        )\n",
    "    if rank == 1:\n",
    "        S = np.array(pho + 1 + sigma_0)\n",
    "    # return np.dot(S, S)\n",
    "    # return S\n",
    "    return np.dot(np.dot(U, S), U.T)\n",
    "\n",
    "mu = pho_t.reshape((-1, 1)).dot(np.ones((1, max_target_dim)))\n",
    "\n",
    "Sigma_true = np.stack([get_Sigma(pho_t[i]) for i in range(len(tt))])\n",
    "Sigma_true /= Sigma_true.std()\n",
    "\n",
    "# for k in range(0, target_dim):\n",
    "#     plt.plot(Sigma_true[:100, 0, k], label=k)\n",
    "# plt.legend()\n",
    "# plt.show()\n",
    "\n",
    "values = np.stack(\n",
    "    [\n",
    "        np.random.multivariate_normal(mu[t], Sigma_true[t])\n",
    "        for t in range(len(tt))\n",
    "    ]\n",
    ")\n",
    "\n",
    "# for j in range(0, values.shape[0]):\n",
    "#    plt.plot(values[j, :72])\n",
    "# plt.tight_layout()\n",
    "# plt.savefig(\"artificial-timeseries.pdf\")\n",
    "\n",
    "# values = np.hstack([values, pho_t.reshape((-1, 1))])\n",
    "\n",
    "values = values.transpose()\n",
    "\n",
    "target_dim = values.shape[0]\n",
    "\n",
    "train_ds = [\n",
    "    {'item': '0', 'start': start, 'target': values[:, :-prediction_length]}\n",
    "]\n",
    "\n",
    "test_ds = [{'item': '0', 'start': start, 'target': values}]\n",
    "\n",
    "values"
   ]
  },
  {
   "cell_type": "markdown",
   "metadata": {
    "heading_collapsed": "true"
   },
   "source": [
    "### LSTNetEstimator TODO"
   ]
  },
  {
   "cell_type": "code",
   "execution_count": 606,
   "metadata": {
    "execution": {
     "iopub.execute_input": "2021-07-13T00:02:10.365053Z",
     "iopub.status.busy": "2021-07-13T00:02:10.364828Z",
     "iopub.status.idle": "2021-07-13T00:02:10.370958Z",
     "shell.execute_reply": "2021-07-13T00:02:10.370442Z",
     "shell.execute_reply.started": "2021-07-13T00:02:10.365032Z"
    }
   },
   "outputs": [
    {
     "data": {
      "text/plain": [
       "gluonts.model.lstnet._estimator.LSTNetEstimator(ar_window=3, batch_size=32, channels=2, context_length=20, dropout_rate=0.2, freq=\"5min\", kernel_size=6, lead_time=0, num_series=98, output_activation=None, prediction_length=10, rnn_cell_type=\"gru\", rnn_num_cells=100, rnn_num_layers=3, scaling=True, skip_rnn_cell_type=\"gru\", skip_rnn_num_cells=10, skip_rnn_num_layers=1, skip_size=2, train_sampler=None, trainer=gluonts.mx.trainer._base.Trainer(add_default_callbacks=True, batch_size=None, callbacks=None, clip_gradient=10.0, ctx=mxnet.context.Context(\"cpu\", 0), epochs=8, hybridize=True, init=\"xavier\", learning_rate=0.001, learning_rate_decay_factor=0.5, minimum_learning_rate=5e-05, num_batches_per_epoch=50, patience=3, weight_decay=1e-08), validation_sampler=None)"
      ]
     },
     "execution_count": 606,
     "metadata": {},
     "output_type": "execute_result"
    }
   ],
   "source": [
    "from gluonts.model.lstnet import LSTNetEstimator\n",
    "\n",
    "estimator = LSTNetEstimator(\n",
    "#     num_hidden_dimensions=[10],\n",
    "    prediction_length=custom_ds_metadata['prediction_length'],\n",
    "    context_length=2*custom_ds_metadata['prediction_length'],\n",
    "#     num_stacks=2,\n",
    "    freq=custom_ds_metadata['freq'],\n",
    "    num_series=len(samples[0])-2, # minus start_time, sample[0] (target)\n",
    "    skip_size=2,\n",
    "    ar_window=3,\n",
    "    channels=2,\n",
    "    trainer=Trainer(\n",
    "        ctx=\"cpu\", \n",
    "        epochs=8, \n",
    "            learning_rate=1e-3, \n",
    "        \n",
    "#         num_batches_per_epoch=100,\n",
    "        patience=3,\n",
    "    )\n",
    ")\n",
    "estimator"
   ]
  },
  {
   "cell_type": "code",
   "execution_count": 610,
   "metadata": {
    "execution": {
     "iopub.execute_input": "2021-07-13T00:03:48.749685Z",
     "iopub.status.busy": "2021-07-13T00:03:48.749518Z",
     "iopub.status.idle": "2021-07-13T00:03:48.765673Z",
     "shell.execute_reply": "2021-07-13T00:03:48.765027Z",
     "shell.execute_reply.started": "2021-07-13T00:03:48.749668Z"
    }
   },
   "outputs": [
    {
     "ename": "GluonTSDataError",
     "evalue": "Array 'target' has bad shape - expected 1 dimensions, got 2.",
     "output_type": "error",
     "traceback": [
      "\u001b[0;31m---------------------------------------------------------------------------\u001b[0m",
      "\u001b[0;31mGluonTSDataError\u001b[0m                          Traceback (most recent call last)",
      "\u001b[0;32m<ipython-input-610-44c508c2f597>\u001b[0m in \u001b[0;36m<module>\u001b[0;34m\u001b[0m\n\u001b[0;32m----> 1\u001b[0;31m \u001b[0mpredictor\u001b[0m \u001b[0;34m=\u001b[0m \u001b[0mestimator\u001b[0m\u001b[0;34m.\u001b[0m\u001b[0mtrain\u001b[0m\u001b[0;34m(\u001b[0m\u001b[0mtrain_ds\u001b[0m\u001b[0;34m)\u001b[0m\u001b[0;34m\u001b[0m\u001b[0;34m\u001b[0m\u001b[0m\n\u001b[0m",
      "\u001b[0;32m~/miniconda3/lib/python3.8/site-packages/gluonts/mx/model/estimator.py\u001b[0m in \u001b[0;36mtrain\u001b[0;34m(self, training_data, validation_data, num_workers, num_prefetch, shuffle_buffer_length, cache_data, **kwargs)\u001b[0m\n\u001b[1;32m    193\u001b[0m         \u001b[0;34m**\u001b[0m\u001b[0mkwargs\u001b[0m\u001b[0;34m,\u001b[0m\u001b[0;34m\u001b[0m\u001b[0;34m\u001b[0m\u001b[0m\n\u001b[1;32m    194\u001b[0m     ) -> Predictor:\n\u001b[0;32m--> 195\u001b[0;31m         return self.train_model(\n\u001b[0m\u001b[1;32m    196\u001b[0m             \u001b[0mtraining_data\u001b[0m\u001b[0;34m=\u001b[0m\u001b[0mtraining_data\u001b[0m\u001b[0;34m,\u001b[0m\u001b[0;34m\u001b[0m\u001b[0;34m\u001b[0m\u001b[0m\n\u001b[1;32m    197\u001b[0m             \u001b[0mvalidation_data\u001b[0m\u001b[0;34m=\u001b[0m\u001b[0mvalidation_data\u001b[0m\u001b[0;34m,\u001b[0m\u001b[0;34m\u001b[0m\u001b[0;34m\u001b[0m\u001b[0m\n",
      "\u001b[0;32m~/miniconda3/lib/python3.8/site-packages/gluonts/mx/model/estimator.py\u001b[0m in \u001b[0;36mtrain_model\u001b[0;34m(self, training_data, validation_data, num_workers, num_prefetch, shuffle_buffer_length, cache_data)\u001b[0m\n\u001b[1;32m    146\u001b[0m         \u001b[0mtransformed_training_data\u001b[0m \u001b[0;34m=\u001b[0m \u001b[0mtransformation\u001b[0m\u001b[0;34m.\u001b[0m\u001b[0mapply\u001b[0m\u001b[0;34m(\u001b[0m\u001b[0mtraining_data\u001b[0m\u001b[0;34m)\u001b[0m\u001b[0;34m\u001b[0m\u001b[0;34m\u001b[0m\u001b[0m\n\u001b[1;32m    147\u001b[0m \u001b[0;34m\u001b[0m\u001b[0m\n\u001b[0;32m--> 148\u001b[0;31m         training_data_loader = self.create_training_data_loader(\n\u001b[0m\u001b[1;32m    149\u001b[0m             \u001b[0mtransformed_training_data\u001b[0m\u001b[0;34m\u001b[0m\u001b[0;34m\u001b[0m\u001b[0m\n\u001b[1;32m    150\u001b[0m             \u001b[0;32mif\u001b[0m \u001b[0;32mnot\u001b[0m \u001b[0mcache_data\u001b[0m\u001b[0;34m\u001b[0m\u001b[0;34m\u001b[0m\u001b[0m\n",
      "\u001b[0;32m~/miniconda3/lib/python3.8/site-packages/gluonts/model/lstnet/_estimator.py\u001b[0m in \u001b[0;36mcreate_training_data_loader\u001b[0;34m(self, data, **kwargs)\u001b[0m\n\u001b[1;32m    216\u001b[0m     ) -> DataLoader:\n\u001b[1;32m    217\u001b[0m         \u001b[0minput_names\u001b[0m \u001b[0;34m=\u001b[0m \u001b[0mget_hybrid_forward_input_names\u001b[0m\u001b[0;34m(\u001b[0m\u001b[0mLSTNetTrain\u001b[0m\u001b[0;34m)\u001b[0m\u001b[0;34m\u001b[0m\u001b[0;34m\u001b[0m\u001b[0m\n\u001b[0;32m--> 218\u001b[0;31m         \u001b[0;32mwith\u001b[0m \u001b[0menv\u001b[0m\u001b[0;34m.\u001b[0m\u001b[0m_let\u001b[0m\u001b[0;34m(\u001b[0m\u001b[0mmax_idle_transforms\u001b[0m\u001b[0;34m=\u001b[0m\u001b[0mmaybe_len\u001b[0m\u001b[0;34m(\u001b[0m\u001b[0mdata\u001b[0m\u001b[0;34m)\u001b[0m \u001b[0;32mor\u001b[0m \u001b[0;36m0\u001b[0m\u001b[0;34m)\u001b[0m\u001b[0;34m:\u001b[0m\u001b[0;34m\u001b[0m\u001b[0;34m\u001b[0m\u001b[0m\n\u001b[0m\u001b[1;32m    219\u001b[0m             \u001b[0minstance_splitter\u001b[0m \u001b[0;34m=\u001b[0m \u001b[0mself\u001b[0m\u001b[0;34m.\u001b[0m\u001b[0m_create_instance_splitter\u001b[0m\u001b[0;34m(\u001b[0m\u001b[0;34m\"training\"\u001b[0m\u001b[0;34m)\u001b[0m\u001b[0;34m\u001b[0m\u001b[0;34m\u001b[0m\u001b[0m\n\u001b[1;32m    220\u001b[0m         return TrainDataLoader(\n",
      "\u001b[0;32m~/miniconda3/lib/python3.8/site-packages/gluonts/support/util.py\u001b[0m in \u001b[0;36mmaybe_len\u001b[0;34m(obj)\u001b[0m\n\u001b[1;32m     77\u001b[0m \u001b[0;32mdef\u001b[0m \u001b[0mmaybe_len\u001b[0m\u001b[0;34m(\u001b[0m\u001b[0mobj\u001b[0m\u001b[0;34m)\u001b[0m \u001b[0;34m->\u001b[0m \u001b[0mOptional\u001b[0m\u001b[0;34m[\u001b[0m\u001b[0mint\u001b[0m\u001b[0;34m]\u001b[0m\u001b[0;34m:\u001b[0m\u001b[0;34m\u001b[0m\u001b[0;34m\u001b[0m\u001b[0m\n\u001b[1;32m     78\u001b[0m     \u001b[0;32mtry\u001b[0m\u001b[0;34m:\u001b[0m\u001b[0;34m\u001b[0m\u001b[0;34m\u001b[0m\u001b[0m\n\u001b[0;32m---> 79\u001b[0;31m         \u001b[0;32mreturn\u001b[0m \u001b[0mlen\u001b[0m\u001b[0;34m(\u001b[0m\u001b[0mobj\u001b[0m\u001b[0;34m)\u001b[0m\u001b[0;34m\u001b[0m\u001b[0;34m\u001b[0m\u001b[0m\n\u001b[0m\u001b[1;32m     80\u001b[0m     \u001b[0;32mexcept\u001b[0m \u001b[0;34m(\u001b[0m\u001b[0mNotImplementedError\u001b[0m\u001b[0;34m,\u001b[0m \u001b[0mAttributeError\u001b[0m\u001b[0;34m)\u001b[0m\u001b[0;34m:\u001b[0m\u001b[0;34m\u001b[0m\u001b[0;34m\u001b[0m\u001b[0m\n\u001b[1;32m     81\u001b[0m         \u001b[0;32mreturn\u001b[0m \u001b[0;32mNone\u001b[0m\u001b[0;34m\u001b[0m\u001b[0;34m\u001b[0m\u001b[0m\n",
      "\u001b[0;32m~/miniconda3/lib/python3.8/site-packages/gluonts/transform/_base.py\u001b[0m in \u001b[0;36m__len__\u001b[0;34m(self)\u001b[0m\n\u001b[1;32m     98\u001b[0m         \u001b[0;31m# NOTE this is unsafe when transformations are run with is_train = True\u001b[0m\u001b[0;34m\u001b[0m\u001b[0;34m\u001b[0m\u001b[0;34m\u001b[0m\u001b[0m\n\u001b[1;32m     99\u001b[0m         \u001b[0;31m# since some transformations may not be deterministic (instance splitter)\u001b[0m\u001b[0;34m\u001b[0m\u001b[0;34m\u001b[0m\u001b[0;34m\u001b[0m\u001b[0m\n\u001b[0;32m--> 100\u001b[0;31m         \u001b[0;32mreturn\u001b[0m \u001b[0msum\u001b[0m\u001b[0;34m(\u001b[0m\u001b[0;36m1\u001b[0m \u001b[0;32mfor\u001b[0m \u001b[0m_\u001b[0m \u001b[0;32min\u001b[0m \u001b[0mself\u001b[0m\u001b[0;34m)\u001b[0m\u001b[0;34m\u001b[0m\u001b[0;34m\u001b[0m\u001b[0m\n\u001b[0m\u001b[1;32m    101\u001b[0m \u001b[0;34m\u001b[0m\u001b[0m\n\u001b[1;32m    102\u001b[0m     \u001b[0;32mdef\u001b[0m \u001b[0m__iter__\u001b[0m\u001b[0;34m(\u001b[0m\u001b[0mself\u001b[0m\u001b[0;34m)\u001b[0m \u001b[0;34m->\u001b[0m \u001b[0mIterator\u001b[0m\u001b[0;34m[\u001b[0m\u001b[0mDataEntry\u001b[0m\u001b[0;34m]\u001b[0m\u001b[0;34m:\u001b[0m\u001b[0;34m\u001b[0m\u001b[0;34m\u001b[0m\u001b[0m\n",
      "\u001b[0;32m~/miniconda3/lib/python3.8/site-packages/gluonts/transform/_base.py\u001b[0m in \u001b[0;36m<genexpr>\u001b[0;34m(.0)\u001b[0m\n\u001b[1;32m     98\u001b[0m         \u001b[0;31m# NOTE this is unsafe when transformations are run with is_train = True\u001b[0m\u001b[0;34m\u001b[0m\u001b[0;34m\u001b[0m\u001b[0;34m\u001b[0m\u001b[0m\n\u001b[1;32m     99\u001b[0m         \u001b[0;31m# since some transformations may not be deterministic (instance splitter)\u001b[0m\u001b[0;34m\u001b[0m\u001b[0;34m\u001b[0m\u001b[0;34m\u001b[0m\u001b[0m\n\u001b[0;32m--> 100\u001b[0;31m         \u001b[0;32mreturn\u001b[0m \u001b[0msum\u001b[0m\u001b[0;34m(\u001b[0m\u001b[0;36m1\u001b[0m \u001b[0;32mfor\u001b[0m \u001b[0m_\u001b[0m \u001b[0;32min\u001b[0m \u001b[0mself\u001b[0m\u001b[0;34m)\u001b[0m\u001b[0;34m\u001b[0m\u001b[0;34m\u001b[0m\u001b[0m\n\u001b[0m\u001b[1;32m    101\u001b[0m \u001b[0;34m\u001b[0m\u001b[0m\n\u001b[1;32m    102\u001b[0m     \u001b[0;32mdef\u001b[0m \u001b[0m__iter__\u001b[0m\u001b[0;34m(\u001b[0m\u001b[0mself\u001b[0m\u001b[0;34m)\u001b[0m \u001b[0;34m->\u001b[0m \u001b[0mIterator\u001b[0m\u001b[0;34m[\u001b[0m\u001b[0mDataEntry\u001b[0m\u001b[0;34m]\u001b[0m\u001b[0;34m:\u001b[0m\u001b[0;34m\u001b[0m\u001b[0;34m\u001b[0m\u001b[0m\n",
      "\u001b[0;32m~/miniconda3/lib/python3.8/site-packages/gluonts/transform/_base.py\u001b[0m in \u001b[0;36m__iter__\u001b[0;34m(self)\u001b[0m\n\u001b[1;32m    101\u001b[0m \u001b[0;34m\u001b[0m\u001b[0m\n\u001b[1;32m    102\u001b[0m     \u001b[0;32mdef\u001b[0m \u001b[0m__iter__\u001b[0m\u001b[0;34m(\u001b[0m\u001b[0mself\u001b[0m\u001b[0;34m)\u001b[0m \u001b[0;34m->\u001b[0m \u001b[0mIterator\u001b[0m\u001b[0;34m[\u001b[0m\u001b[0mDataEntry\u001b[0m\u001b[0;34m]\u001b[0m\u001b[0;34m:\u001b[0m\u001b[0;34m\u001b[0m\u001b[0;34m\u001b[0m\u001b[0m\n\u001b[0;32m--> 103\u001b[0;31m         yield from self.transformation(\n\u001b[0m\u001b[1;32m    104\u001b[0m             \u001b[0mself\u001b[0m\u001b[0;34m.\u001b[0m\u001b[0mbase_dataset\u001b[0m\u001b[0;34m,\u001b[0m \u001b[0mis_train\u001b[0m\u001b[0;34m=\u001b[0m\u001b[0mself\u001b[0m\u001b[0;34m.\u001b[0m\u001b[0mis_train\u001b[0m\u001b[0;34m\u001b[0m\u001b[0;34m\u001b[0m\u001b[0m\n\u001b[1;32m    105\u001b[0m         )\n",
      "\u001b[0;32m~/miniconda3/lib/python3.8/site-packages/gluonts/transform/_base.py\u001b[0m in \u001b[0;36m__call__\u001b[0;34m(self, data_it, is_train)\u001b[0m\n\u001b[1;32m    121\u001b[0m         \u001b[0mself\u001b[0m\u001b[0;34m,\u001b[0m \u001b[0mdata_it\u001b[0m\u001b[0;34m:\u001b[0m \u001b[0mIterable\u001b[0m\u001b[0;34m[\u001b[0m\u001b[0mDataEntry\u001b[0m\u001b[0;34m]\u001b[0m\u001b[0;34m,\u001b[0m \u001b[0mis_train\u001b[0m\u001b[0;34m:\u001b[0m \u001b[0mbool\u001b[0m\u001b[0;34m\u001b[0m\u001b[0;34m\u001b[0m\u001b[0m\n\u001b[1;32m    122\u001b[0m     ) -> Iterator:\n\u001b[0;32m--> 123\u001b[0;31m         \u001b[0;32mfor\u001b[0m \u001b[0mdata_entry\u001b[0m \u001b[0;32min\u001b[0m \u001b[0mdata_it\u001b[0m\u001b[0;34m:\u001b[0m\u001b[0;34m\u001b[0m\u001b[0;34m\u001b[0m\u001b[0m\n\u001b[0m\u001b[1;32m    124\u001b[0m             \u001b[0;32mtry\u001b[0m\u001b[0;34m:\u001b[0m\u001b[0;34m\u001b[0m\u001b[0;34m\u001b[0m\u001b[0m\n\u001b[1;32m    125\u001b[0m                 \u001b[0;32myield\u001b[0m \u001b[0mself\u001b[0m\u001b[0;34m.\u001b[0m\u001b[0mmap_transform\u001b[0m\u001b[0;34m(\u001b[0m\u001b[0mdata_entry\u001b[0m\u001b[0;34m.\u001b[0m\u001b[0mcopy\u001b[0m\u001b[0;34m(\u001b[0m\u001b[0;34m)\u001b[0m\u001b[0;34m,\u001b[0m \u001b[0mis_train\u001b[0m\u001b[0;34m)\u001b[0m\u001b[0;34m\u001b[0m\u001b[0;34m\u001b[0m\u001b[0m\n",
      "\u001b[0;32m~/miniconda3/lib/python3.8/site-packages/gluonts/transform/_base.py\u001b[0m in \u001b[0;36m__call__\u001b[0;34m(self, data_it, is_train)\u001b[0m\n\u001b[1;32m    121\u001b[0m         \u001b[0mself\u001b[0m\u001b[0;34m,\u001b[0m \u001b[0mdata_it\u001b[0m\u001b[0;34m:\u001b[0m \u001b[0mIterable\u001b[0m\u001b[0;34m[\u001b[0m\u001b[0mDataEntry\u001b[0m\u001b[0;34m]\u001b[0m\u001b[0;34m,\u001b[0m \u001b[0mis_train\u001b[0m\u001b[0;34m:\u001b[0m \u001b[0mbool\u001b[0m\u001b[0;34m\u001b[0m\u001b[0;34m\u001b[0m\u001b[0m\n\u001b[1;32m    122\u001b[0m     ) -> Iterator:\n\u001b[0;32m--> 123\u001b[0;31m         \u001b[0;32mfor\u001b[0m \u001b[0mdata_entry\u001b[0m \u001b[0;32min\u001b[0m \u001b[0mdata_it\u001b[0m\u001b[0;34m:\u001b[0m\u001b[0;34m\u001b[0m\u001b[0;34m\u001b[0m\u001b[0m\n\u001b[0m\u001b[1;32m    124\u001b[0m             \u001b[0;32mtry\u001b[0m\u001b[0;34m:\u001b[0m\u001b[0;34m\u001b[0m\u001b[0;34m\u001b[0m\u001b[0m\n\u001b[1;32m    125\u001b[0m                 \u001b[0;32myield\u001b[0m \u001b[0mself\u001b[0m\u001b[0;34m.\u001b[0m\u001b[0mmap_transform\u001b[0m\u001b[0;34m(\u001b[0m\u001b[0mdata_entry\u001b[0m\u001b[0;34m.\u001b[0m\u001b[0mcopy\u001b[0m\u001b[0;34m(\u001b[0m\u001b[0;34m)\u001b[0m\u001b[0;34m,\u001b[0m \u001b[0mis_train\u001b[0m\u001b[0;34m)\u001b[0m\u001b[0;34m\u001b[0m\u001b[0;34m\u001b[0m\u001b[0m\n",
      "\u001b[0;32m~/miniconda3/lib/python3.8/site-packages/gluonts/dataset/common.py\u001b[0m in \u001b[0;36m__iter__\u001b[0;34m(self)\u001b[0m\n\u001b[1;32m    257\u001b[0m \u001b[0;34m\u001b[0m\u001b[0m\n\u001b[1;32m    258\u001b[0m             \u001b[0mdata\u001b[0m \u001b[0;34m=\u001b[0m \u001b[0mdata\u001b[0m\u001b[0;34m.\u001b[0m\u001b[0mcopy\u001b[0m\u001b[0;34m(\u001b[0m\u001b[0;34m)\u001b[0m\u001b[0;34m\u001b[0m\u001b[0;34m\u001b[0m\u001b[0m\n\u001b[0;32m--> 259\u001b[0;31m             \u001b[0mdata\u001b[0m \u001b[0;34m=\u001b[0m \u001b[0mself\u001b[0m\u001b[0;34m.\u001b[0m\u001b[0mprocess\u001b[0m\u001b[0;34m(\u001b[0m\u001b[0mdata\u001b[0m\u001b[0;34m)\u001b[0m\u001b[0;34m\u001b[0m\u001b[0;34m\u001b[0m\u001b[0m\n\u001b[0m\u001b[1;32m    260\u001b[0m             \u001b[0mdata\u001b[0m\u001b[0;34m[\u001b[0m\u001b[0;34m\"source\"\u001b[0m\u001b[0;34m]\u001b[0m \u001b[0;34m=\u001b[0m \u001b[0mSourceContext\u001b[0m\u001b[0;34m(\u001b[0m\u001b[0msource\u001b[0m\u001b[0;34m=\u001b[0m\u001b[0msource_name\u001b[0m\u001b[0;34m,\u001b[0m \u001b[0mrow\u001b[0m\u001b[0;34m=\u001b[0m\u001b[0mrow_number\u001b[0m\u001b[0;34m)\u001b[0m\u001b[0;34m\u001b[0m\u001b[0;34m\u001b[0m\u001b[0m\n\u001b[1;32m    261\u001b[0m             \u001b[0;32myield\u001b[0m \u001b[0mdata\u001b[0m\u001b[0;34m\u001b[0m\u001b[0;34m\u001b[0m\u001b[0m\n",
      "\u001b[0;32m~/miniconda3/lib/python3.8/site-packages/gluonts/dataset/common.py\u001b[0m in \u001b[0;36m__call__\u001b[0;34m(self, data)\u001b[0m\n\u001b[1;32m    457\u001b[0m     \u001b[0;32mdef\u001b[0m \u001b[0m__call__\u001b[0m\u001b[0;34m(\u001b[0m\u001b[0mself\u001b[0m\u001b[0;34m,\u001b[0m \u001b[0mdata\u001b[0m\u001b[0;34m:\u001b[0m \u001b[0mDataEntry\u001b[0m\u001b[0;34m)\u001b[0m \u001b[0;34m->\u001b[0m \u001b[0mDataEntry\u001b[0m\u001b[0;34m:\u001b[0m\u001b[0;34m\u001b[0m\u001b[0;34m\u001b[0m\u001b[0m\n\u001b[1;32m    458\u001b[0m         \u001b[0;32mfor\u001b[0m \u001b[0mt\u001b[0m \u001b[0;32min\u001b[0m \u001b[0mself\u001b[0m\u001b[0;34m.\u001b[0m\u001b[0mtrans\u001b[0m\u001b[0;34m:\u001b[0m\u001b[0;34m\u001b[0m\u001b[0;34m\u001b[0m\u001b[0m\n\u001b[0;32m--> 459\u001b[0;31m             \u001b[0mdata\u001b[0m \u001b[0;34m=\u001b[0m \u001b[0mt\u001b[0m\u001b[0;34m(\u001b[0m\u001b[0mdata\u001b[0m\u001b[0;34m)\u001b[0m\u001b[0;34m\u001b[0m\u001b[0;34m\u001b[0m\u001b[0m\n\u001b[0m\u001b[1;32m    460\u001b[0m         \u001b[0;32mreturn\u001b[0m \u001b[0mdata\u001b[0m\u001b[0;34m\u001b[0m\u001b[0;34m\u001b[0m\u001b[0m\n\u001b[1;32m    461\u001b[0m \u001b[0;34m\u001b[0m\u001b[0m\n",
      "\u001b[0;32m~/miniconda3/lib/python3.8/site-packages/gluonts/dataset/common.py\u001b[0m in \u001b[0;36m__call__\u001b[0;34m(self, data)\u001b[0m\n\u001b[1;32m    383\u001b[0m \u001b[0;34m\u001b[0m\u001b[0m\n\u001b[1;32m    384\u001b[0m             \u001b[0;32mif\u001b[0m \u001b[0mself\u001b[0m\u001b[0;34m.\u001b[0m\u001b[0mreq_ndim\u001b[0m \u001b[0;34m!=\u001b[0m \u001b[0mvalue\u001b[0m\u001b[0;34m.\u001b[0m\u001b[0mndim\u001b[0m\u001b[0;34m:\u001b[0m\u001b[0;34m\u001b[0m\u001b[0;34m\u001b[0m\u001b[0m\n\u001b[0;32m--> 385\u001b[0;31m                 raise GluonTSDataError(\n\u001b[0m\u001b[1;32m    386\u001b[0m                     \u001b[0;34mf\"Array '{self.name}' has bad shape - expected \"\u001b[0m\u001b[0;34m\u001b[0m\u001b[0;34m\u001b[0m\u001b[0m\n\u001b[1;32m    387\u001b[0m                     \u001b[0;34mf\"{self.req_ndim} dimensions, got {value.ndim}.\"\u001b[0m\u001b[0;34m\u001b[0m\u001b[0;34m\u001b[0m\u001b[0m\n",
      "\u001b[0;31mGluonTSDataError\u001b[0m: Array 'target' has bad shape - expected 1 dimensions, got 2."
     ]
    }
   ],
   "source": [
    "predictor = estimator.train(train_ds)"
   ]
  },
  {
   "cell_type": "markdown",
   "metadata": {
    "heading_collapsed": "true"
   },
   "source": [
    "### DeepVAREstimator TODO"
   ]
  },
  {
   "cell_type": "code",
   "execution_count": 616,
   "metadata": {
    "execution": {
     "iopub.execute_input": "2021-07-13T00:11:56.872866Z",
     "iopub.status.busy": "2021-07-13T00:11:56.871797Z",
     "iopub.status.idle": "2021-07-13T00:11:56.898404Z",
     "shell.execute_reply": "2021-07-13T00:11:56.897931Z",
     "shell.execute_reply.started": "2021-07-13T00:11:56.872846Z"
    }
   },
   "outputs": [
    {
     "data": {
      "text/plain": [
       "gluonts.model.deepvar._estimator.DeepVAREstimator(batch_size=32, cardinality=[1], cell_type=\"lstm\", conditioning_length=200, context_length=20, distr_output=None, dropout_rate=0.1, embedding_dimension=5, freq=\"5min\", lags_seq=None, num_cells=40, num_layers=2, num_parallel_samples=100, pick_incomplete=False, prediction_length=10, rank=5, scaling=True, target_dim=2, time_features=None, train_sampler=None, trainer=gluonts.mx.trainer._base.Trainer(add_default_callbacks=True, batch_size=None, callbacks=None, clip_gradient=10.0, ctx=mxnet.context.Context(\"cpu\", 0), epochs=8, hybridize=True, init=\"xavier\", learning_rate=0.001, learning_rate_decay_factor=0.5, minimum_learning_rate=5e-05, num_batches_per_epoch=50, patience=3, weight_decay=1e-08), use_marginal_transformation=False, validation_sampler=None)"
      ]
     },
     "execution_count": 616,
     "metadata": {},
     "output_type": "execute_result"
    }
   ],
   "source": [
    "from gluonts.model.deepvar import DeepVAREstimator\n",
    "\n",
    "estimator = DeepVAREstimator(\n",
    "    target_dim=2,\n",
    "#     num_hidden_dimensions=[10],\n",
    "    prediction_length=custom_ds_metadata['prediction_length'],\n",
    "    context_length=2*custom_ds_metadata['prediction_length'],\n",
    "#     num_stacks=2,\n",
    "    freq=custom_ds_metadata['freq'],\n",
    "#     num_series=len(samples[0])-2, # minus start_time, sample[0] (target)\n",
    "#     skip_size=2,\n",
    "#     ar_window=3,\n",
    "#     channels=2,\n",
    "    trainer=Trainer(\n",
    "        ctx=\"cpu\", \n",
    "        epochs=8, \n",
    "            learning_rate=1e-3, \n",
    "        \n",
    "#         num_batches_per_epoch=100,\n",
    "        patience=3,\n",
    "    )\n",
    ")\n",
    "estimator"
   ]
  },
  {
   "cell_type": "code",
   "execution_count": 617,
   "metadata": {
    "collapsed": true,
    "execution": {
     "iopub.execute_input": "2021-07-13T00:12:16.587669Z",
     "iopub.status.busy": "2021-07-13T00:12:16.587296Z",
     "iopub.status.idle": "2021-07-13T00:12:16.618350Z",
     "shell.execute_reply": "2021-07-13T00:12:16.617225Z",
     "shell.execute_reply.started": "2021-07-13T00:12:16.587642Z"
    },
    "jupyter": {
     "outputs_hidden": true
    }
   },
   "outputs": [
    {
     "ename": "GluonTSDataError",
     "evalue": "Array 'target' has bad shape - expected 1 dimensions, got 2.",
     "output_type": "error",
     "traceback": [
      "\u001b[0;31m---------------------------------------------------------------------------\u001b[0m",
      "\u001b[0;31mGluonTSDataError\u001b[0m                          Traceback (most recent call last)",
      "\u001b[0;32m<ipython-input-617-44c508c2f597>\u001b[0m in \u001b[0;36m<module>\u001b[0;34m\u001b[0m\n\u001b[0;32m----> 1\u001b[0;31m \u001b[0mpredictor\u001b[0m \u001b[0;34m=\u001b[0m \u001b[0mestimator\u001b[0m\u001b[0;34m.\u001b[0m\u001b[0mtrain\u001b[0m\u001b[0;34m(\u001b[0m\u001b[0mtrain_ds\u001b[0m\u001b[0;34m)\u001b[0m\u001b[0;34m\u001b[0m\u001b[0;34m\u001b[0m\u001b[0m\n\u001b[0m",
      "\u001b[0;32m~/miniconda3/lib/python3.8/site-packages/gluonts/mx/model/estimator.py\u001b[0m in \u001b[0;36mtrain\u001b[0;34m(self, training_data, validation_data, num_workers, num_prefetch, shuffle_buffer_length, cache_data, **kwargs)\u001b[0m\n\u001b[1;32m    193\u001b[0m         \u001b[0;34m**\u001b[0m\u001b[0mkwargs\u001b[0m\u001b[0;34m,\u001b[0m\u001b[0;34m\u001b[0m\u001b[0;34m\u001b[0m\u001b[0m\n\u001b[1;32m    194\u001b[0m     ) -> Predictor:\n\u001b[0;32m--> 195\u001b[0;31m         return self.train_model(\n\u001b[0m\u001b[1;32m    196\u001b[0m             \u001b[0mtraining_data\u001b[0m\u001b[0;34m=\u001b[0m\u001b[0mtraining_data\u001b[0m\u001b[0;34m,\u001b[0m\u001b[0;34m\u001b[0m\u001b[0;34m\u001b[0m\u001b[0m\n\u001b[1;32m    197\u001b[0m             \u001b[0mvalidation_data\u001b[0m\u001b[0;34m=\u001b[0m\u001b[0mvalidation_data\u001b[0m\u001b[0;34m,\u001b[0m\u001b[0;34m\u001b[0m\u001b[0;34m\u001b[0m\u001b[0m\n",
      "\u001b[0;32m~/miniconda3/lib/python3.8/site-packages/gluonts/mx/model/estimator.py\u001b[0m in \u001b[0;36mtrain_model\u001b[0;34m(self, training_data, validation_data, num_workers, num_prefetch, shuffle_buffer_length, cache_data)\u001b[0m\n\u001b[1;32m    146\u001b[0m         \u001b[0mtransformed_training_data\u001b[0m \u001b[0;34m=\u001b[0m \u001b[0mtransformation\u001b[0m\u001b[0;34m.\u001b[0m\u001b[0mapply\u001b[0m\u001b[0;34m(\u001b[0m\u001b[0mtraining_data\u001b[0m\u001b[0;34m)\u001b[0m\u001b[0;34m\u001b[0m\u001b[0;34m\u001b[0m\u001b[0m\n\u001b[1;32m    147\u001b[0m \u001b[0;34m\u001b[0m\u001b[0m\n\u001b[0;32m--> 148\u001b[0;31m         training_data_loader = self.create_training_data_loader(\n\u001b[0m\u001b[1;32m    149\u001b[0m             \u001b[0mtransformed_training_data\u001b[0m\u001b[0;34m\u001b[0m\u001b[0;34m\u001b[0m\u001b[0m\n\u001b[1;32m    150\u001b[0m             \u001b[0;32mif\u001b[0m \u001b[0;32mnot\u001b[0m \u001b[0mcache_data\u001b[0m\u001b[0;34m\u001b[0m\u001b[0;34m\u001b[0m\u001b[0m\n",
      "\u001b[0;32m~/miniconda3/lib/python3.8/site-packages/gluonts/model/deepvar/_estimator.py\u001b[0m in \u001b[0;36mcreate_training_data_loader\u001b[0;34m(self, data, **kwargs)\u001b[0m\n\u001b[1;32m    411\u001b[0m     ) -> DataLoader:\n\u001b[1;32m    412\u001b[0m         \u001b[0minput_names\u001b[0m \u001b[0;34m=\u001b[0m \u001b[0mget_hybrid_forward_input_names\u001b[0m\u001b[0;34m(\u001b[0m\u001b[0mDeepVARTrainingNetwork\u001b[0m\u001b[0;34m)\u001b[0m\u001b[0;34m\u001b[0m\u001b[0;34m\u001b[0m\u001b[0m\n\u001b[0;32m--> 413\u001b[0;31m         \u001b[0;32mwith\u001b[0m \u001b[0menv\u001b[0m\u001b[0;34m.\u001b[0m\u001b[0m_let\u001b[0m\u001b[0;34m(\u001b[0m\u001b[0mmax_idle_transforms\u001b[0m\u001b[0;34m=\u001b[0m\u001b[0mmaybe_len\u001b[0m\u001b[0;34m(\u001b[0m\u001b[0mdata\u001b[0m\u001b[0;34m)\u001b[0m \u001b[0;32mor\u001b[0m \u001b[0;36m0\u001b[0m\u001b[0;34m)\u001b[0m\u001b[0;34m:\u001b[0m\u001b[0;34m\u001b[0m\u001b[0;34m\u001b[0m\u001b[0m\n\u001b[0m\u001b[1;32m    414\u001b[0m             \u001b[0minstance_splitter\u001b[0m \u001b[0;34m=\u001b[0m \u001b[0mself\u001b[0m\u001b[0;34m.\u001b[0m\u001b[0m_create_instance_splitter\u001b[0m\u001b[0;34m(\u001b[0m\u001b[0;34m\"training\"\u001b[0m\u001b[0;34m)\u001b[0m\u001b[0;34m\u001b[0m\u001b[0;34m\u001b[0m\u001b[0m\n\u001b[1;32m    415\u001b[0m         return TrainDataLoader(\n",
      "\u001b[0;32m~/miniconda3/lib/python3.8/site-packages/gluonts/support/util.py\u001b[0m in \u001b[0;36mmaybe_len\u001b[0;34m(obj)\u001b[0m\n\u001b[1;32m     77\u001b[0m \u001b[0;32mdef\u001b[0m \u001b[0mmaybe_len\u001b[0m\u001b[0;34m(\u001b[0m\u001b[0mobj\u001b[0m\u001b[0;34m)\u001b[0m \u001b[0;34m->\u001b[0m \u001b[0mOptional\u001b[0m\u001b[0;34m[\u001b[0m\u001b[0mint\u001b[0m\u001b[0;34m]\u001b[0m\u001b[0;34m:\u001b[0m\u001b[0;34m\u001b[0m\u001b[0;34m\u001b[0m\u001b[0m\n\u001b[1;32m     78\u001b[0m     \u001b[0;32mtry\u001b[0m\u001b[0;34m:\u001b[0m\u001b[0;34m\u001b[0m\u001b[0;34m\u001b[0m\u001b[0m\n\u001b[0;32m---> 79\u001b[0;31m         \u001b[0;32mreturn\u001b[0m \u001b[0mlen\u001b[0m\u001b[0;34m(\u001b[0m\u001b[0mobj\u001b[0m\u001b[0;34m)\u001b[0m\u001b[0;34m\u001b[0m\u001b[0;34m\u001b[0m\u001b[0m\n\u001b[0m\u001b[1;32m     80\u001b[0m     \u001b[0;32mexcept\u001b[0m \u001b[0;34m(\u001b[0m\u001b[0mNotImplementedError\u001b[0m\u001b[0;34m,\u001b[0m \u001b[0mAttributeError\u001b[0m\u001b[0;34m)\u001b[0m\u001b[0;34m:\u001b[0m\u001b[0;34m\u001b[0m\u001b[0;34m\u001b[0m\u001b[0m\n\u001b[1;32m     81\u001b[0m         \u001b[0;32mreturn\u001b[0m \u001b[0;32mNone\u001b[0m\u001b[0;34m\u001b[0m\u001b[0;34m\u001b[0m\u001b[0m\n",
      "\u001b[0;32m~/miniconda3/lib/python3.8/site-packages/gluonts/transform/_base.py\u001b[0m in \u001b[0;36m__len__\u001b[0;34m(self)\u001b[0m\n\u001b[1;32m     98\u001b[0m         \u001b[0;31m# NOTE this is unsafe when transformations are run with is_train = True\u001b[0m\u001b[0;34m\u001b[0m\u001b[0;34m\u001b[0m\u001b[0;34m\u001b[0m\u001b[0m\n\u001b[1;32m     99\u001b[0m         \u001b[0;31m# since some transformations may not be deterministic (instance splitter)\u001b[0m\u001b[0;34m\u001b[0m\u001b[0;34m\u001b[0m\u001b[0;34m\u001b[0m\u001b[0m\n\u001b[0;32m--> 100\u001b[0;31m         \u001b[0;32mreturn\u001b[0m \u001b[0msum\u001b[0m\u001b[0;34m(\u001b[0m\u001b[0;36m1\u001b[0m \u001b[0;32mfor\u001b[0m \u001b[0m_\u001b[0m \u001b[0;32min\u001b[0m \u001b[0mself\u001b[0m\u001b[0;34m)\u001b[0m\u001b[0;34m\u001b[0m\u001b[0;34m\u001b[0m\u001b[0m\n\u001b[0m\u001b[1;32m    101\u001b[0m \u001b[0;34m\u001b[0m\u001b[0m\n\u001b[1;32m    102\u001b[0m     \u001b[0;32mdef\u001b[0m \u001b[0m__iter__\u001b[0m\u001b[0;34m(\u001b[0m\u001b[0mself\u001b[0m\u001b[0;34m)\u001b[0m \u001b[0;34m->\u001b[0m \u001b[0mIterator\u001b[0m\u001b[0;34m[\u001b[0m\u001b[0mDataEntry\u001b[0m\u001b[0;34m]\u001b[0m\u001b[0;34m:\u001b[0m\u001b[0;34m\u001b[0m\u001b[0;34m\u001b[0m\u001b[0m\n",
      "\u001b[0;32m~/miniconda3/lib/python3.8/site-packages/gluonts/transform/_base.py\u001b[0m in \u001b[0;36m<genexpr>\u001b[0;34m(.0)\u001b[0m\n\u001b[1;32m     98\u001b[0m         \u001b[0;31m# NOTE this is unsafe when transformations are run with is_train = True\u001b[0m\u001b[0;34m\u001b[0m\u001b[0;34m\u001b[0m\u001b[0;34m\u001b[0m\u001b[0m\n\u001b[1;32m     99\u001b[0m         \u001b[0;31m# since some transformations may not be deterministic (instance splitter)\u001b[0m\u001b[0;34m\u001b[0m\u001b[0;34m\u001b[0m\u001b[0;34m\u001b[0m\u001b[0m\n\u001b[0;32m--> 100\u001b[0;31m         \u001b[0;32mreturn\u001b[0m \u001b[0msum\u001b[0m\u001b[0;34m(\u001b[0m\u001b[0;36m1\u001b[0m \u001b[0;32mfor\u001b[0m \u001b[0m_\u001b[0m \u001b[0;32min\u001b[0m \u001b[0mself\u001b[0m\u001b[0;34m)\u001b[0m\u001b[0;34m\u001b[0m\u001b[0;34m\u001b[0m\u001b[0m\n\u001b[0m\u001b[1;32m    101\u001b[0m \u001b[0;34m\u001b[0m\u001b[0m\n\u001b[1;32m    102\u001b[0m     \u001b[0;32mdef\u001b[0m \u001b[0m__iter__\u001b[0m\u001b[0;34m(\u001b[0m\u001b[0mself\u001b[0m\u001b[0;34m)\u001b[0m \u001b[0;34m->\u001b[0m \u001b[0mIterator\u001b[0m\u001b[0;34m[\u001b[0m\u001b[0mDataEntry\u001b[0m\u001b[0;34m]\u001b[0m\u001b[0;34m:\u001b[0m\u001b[0;34m\u001b[0m\u001b[0;34m\u001b[0m\u001b[0m\n",
      "\u001b[0;32m~/miniconda3/lib/python3.8/site-packages/gluonts/transform/_base.py\u001b[0m in \u001b[0;36m__iter__\u001b[0;34m(self)\u001b[0m\n\u001b[1;32m    101\u001b[0m \u001b[0;34m\u001b[0m\u001b[0m\n\u001b[1;32m    102\u001b[0m     \u001b[0;32mdef\u001b[0m \u001b[0m__iter__\u001b[0m\u001b[0;34m(\u001b[0m\u001b[0mself\u001b[0m\u001b[0;34m)\u001b[0m \u001b[0;34m->\u001b[0m \u001b[0mIterator\u001b[0m\u001b[0;34m[\u001b[0m\u001b[0mDataEntry\u001b[0m\u001b[0;34m]\u001b[0m\u001b[0;34m:\u001b[0m\u001b[0;34m\u001b[0m\u001b[0;34m\u001b[0m\u001b[0m\n\u001b[0;32m--> 103\u001b[0;31m         yield from self.transformation(\n\u001b[0m\u001b[1;32m    104\u001b[0m             \u001b[0mself\u001b[0m\u001b[0;34m.\u001b[0m\u001b[0mbase_dataset\u001b[0m\u001b[0;34m,\u001b[0m \u001b[0mis_train\u001b[0m\u001b[0;34m=\u001b[0m\u001b[0mself\u001b[0m\u001b[0;34m.\u001b[0m\u001b[0mis_train\u001b[0m\u001b[0;34m\u001b[0m\u001b[0;34m\u001b[0m\u001b[0m\n\u001b[1;32m    105\u001b[0m         )\n",
      "\u001b[0;32m~/miniconda3/lib/python3.8/site-packages/gluonts/transform/_base.py\u001b[0m in \u001b[0;36m__call__\u001b[0;34m(self, data_it, is_train)\u001b[0m\n\u001b[1;32m    121\u001b[0m         \u001b[0mself\u001b[0m\u001b[0;34m,\u001b[0m \u001b[0mdata_it\u001b[0m\u001b[0;34m:\u001b[0m \u001b[0mIterable\u001b[0m\u001b[0;34m[\u001b[0m\u001b[0mDataEntry\u001b[0m\u001b[0;34m]\u001b[0m\u001b[0;34m,\u001b[0m \u001b[0mis_train\u001b[0m\u001b[0;34m:\u001b[0m \u001b[0mbool\u001b[0m\u001b[0;34m\u001b[0m\u001b[0;34m\u001b[0m\u001b[0m\n\u001b[1;32m    122\u001b[0m     ) -> Iterator:\n\u001b[0;32m--> 123\u001b[0;31m         \u001b[0;32mfor\u001b[0m \u001b[0mdata_entry\u001b[0m \u001b[0;32min\u001b[0m \u001b[0mdata_it\u001b[0m\u001b[0;34m:\u001b[0m\u001b[0;34m\u001b[0m\u001b[0;34m\u001b[0m\u001b[0m\n\u001b[0m\u001b[1;32m    124\u001b[0m             \u001b[0;32mtry\u001b[0m\u001b[0;34m:\u001b[0m\u001b[0;34m\u001b[0m\u001b[0;34m\u001b[0m\u001b[0m\n\u001b[1;32m    125\u001b[0m                 \u001b[0;32myield\u001b[0m \u001b[0mself\u001b[0m\u001b[0;34m.\u001b[0m\u001b[0mmap_transform\u001b[0m\u001b[0;34m(\u001b[0m\u001b[0mdata_entry\u001b[0m\u001b[0;34m.\u001b[0m\u001b[0mcopy\u001b[0m\u001b[0;34m(\u001b[0m\u001b[0;34m)\u001b[0m\u001b[0;34m,\u001b[0m \u001b[0mis_train\u001b[0m\u001b[0;34m)\u001b[0m\u001b[0;34m\u001b[0m\u001b[0;34m\u001b[0m\u001b[0m\n",
      "\u001b[0;32m~/miniconda3/lib/python3.8/site-packages/gluonts/transform/_base.py\u001b[0m in \u001b[0;36m__call__\u001b[0;34m(self, data_it, is_train)\u001b[0m\n\u001b[1;32m    121\u001b[0m         \u001b[0mself\u001b[0m\u001b[0;34m,\u001b[0m \u001b[0mdata_it\u001b[0m\u001b[0;34m:\u001b[0m \u001b[0mIterable\u001b[0m\u001b[0;34m[\u001b[0m\u001b[0mDataEntry\u001b[0m\u001b[0;34m]\u001b[0m\u001b[0;34m,\u001b[0m \u001b[0mis_train\u001b[0m\u001b[0;34m:\u001b[0m \u001b[0mbool\u001b[0m\u001b[0;34m\u001b[0m\u001b[0;34m\u001b[0m\u001b[0m\n\u001b[1;32m    122\u001b[0m     ) -> Iterator:\n\u001b[0;32m--> 123\u001b[0;31m         \u001b[0;32mfor\u001b[0m \u001b[0mdata_entry\u001b[0m \u001b[0;32min\u001b[0m \u001b[0mdata_it\u001b[0m\u001b[0;34m:\u001b[0m\u001b[0;34m\u001b[0m\u001b[0;34m\u001b[0m\u001b[0m\n\u001b[0m\u001b[1;32m    124\u001b[0m             \u001b[0;32mtry\u001b[0m\u001b[0;34m:\u001b[0m\u001b[0;34m\u001b[0m\u001b[0;34m\u001b[0m\u001b[0m\n\u001b[1;32m    125\u001b[0m                 \u001b[0;32myield\u001b[0m \u001b[0mself\u001b[0m\u001b[0;34m.\u001b[0m\u001b[0mmap_transform\u001b[0m\u001b[0;34m(\u001b[0m\u001b[0mdata_entry\u001b[0m\u001b[0;34m.\u001b[0m\u001b[0mcopy\u001b[0m\u001b[0;34m(\u001b[0m\u001b[0;34m)\u001b[0m\u001b[0;34m,\u001b[0m \u001b[0mis_train\u001b[0m\u001b[0;34m)\u001b[0m\u001b[0;34m\u001b[0m\u001b[0;34m\u001b[0m\u001b[0m\n",
      "\u001b[0;32m~/miniconda3/lib/python3.8/site-packages/gluonts/transform/_base.py\u001b[0m in \u001b[0;36m__call__\u001b[0;34m(self, data_it, is_train)\u001b[0m\n\u001b[1;32m    121\u001b[0m         \u001b[0mself\u001b[0m\u001b[0;34m,\u001b[0m \u001b[0mdata_it\u001b[0m\u001b[0;34m:\u001b[0m \u001b[0mIterable\u001b[0m\u001b[0;34m[\u001b[0m\u001b[0mDataEntry\u001b[0m\u001b[0;34m]\u001b[0m\u001b[0;34m,\u001b[0m \u001b[0mis_train\u001b[0m\u001b[0;34m:\u001b[0m \u001b[0mbool\u001b[0m\u001b[0;34m\u001b[0m\u001b[0;34m\u001b[0m\u001b[0m\n\u001b[1;32m    122\u001b[0m     ) -> Iterator:\n\u001b[0;32m--> 123\u001b[0;31m         \u001b[0;32mfor\u001b[0m \u001b[0mdata_entry\u001b[0m \u001b[0;32min\u001b[0m \u001b[0mdata_it\u001b[0m\u001b[0;34m:\u001b[0m\u001b[0;34m\u001b[0m\u001b[0;34m\u001b[0m\u001b[0m\n\u001b[0m\u001b[1;32m    124\u001b[0m             \u001b[0;32mtry\u001b[0m\u001b[0;34m:\u001b[0m\u001b[0;34m\u001b[0m\u001b[0;34m\u001b[0m\u001b[0m\n\u001b[1;32m    125\u001b[0m                 \u001b[0;32myield\u001b[0m \u001b[0mself\u001b[0m\u001b[0;34m.\u001b[0m\u001b[0mmap_transform\u001b[0m\u001b[0;34m(\u001b[0m\u001b[0mdata_entry\u001b[0m\u001b[0;34m.\u001b[0m\u001b[0mcopy\u001b[0m\u001b[0;34m(\u001b[0m\u001b[0;34m)\u001b[0m\u001b[0;34m,\u001b[0m \u001b[0mis_train\u001b[0m\u001b[0;34m)\u001b[0m\u001b[0;34m\u001b[0m\u001b[0;34m\u001b[0m\u001b[0m\n",
      "\u001b[0;32m~/miniconda3/lib/python3.8/site-packages/gluonts/transform/_base.py\u001b[0m in \u001b[0;36m__call__\u001b[0;34m(self, data_it, is_train)\u001b[0m\n\u001b[1;32m    121\u001b[0m         \u001b[0mself\u001b[0m\u001b[0;34m,\u001b[0m \u001b[0mdata_it\u001b[0m\u001b[0;34m:\u001b[0m \u001b[0mIterable\u001b[0m\u001b[0;34m[\u001b[0m\u001b[0mDataEntry\u001b[0m\u001b[0;34m]\u001b[0m\u001b[0;34m,\u001b[0m \u001b[0mis_train\u001b[0m\u001b[0;34m:\u001b[0m \u001b[0mbool\u001b[0m\u001b[0;34m\u001b[0m\u001b[0;34m\u001b[0m\u001b[0m\n\u001b[1;32m    122\u001b[0m     ) -> Iterator:\n\u001b[0;32m--> 123\u001b[0;31m         \u001b[0;32mfor\u001b[0m \u001b[0mdata_entry\u001b[0m \u001b[0;32min\u001b[0m \u001b[0mdata_it\u001b[0m\u001b[0;34m:\u001b[0m\u001b[0;34m\u001b[0m\u001b[0;34m\u001b[0m\u001b[0m\n\u001b[0m\u001b[1;32m    124\u001b[0m             \u001b[0;32mtry\u001b[0m\u001b[0;34m:\u001b[0m\u001b[0;34m\u001b[0m\u001b[0;34m\u001b[0m\u001b[0m\n\u001b[1;32m    125\u001b[0m                 \u001b[0;32myield\u001b[0m \u001b[0mself\u001b[0m\u001b[0;34m.\u001b[0m\u001b[0mmap_transform\u001b[0m\u001b[0;34m(\u001b[0m\u001b[0mdata_entry\u001b[0m\u001b[0;34m.\u001b[0m\u001b[0mcopy\u001b[0m\u001b[0;34m(\u001b[0m\u001b[0;34m)\u001b[0m\u001b[0;34m,\u001b[0m \u001b[0mis_train\u001b[0m\u001b[0;34m)\u001b[0m\u001b[0;34m\u001b[0m\u001b[0;34m\u001b[0m\u001b[0m\n",
      "\u001b[0;32m~/miniconda3/lib/python3.8/site-packages/gluonts/transform/_base.py\u001b[0m in \u001b[0;36m__call__\u001b[0;34m(self, data_it, is_train)\u001b[0m\n\u001b[1;32m    121\u001b[0m         \u001b[0mself\u001b[0m\u001b[0;34m,\u001b[0m \u001b[0mdata_it\u001b[0m\u001b[0;34m:\u001b[0m \u001b[0mIterable\u001b[0m\u001b[0;34m[\u001b[0m\u001b[0mDataEntry\u001b[0m\u001b[0;34m]\u001b[0m\u001b[0;34m,\u001b[0m \u001b[0mis_train\u001b[0m\u001b[0;34m:\u001b[0m \u001b[0mbool\u001b[0m\u001b[0;34m\u001b[0m\u001b[0;34m\u001b[0m\u001b[0m\n\u001b[1;32m    122\u001b[0m     ) -> Iterator:\n\u001b[0;32m--> 123\u001b[0;31m         \u001b[0;32mfor\u001b[0m \u001b[0mdata_entry\u001b[0m \u001b[0;32min\u001b[0m \u001b[0mdata_it\u001b[0m\u001b[0;34m:\u001b[0m\u001b[0;34m\u001b[0m\u001b[0;34m\u001b[0m\u001b[0m\n\u001b[0m\u001b[1;32m    124\u001b[0m             \u001b[0;32mtry\u001b[0m\u001b[0;34m:\u001b[0m\u001b[0;34m\u001b[0m\u001b[0;34m\u001b[0m\u001b[0m\n\u001b[1;32m    125\u001b[0m                 \u001b[0;32myield\u001b[0m \u001b[0mself\u001b[0m\u001b[0;34m.\u001b[0m\u001b[0mmap_transform\u001b[0m\u001b[0;34m(\u001b[0m\u001b[0mdata_entry\u001b[0m\u001b[0;34m.\u001b[0m\u001b[0mcopy\u001b[0m\u001b[0;34m(\u001b[0m\u001b[0;34m)\u001b[0m\u001b[0;34m,\u001b[0m \u001b[0mis_train\u001b[0m\u001b[0;34m)\u001b[0m\u001b[0;34m\u001b[0m\u001b[0;34m\u001b[0m\u001b[0m\n",
      "\u001b[0;32m~/miniconda3/lib/python3.8/site-packages/gluonts/transform/_base.py\u001b[0m in \u001b[0;36m__call__\u001b[0;34m(self, data_it, is_train)\u001b[0m\n\u001b[1;32m    121\u001b[0m         \u001b[0mself\u001b[0m\u001b[0;34m,\u001b[0m \u001b[0mdata_it\u001b[0m\u001b[0;34m:\u001b[0m \u001b[0mIterable\u001b[0m\u001b[0;34m[\u001b[0m\u001b[0mDataEntry\u001b[0m\u001b[0;34m]\u001b[0m\u001b[0;34m,\u001b[0m \u001b[0mis_train\u001b[0m\u001b[0;34m:\u001b[0m \u001b[0mbool\u001b[0m\u001b[0;34m\u001b[0m\u001b[0;34m\u001b[0m\u001b[0m\n\u001b[1;32m    122\u001b[0m     ) -> Iterator:\n\u001b[0;32m--> 123\u001b[0;31m         \u001b[0;32mfor\u001b[0m \u001b[0mdata_entry\u001b[0m \u001b[0;32min\u001b[0m \u001b[0mdata_it\u001b[0m\u001b[0;34m:\u001b[0m\u001b[0;34m\u001b[0m\u001b[0;34m\u001b[0m\u001b[0m\n\u001b[0m\u001b[1;32m    124\u001b[0m             \u001b[0;32mtry\u001b[0m\u001b[0;34m:\u001b[0m\u001b[0;34m\u001b[0m\u001b[0;34m\u001b[0m\u001b[0m\n\u001b[1;32m    125\u001b[0m                 \u001b[0;32myield\u001b[0m \u001b[0mself\u001b[0m\u001b[0;34m.\u001b[0m\u001b[0mmap_transform\u001b[0m\u001b[0;34m(\u001b[0m\u001b[0mdata_entry\u001b[0m\u001b[0;34m.\u001b[0m\u001b[0mcopy\u001b[0m\u001b[0;34m(\u001b[0m\u001b[0;34m)\u001b[0m\u001b[0;34m,\u001b[0m \u001b[0mis_train\u001b[0m\u001b[0;34m)\u001b[0m\u001b[0;34m\u001b[0m\u001b[0;34m\u001b[0m\u001b[0m\n",
      "\u001b[0;32m~/miniconda3/lib/python3.8/site-packages/gluonts/transform/_base.py\u001b[0m in \u001b[0;36m__call__\u001b[0;34m(self, data_it, is_train)\u001b[0m\n\u001b[1;32m    121\u001b[0m         \u001b[0mself\u001b[0m\u001b[0;34m,\u001b[0m \u001b[0mdata_it\u001b[0m\u001b[0;34m:\u001b[0m \u001b[0mIterable\u001b[0m\u001b[0;34m[\u001b[0m\u001b[0mDataEntry\u001b[0m\u001b[0;34m]\u001b[0m\u001b[0;34m,\u001b[0m \u001b[0mis_train\u001b[0m\u001b[0;34m:\u001b[0m \u001b[0mbool\u001b[0m\u001b[0;34m\u001b[0m\u001b[0;34m\u001b[0m\u001b[0m\n\u001b[1;32m    122\u001b[0m     ) -> Iterator:\n\u001b[0;32m--> 123\u001b[0;31m         \u001b[0;32mfor\u001b[0m \u001b[0mdata_entry\u001b[0m \u001b[0;32min\u001b[0m \u001b[0mdata_it\u001b[0m\u001b[0;34m:\u001b[0m\u001b[0;34m\u001b[0m\u001b[0;34m\u001b[0m\u001b[0m\n\u001b[0m\u001b[1;32m    124\u001b[0m             \u001b[0;32mtry\u001b[0m\u001b[0;34m:\u001b[0m\u001b[0;34m\u001b[0m\u001b[0;34m\u001b[0m\u001b[0m\n\u001b[1;32m    125\u001b[0m                 \u001b[0;32myield\u001b[0m \u001b[0mself\u001b[0m\u001b[0;34m.\u001b[0m\u001b[0mmap_transform\u001b[0m\u001b[0;34m(\u001b[0m\u001b[0mdata_entry\u001b[0m\u001b[0;34m.\u001b[0m\u001b[0mcopy\u001b[0m\u001b[0;34m(\u001b[0m\u001b[0;34m)\u001b[0m\u001b[0;34m,\u001b[0m \u001b[0mis_train\u001b[0m\u001b[0;34m)\u001b[0m\u001b[0;34m\u001b[0m\u001b[0;34m\u001b[0m\u001b[0m\n",
      "\u001b[0;32m~/miniconda3/lib/python3.8/site-packages/gluonts/transform/_base.py\u001b[0m in \u001b[0;36m__call__\u001b[0;34m(self, data_it, is_train)\u001b[0m\n\u001b[1;32m    121\u001b[0m         \u001b[0mself\u001b[0m\u001b[0;34m,\u001b[0m \u001b[0mdata_it\u001b[0m\u001b[0;34m:\u001b[0m \u001b[0mIterable\u001b[0m\u001b[0;34m[\u001b[0m\u001b[0mDataEntry\u001b[0m\u001b[0;34m]\u001b[0m\u001b[0;34m,\u001b[0m \u001b[0mis_train\u001b[0m\u001b[0;34m:\u001b[0m \u001b[0mbool\u001b[0m\u001b[0;34m\u001b[0m\u001b[0;34m\u001b[0m\u001b[0m\n\u001b[1;32m    122\u001b[0m     ) -> Iterator:\n\u001b[0;32m--> 123\u001b[0;31m         \u001b[0;32mfor\u001b[0m \u001b[0mdata_entry\u001b[0m \u001b[0;32min\u001b[0m \u001b[0mdata_it\u001b[0m\u001b[0;34m:\u001b[0m\u001b[0;34m\u001b[0m\u001b[0;34m\u001b[0m\u001b[0m\n\u001b[0m\u001b[1;32m    124\u001b[0m             \u001b[0;32mtry\u001b[0m\u001b[0;34m:\u001b[0m\u001b[0;34m\u001b[0m\u001b[0;34m\u001b[0m\u001b[0m\n\u001b[1;32m    125\u001b[0m                 \u001b[0;32myield\u001b[0m \u001b[0mself\u001b[0m\u001b[0;34m.\u001b[0m\u001b[0mmap_transform\u001b[0m\u001b[0;34m(\u001b[0m\u001b[0mdata_entry\u001b[0m\u001b[0;34m.\u001b[0m\u001b[0mcopy\u001b[0m\u001b[0;34m(\u001b[0m\u001b[0;34m)\u001b[0m\u001b[0;34m,\u001b[0m \u001b[0mis_train\u001b[0m\u001b[0;34m)\u001b[0m\u001b[0;34m\u001b[0m\u001b[0;34m\u001b[0m\u001b[0m\n",
      "\u001b[0;32m~/miniconda3/lib/python3.8/site-packages/gluonts/dataset/common.py\u001b[0m in \u001b[0;36m__iter__\u001b[0;34m(self)\u001b[0m\n\u001b[1;32m    257\u001b[0m \u001b[0;34m\u001b[0m\u001b[0m\n\u001b[1;32m    258\u001b[0m             \u001b[0mdata\u001b[0m \u001b[0;34m=\u001b[0m \u001b[0mdata\u001b[0m\u001b[0;34m.\u001b[0m\u001b[0mcopy\u001b[0m\u001b[0;34m(\u001b[0m\u001b[0;34m)\u001b[0m\u001b[0;34m\u001b[0m\u001b[0;34m\u001b[0m\u001b[0m\n\u001b[0;32m--> 259\u001b[0;31m             \u001b[0mdata\u001b[0m \u001b[0;34m=\u001b[0m \u001b[0mself\u001b[0m\u001b[0;34m.\u001b[0m\u001b[0mprocess\u001b[0m\u001b[0;34m(\u001b[0m\u001b[0mdata\u001b[0m\u001b[0;34m)\u001b[0m\u001b[0;34m\u001b[0m\u001b[0;34m\u001b[0m\u001b[0m\n\u001b[0m\u001b[1;32m    260\u001b[0m             \u001b[0mdata\u001b[0m\u001b[0;34m[\u001b[0m\u001b[0;34m\"source\"\u001b[0m\u001b[0;34m]\u001b[0m \u001b[0;34m=\u001b[0m \u001b[0mSourceContext\u001b[0m\u001b[0;34m(\u001b[0m\u001b[0msource\u001b[0m\u001b[0;34m=\u001b[0m\u001b[0msource_name\u001b[0m\u001b[0;34m,\u001b[0m \u001b[0mrow\u001b[0m\u001b[0;34m=\u001b[0m\u001b[0mrow_number\u001b[0m\u001b[0;34m)\u001b[0m\u001b[0;34m\u001b[0m\u001b[0;34m\u001b[0m\u001b[0m\n\u001b[1;32m    261\u001b[0m             \u001b[0;32myield\u001b[0m \u001b[0mdata\u001b[0m\u001b[0;34m\u001b[0m\u001b[0;34m\u001b[0m\u001b[0m\n",
      "\u001b[0;32m~/miniconda3/lib/python3.8/site-packages/gluonts/dataset/common.py\u001b[0m in \u001b[0;36m__call__\u001b[0;34m(self, data)\u001b[0m\n\u001b[1;32m    457\u001b[0m     \u001b[0;32mdef\u001b[0m \u001b[0m__call__\u001b[0m\u001b[0;34m(\u001b[0m\u001b[0mself\u001b[0m\u001b[0;34m,\u001b[0m \u001b[0mdata\u001b[0m\u001b[0;34m:\u001b[0m \u001b[0mDataEntry\u001b[0m\u001b[0;34m)\u001b[0m \u001b[0;34m->\u001b[0m \u001b[0mDataEntry\u001b[0m\u001b[0;34m:\u001b[0m\u001b[0;34m\u001b[0m\u001b[0;34m\u001b[0m\u001b[0m\n\u001b[1;32m    458\u001b[0m         \u001b[0;32mfor\u001b[0m \u001b[0mt\u001b[0m \u001b[0;32min\u001b[0m \u001b[0mself\u001b[0m\u001b[0;34m.\u001b[0m\u001b[0mtrans\u001b[0m\u001b[0;34m:\u001b[0m\u001b[0;34m\u001b[0m\u001b[0;34m\u001b[0m\u001b[0m\n\u001b[0;32m--> 459\u001b[0;31m             \u001b[0mdata\u001b[0m \u001b[0;34m=\u001b[0m \u001b[0mt\u001b[0m\u001b[0;34m(\u001b[0m\u001b[0mdata\u001b[0m\u001b[0;34m)\u001b[0m\u001b[0;34m\u001b[0m\u001b[0;34m\u001b[0m\u001b[0m\n\u001b[0m\u001b[1;32m    460\u001b[0m         \u001b[0;32mreturn\u001b[0m \u001b[0mdata\u001b[0m\u001b[0;34m\u001b[0m\u001b[0;34m\u001b[0m\u001b[0m\n\u001b[1;32m    461\u001b[0m \u001b[0;34m\u001b[0m\u001b[0m\n",
      "\u001b[0;32m~/miniconda3/lib/python3.8/site-packages/gluonts/dataset/common.py\u001b[0m in \u001b[0;36m__call__\u001b[0;34m(self, data)\u001b[0m\n\u001b[1;32m    383\u001b[0m \u001b[0;34m\u001b[0m\u001b[0m\n\u001b[1;32m    384\u001b[0m             \u001b[0;32mif\u001b[0m \u001b[0mself\u001b[0m\u001b[0;34m.\u001b[0m\u001b[0mreq_ndim\u001b[0m \u001b[0;34m!=\u001b[0m \u001b[0mvalue\u001b[0m\u001b[0;34m.\u001b[0m\u001b[0mndim\u001b[0m\u001b[0;34m:\u001b[0m\u001b[0;34m\u001b[0m\u001b[0;34m\u001b[0m\u001b[0m\n\u001b[0;32m--> 385\u001b[0;31m                 raise GluonTSDataError(\n\u001b[0m\u001b[1;32m    386\u001b[0m                     \u001b[0;34mf\"Array '{self.name}' has bad shape - expected \"\u001b[0m\u001b[0;34m\u001b[0m\u001b[0;34m\u001b[0m\u001b[0m\n\u001b[1;32m    387\u001b[0m                     \u001b[0;34mf\"{self.req_ndim} dimensions, got {value.ndim}.\"\u001b[0m\u001b[0;34m\u001b[0m\u001b[0;34m\u001b[0m\u001b[0m\n",
      "\u001b[0;31mGluonTSDataError\u001b[0m: Array 'target' has bad shape - expected 1 dimensions, got 2."
     ]
    }
   ],
   "source": [
    "predictor = estimator.train(train_ds)"
   ]
  },
  {
   "cell_type": "code",
   "execution_count": null,
   "metadata": {},
   "outputs": [],
   "source": []
  },
  {
   "cell_type": "code",
   "execution_count": null,
   "metadata": {},
   "outputs": [],
   "source": []
  },
  {
   "cell_type": "markdown",
   "metadata": {
    "heading_collapsed": "true"
   },
   "source": [
    "### evaluation prediction"
   ]
  },
  {
   "cell_type": "code",
   "execution_count": 742,
   "metadata": {
    "execution": {
     "iopub.execute_input": "2021-07-13T01:14:52.674519Z",
     "iopub.status.busy": "2021-07-13T01:14:52.674349Z",
     "iopub.status.idle": "2021-07-13T01:14:52.677549Z",
     "shell.execute_reply": "2021-07-13T01:14:52.676892Z",
     "shell.execute_reply.started": "2021-07-13T01:14:52.674500Z"
    }
   },
   "outputs": [],
   "source": [
    "forecast_it, ts_it = make_evaluation_predictions(\n",
    "    dataset=test_ds,  # test dataset\n",
    "    predictor=predictor,  # predictor\n",
    "    num_samples=100,  # number of sample paths we want for evaluation\n",
    ")"
   ]
  },
  {
   "cell_type": "code",
   "execution_count": 743,
   "metadata": {
    "execution": {
     "iopub.execute_input": "2021-07-13T01:14:53.289272Z",
     "iopub.status.busy": "2021-07-13T01:14:53.288781Z",
     "iopub.status.idle": "2021-07-13T01:14:54.152987Z",
     "shell.execute_reply": "2021-07-13T01:14:54.152531Z",
     "shell.execute_reply.started": "2021-07-13T01:14:53.289209Z"
    }
   },
   "outputs": [],
   "source": [
    "forecasts = list(forecast_it)\n",
    "tss = list(ts_it)"
   ]
  },
  {
   "cell_type": "code",
   "execution_count": 744,
   "metadata": {
    "execution": {
     "iopub.execute_input": "2021-07-13T01:14:54.153844Z",
     "iopub.status.busy": "2021-07-13T01:14:54.153701Z",
     "iopub.status.idle": "2021-07-13T01:14:54.157992Z",
     "shell.execute_reply": "2021-07-13T01:14:54.157615Z",
     "shell.execute_reply.started": "2021-07-13T01:14:54.153828Z"
    }
   },
   "outputs": [
    {
     "data": {
      "text/plain": [
       "array([0.42734018, 0.12412893, 0.09729007, 0.17565951, 0.09822436],\n",
       "      dtype=float32)"
      ]
     },
     "execution_count": 744,
     "metadata": {},
     "output_type": "execute_result"
    }
   ],
   "source": [
    "# first entry of the time series list\n",
    "ts_entry = tss[0]\n",
    "# first 5 values of the time series (convert from pandas to numpy)\n",
    "np.array(ts_entry[:5]).reshape(-1,)"
   ]
  },
  {
   "cell_type": "code",
   "execution_count": 745,
   "metadata": {
    "execution": {
     "iopub.execute_input": "2021-07-13T01:14:54.423248Z",
     "iopub.status.busy": "2021-07-13T01:14:54.423067Z",
     "iopub.status.idle": "2021-07-13T01:14:54.427321Z",
     "shell.execute_reply": "2021-07-13T01:14:54.426865Z",
     "shell.execute_reply.started": "2021-07-13T01:14:54.423230Z"
    }
   },
   "outputs": [
    {
     "data": {
      "text/plain": [
       "array([0.42734018, 0.12412893, 0.09729007, 0.17565951, 0.09822436],\n",
       "      dtype=float32)"
      ]
     },
     "execution_count": 745,
     "metadata": {},
     "output_type": "execute_result"
    }
   ],
   "source": [
    "# first entry of test_ds\n",
    "test_ds_entry = next(iter(test_ds))\n",
    "# first 5 values\n",
    "test_ds_entry['target'][:5]"
   ]
  },
  {
   "cell_type": "code",
   "execution_count": 746,
   "metadata": {
    "execution": {
     "iopub.execute_input": "2021-07-13T01:14:55.219344Z",
     "iopub.status.busy": "2021-07-13T01:14:55.219114Z",
     "iopub.status.idle": "2021-07-13T01:14:55.222201Z",
     "shell.execute_reply": "2021-07-13T01:14:55.221639Z",
     "shell.execute_reply.started": "2021-07-13T01:14:55.219316Z"
    }
   },
   "outputs": [],
   "source": [
    "# first entry of the forecast list\n",
    "forecast_entry = forecasts[0]"
   ]
  },
  {
   "cell_type": "code",
   "execution_count": 747,
   "metadata": {
    "execution": {
     "iopub.execute_input": "2021-07-13T01:14:55.994074Z",
     "iopub.status.busy": "2021-07-13T01:14:55.993840Z",
     "iopub.status.idle": "2021-07-13T01:14:55.998105Z",
     "shell.execute_reply": "2021-07-13T01:14:55.997567Z",
     "shell.execute_reply.started": "2021-07-13T01:14:55.994049Z"
    }
   },
   "outputs": [
    {
     "name": "stdout",
     "output_type": "stream",
     "text": [
      "Number of sample paths: 100\n",
      "Dimension of samples: (100, 10)\n",
      "Start date of the forecast window: 2021-03-04 16:10:00\n",
      "Frequency of the time series: 5min\n"
     ]
    }
   ],
   "source": [
    "print(f\"Number of sample paths: {forecast_entry.num_samples}\")\n",
    "print(f\"Dimension of samples: {forecast_entry.samples.shape}\")\n",
    "print(f\"Start date of the forecast window: {forecast_entry.start_date}\")\n",
    "print(f\"Frequency of the time series: {forecast_entry.freq}\")"
   ]
  },
  {
   "cell_type": "code",
   "execution_count": 748,
   "metadata": {
    "execution": {
     "iopub.execute_input": "2021-07-13T01:14:56.674217Z",
     "iopub.status.busy": "2021-07-13T01:14:56.673824Z",
     "iopub.status.idle": "2021-07-13T01:14:56.681659Z",
     "shell.execute_reply": "2021-07-13T01:14:56.680788Z",
     "shell.execute_reply.started": "2021-07-13T01:14:56.674174Z"
    }
   },
   "outputs": [
    {
     "name": "stdout",
     "output_type": "stream",
     "text": [
      "Mean of the future window:\n",
      " [0.12856208 0.12978704 0.12304476 0.1151671  0.1054271  0.11487828\n",
      " 0.11396206 0.10304685 0.11058592 0.11452974]\n",
      "0.5-quantile (median) of the future window:\n",
      " [0.1314602  0.12946838 0.12946838 0.12249701 0.1215011  0.12648065\n",
      " 0.12747656 0.11950927 0.12448884 0.12050518]\n"
     ]
    }
   ],
   "source": [
    "print(f\"Mean of the future window:\\n {forecast_entry.mean}\")\n",
    "print(f\"0.5-quantile (median) of the future window:\\n {forecast_entry.quantile(0.5)}\")"
   ]
  },
  {
   "cell_type": "code",
   "execution_count": 749,
   "metadata": {
    "execution": {
     "iopub.execute_input": "2021-07-13T01:14:57.369585Z",
     "iopub.status.busy": "2021-07-13T01:14:57.369217Z",
     "iopub.status.idle": "2021-07-13T01:14:57.376171Z",
     "shell.execute_reply": "2021-07-13T01:14:57.375322Z",
     "shell.execute_reply.started": "2021-07-13T01:14:57.369541Z"
    }
   },
   "outputs": [],
   "source": [
    "def plot_prob_forecasts(ts_entry, forecast_entry):\n",
    "    plot_length = 150 \n",
    "    prediction_intervals = (50.0, 90.0)\n",
    "    legend = [\"observations\", \"median prediction\"] + [f\"{k}% prediction interval\" for k in prediction_intervals][::-1]\n",
    "\n",
    "    fig, ax = plt.subplots(1, 1, figsize=(10, 7))\n",
    "    ts_entry[-plot_length:].plot(ax=ax)  # plot the time series\n",
    "    forecast_entry.plot(prediction_intervals=prediction_intervals, color='g')\n",
    "    plt.grid(which=\"both\")\n",
    "    plt.legend(legend, loc=\"upper left\")\n",
    "    plt.show()"
   ]
  },
  {
   "cell_type": "code",
   "execution_count": 750,
   "metadata": {
    "execution": {
     "iopub.execute_input": "2021-07-13T01:14:58.529486Z",
     "iopub.status.busy": "2021-07-13T01:14:58.529137Z",
     "iopub.status.idle": "2021-07-13T01:14:58.786607Z",
     "shell.execute_reply": "2021-07-13T01:14:58.786012Z",
     "shell.execute_reply.started": "2021-07-13T01:14:58.529457Z"
    }
   },
   "outputs": [
    {
     "data": {
      "image/png": "[encoded data removed]",
      "text/plain": [
       "<Figure size 720x504 with 1 Axes>"
      ]
     },
     "metadata": {
      "needs_background": "light"
     },
     "output_type": "display_data"
    }
   ],
   "source": [
    "plot_prob_forecasts(ts_entry, forecast_entry)"
   ]
  },
  {
   "cell_type": "markdown",
   "metadata": {
    "heading_collapsed": "true"
   },
   "source": [
    "### Evaluation"
   ]
  },
  {
   "cell_type": "code",
   "execution_count": 751,
   "metadata": {
    "execution": {
     "iopub.execute_input": "2021-07-13T01:15:05.920061Z",
     "iopub.status.busy": "2021-07-13T01:15:05.919877Z",
     "iopub.status.idle": "2021-07-13T01:15:05.922580Z",
     "shell.execute_reply": "2021-07-13T01:15:05.922082Z",
     "shell.execute_reply.started": "2021-07-13T01:15:05.920042Z"
    }
   },
   "outputs": [],
   "source": [
    "from gluonts.evaluation import Evaluator"
   ]
  },
  {
   "cell_type": "code",
   "execution_count": 752,
   "metadata": {
    "execution": {
     "iopub.execute_input": "2021-07-13T01:15:06.394456Z",
     "iopub.status.busy": "2021-07-13T01:15:06.394289Z",
     "iopub.status.idle": "2021-07-13T01:15:09.024223Z",
     "shell.execute_reply": "2021-07-13T01:15:09.023662Z",
     "shell.execute_reply.started": "2021-07-13T01:15:06.394439Z"
    }
   },
   "outputs": [
    {
     "name": "stderr",
     "output_type": "stream",
     "text": [
      "Running evaluation: 100%|██████████| 11/11 [00:01<00:00,  5.82it/s]\n"
     ]
    }
   ],
   "source": [
    "evaluator = Evaluator(quantiles=[0.1, 0.5, 0.9])\n",
    "agg_metrics, item_metrics = evaluator(iter(tss), iter(forecasts), num_series=len(test_ds))"
   ]
  },
  {
   "cell_type": "code",
   "execution_count": 753,
   "metadata": {
    "execution": {
     "iopub.execute_input": "2021-07-13T01:15:13.494898Z",
     "iopub.status.busy": "2021-07-13T01:15:13.494730Z",
     "iopub.status.idle": "2021-07-13T01:15:13.499441Z",
     "shell.execute_reply": "2021-07-13T01:15:13.498828Z",
     "shell.execute_reply.started": "2021-07-13T01:15:13.494879Z"
    }
   },
   "outputs": [
    {
     "name": "stdout",
     "output_type": "stream",
     "text": [
      "{\n",
      "    \"MSE\": 0.04343912959183482,\n",
      "    \"abs_error\": 12.990894079208374,\n",
      "    \"abs_target_sum\": 78.85642957687378,\n",
      "    \"abs_target_mean\": 0.7168766325170344,\n",
      "    \"seasonal_error\": 0.16266599130094722,\n",
      "    \"MASE\": 1.0628527580809044,\n",
      "    \"MAPE\": 0.6448213427957862,\n",
      "    \"sMAPE\": 0.20759024024009703,\n",
      "    \"MSIS\": 19.436955213587,\n",
      "    \"QuantileLoss[0.1]\": 10.303256207704544,\n",
      "    \"Coverage[0.1]\": 0.1,\n",
      "    \"QuantileLoss[0.5]\": 12.990894213318825,\n",
      "    \"Coverage[0.5]\": 0.7000000000000001,\n",
      "    \"QuantileLoss[0.9]\": 6.659830720722676,\n",
      "    \"Coverage[0.9]\": 0.8636363636363636,\n",
      "    \"RMSE\": 0.20842055942693086,\n",
      "    \"NRMSE\": 0.29073420721657905,\n",
      "    \"ND\": 0.16474108895006595,\n",
      "    \"wQuantileLoss[0.1]\": 0.13065841635221814,\n",
      "    \"wQuantileLoss[0.5]\": 0.16474109065075734,\n",
      "    \"wQuantileLoss[0.9]\": 0.08445513899700835,\n",
      "    \"mean_absolute_QuantileLoss\": 9.984660380582014,\n",
      "    \"mean_wQuantileLoss\": 0.12661821533332793,\n",
      "    \"MAE_Coverage\": 0.07878787878787881,\n",
      "    \"OWA\": NaN\n",
      "}\n"
     ]
    }
   ],
   "source": [
    "print(json.dumps(agg_metrics, indent=4))"
   ]
  },
  {
   "cell_type": "markdown",
   "metadata": {
    "heading_collapsed": "true"
   },
   "source": [
    "### Evaluate and compare models"
   ]
  },
  {
   "cell_type": "code",
   "execution_count": 775,
   "metadata": {
    "execution": {
     "iopub.execute_input": "2021-07-14T21:24:30.935978Z",
     "iopub.status.busy": "2021-07-14T21:24:30.935816Z",
     "iopub.status.idle": "2021-07-14T21:24:30.944771Z",
     "shell.execute_reply": "2021-07-14T21:24:30.944281Z",
     "shell.execute_reply.started": "2021-07-14T21:24:30.935959Z"
    }
   },
   "outputs": [
    {
     "name": "stdout",
     "output_type": "stream",
     "text": [
      "custom_ds_metadata ={'num_series': 11, 'num_steps': 100, 'prediction_length': 10, 'freq': '5min', 'start': ['2021-03-04 08:40:00', '2021-03-05 10:35:00', '2021-03-08 08:45:00', '2021-03-09 08:35:00', '2021-03-10 08:55:00', '2021-03-17 09:45:00', '2021-03-18 08:20:00', '2021-03-19 08:20:00', '2021-03-22 09:15:00', '2021-03-25 08:40:00', '2021-03-31 09:05:00']}\n"
     ]
    }
   ],
   "source": [
    "custom_ds_metadata = {\n",
    "    'num_series': len(sample_lists),\n",
    "    'num_steps': len(sample_lists[0][0]),\n",
    "    'prediction_length': 10,\n",
    "    'freq': '5min',\n",
    "    'start': start_times\n",
    "}\n",
    "\n",
    "print(f'{custom_ds_metadata =}')\n",
    "\n",
    "feature_num = 1\n",
    "\n",
    "feature_num_max = len(sample_lists[0]) # the first element is the start_time.\n",
    "sample_num = len(sample_lists)\n",
    "train_proportion = 0.8\n",
    "train_size = int(sample_num*train_proportion)\n",
    "\n",
    "var_num = len(sample_lists[0])\n",
    "\n",
    "train_ds = ListDataset(\n",
    "    [\n",
    "        {\n",
    "            FieldName.TARGET: sample[feature_num][:-custom_ds_metadata['prediction_length']],\n",
    "            FieldName.START: start_time,\n",
    "            FieldName.FEAT_DYNAMIC_REAL: [s[:-custom_ds_metadata['prediction_length']] for s in sample], #[fdr],\n",
    "        }\n",
    "        for start_time, sample in zip(start_times[:train_size], sample_lists[:train_size])\n",
    "    ],\n",
    "    freq=custom_ds_metadata['freq']\n",
    ")\n",
    "\n",
    "test_ds = ListDataset(\n",
    "    [\n",
    "        {\n",
    "            FieldName.TARGET: sample[feature_num],\n",
    "            FieldName.START: start_time,\n",
    "            FieldName.FEAT_DYNAMIC_REAL: sample, #[fdr],\n",
    "        }\n",
    "        for start_time, sample in zip(start_times[train_size:], sample_lists[train_size:])\n",
    "    ],\n",
    "    freq=custom_ds_metadata['freq']\n",
    ")"
   ]
  },
  {
   "cell_type": "code",
   "execution_count": 803,
   "metadata": {
    "collapsed": true,
    "execution": {
     "iopub.execute_input": "2021-07-15T05:09:28.533500Z",
     "iopub.status.busy": "2021-07-15T05:09:28.533331Z",
     "iopub.status.idle": "2021-07-15T05:14:28.119380Z",
     "shell.execute_reply": "2021-07-15T05:14:28.118843Z",
     "shell.execute_reply.started": "2021-07-15T05:09:28.533483Z"
    },
    "jupyter": {
     "outputs_hidden": true
    }
   },
   "outputs": [
    {
     "name": "stderr",
     "output_type": "stream",
     "text": [
      "WARNING:gluonts.time_feature.seasonality:Multiple 5 does not divide base seasonality 1. Falling back to seasonality 1.\n",
      "  0%|          | 0/50 [00:00<?, ?it/s]"
     ]
    },
    {
     "name": "stdout",
     "output_type": "stream",
     "text": [
      "\n",
      "Train SimpleFeedForwardEstimator\n"
     ]
    },
    {
     "name": "stderr",
     "output_type": "stream",
     "text": [
      "100%|██████████| 50/50 [00:00<00:00, 76.50it/s, epoch=1/20, avg_epoch_loss=0.886]\n",
      "100%|██████████| 50/50 [00:00<00:00, 85.59it/s, epoch=2/20, avg_epoch_loss=0.327]\n",
      "100%|██████████| 50/50 [00:00<00:00, 81.42it/s, epoch=3/20, avg_epoch_loss=0.0948]\n",
      "100%|██████████| 50/50 [00:00<00:00, 86.86it/s, epoch=4/20, avg_epoch_loss=0.000223]\n",
      "100%|██████████| 50/50 [00:00<00:00, 85.88it/s, epoch=5/20, avg_epoch_loss=-.0322]\n",
      "100%|██████████| 50/50 [00:00<00:00, 84.18it/s, epoch=6/20, avg_epoch_loss=-.118]\n",
      "100%|██████████| 50/50 [00:00<00:00, 85.30it/s, epoch=7/20, avg_epoch_loss=-.0712]\n",
      "100%|██████████| 50/50 [00:00<00:00, 86.56it/s, epoch=8/20, avg_epoch_loss=-.152]\n",
      "100%|██████████| 50/50 [00:00<00:00, 84.07it/s, epoch=9/20, avg_epoch_loss=-.126]\n",
      "100%|██████████| 50/50 [00:00<00:00, 85.99it/s, epoch=10/20, avg_epoch_loss=-.17]\n",
      "100%|██████████| 50/50 [00:00<00:00, 85.46it/s, epoch=11/20, avg_epoch_loss=-.103]\n",
      "100%|██████████| 50/50 [00:00<00:00, 82.74it/s, epoch=12/20, avg_epoch_loss=-.2]\n",
      "100%|██████████| 50/50 [00:00<00:00, 80.23it/s, epoch=13/20, avg_epoch_loss=-.205]\n",
      "100%|██████████| 50/50 [00:00<00:00, 85.26it/s, epoch=14/20, avg_epoch_loss=-.203]\n",
      "100%|██████████| 50/50 [00:00<00:00, 84.43it/s, epoch=15/20, avg_epoch_loss=-.234]\n",
      "100%|██████████| 50/50 [00:00<00:00, 85.59it/s, epoch=16/20, avg_epoch_loss=-.129]\n",
      "100%|██████████| 50/50 [00:00<00:00, 84.53it/s, epoch=17/20, avg_epoch_loss=-.202]\n",
      "100%|██████████| 50/50 [00:00<00:00, 81.10it/s, epoch=18/20, avg_epoch_loss=-.133]\n",
      "100%|██████████| 50/50 [00:00<00:00, 81.67it/s, epoch=19/20, avg_epoch_loss=-.217]\n",
      "100%|██████████| 50/50 [00:00<00:00, 83.97it/s, epoch=20/20, avg_epoch_loss=-.217]\n",
      "Running evaluation: 100%|██████████| 3/3 [00:01<00:00,  1.91it/s]\n",
      "  0%|          | 0/50 [00:00<?, ?it/s]"
     ]
    },
    {
     "name": "stdout",
     "output_type": "stream",
     "text": [
      "\n",
      "Train NBEATSEstimator\n"
     ]
    },
    {
     "name": "stderr",
     "output_type": "stream",
     "text": [
      "100%|██████████| 50/50 [00:08<00:00,  5.97it/s, epoch=1/20, avg_epoch_loss=31.2]\n",
      "100%|██████████| 50/50 [00:08<00:00,  5.99it/s, epoch=2/20, avg_epoch_loss=14.3]\n",
      "100%|██████████| 50/50 [00:08<00:00,  6.07it/s, epoch=3/20, avg_epoch_loss=13.6]\n",
      "100%|██████████| 50/50 [00:08<00:00,  6.22it/s, epoch=4/20, avg_epoch_loss=10.9]\n",
      "100%|██████████| 50/50 [00:07<00:00,  6.27it/s, epoch=5/20, avg_epoch_loss=11.5]\n",
      "100%|██████████| 50/50 [00:08<00:00,  6.07it/s, epoch=6/20, avg_epoch_loss=10.2]\n",
      "100%|██████████| 50/50 [00:08<00:00,  6.08it/s, epoch=7/20, avg_epoch_loss=9.29]\n",
      "100%|██████████| 50/50 [00:07<00:00,  6.28it/s, epoch=8/20, avg_epoch_loss=8.15]\n",
      "100%|██████████| 50/50 [00:07<00:00,  6.32it/s, epoch=9/20, avg_epoch_loss=8.18]\n",
      "100%|██████████| 50/50 [00:08<00:00,  6.24it/s, epoch=10/20, avg_epoch_loss=7.46]\n",
      "100%|██████████| 50/50 [00:08<00:00,  5.85it/s, epoch=11/20, avg_epoch_loss=6.7]\n",
      "100%|██████████| 50/50 [00:08<00:00,  6.03it/s, epoch=12/20, avg_epoch_loss=5.98]\n",
      "100%|██████████| 50/50 [00:08<00:00,  6.19it/s, epoch=13/20, avg_epoch_loss=5.75]\n",
      "100%|██████████| 50/50 [00:08<00:00,  6.07it/s, epoch=14/20, avg_epoch_loss=5.33]\n",
      "100%|██████████| 50/50 [00:08<00:00,  6.06it/s, epoch=15/20, avg_epoch_loss=5.32]\n",
      "100%|██████████| 50/50 [00:08<00:00,  6.10it/s, epoch=16/20, avg_epoch_loss=4.86]\n",
      "100%|██████████| 50/50 [00:08<00:00,  6.12it/s, epoch=17/20, avg_epoch_loss=4.42]\n",
      "100%|██████████| 50/50 [00:08<00:00,  6.25it/s, epoch=18/20, avg_epoch_loss=4.59]\n",
      "100%|██████████| 50/50 [00:07<00:00,  6.26it/s, epoch=19/20, avg_epoch_loss=4.68]\n",
      "100%|██████████| 50/50 [00:08<00:00,  6.14it/s, epoch=20/20, avg_epoch_loss=4.16]\n",
      "Running evaluation: 100%|██████████| 3/3 [00:01<00:00,  1.78it/s]\n",
      "  0%|          | 0/50 [00:00<?, ?it/s]"
     ]
    },
    {
     "name": "stdout",
     "output_type": "stream",
     "text": [
      "\n",
      "Train DeepFactorEstimator\n"
     ]
    },
    {
     "name": "stderr",
     "output_type": "stream",
     "text": [
      "100%|██████████| 50/50 [00:00<00:00, 72.41it/s, epoch=1/20, avg_epoch_loss=0.414]\n",
      "100%|██████████| 50/50 [00:00<00:00, 75.13it/s, epoch=2/20, avg_epoch_loss=0.177]\n",
      "100%|██████████| 50/50 [00:00<00:00, 69.23it/s, epoch=3/20, avg_epoch_loss=0.17]\n",
      "100%|██████████| 50/50 [00:00<00:00, 69.12it/s, epoch=4/20, avg_epoch_loss=0.164]\n",
      "100%|██████████| 50/50 [00:00<00:00, 73.40it/s, epoch=5/20, avg_epoch_loss=0.159]\n",
      "100%|██████████| 50/50 [00:00<00:00, 74.56it/s, epoch=6/20, avg_epoch_loss=0.155]\n",
      "100%|██████████| 50/50 [00:00<00:00, 67.79it/s, epoch=7/20, avg_epoch_loss=0.153]\n",
      "100%|██████████| 50/50 [00:00<00:00, 70.09it/s, epoch=8/20, avg_epoch_loss=0.151]\n",
      "100%|██████████| 50/50 [00:00<00:00, 70.82it/s, epoch=9/20, avg_epoch_loss=0.149]\n",
      "100%|██████████| 50/50 [00:00<00:00, 69.81it/s, epoch=10/20, avg_epoch_loss=0.147]\n",
      "100%|██████████| 50/50 [00:00<00:00, 60.57it/s, epoch=11/20, avg_epoch_loss=0.145]\n",
      "100%|██████████| 50/50 [00:00<00:00, 67.98it/s, epoch=12/20, avg_epoch_loss=0.144]\n",
      "100%|██████████| 50/50 [00:00<00:00, 70.42it/s, epoch=13/20, avg_epoch_loss=0.143]\n",
      "100%|██████████| 50/50 [00:00<00:00, 73.47it/s, epoch=14/20, avg_epoch_loss=0.142]\n",
      "100%|██████████| 50/50 [00:00<00:00, 70.45it/s, epoch=15/20, avg_epoch_loss=0.141]\n",
      "100%|██████████| 50/50 [00:00<00:00, 76.54it/s, epoch=16/20, avg_epoch_loss=0.141]\n",
      "100%|██████████| 50/50 [00:00<00:00, 72.74it/s, epoch=17/20, avg_epoch_loss=0.14]\n",
      "100%|██████████| 50/50 [00:00<00:00, 71.01it/s, epoch=18/20, avg_epoch_loss=0.14]\n",
      "100%|██████████| 50/50 [00:00<00:00, 72.91it/s, epoch=19/20, avg_epoch_loss=0.139]\n",
      "100%|██████████| 50/50 [00:00<00:00, 65.26it/s, epoch=20/20, avg_epoch_loss=0.139]\n",
      "Running evaluation: 100%|██████████| 3/3 [00:01<00:00,  1.75it/s]\n",
      "  0%|          | 0/50 [00:00<?, ?it/s]"
     ]
    },
    {
     "name": "stdout",
     "output_type": "stream",
     "text": [
      "\n",
      "Train DeepAREstimator\n"
     ]
    },
    {
     "name": "stderr",
     "output_type": "stream",
     "text": [
      "100%|██████████| 50/50 [00:04<00:00, 12.09it/s, epoch=1/20, avg_epoch_loss=0.146]\n",
      "100%|██████████| 50/50 [00:04<00:00, 11.99it/s, epoch=2/20, avg_epoch_loss=-.176]\n",
      "100%|██████████| 50/50 [00:04<00:00, 12.28it/s, epoch=3/20, avg_epoch_loss=-.254]\n",
      "100%|██████████| 50/50 [00:04<00:00, 12.08it/s, epoch=4/20, avg_epoch_loss=-.188]\n",
      "100%|██████████| 50/50 [00:04<00:00, 11.92it/s, epoch=5/20, avg_epoch_loss=-.15]\n",
      "100%|██████████| 50/50 [00:04<00:00, 11.82it/s, epoch=6/20, avg_epoch_loss=-.192]\n",
      "100%|██████████| 50/50 [00:03<00:00, 12.56it/s, epoch=7/20, avg_epoch_loss=-.162]\n",
      "100%|██████████| 50/50 [00:04<00:00, 12.26it/s, epoch=8/20, avg_epoch_loss=-.128]\n",
      "100%|██████████| 50/50 [00:04<00:00, 12.06it/s, epoch=9/20, avg_epoch_loss=-.176]\n",
      "100%|██████████| 50/50 [00:04<00:00, 11.99it/s, epoch=10/20, avg_epoch_loss=-.166]\n",
      "100%|██████████| 50/50 [00:04<00:00, 11.80it/s, epoch=11/20, avg_epoch_loss=-.173]\n",
      "100%|██████████| 50/50 [00:04<00:00, 11.97it/s, epoch=12/20, avg_epoch_loss=-.197]\n",
      "100%|██████████| 50/50 [00:04<00:00, 11.65it/s, epoch=13/20, avg_epoch_loss=-.177]\n",
      "100%|██████████| 50/50 [00:04<00:00, 11.85it/s, epoch=14/20, avg_epoch_loss=-.187]\n",
      "100%|██████████| 50/50 [00:04<00:00, 12.14it/s, epoch=15/20, avg_epoch_loss=-.17]\n",
      "100%|██████████| 50/50 [00:04<00:00, 12.05it/s, epoch=16/20, avg_epoch_loss=-.203]\n",
      "100%|██████████| 50/50 [00:04<00:00, 11.23it/s, epoch=17/20, avg_epoch_loss=-.2]\n",
      "100%|██████████| 50/50 [00:04<00:00, 11.81it/s, epoch=18/20, avg_epoch_loss=-.179]\n",
      "Running evaluation:   0%|          | 0/3 [00:00<?, ?it/s]"
     ]
    },
    {
     "name": "stdout",
     "output_type": "stream",
     "text": [
      "Early stopping based on learning rate scheduler callback (min_lr was reached).\n"
     ]
    },
    {
     "name": "stderr",
     "output_type": "stream",
     "text": [
      "Running evaluation: 100%|██████████| 3/3 [00:01<00:00,  1.76it/s]\n",
      "  0%|          | 0/50 [00:00<?, ?it/s]"
     ]
    },
    {
     "name": "stdout",
     "output_type": "stream",
     "text": [
      "\n",
      "Train GaussianProcessEstimator\n"
     ]
    },
    {
     "name": "stderr",
     "output_type": "stream",
     "text": [
      "100%|██████████| 50/50 [00:00<00:00, 66.84it/s, epoch=1/20, avg_epoch_loss=965]\n",
      "Running evaluation:   0%|          | 0/3 [00:00<?, ?it/s]"
     ]
    },
    {
     "name": "stdout",
     "output_type": "stream",
     "text": [
      "Early stopping based on learning rate scheduler callback (min_lr was reached).\n"
     ]
    },
    {
     "name": "stderr",
     "output_type": "stream",
     "text": [
      "Running evaluation: 100%|██████████| 3/3 [00:01<00:00,  1.71it/s]\n",
      "  0%|          | 0/50 [00:00<?, ?it/s]"
     ]
    },
    {
     "name": "stdout",
     "output_type": "stream",
     "text": [
      "\n",
      "Train MQCNNEstimator\n"
     ]
    },
    {
     "name": "stderr",
     "output_type": "stream",
     "text": [
      "100%|██████████| 50/50 [00:01<00:00, 32.59it/s, epoch=1/20, avg_epoch_loss=0.0593]\n",
      "Running evaluation:   0%|          | 0/3 [00:00<?, ?it/s]"
     ]
    },
    {
     "name": "stdout",
     "output_type": "stream",
     "text": [
      "Early stopping based on learning rate scheduler callback (min_lr was reached).\n"
     ]
    },
    {
     "name": "stderr",
     "output_type": "stream",
     "text": [
      "Running evaluation: 100%|██████████| 3/3 [00:01<00:00,  1.77it/s]\n",
      "  0%|          | 0/50 [00:00<?, ?it/s]"
     ]
    },
    {
     "name": "stdout",
     "output_type": "stream",
     "text": [
      "\n",
      "Train TemporalFusionTransformerEstimator\n"
     ]
    },
    {
     "name": "stderr",
     "output_type": "stream",
     "text": [
      "100%|██████████| 50/50 [00:05<00:00,  9.58it/s, epoch=1/20, avg_epoch_loss=0.0403]\n"
     ]
    },
    {
     "name": "stdout",
     "output_type": "stream",
     "text": [
      "Early stopping based on learning rate scheduler callback (min_lr was reached).\n"
     ]
    },
    {
     "name": "stderr",
     "output_type": "stream",
     "text": [
      "Running evaluation: 100%|██████████| 3/3 [00:01<00:00,  1.75it/s]\n",
      "  0%|          | 0/50 [00:00<?, ?it/s]"
     ]
    },
    {
     "name": "stdout",
     "output_type": "stream",
     "text": [
      "\n",
      "Train TransformerEstimator\n"
     ]
    },
    {
     "name": "stderr",
     "output_type": "stream",
     "text": [
      "100%|██████████| 50/50 [00:01<00:00, 26.23it/s, epoch=1/20, avg_epoch_loss=0.436]\n",
      "Running evaluation:   0%|          | 0/3 [00:00<?, ?it/s]"
     ]
    },
    {
     "name": "stdout",
     "output_type": "stream",
     "text": [
      "Early stopping based on learning rate scheduler callback (min_lr was reached).\n"
     ]
    },
    {
     "name": "stderr",
     "output_type": "stream",
     "text": [
      "Running evaluation: 100%|██████████| 3/3 [00:01<00:00,  1.82it/s]\n",
      "  0%|          | 0/50 [00:00<?, ?it/s]"
     ]
    },
    {
     "name": "stdout",
     "output_type": "stream",
     "text": [
      "\n",
      "Train WaveNetEstimator\n"
     ]
    },
    {
     "name": "stderr",
     "output_type": "stream",
     "text": [
      "100%|██████████| 50/50 [00:01<00:00, 27.85it/s, epoch=1/20, avg_epoch_loss=6.26]\n",
      "Running evaluation:   0%|          | 0/3 [00:00<?, ?it/s]"
     ]
    },
    {
     "name": "stdout",
     "output_type": "stream",
     "text": [
      "Early stopping based on learning rate scheduler callback (min_lr was reached).\n"
     ]
    },
    {
     "name": "stderr",
     "output_type": "stream",
     "text": [
      "Running evaluation: 100%|██████████| 3/3 [00:01<00:00,  1.82it/s]\n"
     ]
    }
   ],
   "source": [
    "def evaluate_models(estimatiors, train_ds, test_ds):\n",
    "    evaluator = Evaluator(quantiles=[0.1, 0.5, 0.9])\n",
    "    res = {}\n",
    "    for estimator_name, estimator in estimatiors.items():\n",
    "        print(f'\\nTrain {estimator_name}')\n",
    "        predictor = estimator.train(train_ds)\n",
    "        forecast_it, ts_it = make_evaluation_predictions(\n",
    "            dataset=test_ds,  \n",
    "            predictor=predictor,  \n",
    "            num_samples=sample_num,  \n",
    "        )\n",
    "        forecasts = list(forecast_it)\n",
    "        tss = list(ts_it)\n",
    "        agg_metrics, item_metrics = evaluator(iter(tss), iter(forecasts), num_series=len(test_ds))\n",
    "        res[estimator_name] = agg_metrics        \n",
    "    return res\n",
    "\n",
    "trainer = Trainer(\n",
    "            ctx=\"cpu\", \n",
    "            epochs=20, \n",
    "            learning_rate=1e-3, \n",
    "            hybridize=False, \n",
    "#             num_batches_per_epoch=100,\n",
    "            patience=5,\n",
    "            minimum_learning_rate=5e-07,\n",
    "        )\n",
    "\n",
    "estimatiors = {\n",
    "    'SimpleFeedForwardEstimator': SimpleFeedForwardEstimator(\n",
    "        prediction_length=custom_ds_metadata['prediction_length'],\n",
    "        freq=custom_ds_metadata['freq'],\n",
    "        trainer=trainer,\n",
    "        num_hidden_dimensions=[10],\n",
    "        context_length=2*custom_ds_metadata['prediction_length'],\n",
    "        ),\n",
    "    'NBEATSEstimator': NBEATSEstimator(\n",
    "        prediction_length=custom_ds_metadata['prediction_length'],\n",
    "        freq=custom_ds_metadata['freq'],\n",
    "        trainer=trainer,\n",
    "    ),\"\"\n",
    "#     'NBEATSEnsembleEstimator': NBEATSEnsembleEstimator(\n",
    "#     #     num_hidden_dimensions=[10],\n",
    "#         prediction_length=custom_ds_metadata['prediction_length'],\n",
    "#     #     context_length=2*custom_ds_metadata['prediction_length'],\n",
    "#         num_stacks=2,\n",
    "#         freq=custom_ds_metadata['freq'],\n",
    "#         trainer=trainer\n",
    "#     ),\n",
    "    'DeepFactorEstimator': DeepFactorEstimator(\n",
    "            prediction_length=custom_ds_metadata['prediction_length'],\n",
    "            freq=custom_ds_metadata['freq'],\n",
    "            trainer=trainer,\n",
    "        ),\n",
    "    'DeepAREstimator': DeepAREstimator(\n",
    "            prediction_length=custom_ds_metadata['prediction_length'],\n",
    "            freq=custom_ds_metadata['freq'],\n",
    "            trainer=trainer,\n",
    "        ),\n",
    "    'GaussianProcessEstimator': GaussianProcessEstimator(\n",
    "            prediction_length=custom_ds_metadata['prediction_length'],\n",
    "            freq=custom_ds_metadata['freq'],\n",
    "            trainer=trainer,\n",
    "            cardinality=sample_num,\n",
    "        ),\n",
    "    'MQCNNEstimator': MQCNNEstimator(\n",
    "            prediction_length=custom_ds_metadata['prediction_length'],\n",
    "            freq=custom_ds_metadata['freq'],\n",
    "            trainer=trainer,\n",
    "        ),\n",
    "    'TemporalFusionTransformerEstimator': TemporalFusionTransformerEstimator(\n",
    "            prediction_length=custom_ds_metadata['prediction_length'],\n",
    "            freq=custom_ds_metadata['freq'],\n",
    "            trainer=trainer,\n",
    "        ),\n",
    "    'TransformerEstimator': TransformerEstimator(\n",
    "            prediction_length=custom_ds_metadata['prediction_length'],\n",
    "            freq=custom_ds_metadata['freq'],\n",
    "            trainer=trainer,\n",
    "        ),\n",
    "    'WaveNetEstimator': WaveNetEstimator(\n",
    "            prediction_length=custom_ds_metadata['prediction_length'],\n",
    "            freq=custom_ds_metadata['freq'],\n",
    "            trainer=trainer,\n",
    "        ),\n",
    "}\n",
    "\n",
    "results = evaluate_models(estimatiors, train_ds, test_ds)"
   ]
  },
  {
   "cell_type": "code",
   "execution_count": 807,
   "metadata": {
    "execution": {
     "iopub.execute_input": "2021-07-15T22:59:19.060464Z",
     "iopub.status.busy": "2021-07-15T22:59:19.060217Z",
     "iopub.status.idle": "2021-07-15T22:59:19.064100Z",
     "shell.execute_reply": "2021-07-15T22:59:19.063545Z",
     "shell.execute_reply.started": "2021-07-15T22:59:19.060439Z"
    }
   },
   "outputs": [],
   "source": [
    "import json\n",
    "json.dump(results, open('../data/results.json', 'w'))"
   ]
  },
  {
   "cell_type": "code",
   "execution_count": 804,
   "metadata": {
    "execution": {
     "iopub.execute_input": "2021-07-15T15:07:10.211097Z",
     "iopub.status.busy": "2021-07-15T15:07:10.210811Z",
     "iopub.status.idle": "2021-07-15T15:07:10.229700Z",
     "shell.execute_reply": "2021-07-15T15:07:10.229178Z",
     "shell.execute_reply.started": "2021-07-15T15:07:10.211060Z"
    }
   },
   "outputs": [
    {
     "data": {
      "text/plain": [
       "MSE                           TemporalFusionTransformerEstimator\n",
       "abs_error                     TemporalFusionTransformerEstimator\n",
       "abs_target_sum                        SimpleFeedForwardEstimator\n",
       "abs_target_mean                       SimpleFeedForwardEstimator\n",
       "seasonal_error                        SimpleFeedForwardEstimator\n",
       "MASE                          TemporalFusionTransformerEstimator\n",
       "MAPE                          TemporalFusionTransformerEstimator\n",
       "sMAPE                         TemporalFusionTransformerEstimator\n",
       "MSIS                                  SimpleFeedForwardEstimator\n",
       "QuantileLoss[0.1]                                DeepAREstimator\n",
       "Coverage[0.1]                           GaussianProcessEstimator\n",
       "QuantileLoss[0.5]             TemporalFusionTransformerEstimator\n",
       "Coverage[0.5]                                    NBEATSEstimator\n",
       "QuantileLoss[0.9]             TemporalFusionTransformerEstimator\n",
       "Coverage[0.9]                                    NBEATSEstimator\n",
       "RMSE                          TemporalFusionTransformerEstimator\n",
       "NRMSE                         TemporalFusionTransformerEstimator\n",
       "ND                            TemporalFusionTransformerEstimator\n",
       "wQuantileLoss[0.1]                               DeepAREstimator\n",
       "wQuantileLoss[0.5]            TemporalFusionTransformerEstimator\n",
       "wQuantileLoss[0.9]            TemporalFusionTransformerEstimator\n",
       "mean_absolute_QuantileLoss    TemporalFusionTransformerEstimator\n",
       "mean_wQuantileLoss            TemporalFusionTransformerEstimator\n",
       "MAE_Coverage                                     DeepAREstimator\n",
       "OWA                                                          NaN\n",
       "dtype: object"
      ]
     },
     "execution_count": 804,
     "metadata": {},
     "output_type": "execute_result"
    }
   ],
   "source": [
    "def select_best(results):    \n",
    "    return pd.DataFrame(results.values(), index=results.keys()).idxmin()\n",
    "\n",
    "select_best(results)"
   ]
  },
  {
   "cell_type": "markdown",
   "metadata": {},
   "source": [
    "### Conclusions\n",
    "- The `TemporalFusionTransformer` NN is the best NN for the current data distribution.\n"
   ]
  },
  {
   "cell_type": "markdown",
   "metadata": {},
   "source": [
    "### Further Improvements\n",
    "- Consolidate `target` from several variables\n",
    "- Concatenate `source` from all logs\n",
    "- Add categorial variables to `source`\n",
    "- Tune up hyperparameters for the model\n"
   ]
  },
  {
   "cell_type": "markdown",
   "metadata": {},
   "source": [
    "# Workflow: Data preprocessing, training, detection"
   ]
  },
  {
   "cell_type": "code",
   "execution_count": null,
   "metadata": {},
   "outputs": [],
   "source": [
    "# pseudocode:\n",
    "\n",
    "for log in logs:\n",
    "    # data preprocessing\n",
    "    remove unused fields\n",
    "    convert dt to timestamp format\n",
    "    adjust to 5 min buckets\n",
    "    select numerical fields\n",
    "    aggregate numerical fields to 1 record per bucket []\n",
    "    aggregate features into the y feature per bucket\n",
    "    \n",
    "    convert format to time series samples: sample:: start_time, features * readings\n",
    "\n",
    "select logs with enough samples\n",
    "combined log: concatenate logs by time buckets\n",
    "\n",
    "# model:\n",
    "    train:\n",
    "        convert combined log into ListDataset\n",
    "        train with combined ListDataset\n",
    "        save model\n",
    "\n",
    "    detect:\n",
    "        detect with combined log\n",
    "        select anomalies with threshold\n",
    "        unwind address fields from the original logs\n",
    "        format alerts with anomalies + address fields\n",
    "        send alerts\n"
   ]
  },
  {
   "cell_type": "code",
   "execution_count": 26,
   "metadata": {
    "execution": {
     "iopub.execute_input": "2021-07-23T16:21:42.003884Z",
     "iopub.status.busy": "2021-07-23T16:21:42.003572Z",
     "iopub.status.idle": "2021-07-23T16:21:42.011376Z",
     "shell.execute_reply": "2021-07-23T16:21:42.010461Z",
     "shell.execute_reply.started": "2021-07-23T16:21:42.003853Z"
    }
   },
   "outputs": [],
   "source": [
    "data_dir = '../data'\n",
    "logs = ['dns', 'flows', 'l7']\n",
    "\n",
    "dt_field = 'start_time' # each log should have it!\n",
    "measurements = {\n",
    "    'dns':\n",
    "    [\n",
    "        ('count', None), ('latency_count', None), ('latency_mean', None),\n",
    "        ('latency_max', None), \n",
    "    ],\n",
    "    'flows':\n",
    "    [\n",
    "        ('bytes_in', None), ('bytes_out', None), \n",
    "        ('num_flows', None), ('num_flows_started', None),  ('num_flows_completed', None), \n",
    "        ('packets_in', None), ('packets_out', None), \n",
    "        ('http_requests_allowed_in', ['count']), ('http_requests_denied_in', ['count']), \n",
    "        ('num_process_names', ['count']), ('num_process_ids', ['count']), ('num_original_source_ips', ['count']), \n",
    "    ],\n",
    "    'l7':\n",
    "    [\n",
    "        ('count', None), ('duration_mean', None), ('duration_max', None), \n",
    "        ('bytes_in', None), ('bytes_out', None), \n",
    "    \n",
    "    ],\n",
    "}\n",
    "agg_funcs = ['count', 'sum', 'mean', 'std', 'max']\n",
    "\n",
    "\n",
    "single_sample_minutes = 5\n",
    "freq = f'{single_sample_minutes}min'\n",
    "forecasting_minutes = 30\n",
    "training_sample_reading_num = 120 # train + forecasting horizon\n",
    "forecasting_horizon = training_sample_reading_num - int(forecasting_minutes/single_sample_minutes) # 114\n",
    "# trainig can start only if logs have initial_training_sample_reading_num readings, means at last 18 * 5 = 1.5 hours of the cluster work.\n",
    "initial_training_sample_reading_num = 18 # train + forecasting horizon\n",
    "initial_forecasting_horizon = initial_training_sample_reading_num - int(forecasting_minutes/single_sample_minutes) # 12"
   ]
  },
  {
   "cell_type": "code",
   "execution_count": 27,
   "metadata": {
    "execution": {
     "iopub.execute_input": "2021-07-23T16:33:08.506036Z",
     "iopub.status.busy": "2021-07-23T16:33:08.505877Z",
     "iopub.status.idle": "2021-07-23T16:33:08.972524Z",
     "shell.execute_reply": "2021-07-23T16:33:08.971900Z",
     "shell.execute_reply.started": "2021-07-23T16:33:08.506020Z"
    }
   },
   "outputs": [
    {
     "name": "stdout",
     "output_type": "stream",
     "text": [
      "Read \"20210722_172941.cluster.dns.115K.csv\"\n",
      "Read \"20210722_172919.cluster.l7.10K.csv\"\n",
      "Read \"20210722_172916.cluster.flows.40K.csv\"\n"
     ]
    },
    {
     "name": "stderr",
     "output_type": "stream",
     "text": [
      "/home/leonid/miniconda3/lib/python3.8/site-packages/IPython/core/interactiveshell.py:3427: DtypeWarning: Columns (2,9) have mixed types.Specify dtype option on import or set low_memory=False.\n",
      "  exec(code_obj, self.user_global_ns, self.user_ns)\n"
     ]
    },
    {
     "data": {
      "text/plain": [
       "dict_keys(['dns', 'l7', 'flows'])"
      ]
     },
     "execution_count": 27,
     "metadata": {},
     "output_type": "execute_result"
    }
   ],
   "source": [
    "def read_log(file):\n",
    "    file_path = f'{data_dir}/{file}'\n",
    "    log = file.split('.')[2]\n",
    "    print(f'Read \"{file}\"')\n",
    "    return log, pd.read_csv(file_path)\n",
    "\n",
    "def preprocess_table_data(logs: dict):\n",
    "    for log, df in logs.items():        \n",
    "        #     remove unused fields\n",
    "        # get used fields:\n",
    "        used_fields = [field for field, _ in measurements]\n",
    "        print(used_fields)\n",
    "        #     convert dt to timestamp format\n",
    "        #     adjust to 5 min buckets\n",
    "        #     select numerical fields\n",
    "        #     aggregate numerical fields to 1 record per bucket []\n",
    "        #     aggregate features into the y feature per bucket\n",
    "\n",
    "\n",
    "logs = dict([read_log(file) for file in ['20210722_172941.cluster.dns.115K.csv', '20210722_172919.cluster.l7.10K.csv', '20210722_172916.cluster.flows.40K.csv']])\n",
    "l"
   ]
  },
  {
   "cell_type": "code",
   "execution_count": null,
   "metadata": {},
   "outputs": [],
   "source": []
  }
 ],
 "metadata": {
  "kernelspec": {
   "display_name": "Python 3",
   "language": "python",
   "name": "python3"
  },
  "language_info": {
   "codemirror_mode": {
    "name": "ipython",
    "version": 3
   },
   "file_extension": ".py",
   "mimetype": "text/x-python",
   "name": "python",
   "nbconvert_exporter": "python",
   "pygments_lexer": "ipython3",
   "version": "3.8.5"
  }
 },
 "nbformat": 4,
 "nbformat_minor": 4
}
